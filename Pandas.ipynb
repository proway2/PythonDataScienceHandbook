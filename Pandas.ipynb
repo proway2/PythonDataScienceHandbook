{
 "cells": [
  {
   "cell_type": "markdown",
   "id": "10d88e65-ecac-438e-8886-ad35b2e39c51",
   "metadata": {},
   "source": [
    "# Pandas"
   ]
  },
  {
   "cell_type": "markdown",
   "id": "2319ca53-7eae-4476-b16b-913c77b47b08",
   "metadata": {},
   "source": [
    "`Pandas` построен на поверх `NumPy` и предлагает эффективную реализациию `DataFrame`. `DataFrame`ы, в основе своей, яляются многомерными массивами с именами, привязанными к рядам и колонкам, и, часто, с гетерогенными типами данных или с отсутствующими данными. Вместе с предоставлением удобного хранилища и интерфейса доступа к именованным данными, `Pandas` реализовывает набор мощных операций с данными знакомым пользователям баз данных и электронных таблиц."
   ]
  },
  {
   "cell_type": "code",
   "execution_count": 22,
   "id": "b580f77d-1552-4c09-a380-2396c18f2546",
   "metadata": {},
   "outputs": [
    {
     "name": "stdout",
     "output_type": "stream",
     "text": [
      "Pandas 2.1.3\n",
      "NumPy 1.26.2\n"
     ]
    }
   ],
   "source": [
    "# Обычно Pandas импортируется как pd\n",
    "import pandas as pd\n",
    "import numpy as np\n",
    "\n",
    "print(\"Pandas\", pd.__version__)\n",
    "print(\"NumPy\", np.__version__)"
   ]
  },
  {
   "cell_type": "markdown",
   "id": "fb187f73-3f0a-4a76-862f-01a7b2dfc74e",
   "metadata": {},
   "source": [
    "На самом базовом уровне, объекты `Pandas` могут быть представлены как улучшенные версии структурированных массивов [NumPy](http://localhost:8888/doc/tree/NumPy.ipynb#%D0%A1%D1%82%D1%80%D1%83%D0%BA%D1%82%D1%83%D1%80%D0%B8%D1%80%D0%BE%D0%B2%D0%B0%D0%BD%D0%BD%D1%8B%D0%B5-%D0%B4%D0%B0%D0%BD%D0%BD%D1%8B%D0%B5:-%D1%81%D1%82%D1%80%D1%83%D0%BA%D1%82%D1%83%D1%80%D0%B8%D1%80%D0%BE%D0%B2%D0%B0%D0%BD%D0%BD%D1%8B%D0%B5-%D0%BC%D0%B0%D1%81%D1%81%D0%B8%D0%B2%D1%8B-NumPy) в которых ряды и колонки идентифицируются по именам, а не по индексам.\n",
    "Три фундаментальные структуры данных `Pandas`: `Series`, `DataFrame` и `Index`."
   ]
  },
  {
   "cell_type": "markdown",
   "id": "d7632edf-233b-4c63-8b48-3b3ff93827ab",
   "metadata": {},
   "source": [
    "## Объекты типа `Series`"
   ]
  },
  {
   "cell_type": "markdown",
   "id": "1d02d8ae-11f1-4dcc-8dc0-3859d3484380",
   "metadata": {},
   "source": [
    "Объекты типа `Series` являются **одномерными** массивами с индексированными данными. Такие объекты могут быть созданы из списка:"
   ]
  },
  {
   "cell_type": "code",
   "execution_count": 23,
   "id": "84ede2bc-33ea-47a7-b666-afacdd202fe8",
   "metadata": {},
   "outputs": [
    {
     "data": {
      "text/plain": [
       "0    0.25\n",
       "1    0.50\n",
       "2    0.75\n",
       "3    1.00\n",
       "dtype: float64"
      ]
     },
     "execution_count": 23,
     "metadata": {},
     "output_type": "execute_result"
    }
   ],
   "source": [
    "data = pd.Series([0.25, 0.5, 0.75, 1.0])\n",
    "data"
   ]
  },
  {
   "cell_type": "markdown",
   "id": "386f98cd-2b29-42f5-8a84-81a58a3f137f",
   "metadata": {},
   "source": [
    "Как видно выше, **данные представлены как индексами, так и значениями**."
   ]
  },
  {
   "cell_type": "code",
   "execution_count": 24,
   "id": "e97330ac-0b31-44e3-8307-cc732b87f811",
   "metadata": {},
   "outputs": [
    {
     "data": {
      "text/plain": [
       "array([0.25, 0.5 , 0.75, 1.  ])"
      ]
     },
     "execution_count": 24,
     "metadata": {},
     "output_type": "execute_result"
    }
   ],
   "source": [
    "# значения\n",
    "data.values"
   ]
  },
  {
   "cell_type": "code",
   "execution_count": 25,
   "id": "d527377e-b6db-4b64-a58d-585fa0019f02",
   "metadata": {},
   "outputs": [
    {
     "data": {
      "text/plain": [
       "RangeIndex(start=0, stop=4, step=1)"
      ]
     },
     "execution_count": 25,
     "metadata": {},
     "output_type": "execute_result"
    }
   ],
   "source": [
    "# индексы\n",
    "data.index"
   ]
  },
  {
   "cell_type": "markdown",
   "id": "46922461-39a5-4fe9-9f3f-54dc29308407",
   "metadata": {},
   "source": [
    "Как и в NumPy, доступ к данным может быть получен по индексам в традиционном для Python стиле:"
   ]
  },
  {
   "cell_type": "code",
   "execution_count": 26,
   "id": "a066f2ed-28b1-43d8-95a1-a635d1ed6d26",
   "metadata": {},
   "outputs": [
    {
     "data": {
      "text/plain": [
       "0.5"
      ]
     },
     "execution_count": 26,
     "metadata": {},
     "output_type": "execute_result"
    }
   ],
   "source": [
    "data[1]"
   ]
  },
  {
   "cell_type": "code",
   "execution_count": 27,
   "id": "4c6336ed-82b7-4c41-b5fc-bc4b285d5ca3",
   "metadata": {},
   "outputs": [
    {
     "data": {
      "text/plain": [
       "2    0.75\n",
       "3    1.00\n",
       "dtype: float64"
      ]
     },
     "execution_count": 27,
     "metadata": {},
     "output_type": "execute_result"
    }
   ],
   "source": [
    "data[2:]"
   ]
  },
  {
   "cell_type": "markdown",
   "id": "66b1ff78-a348-45cb-b9a7-7e6b0419324c",
   "metadata": {},
   "source": [
    "Дальше мы увидим, что данные типа `Series` являются более обобщенными и гибкими чем одномерные массивы в `NumPy`."
   ]
  },
  {
   "cell_type": "markdown",
   "id": "559b3b9c-3a3f-400f-be4d-128988342a1a",
   "metadata": {},
   "source": [
    "### Объекты `Series` в качестве обобщенных массивов `NumPy`\n",
    "\n",
    "Объекты `Series` в целом похожи на массивы `NumPy`, однако имеют одно существенное отличие, а именно: `NumPy` имеет _неявно определённый целочисленный индекс_ для доступа к элементам массива, объекты `Series` имеют _явно определенный индекс_, связанный со значениями. В качестве индекса для `Series` можно использовать любой доступный тип."
   ]
  },
  {
   "cell_type": "code",
   "execution_count": 30,
   "id": "9d3ab027-ca5f-49d7-a100-ac841c705626",
   "metadata": {},
   "outputs": [
    {
     "data": {
      "text/plain": [
       "a    0.25\n",
       "b    0.50\n",
       "c    0.75\n",
       "d    1.00\n",
       "dtype: float64"
      ]
     },
     "execution_count": 30,
     "metadata": {},
     "output_type": "execute_result"
    }
   ],
   "source": [
    "# для доступа к элементам используется индекс типа `str`\n",
    "data = pd.Series([0.25, 0.5, 0.75, 1.0], index=['a', 'b', 'c', 'd'])\n",
    "data"
   ]
  },
  {
   "cell_type": "code",
   "execution_count": 31,
   "id": "b22806a8-5462-498a-98ce-a0a2a3caf986",
   "metadata": {},
   "outputs": [
    {
     "data": {
      "text/plain": [
       "0.25"
      ]
     },
     "execution_count": 31,
     "metadata": {},
     "output_type": "execute_result"
    }
   ],
   "source": [
    "# доступ к элементу по индексу\n",
    "data['a']"
   ]
  },
  {
   "cell_type": "markdown",
   "id": "437982dd-91cf-4cc5-af64-350df5ee238c",
   "metadata": {},
   "source": [
    "Мы можем даже использовать непоследовательные индексы:"
   ]
  },
  {
   "cell_type": "code",
   "execution_count": 33,
   "id": "c74d694e-e139-4212-9efd-058d639ae338",
   "metadata": {},
   "outputs": [
    {
     "data": {
      "text/plain": [
       "2    0.25\n",
       "5    0.50\n",
       "3    0.75\n",
       "7    1.00\n",
       "dtype: float64"
      ]
     },
     "execution_count": 33,
     "metadata": {},
     "output_type": "execute_result"
    }
   ],
   "source": [
    "data = pd.Series([0.25, 0.5, 0.75, 1.0], index=[2, 5, 3, 7])\n",
    "data"
   ]
  },
  {
   "cell_type": "code",
   "execution_count": 34,
   "id": "8f22f432-91bb-48a5-8617-ed6e2d3acdd8",
   "metadata": {},
   "outputs": [
    {
     "data": {
      "text/plain": [
       "0.5"
      ]
     },
     "execution_count": 34,
     "metadata": {},
     "output_type": "execute_result"
    }
   ],
   "source": [
    "data[5]"
   ]
  },
  {
   "cell_type": "markdown",
   "id": "72a96b85-a137-4acd-ab4c-b454bc6e4110",
   "metadata": {},
   "source": [
    "### `Series` в качестве специализированного словаря\n",
    "\n",
    "`Series` - это структура, которая связывает _типизированные ключи_ с набором _типизированных значений_. Типизация очень важна здесь: для определенных операций, информация о типах делает `Series` намного более эффективной структурой, чем стандартные словари Python."
   ]
  },
  {
   "cell_type": "code",
   "execution_count": 36,
   "id": "64846ee2-db82-4cd3-8545-f6718da6bbbc",
   "metadata": {},
   "outputs": [
    {
     "data": {
      "text/plain": [
       "California    38332521\n",
       "Texas         26448193\n",
       "New York      19651127\n",
       "Florida       19552860\n",
       "Illinois      12882135\n",
       "dtype: int64"
      ]
     },
     "execution_count": 36,
     "metadata": {},
     "output_type": "execute_result"
    }
   ],
   "source": [
    "# создание Series напрямую из словаря\n",
    "population_dict = {'California': 38332521,\n",
    "                   'Texas': 26448193,\n",
    "                   'New York': 19651127,\n",
    "                   'Florida': 19552860,\n",
    "                   'Illinois': 12882135}\n",
    "population = pd.Series(population_dict)\n",
    "population"
   ]
  },
  {
   "cell_type": "code",
   "execution_count": 37,
   "id": "012de1c8-dd9c-4b6d-a0e1-47e747977413",
   "metadata": {},
   "outputs": [
    {
     "data": {
      "text/plain": [
       "38332521"
      ]
     },
     "execution_count": 37,
     "metadata": {},
     "output_type": "execute_result"
    }
   ],
   "source": [
    "population['California']"
   ]
  },
  {
   "cell_type": "markdown",
   "id": "09766618-ded0-4d5e-951e-10fb209fcf79",
   "metadata": {},
   "source": [
    "В отличие от словарей, `Series` поддерживает операции в стиле массивов, например срезы:"
   ]
  },
  {
   "cell_type": "code",
   "execution_count": 42,
   "id": "9e2cab5b-5b07-4644-b67d-196df4a9ab81",
   "metadata": {},
   "outputs": [
    {
     "data": {
      "text/plain": [
       "California    38332521\n",
       "Texas         26448193\n",
       "New York      19651127\n",
       "Florida       19552860\n",
       "dtype: int64"
      ]
     },
     "execution_count": 42,
     "metadata": {},
     "output_type": "execute_result"
    }
   ],
   "source": [
    "population['California':'Florida']"
   ]
  },
  {
   "cell_type": "markdown",
   "id": "e1ee51ae-f565-4c85-a496-0e333ded2866",
   "metadata": {},
   "source": [
    "### Создание объектов типа `Series`\n",
    "\n",
    "В общем, все объекты `Series` создаются таким образом:\n",
    "\n",
    "```\n",
    ">>> pd.Series(data, index=index)\n",
    "```\n",
    "\n",
    "Где `index` не является обязательным аргументом."
   ]
  },
  {
   "cell_type": "code",
   "execution_count": 49,
   "id": "55c72c62-4d14-41c4-a5c3-e1d5afd87c13",
   "metadata": {},
   "outputs": [
    {
     "data": {
      "text/plain": [
       "0    1\n",
       "1    2\n",
       "2    3\n",
       "3    4\n",
       "4    5\n",
       "dtype: int64"
      ]
     },
     "execution_count": 49,
     "metadata": {},
     "output_type": "execute_result"
    }
   ],
   "source": [
    "pd.Series([1, 2, 3, 4, 5])"
   ]
  },
  {
   "cell_type": "code",
   "execution_count": 51,
   "id": "abcb3b61-b5d2-4010-9ba3-921461cf40e5",
   "metadata": {},
   "outputs": [
    {
     "data": {
      "text/plain": [
       "100    5\n",
       "200    5\n",
       "300    5\n",
       "dtype: int64"
      ]
     },
     "execution_count": 51,
     "metadata": {},
     "output_type": "execute_result"
    }
   ],
   "source": [
    "# data может быть скалярной величиной\n",
    "pd.Series(5, index=[100, 200, 300])"
   ]
  },
  {
   "cell_type": "code",
   "execution_count": 48,
   "id": "dab42615-cb6a-403a-ae64-bf2d6dfb86cc",
   "metadata": {},
   "outputs": [
    {
     "data": {
      "text/plain": [
       "0      0\n",
       "100    1\n",
       "200    2\n",
       "300    3\n",
       "400    4\n",
       "500    5\n",
       "600    6\n",
       "700    7\n",
       "800    8\n",
       "900    9\n",
       "dtype: int64"
      ]
     },
     "execution_count": 48,
     "metadata": {},
     "output_type": "execute_result"
    }
   ],
   "source": [
    "pd.Series(range(10), range(0, 1000, 100))"
   ]
  },
  {
   "cell_type": "code",
   "execution_count": 52,
   "id": "bf105c91-a192-415e-8322-ed116c89cb1f",
   "metadata": {},
   "outputs": [
    {
     "data": {
      "text/plain": [
       "1    a\n",
       "3    c\n",
       "2    b\n",
       "dtype: object"
      ]
     },
     "execution_count": 52,
     "metadata": {},
     "output_type": "execute_result"
    }
   ],
   "source": [
    "# создание на основе словаря\n",
    "pd.Series({1: 'a', 3: 'c', 2: 'b'})"
   ]
  },
  {
   "cell_type": "code",
   "execution_count": 54,
   "id": "06e42c35-be92-4034-ae85-e6a9031e8193",
   "metadata": {},
   "outputs": [
    {
     "data": {
      "text/plain": [
       "3    c\n",
       "2    a\n",
       "dtype: object"
      ]
     },
     "execution_count": 54,
     "metadata": {},
     "output_type": "execute_result"
    }
   ],
   "source": [
    "# Для словаря, с использованием аргумента `index` можно выбрать только те значения, которые требуются в данный момент\n",
    "pd.Series({2:'a', 1:'b', 3:'c'}, index=[3, 2])"
   ]
  },
  {
   "cell_type": "markdown",
   "id": "ee3d0a18-cb85-432b-8d9e-4ac2f7cd1bde",
   "metadata": {},
   "source": [
    "## Объект `DataFrame`\n",
    "\n",
    "Так же как и объект `Series`, объект `DataFrame` можно рассматривать либо как обобщение массива `NumPy` либо как специализированную версию словаря Python."
   ]
  },
  {
   "cell_type": "markdown",
   "id": "547db39e-08bc-4f3e-9495-c77ecf40363b",
   "metadata": {},
   "source": [
    "### `DataFrame` как обобщение массива `NumPy`\n",
    "\n",
    "Если `Series` является аналогом одномерного массива с гибкими индексами, то `DataFrame` - аналог двумерного массива с как гибкими индексами рядов, так и гибкими именами колонок. Можно представить `DataFrame` как последовательность выровненных по индексу объектов `Series`. \"Выровненность\" тут означает, что у них одинаковый индекс. Давайте это проиллюстрируем:"
   ]
  },
  {
   "cell_type": "code",
   "execution_count": 58,
   "id": "f0b1836b-6338-4ec1-ad27-b5ab03ab1f19",
   "metadata": {},
   "outputs": [
    {
     "data": {
      "text/plain": [
       "California    423967\n",
       "Texas         695662\n",
       "New York      141297\n",
       "Florida       170312\n",
       "Illinois      149995\n",
       "dtype: int64"
      ]
     },
     "execution_count": 58,
     "metadata": {},
     "output_type": "execute_result"
    }
   ],
   "source": [
    "area_dict = {'California': 423967, 'Texas': 695662, 'New York': 141297, 'Florida': 170312, 'Illinois': 149995}\n",
    "area = pd.Series(area_dict)\n",
    "area"
   ]
  },
  {
   "cell_type": "markdown",
   "id": "e2e8a13e-eb9a-4670-8625-7afd670cfdf4",
   "metadata": {},
   "source": [
    "В объекте типа `DataFrame`, создаваемом ниже, оба объекта `Series` имеют одинаковые индексы (имена штатов), т.е. они выровнены по индексу. Сам объект `DataFrame` имеет индексы `population` и `area`."
   ]
  },
  {
   "cell_type": "code",
   "execution_count": 60,
   "id": "94f0b62a-0a51-4a59-add4-fb790266f5ae",
   "metadata": {},
   "outputs": [
    {
     "data": {
      "text/html": [
       "<div>\n",
       "<style scoped>\n",
       "    .dataframe tbody tr th:only-of-type {\n",
       "        vertical-align: middle;\n",
       "    }\n",
       "\n",
       "    .dataframe tbody tr th {\n",
       "        vertical-align: top;\n",
       "    }\n",
       "\n",
       "    .dataframe thead th {\n",
       "        text-align: right;\n",
       "    }\n",
       "</style>\n",
       "<table border=\"1\" class=\"dataframe\">\n",
       "  <thead>\n",
       "    <tr style=\"text-align: right;\">\n",
       "      <th></th>\n",
       "      <th>population</th>\n",
       "      <th>area</th>\n",
       "    </tr>\n",
       "  </thead>\n",
       "  <tbody>\n",
       "    <tr>\n",
       "      <th>California</th>\n",
       "      <td>38332521</td>\n",
       "      <td>423967</td>\n",
       "    </tr>\n",
       "    <tr>\n",
       "      <th>Texas</th>\n",
       "      <td>26448193</td>\n",
       "      <td>695662</td>\n",
       "    </tr>\n",
       "    <tr>\n",
       "      <th>New York</th>\n",
       "      <td>19651127</td>\n",
       "      <td>141297</td>\n",
       "    </tr>\n",
       "    <tr>\n",
       "      <th>Florida</th>\n",
       "      <td>19552860</td>\n",
       "      <td>170312</td>\n",
       "    </tr>\n",
       "    <tr>\n",
       "      <th>Illinois</th>\n",
       "      <td>12882135</td>\n",
       "      <td>149995</td>\n",
       "    </tr>\n",
       "  </tbody>\n",
       "</table>\n",
       "</div>"
      ],
      "text/plain": [
       "            population    area\n",
       "California    38332521  423967\n",
       "Texas         26448193  695662\n",
       "New York      19651127  141297\n",
       "Florida       19552860  170312\n",
       "Illinois      12882135  149995"
      ]
     },
     "execution_count": 60,
     "metadata": {},
     "output_type": "execute_result"
    }
   ],
   "source": [
    "# объект `population` был создан ранее\n",
    "states = pd.DataFrame({'population': population, 'area': area})\n",
    "states"
   ]
  },
  {
   "cell_type": "markdown",
   "id": "895528e1-4702-4d2b-8e9b-5f0fa6b4eef8",
   "metadata": {},
   "source": [
    "Выше мы создали объект `DataFrame` с колонками `population` и `area`. Каждая из этих колонок является объектом типа `Series`:"
   ]
  },
  {
   "cell_type": "code",
   "execution_count": 76,
   "id": "829c19c7-361f-4e96-ba25-4d859bf616d7",
   "metadata": {},
   "outputs": [
    {
     "name": "stdout",
     "output_type": "stream",
     "text": [
      "Тип колонки `population` <class 'pandas.core.series.Series'>\n"
     ]
    }
   ],
   "source": [
    "print(\"Тип колонки `population`\", type(states['population']))"
   ]
  },
  {
   "cell_type": "code",
   "execution_count": 77,
   "id": "9e230bb1-342d-429b-a551-b369511b718d",
   "metadata": {},
   "outputs": [
    {
     "data": {
      "text/plain": [
       "California    38332521\n",
       "Texas         26448193\n",
       "New York      19651127\n",
       "Florida       19552860\n",
       "Illinois      12882135\n",
       "Name: population, dtype: int64"
      ]
     },
     "execution_count": 77,
     "metadata": {},
     "output_type": "execute_result"
    }
   ],
   "source": [
    "# Доступ к колонке\n",
    "states['population']"
   ]
  },
  {
   "cell_type": "code",
   "execution_count": 73,
   "id": "12887da9-aede-44a0-abf6-bed440cbd972",
   "metadata": {},
   "outputs": [
    {
     "data": {
      "text/plain": [
       "Index(['California', 'Texas', 'New York', 'Florida', 'Illinois'], dtype='object')"
      ]
     },
     "execution_count": 73,
     "metadata": {},
     "output_type": "execute_result"
    }
   ],
   "source": [
    "# все индексы НИЗЛЕЖАЩИХ объектов Series\n",
    "states.index"
   ]
  },
  {
   "cell_type": "code",
   "execution_count": 68,
   "id": "6fbcaadf-6c2f-46e7-afa6-e95537c34b90",
   "metadata": {},
   "outputs": [
    {
     "data": {
      "text/plain": [
       "Index(['population', 'area'], dtype='object')"
      ]
     },
     "execution_count": 68,
     "metadata": {},
     "output_type": "execute_result"
    }
   ],
   "source": [
    "# все колонки\n",
    "states.columns"
   ]
  },
  {
   "cell_type": "code",
   "execution_count": 81,
   "id": "9353025e-7669-4804-b997-702e741414a1",
   "metadata": {},
   "outputs": [
    {
     "data": {
      "text/plain": [
       "Index(['California', 'Texas', 'New York', 'Florida', 'Illinois'], dtype='object')"
      ]
     },
     "execution_count": 81,
     "metadata": {},
     "output_type": "execute_result"
    }
   ],
   "source": [
    "# все индексы объекта `Series`\n",
    "states['area'].index"
   ]
  },
  {
   "cell_type": "code",
   "execution_count": 82,
   "id": "df8b8d2a-e743-4e2a-abbe-bb37731e46d0",
   "metadata": {},
   "outputs": [
    {
     "data": {
      "text/plain": [
       "423967"
      ]
     },
     "execution_count": 82,
     "metadata": {},
     "output_type": "execute_result"
    }
   ],
   "source": [
    "states['area']['California']"
   ]
  },
  {
   "cell_type": "markdown",
   "id": "9503f1b7-a127-49ba-92e9-16e9bc6c8f5f",
   "metadata": {},
   "source": [
    "### `DataFrame` как специализированный словарь\n",
    "\n",
    "Мы также можем рассматривать `DataFrame` как специализированный словарь, в котором словарь \"отражает\" ключ на значение, `DataFrame` \"отражает\" имя колонки на данные колонки, т.е. объект типа `Series`. Например, атрибут `area` возвращает объект `Series` содержащий площади:"
   ]
  },
  {
   "cell_type": "code",
   "execution_count": 84,
   "id": "6ce32c3c-9dad-4730-ab89-eb012958551c",
   "metadata": {},
   "outputs": [
    {
     "data": {
      "text/plain": [
       "California    423967\n",
       "Texas         695662\n",
       "New York      141297\n",
       "Florida       170312\n",
       "Illinois      149995\n",
       "Name: area, dtype: int64"
      ]
     },
     "execution_count": 84,
     "metadata": {},
     "output_type": "execute_result"
    }
   ],
   "source": [
    "states['area']"
   ]
  },
  {
   "cell_type": "markdown",
   "id": "c07d05bb-2949-4ce2-bfe5-73c75dde2f85",
   "metadata": {},
   "source": [
    "Отметим, что в `NumPy` выражение `data[0]` возвращает первый **ряд**, Для `DataFrame` выражение `data['col0']` возвращает первую **колонку**. Поэтому, может быть удобнее представлять `DataFrame` как специализированный словарь."
   ]
  },
  {
   "cell_type": "markdown",
   "id": "aaa49571-7735-4700-b3a1-54b8f8e0d6c1",
   "metadata": {},
   "source": [
    "### Создание объектов `DataFrame`\n",
    "\n",
    "Далее рассмотрим различные способы создания объекта `DataFrame`."
   ]
  },
  {
   "cell_type": "markdown",
   "id": "86593a41-f5b8-4769-a186-0780695c6648",
   "metadata": {},
   "source": [
    "#### Из единичного объекта `Series`"
   ]
  },
  {
   "cell_type": "code",
   "execution_count": 90,
   "id": "0835f99a-ecf0-4fa0-981a-fbf02e69765c",
   "metadata": {},
   "outputs": [
    {
     "data": {
      "text/html": [
       "<div>\n",
       "<style scoped>\n",
       "    .dataframe tbody tr th:only-of-type {\n",
       "        vertical-align: middle;\n",
       "    }\n",
       "\n",
       "    .dataframe tbody tr th {\n",
       "        vertical-align: top;\n",
       "    }\n",
       "\n",
       "    .dataframe thead th {\n",
       "        text-align: right;\n",
       "    }\n",
       "</style>\n",
       "<table border=\"1\" class=\"dataframe\">\n",
       "  <thead>\n",
       "    <tr style=\"text-align: right;\">\n",
       "      <th></th>\n",
       "      <th>population</th>\n",
       "    </tr>\n",
       "  </thead>\n",
       "  <tbody>\n",
       "    <tr>\n",
       "      <th>California</th>\n",
       "      <td>38332521</td>\n",
       "    </tr>\n",
       "    <tr>\n",
       "      <th>Texas</th>\n",
       "      <td>26448193</td>\n",
       "    </tr>\n",
       "    <tr>\n",
       "      <th>New York</th>\n",
       "      <td>19651127</td>\n",
       "    </tr>\n",
       "    <tr>\n",
       "      <th>Florida</th>\n",
       "      <td>19552860</td>\n",
       "    </tr>\n",
       "    <tr>\n",
       "      <th>Illinois</th>\n",
       "      <td>12882135</td>\n",
       "    </tr>\n",
       "  </tbody>\n",
       "</table>\n",
       "</div>"
      ],
      "text/plain": [
       "            population\n",
       "California    38332521\n",
       "Texas         26448193\n",
       "New York      19651127\n",
       "Florida       19552860\n",
       "Illinois      12882135"
      ]
     },
     "execution_count": 90,
     "metadata": {},
     "output_type": "execute_result"
    }
   ],
   "source": [
    "pd.DataFrame(population, columns=['population'])"
   ]
  },
  {
   "cell_type": "markdown",
   "id": "b3a271ba-06b7-4349-b0dc-1013a79d49a6",
   "metadata": {},
   "source": [
    "#### Из списка словарей"
   ]
  },
  {
   "cell_type": "code",
   "execution_count": 100,
   "id": "102723c8-c50e-4f34-a9e7-f0f80149dc94",
   "metadata": {},
   "outputs": [
    {
     "data": {
      "text/html": [
       "<div>\n",
       "<style scoped>\n",
       "    .dataframe tbody tr th:only-of-type {\n",
       "        vertical-align: middle;\n",
       "    }\n",
       "\n",
       "    .dataframe tbody tr th {\n",
       "        vertical-align: top;\n",
       "    }\n",
       "\n",
       "    .dataframe thead th {\n",
       "        text-align: right;\n",
       "    }\n",
       "</style>\n",
       "<table border=\"1\" class=\"dataframe\">\n",
       "  <thead>\n",
       "    <tr style=\"text-align: right;\">\n",
       "      <th></th>\n",
       "      <th>a</th>\n",
       "      <th>b</th>\n",
       "    </tr>\n",
       "  </thead>\n",
       "  <tbody>\n",
       "    <tr>\n",
       "      <th>0</th>\n",
       "      <td>0</td>\n",
       "      <td>0</td>\n",
       "    </tr>\n",
       "    <tr>\n",
       "      <th>1</th>\n",
       "      <td>1</td>\n",
       "      <td>2</td>\n",
       "    </tr>\n",
       "    <tr>\n",
       "      <th>2</th>\n",
       "      <td>2</td>\n",
       "      <td>4</td>\n",
       "    </tr>\n",
       "  </tbody>\n",
       "</table>\n",
       "</div>"
      ],
      "text/plain": [
       "   a  b\n",
       "0  0  0\n",
       "1  1  2\n",
       "2  2  4"
      ]
     },
     "execution_count": 100,
     "metadata": {},
     "output_type": "execute_result"
    }
   ],
   "source": [
    "data = [{'a': i, 'b': 2 * i} for i in range(3)]\n",
    "# pd.DataFrame(data, index=range(100, 400, 100))\n",
    "pd.DataFrame(data)"
   ]
  },
  {
   "cell_type": "markdown",
   "id": "adb811cf-6bc8-4372-92a2-ebf880124476",
   "metadata": {},
   "source": [
    "Если какие-либо значения отсутствуют, то `pandas` заполнит их значениями `NaN`:"
   ]
  },
  {
   "cell_type": "code",
   "execution_count": 101,
   "id": "0a348f46-8504-4596-9904-303ef1c43969",
   "metadata": {},
   "outputs": [
    {
     "data": {
      "text/html": [
       "<div>\n",
       "<style scoped>\n",
       "    .dataframe tbody tr th:only-of-type {\n",
       "        vertical-align: middle;\n",
       "    }\n",
       "\n",
       "    .dataframe tbody tr th {\n",
       "        vertical-align: top;\n",
       "    }\n",
       "\n",
       "    .dataframe thead th {\n",
       "        text-align: right;\n",
       "    }\n",
       "</style>\n",
       "<table border=\"1\" class=\"dataframe\">\n",
       "  <thead>\n",
       "    <tr style=\"text-align: right;\">\n",
       "      <th></th>\n",
       "      <th>a</th>\n",
       "      <th>b</th>\n",
       "      <th>c</th>\n",
       "    </tr>\n",
       "  </thead>\n",
       "  <tbody>\n",
       "    <tr>\n",
       "      <th>0</th>\n",
       "      <td>1.0</td>\n",
       "      <td>2</td>\n",
       "      <td>NaN</td>\n",
       "    </tr>\n",
       "    <tr>\n",
       "      <th>1</th>\n",
       "      <td>NaN</td>\n",
       "      <td>3</td>\n",
       "      <td>4.0</td>\n",
       "    </tr>\n",
       "  </tbody>\n",
       "</table>\n",
       "</div>"
      ],
      "text/plain": [
       "     a  b    c\n",
       "0  1.0  2  NaN\n",
       "1  NaN  3  4.0"
      ]
     },
     "execution_count": 101,
     "metadata": {},
     "output_type": "execute_result"
    }
   ],
   "source": [
    "pd.DataFrame([{'a': 1, 'b': 2}, {'b': 3, 'c': 4}])"
   ]
  },
  {
   "cell_type": "markdown",
   "id": "035cc4f8-d209-4af2-a6cb-e40dce5bfeb1",
   "metadata": {},
   "source": [
    "#### Из словаря с объектами `Series`"
   ]
  },
  {
   "cell_type": "markdown",
   "id": "e020424e-4417-407b-b2b4-ee2bc27e5c04",
   "metadata": {},
   "source": [
    "https://jakevdp.github.io/PythonDataScienceHandbook/03.01-introducing-pandas-objects.html#From-a-dictionary-of-Series-objects"
   ]
  }
 ],
 "metadata": {
  "kernelspec": {
   "display_name": "Python 3 (ipykernel)",
   "language": "python",
   "name": "python3"
  },
  "language_info": {
   "codemirror_mode": {
    "name": "ipython",
    "version": 3
   },
   "file_extension": ".py",
   "mimetype": "text/x-python",
   "name": "python",
   "nbconvert_exporter": "python",
   "pygments_lexer": "ipython3",
   "version": "3.10.12"
  }
 },
 "nbformat": 4,
 "nbformat_minor": 5
}
