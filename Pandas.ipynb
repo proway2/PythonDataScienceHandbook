{
 "cells": [
  {
   "cell_type": "markdown",
   "id": "10d88e65-ecac-438e-8886-ad35b2e39c51",
   "metadata": {},
   "source": [
    "# Pandas"
   ]
  },
  {
   "cell_type": "markdown",
   "id": "2319ca53-7eae-4476-b16b-913c77b47b08",
   "metadata": {},
   "source": [
    "`Pandas` построен на поверх `NumPy` и предлагает эффективную реализациию `DataFrame`. `DataFrame`ы, в основе своей, яляются многомерными массивами с именами, привязанными к рядам и колонкам, и, часто, с гетерогенными типами данных или с отсутствующими данными. Вместе с предоставлением удобного хранилища и интерфейса доступа к именованным данными, `Pandas` реализовывает набор мощных операций с данными знакомым пользователям баз данных и электронных таблиц."
   ]
  },
  {
   "cell_type": "code",
   "execution_count": 87,
   "id": "b580f77d-1552-4c09-a380-2396c18f2546",
   "metadata": {},
   "outputs": [
    {
     "name": "stdout",
     "output_type": "stream",
     "text": [
      "Pandas 2.1.3\n",
      "NumPy 1.26.2\n"
     ]
    }
   ],
   "source": [
    "# Обычно Pandas импортируется как pd\n",
    "import pandas as pd\n",
    "import numpy as np\n",
    "\n",
    "print(\"Pandas\", pd.__version__)\n",
    "print(\"NumPy\", np.__version__)"
   ]
  },
  {
   "cell_type": "markdown",
   "id": "fb187f73-3f0a-4a76-862f-01a7b2dfc74e",
   "metadata": {},
   "source": [
    "На самом базовом уровне, объекты `Pandas` могут быть представлены как улучшенные версии структурированных массивов [NumPy](http://localhost:8888/doc/tree/NumPy.ipynb#%D0%A1%D1%82%D1%80%D1%83%D0%BA%D1%82%D1%83%D1%80%D0%B8%D1%80%D0%BE%D0%B2%D0%B0%D0%BD%D0%BD%D1%8B%D0%B5-%D0%B4%D0%B0%D0%BD%D0%BD%D1%8B%D0%B5:-%D1%81%D1%82%D1%80%D1%83%D0%BA%D1%82%D1%83%D1%80%D0%B8%D1%80%D0%BE%D0%B2%D0%B0%D0%BD%D0%BD%D1%8B%D0%B5-%D0%BC%D0%B0%D1%81%D1%81%D0%B8%D0%B2%D1%8B-NumPy) в которых ряды и колонки идентифицируются по именам, а не по индексам.\n",
    "Три фундаментальные структуры данных `Pandas`: `Series`, `DataFrame` и `Index`."
   ]
  },
  {
   "cell_type": "markdown",
   "id": "d7632edf-233b-4c63-8b48-3b3ff93827ab",
   "metadata": {},
   "source": [
    "## Объекты типа `Series`"
   ]
  },
  {
   "cell_type": "markdown",
   "id": "1d02d8ae-11f1-4dcc-8dc0-3859d3484380",
   "metadata": {},
   "source": [
    "Объекты типа `Series` являются **одномерными** массивами с индексированными данными. Такие объекты могут быть созданы из списка:"
   ]
  },
  {
   "cell_type": "code",
   "execution_count": 88,
   "id": "84ede2bc-33ea-47a7-b666-afacdd202fe8",
   "metadata": {},
   "outputs": [
    {
     "data": {
      "text/plain": [
       "0    0.25\n",
       "1    0.50\n",
       "2    0.75\n",
       "3    1.00\n",
       "dtype: float64"
      ]
     },
     "execution_count": 88,
     "metadata": {},
     "output_type": "execute_result"
    }
   ],
   "source": [
    "data = pd.Series([0.25, 0.5, 0.75, 1.0])\n",
    "data"
   ]
  },
  {
   "cell_type": "markdown",
   "id": "386f98cd-2b29-42f5-8a84-81a58a3f137f",
   "metadata": {},
   "source": [
    "Как видно выше, **данные представлены как индексами, так и значениями**."
   ]
  },
  {
   "cell_type": "code",
   "execution_count": 89,
   "id": "e97330ac-0b31-44e3-8307-cc732b87f811",
   "metadata": {},
   "outputs": [
    {
     "data": {
      "text/plain": [
       "array([0.25, 0.5 , 0.75, 1.  ])"
      ]
     },
     "execution_count": 89,
     "metadata": {},
     "output_type": "execute_result"
    }
   ],
   "source": [
    "# значения\n",
    "data.values"
   ]
  },
  {
   "cell_type": "code",
   "execution_count": 90,
   "id": "d527377e-b6db-4b64-a58d-585fa0019f02",
   "metadata": {},
   "outputs": [
    {
     "data": {
      "text/plain": [
       "RangeIndex(start=0, stop=4, step=1)"
      ]
     },
     "execution_count": 90,
     "metadata": {},
     "output_type": "execute_result"
    }
   ],
   "source": [
    "# индексы\n",
    "data.index"
   ]
  },
  {
   "cell_type": "markdown",
   "id": "46922461-39a5-4fe9-9f3f-54dc29308407",
   "metadata": {},
   "source": [
    "Как и в NumPy, доступ к данным может быть получен по индексам в традиционном для Python стиле:"
   ]
  },
  {
   "cell_type": "code",
   "execution_count": 91,
   "id": "a066f2ed-28b1-43d8-95a1-a635d1ed6d26",
   "metadata": {},
   "outputs": [
    {
     "data": {
      "text/plain": [
       "0.5"
      ]
     },
     "execution_count": 91,
     "metadata": {},
     "output_type": "execute_result"
    }
   ],
   "source": [
    "data[1]"
   ]
  },
  {
   "cell_type": "code",
   "execution_count": 92,
   "id": "4c6336ed-82b7-4c41-b5fc-bc4b285d5ca3",
   "metadata": {},
   "outputs": [
    {
     "data": {
      "text/plain": [
       "2    0.75\n",
       "3    1.00\n",
       "dtype: float64"
      ]
     },
     "execution_count": 92,
     "metadata": {},
     "output_type": "execute_result"
    }
   ],
   "source": [
    "data[2:]"
   ]
  },
  {
   "cell_type": "markdown",
   "id": "66b1ff78-a348-45cb-b9a7-7e6b0419324c",
   "metadata": {},
   "source": [
    "Дальше мы увидим, что данные типа `Series` являются более обобщенными и гибкими чем одномерные массивы в `NumPy`."
   ]
  },
  {
   "cell_type": "markdown",
   "id": "559b3b9c-3a3f-400f-be4d-128988342a1a",
   "metadata": {},
   "source": [
    "### Объекты `Series` в качестве обобщенных массивов `NumPy`\n",
    "\n",
    "Объекты `Series` в целом похожи на массивы `NumPy`, однако имеют одно существенное отличие, а именно: `NumPy` имеет _неявно определённый целочисленный индекс_ для доступа к элементам массива, объекты `Series` имеют _явно определенный индекс_, связанный со значениями. В качестве индекса для `Series` можно использовать любой доступный тип."
   ]
  },
  {
   "cell_type": "code",
   "execution_count": 93,
   "id": "9d3ab027-ca5f-49d7-a100-ac841c705626",
   "metadata": {},
   "outputs": [
    {
     "data": {
      "text/plain": [
       "a    0.25\n",
       "b    0.50\n",
       "c    0.75\n",
       "d    1.00\n",
       "dtype: float64"
      ]
     },
     "execution_count": 93,
     "metadata": {},
     "output_type": "execute_result"
    }
   ],
   "source": [
    "# для доступа к элементам используется индекс типа `str`\n",
    "data = pd.Series([0.25, 0.5, 0.75, 1.0], index=['a', 'b', 'c', 'd'])\n",
    "data"
   ]
  },
  {
   "cell_type": "code",
   "execution_count": 94,
   "id": "b22806a8-5462-498a-98ce-a0a2a3caf986",
   "metadata": {},
   "outputs": [
    {
     "data": {
      "text/plain": [
       "0.25"
      ]
     },
     "execution_count": 94,
     "metadata": {},
     "output_type": "execute_result"
    }
   ],
   "source": [
    "# доступ к элементу по индексу\n",
    "data['a']"
   ]
  },
  {
   "cell_type": "markdown",
   "id": "437982dd-91cf-4cc5-af64-350df5ee238c",
   "metadata": {},
   "source": [
    "Мы можем даже использовать непоследовательные индексы:"
   ]
  },
  {
   "cell_type": "code",
   "execution_count": 95,
   "id": "c74d694e-e139-4212-9efd-058d639ae338",
   "metadata": {},
   "outputs": [
    {
     "data": {
      "text/plain": [
       "2    0.25\n",
       "5    0.50\n",
       "3    0.75\n",
       "7    1.00\n",
       "dtype: float64"
      ]
     },
     "execution_count": 95,
     "metadata": {},
     "output_type": "execute_result"
    }
   ],
   "source": [
    "data = pd.Series([0.25, 0.5, 0.75, 1.0], index=[2, 5, 3, 7])\n",
    "data"
   ]
  },
  {
   "cell_type": "code",
   "execution_count": 96,
   "id": "8f22f432-91bb-48a5-8617-ed6e2d3acdd8",
   "metadata": {},
   "outputs": [
    {
     "data": {
      "text/plain": [
       "0.5"
      ]
     },
     "execution_count": 96,
     "metadata": {},
     "output_type": "execute_result"
    }
   ],
   "source": [
    "data[5]"
   ]
  },
  {
   "cell_type": "markdown",
   "id": "72a96b85-a137-4acd-ab4c-b454bc6e4110",
   "metadata": {},
   "source": [
    "### `Series` в качестве специализированного словаря\n",
    "\n",
    "`Series` - это структура, которая связывает _типизированные ключи_ с набором _типизированных значений_. Типизация очень важна здесь: для определенных операций информация о типах делает `Series` намного более эффективной структурой, чем стандартные словари Python."
   ]
  },
  {
   "cell_type": "code",
   "execution_count": 97,
   "id": "64846ee2-db82-4cd3-8545-f6718da6bbbc",
   "metadata": {},
   "outputs": [
    {
     "data": {
      "text/plain": [
       "California    38332521\n",
       "Texas         26448193\n",
       "New York      19651127\n",
       "Florida       19552860\n",
       "Illinois      12882135\n",
       "dtype: int64"
      ]
     },
     "execution_count": 97,
     "metadata": {},
     "output_type": "execute_result"
    }
   ],
   "source": [
    "# создание Series напрямую из словаря\n",
    "population_dict = {'California': 38332521,\n",
    "                   'Texas': 26448193,\n",
    "                   'New York': 19651127,\n",
    "                   'Florida': 19552860,\n",
    "                   'Illinois': 12882135}\n",
    "population = pd.Series(population_dict)\n",
    "population"
   ]
  },
  {
   "cell_type": "code",
   "execution_count": 98,
   "id": "012de1c8-dd9c-4b6d-a0e1-47e747977413",
   "metadata": {},
   "outputs": [
    {
     "data": {
      "text/plain": [
       "38332521"
      ]
     },
     "execution_count": 98,
     "metadata": {},
     "output_type": "execute_result"
    }
   ],
   "source": [
    "population['California']"
   ]
  },
  {
   "cell_type": "markdown",
   "id": "09766618-ded0-4d5e-951e-10fb209fcf79",
   "metadata": {},
   "source": [
    "В отличие от словарей, `Series` поддерживает операции в стиле массивов, например срезы:"
   ]
  },
  {
   "cell_type": "code",
   "execution_count": 99,
   "id": "9e2cab5b-5b07-4644-b67d-196df4a9ab81",
   "metadata": {},
   "outputs": [
    {
     "data": {
      "text/plain": [
       "California    38332521\n",
       "Texas         26448193\n",
       "New York      19651127\n",
       "Florida       19552860\n",
       "dtype: int64"
      ]
     },
     "execution_count": 99,
     "metadata": {},
     "output_type": "execute_result"
    }
   ],
   "source": [
    "population['California':'Florida']"
   ]
  },
  {
   "cell_type": "markdown",
   "id": "e1ee51ae-f565-4c85-a496-0e333ded2866",
   "metadata": {},
   "source": [
    "### Создание объектов типа `Series`\n",
    "\n",
    "В общем, все объекты `Series` создаются таким образом:\n",
    "\n",
    "```\n",
    ">>> pd.Series(data, index=index)\n",
    "```\n",
    "\n",
    "Где `index` не является обязательным аргументом."
   ]
  },
  {
   "cell_type": "code",
   "execution_count": 100,
   "id": "55c72c62-4d14-41c4-a5c3-e1d5afd87c13",
   "metadata": {},
   "outputs": [
    {
     "data": {
      "text/plain": [
       "0    1\n",
       "1    2\n",
       "2    3\n",
       "3    4\n",
       "4    5\n",
       "dtype: int64"
      ]
     },
     "execution_count": 100,
     "metadata": {},
     "output_type": "execute_result"
    }
   ],
   "source": [
    "pd.Series([1, 2, 3, 4, 5])"
   ]
  },
  {
   "cell_type": "code",
   "execution_count": 101,
   "id": "abcb3b61-b5d2-4010-9ba3-921461cf40e5",
   "metadata": {},
   "outputs": [
    {
     "data": {
      "text/plain": [
       "100    5\n",
       "200    5\n",
       "300    5\n",
       "dtype: int64"
      ]
     },
     "execution_count": 101,
     "metadata": {},
     "output_type": "execute_result"
    }
   ],
   "source": [
    "# data может быть скалярной величиной\n",
    "pd.Series(5, index=[100, 200, 300])"
   ]
  },
  {
   "cell_type": "code",
   "execution_count": 102,
   "id": "dab42615-cb6a-403a-ae64-bf2d6dfb86cc",
   "metadata": {},
   "outputs": [
    {
     "data": {
      "text/plain": [
       "0      0\n",
       "100    1\n",
       "200    2\n",
       "300    3\n",
       "400    4\n",
       "500    5\n",
       "600    6\n",
       "700    7\n",
       "800    8\n",
       "900    9\n",
       "dtype: int64"
      ]
     },
     "execution_count": 102,
     "metadata": {},
     "output_type": "execute_result"
    }
   ],
   "source": [
    "pd.Series(range(10), range(0, 1000, 100))"
   ]
  },
  {
   "cell_type": "code",
   "execution_count": 103,
   "id": "bf105c91-a192-415e-8322-ed116c89cb1f",
   "metadata": {},
   "outputs": [
    {
     "data": {
      "text/plain": [
       "1    a\n",
       "3    c\n",
       "2    b\n",
       "dtype: object"
      ]
     },
     "execution_count": 103,
     "metadata": {},
     "output_type": "execute_result"
    }
   ],
   "source": [
    "# создание на основе словаря\n",
    "pd.Series({1: 'a', 3: 'c', 2: 'b'})"
   ]
  },
  {
   "cell_type": "code",
   "execution_count": 104,
   "id": "06e42c35-be92-4034-ae85-e6a9031e8193",
   "metadata": {},
   "outputs": [
    {
     "data": {
      "text/plain": [
       "3    c\n",
       "2    a\n",
       "dtype: object"
      ]
     },
     "execution_count": 104,
     "metadata": {},
     "output_type": "execute_result"
    }
   ],
   "source": [
    "# Для словаря, с использованием аргумента `index` можно выбрать только те значения, которые требуются в данный момент\n",
    "pd.Series({2:'a', 1:'b', 3:'c'}, index=[3, 2])"
   ]
  },
  {
   "cell_type": "markdown",
   "id": "ee3d0a18-cb85-432b-8d9e-4ac2f7cd1bde",
   "metadata": {},
   "source": [
    "## Объект `DataFrame`\n",
    "\n",
    "Так же как и объект `Series`, объект `DataFrame` можно рассматривать либо как обобщение массива `NumPy` либо как специализированную версию словаря Python."
   ]
  },
  {
   "cell_type": "markdown",
   "id": "547db39e-08bc-4f3e-9495-c77ecf40363b",
   "metadata": {},
   "source": [
    "### `DataFrame` как обобщение массива `NumPy`\n",
    "\n",
    "Если `Series` является аналогом одномерного массива с гибкими индексами, то `DataFrame` - аналог двумерного массива с как гибкими индексами рядов, так и гибкими именами колонок. Можно представить `DataFrame` как последовательность выровненных по индексу объектов `Series`. \"Выровненность\" тут означает, что у них одинаковый индекс. Давайте это проиллюстрируем:"
   ]
  },
  {
   "cell_type": "code",
   "execution_count": 105,
   "id": "f0b1836b-6338-4ec1-ad27-b5ab03ab1f19",
   "metadata": {},
   "outputs": [
    {
     "data": {
      "text/plain": [
       "California    423967\n",
       "Texas         695662\n",
       "New York      141297\n",
       "Florida       170312\n",
       "Illinois      149995\n",
       "dtype: int64"
      ]
     },
     "execution_count": 105,
     "metadata": {},
     "output_type": "execute_result"
    }
   ],
   "source": [
    "area_dict = {'California': 423967, 'Texas': 695662, 'New York': 141297, 'Florida': 170312, 'Illinois': 149995}\n",
    "area = pd.Series(area_dict)\n",
    "area"
   ]
  },
  {
   "cell_type": "markdown",
   "id": "e2e8a13e-eb9a-4670-8625-7afd670cfdf4",
   "metadata": {},
   "source": [
    "В объекте типа `DataFrame`, создаваемом ниже, оба объекта `Series` имеют одинаковые индексы (имена штатов), т.е. они выровнены по индексу. Сам объект `DataFrame` имеет индексы `population` и `area`."
   ]
  },
  {
   "cell_type": "code",
   "execution_count": 106,
   "id": "94f0b62a-0a51-4a59-add4-fb790266f5ae",
   "metadata": {},
   "outputs": [
    {
     "data": {
      "text/html": [
       "<div>\n",
       "<style scoped>\n",
       "    .dataframe tbody tr th:only-of-type {\n",
       "        vertical-align: middle;\n",
       "    }\n",
       "\n",
       "    .dataframe tbody tr th {\n",
       "        vertical-align: top;\n",
       "    }\n",
       "\n",
       "    .dataframe thead th {\n",
       "        text-align: right;\n",
       "    }\n",
       "</style>\n",
       "<table border=\"1\" class=\"dataframe\">\n",
       "  <thead>\n",
       "    <tr style=\"text-align: right;\">\n",
       "      <th></th>\n",
       "      <th>population</th>\n",
       "      <th>area</th>\n",
       "    </tr>\n",
       "  </thead>\n",
       "  <tbody>\n",
       "    <tr>\n",
       "      <th>California</th>\n",
       "      <td>38332521</td>\n",
       "      <td>423967</td>\n",
       "    </tr>\n",
       "    <tr>\n",
       "      <th>Texas</th>\n",
       "      <td>26448193</td>\n",
       "      <td>695662</td>\n",
       "    </tr>\n",
       "    <tr>\n",
       "      <th>New York</th>\n",
       "      <td>19651127</td>\n",
       "      <td>141297</td>\n",
       "    </tr>\n",
       "    <tr>\n",
       "      <th>Florida</th>\n",
       "      <td>19552860</td>\n",
       "      <td>170312</td>\n",
       "    </tr>\n",
       "    <tr>\n",
       "      <th>Illinois</th>\n",
       "      <td>12882135</td>\n",
       "      <td>149995</td>\n",
       "    </tr>\n",
       "  </tbody>\n",
       "</table>\n",
       "</div>"
      ],
      "text/plain": [
       "            population    area\n",
       "California    38332521  423967\n",
       "Texas         26448193  695662\n",
       "New York      19651127  141297\n",
       "Florida       19552860  170312\n",
       "Illinois      12882135  149995"
      ]
     },
     "execution_count": 106,
     "metadata": {},
     "output_type": "execute_result"
    }
   ],
   "source": [
    "# объект `population` был создан ранее\n",
    "states = pd.DataFrame({'population': population, 'area': area})\n",
    "states"
   ]
  },
  {
   "cell_type": "markdown",
   "id": "895528e1-4702-4d2b-8e9b-5f0fa6b4eef8",
   "metadata": {},
   "source": [
    "Выше мы создали объект `DataFrame` с колонками `population` и `area`. Каждая из этих колонок является объектом типа `Series`:"
   ]
  },
  {
   "cell_type": "code",
   "execution_count": 107,
   "id": "829c19c7-361f-4e96-ba25-4d859bf616d7",
   "metadata": {},
   "outputs": [
    {
     "name": "stdout",
     "output_type": "stream",
     "text": [
      "Тип колонки `population` <class 'pandas.core.series.Series'>\n"
     ]
    }
   ],
   "source": [
    "print(\"Тип колонки `population`\", type(states['population']))"
   ]
  },
  {
   "cell_type": "code",
   "execution_count": 108,
   "id": "9e230bb1-342d-429b-a551-b369511b718d",
   "metadata": {},
   "outputs": [
    {
     "data": {
      "text/plain": [
       "California    38332521\n",
       "Texas         26448193\n",
       "New York      19651127\n",
       "Florida       19552860\n",
       "Illinois      12882135\n",
       "Name: population, dtype: int64"
      ]
     },
     "execution_count": 108,
     "metadata": {},
     "output_type": "execute_result"
    }
   ],
   "source": [
    "# Доступ к колонке\n",
    "states['population']"
   ]
  },
  {
   "cell_type": "code",
   "execution_count": 109,
   "id": "12887da9-aede-44a0-abf6-bed440cbd972",
   "metadata": {},
   "outputs": [
    {
     "data": {
      "text/plain": [
       "Index(['California', 'Texas', 'New York', 'Florida', 'Illinois'], dtype='object')"
      ]
     },
     "execution_count": 109,
     "metadata": {},
     "output_type": "execute_result"
    }
   ],
   "source": [
    "# все индексы НИЗЛЕЖАЩИХ объектов Series\n",
    "states.index"
   ]
  },
  {
   "cell_type": "code",
   "execution_count": 110,
   "id": "6fbcaadf-6c2f-46e7-afa6-e95537c34b90",
   "metadata": {},
   "outputs": [
    {
     "data": {
      "text/plain": [
       "Index(['population', 'area'], dtype='object')"
      ]
     },
     "execution_count": 110,
     "metadata": {},
     "output_type": "execute_result"
    }
   ],
   "source": [
    "# все колонки\n",
    "states.columns"
   ]
  },
  {
   "cell_type": "code",
   "execution_count": 111,
   "id": "9353025e-7669-4804-b997-702e741414a1",
   "metadata": {},
   "outputs": [
    {
     "data": {
      "text/plain": [
       "Index(['California', 'Texas', 'New York', 'Florida', 'Illinois'], dtype='object')"
      ]
     },
     "execution_count": 111,
     "metadata": {},
     "output_type": "execute_result"
    }
   ],
   "source": [
    "# все индексы объекта `Series`\n",
    "states['area'].index"
   ]
  },
  {
   "cell_type": "code",
   "execution_count": 112,
   "id": "df8b8d2a-e743-4e2a-abbe-bb37731e46d0",
   "metadata": {},
   "outputs": [
    {
     "data": {
      "text/plain": [
       "423967"
      ]
     },
     "execution_count": 112,
     "metadata": {},
     "output_type": "execute_result"
    }
   ],
   "source": [
    "states['area']['California']"
   ]
  },
  {
   "cell_type": "markdown",
   "id": "9503f1b7-a127-49ba-92e9-16e9bc6c8f5f",
   "metadata": {},
   "source": [
    "### `DataFrame` как специализированный словарь\n",
    "\n",
    "Мы также можем рассматривать `DataFrame` как специализированный словарь, в котором словарь \"отражает\" ключ на значение, `DataFrame` \"отражает\" имя колонки на данные колонки, т.е. объект типа `Series`. Например, атрибут `area` возвращает объект `Series` содержащий площади:"
   ]
  },
  {
   "cell_type": "code",
   "execution_count": 113,
   "id": "6ce32c3c-9dad-4730-ab89-eb012958551c",
   "metadata": {},
   "outputs": [
    {
     "data": {
      "text/plain": [
       "California    423967\n",
       "Texas         695662\n",
       "New York      141297\n",
       "Florida       170312\n",
       "Illinois      149995\n",
       "Name: area, dtype: int64"
      ]
     },
     "execution_count": 113,
     "metadata": {},
     "output_type": "execute_result"
    }
   ],
   "source": [
    "states['area']"
   ]
  },
  {
   "cell_type": "markdown",
   "id": "c07d05bb-2949-4ce2-bfe5-73c75dde2f85",
   "metadata": {},
   "source": [
    "Отметим, что в `NumPy` выражение `data[0]` возвращает первый **ряд**, Для `DataFrame` выражение `data['col0']` возвращает первую **колонку**. Поэтому, может быть удобнее представлять `DataFrame` как специализированный словарь."
   ]
  },
  {
   "cell_type": "markdown",
   "id": "aaa49571-7735-4700-b3a1-54b8f8e0d6c1",
   "metadata": {},
   "source": [
    "### Создание объектов `DataFrame`\n",
    "\n",
    "Далее рассмотрим различные способы создания объекта `DataFrame`."
   ]
  },
  {
   "cell_type": "markdown",
   "id": "86593a41-f5b8-4769-a186-0780695c6648",
   "metadata": {},
   "source": [
    "#### Из единичного объекта `Series`"
   ]
  },
  {
   "cell_type": "code",
   "execution_count": 114,
   "id": "0835f99a-ecf0-4fa0-981a-fbf02e69765c",
   "metadata": {},
   "outputs": [
    {
     "data": {
      "text/html": [
       "<div>\n",
       "<style scoped>\n",
       "    .dataframe tbody tr th:only-of-type {\n",
       "        vertical-align: middle;\n",
       "    }\n",
       "\n",
       "    .dataframe tbody tr th {\n",
       "        vertical-align: top;\n",
       "    }\n",
       "\n",
       "    .dataframe thead th {\n",
       "        text-align: right;\n",
       "    }\n",
       "</style>\n",
       "<table border=\"1\" class=\"dataframe\">\n",
       "  <thead>\n",
       "    <tr style=\"text-align: right;\">\n",
       "      <th></th>\n",
       "      <th>population</th>\n",
       "    </tr>\n",
       "  </thead>\n",
       "  <tbody>\n",
       "    <tr>\n",
       "      <th>California</th>\n",
       "      <td>38332521</td>\n",
       "    </tr>\n",
       "    <tr>\n",
       "      <th>Texas</th>\n",
       "      <td>26448193</td>\n",
       "    </tr>\n",
       "    <tr>\n",
       "      <th>New York</th>\n",
       "      <td>19651127</td>\n",
       "    </tr>\n",
       "    <tr>\n",
       "      <th>Florida</th>\n",
       "      <td>19552860</td>\n",
       "    </tr>\n",
       "    <tr>\n",
       "      <th>Illinois</th>\n",
       "      <td>12882135</td>\n",
       "    </tr>\n",
       "  </tbody>\n",
       "</table>\n",
       "</div>"
      ],
      "text/plain": [
       "            population\n",
       "California    38332521\n",
       "Texas         26448193\n",
       "New York      19651127\n",
       "Florida       19552860\n",
       "Illinois      12882135"
      ]
     },
     "execution_count": 114,
     "metadata": {},
     "output_type": "execute_result"
    }
   ],
   "source": [
    "pd.DataFrame(population, columns=['population'])"
   ]
  },
  {
   "cell_type": "markdown",
   "id": "b3a271ba-06b7-4349-b0dc-1013a79d49a6",
   "metadata": {},
   "source": [
    "#### Из списка словарей"
   ]
  },
  {
   "cell_type": "code",
   "execution_count": 115,
   "id": "102723c8-c50e-4f34-a9e7-f0f80149dc94",
   "metadata": {},
   "outputs": [
    {
     "data": {
      "text/html": [
       "<div>\n",
       "<style scoped>\n",
       "    .dataframe tbody tr th:only-of-type {\n",
       "        vertical-align: middle;\n",
       "    }\n",
       "\n",
       "    .dataframe tbody tr th {\n",
       "        vertical-align: top;\n",
       "    }\n",
       "\n",
       "    .dataframe thead th {\n",
       "        text-align: right;\n",
       "    }\n",
       "</style>\n",
       "<table border=\"1\" class=\"dataframe\">\n",
       "  <thead>\n",
       "    <tr style=\"text-align: right;\">\n",
       "      <th></th>\n",
       "      <th>a</th>\n",
       "      <th>b</th>\n",
       "    </tr>\n",
       "  </thead>\n",
       "  <tbody>\n",
       "    <tr>\n",
       "      <th>0</th>\n",
       "      <td>0</td>\n",
       "      <td>0</td>\n",
       "    </tr>\n",
       "    <tr>\n",
       "      <th>1</th>\n",
       "      <td>1</td>\n",
       "      <td>2</td>\n",
       "    </tr>\n",
       "    <tr>\n",
       "      <th>2</th>\n",
       "      <td>2</td>\n",
       "      <td>4</td>\n",
       "    </tr>\n",
       "  </tbody>\n",
       "</table>\n",
       "</div>"
      ],
      "text/plain": [
       "   a  b\n",
       "0  0  0\n",
       "1  1  2\n",
       "2  2  4"
      ]
     },
     "execution_count": 115,
     "metadata": {},
     "output_type": "execute_result"
    }
   ],
   "source": [
    "data = [{'a': i, 'b': 2 * i} for i in range(3)]\n",
    "# pd.DataFrame(data, index=range(100, 400, 100))\n",
    "pd.DataFrame(data)"
   ]
  },
  {
   "cell_type": "markdown",
   "id": "adb811cf-6bc8-4372-92a2-ebf880124476",
   "metadata": {},
   "source": [
    "Если какие-либо значения отсутствуют, то `pandas` заполнит их значениями `NaN`:"
   ]
  },
  {
   "cell_type": "code",
   "execution_count": 116,
   "id": "0a348f46-8504-4596-9904-303ef1c43969",
   "metadata": {},
   "outputs": [
    {
     "data": {
      "text/html": [
       "<div>\n",
       "<style scoped>\n",
       "    .dataframe tbody tr th:only-of-type {\n",
       "        vertical-align: middle;\n",
       "    }\n",
       "\n",
       "    .dataframe tbody tr th {\n",
       "        vertical-align: top;\n",
       "    }\n",
       "\n",
       "    .dataframe thead th {\n",
       "        text-align: right;\n",
       "    }\n",
       "</style>\n",
       "<table border=\"1\" class=\"dataframe\">\n",
       "  <thead>\n",
       "    <tr style=\"text-align: right;\">\n",
       "      <th></th>\n",
       "      <th>a</th>\n",
       "      <th>b</th>\n",
       "      <th>c</th>\n",
       "    </tr>\n",
       "  </thead>\n",
       "  <tbody>\n",
       "    <tr>\n",
       "      <th>0</th>\n",
       "      <td>1.0</td>\n",
       "      <td>2</td>\n",
       "      <td>NaN</td>\n",
       "    </tr>\n",
       "    <tr>\n",
       "      <th>1</th>\n",
       "      <td>NaN</td>\n",
       "      <td>3</td>\n",
       "      <td>4.0</td>\n",
       "    </tr>\n",
       "  </tbody>\n",
       "</table>\n",
       "</div>"
      ],
      "text/plain": [
       "     a  b    c\n",
       "0  1.0  2  NaN\n",
       "1  NaN  3  4.0"
      ]
     },
     "execution_count": 116,
     "metadata": {},
     "output_type": "execute_result"
    }
   ],
   "source": [
    "pd.DataFrame([{'a': 1, 'b': 2}, {'b': 3, 'c': 4}])"
   ]
  },
  {
   "cell_type": "markdown",
   "id": "035cc4f8-d209-4af2-a6cb-e40dce5bfeb1",
   "metadata": {},
   "source": [
    "#### Из словаря с объектами `Series`"
   ]
  },
  {
   "cell_type": "code",
   "execution_count": 117,
   "id": "2c436c3d-806f-4734-823b-2fbbfc86e574",
   "metadata": {},
   "outputs": [
    {
     "data": {
      "text/html": [
       "<div>\n",
       "<style scoped>\n",
       "    .dataframe tbody tr th:only-of-type {\n",
       "        vertical-align: middle;\n",
       "    }\n",
       "\n",
       "    .dataframe tbody tr th {\n",
       "        vertical-align: top;\n",
       "    }\n",
       "\n",
       "    .dataframe thead th {\n",
       "        text-align: right;\n",
       "    }\n",
       "</style>\n",
       "<table border=\"1\" class=\"dataframe\">\n",
       "  <thead>\n",
       "    <tr style=\"text-align: right;\">\n",
       "      <th></th>\n",
       "      <th>population</th>\n",
       "      <th>area</th>\n",
       "    </tr>\n",
       "  </thead>\n",
       "  <tbody>\n",
       "    <tr>\n",
       "      <th>California</th>\n",
       "      <td>38332521</td>\n",
       "      <td>423967</td>\n",
       "    </tr>\n",
       "    <tr>\n",
       "      <th>Texas</th>\n",
       "      <td>26448193</td>\n",
       "      <td>695662</td>\n",
       "    </tr>\n",
       "    <tr>\n",
       "      <th>New York</th>\n",
       "      <td>19651127</td>\n",
       "      <td>141297</td>\n",
       "    </tr>\n",
       "    <tr>\n",
       "      <th>Florida</th>\n",
       "      <td>19552860</td>\n",
       "      <td>170312</td>\n",
       "    </tr>\n",
       "    <tr>\n",
       "      <th>Illinois</th>\n",
       "      <td>12882135</td>\n",
       "      <td>149995</td>\n",
       "    </tr>\n",
       "  </tbody>\n",
       "</table>\n",
       "</div>"
      ],
      "text/plain": [
       "            population    area\n",
       "California    38332521  423967\n",
       "Texas         26448193  695662\n",
       "New York      19651127  141297\n",
       "Florida       19552860  170312\n",
       "Illinois      12882135  149995"
      ]
     },
     "execution_count": 117,
     "metadata": {},
     "output_type": "execute_result"
    }
   ],
   "source": [
    "# Создание DataFrame из словаря, значения которого представляю собой объекты типа Series\n",
    "pd.DataFrame({'population': population, 'area': area})"
   ]
  },
  {
   "cell_type": "markdown",
   "id": "060f3ab9-4315-49da-a438-3b4f1ba13ae1",
   "metadata": {},
   "source": [
    "#### Из двумерного массива NumPy"
   ]
  },
  {
   "cell_type": "markdown",
   "id": "ea323912-d503-497b-929f-e391bb9f4301",
   "metadata": {},
   "source": [
    "Имя двумерный массив данных, мы можем создать объект `DataFrame` с указанием любых имён колонок и индексов. Если индекс не будет указан, то, по умолчаиню, будет создан целочисленный индекс:"
   ]
  },
  {
   "cell_type": "code",
   "execution_count": 118,
   "id": "5833c7f4-5ee1-46ac-bbde-e31929e0e792",
   "metadata": {},
   "outputs": [
    {
     "data": {
      "text/html": [
       "<div>\n",
       "<style scoped>\n",
       "    .dataframe tbody tr th:only-of-type {\n",
       "        vertical-align: middle;\n",
       "    }\n",
       "\n",
       "    .dataframe tbody tr th {\n",
       "        vertical-align: top;\n",
       "    }\n",
       "\n",
       "    .dataframe thead th {\n",
       "        text-align: right;\n",
       "    }\n",
       "</style>\n",
       "<table border=\"1\" class=\"dataframe\">\n",
       "  <thead>\n",
       "    <tr style=\"text-align: right;\">\n",
       "      <th></th>\n",
       "      <th>foo</th>\n",
       "      <th>bar</th>\n",
       "    </tr>\n",
       "  </thead>\n",
       "  <tbody>\n",
       "    <tr>\n",
       "      <th>a</th>\n",
       "      <td>0.933818</td>\n",
       "      <td>0.610923</td>\n",
       "    </tr>\n",
       "    <tr>\n",
       "      <th>b</th>\n",
       "      <td>0.597267</td>\n",
       "      <td>0.083614</td>\n",
       "    </tr>\n",
       "    <tr>\n",
       "      <th>c</th>\n",
       "      <td>0.005326</td>\n",
       "      <td>0.607062</td>\n",
       "    </tr>\n",
       "  </tbody>\n",
       "</table>\n",
       "</div>"
      ],
      "text/plain": [
       "        foo       bar\n",
       "a  0.933818  0.610923\n",
       "b  0.597267  0.083614\n",
       "c  0.005326  0.607062"
      ]
     },
     "execution_count": 118,
     "metadata": {},
     "output_type": "execute_result"
    }
   ],
   "source": [
    "pd.DataFrame(np.random.rand(3, 2), columns=['foo', 'bar'], index=['a', 'b', 'c'])"
   ]
  },
  {
   "cell_type": "markdown",
   "id": "bb2d0058-d5b4-4050-88c6-16ef453a765d",
   "metadata": {},
   "source": [
    "#### Из структурированного массива NumPy\n",
    "\n",
    "Мы рассказывали о структурированных массивах NumPy [ранее](https://jakevdp.github.io/PythonDataScienceHandbook/02.09-structured-data-numpy.html). `DataFrame` Pandas ведёт себя очень похоже на структурированный массив и может быть создан напрямую из структурированного массива:"
   ]
  },
  {
   "cell_type": "code",
   "execution_count": 119,
   "id": "d4302d67-e86c-47a3-b7f5-bada39043768",
   "metadata": {},
   "outputs": [
    {
     "data": {
      "text/plain": [
       "array([(0, 0.), (0, 0.), (0, 0.)], dtype=[('A', '<i8'), ('B', '<f8')])"
      ]
     },
     "execution_count": 119,
     "metadata": {},
     "output_type": "execute_result"
    }
   ],
   "source": [
    "# создаём структурированный массив NumPy\n",
    "A = np.zeros(3, dtype=[('A', 'i8'), ('B', 'f8')])\n",
    "A"
   ]
  },
  {
   "cell_type": "code",
   "execution_count": 120,
   "id": "b2c25e10-3db8-4136-8524-a1e7cceccb55",
   "metadata": {},
   "outputs": [
    {
     "data": {
      "text/html": [
       "<div>\n",
       "<style scoped>\n",
       "    .dataframe tbody tr th:only-of-type {\n",
       "        vertical-align: middle;\n",
       "    }\n",
       "\n",
       "    .dataframe tbody tr th {\n",
       "        vertical-align: top;\n",
       "    }\n",
       "\n",
       "    .dataframe thead th {\n",
       "        text-align: right;\n",
       "    }\n",
       "</style>\n",
       "<table border=\"1\" class=\"dataframe\">\n",
       "  <thead>\n",
       "    <tr style=\"text-align: right;\">\n",
       "      <th></th>\n",
       "      <th>A</th>\n",
       "      <th>B</th>\n",
       "    </tr>\n",
       "  </thead>\n",
       "  <tbody>\n",
       "    <tr>\n",
       "      <th>0</th>\n",
       "      <td>0</td>\n",
       "      <td>0.0</td>\n",
       "    </tr>\n",
       "    <tr>\n",
       "      <th>1</th>\n",
       "      <td>0</td>\n",
       "      <td>0.0</td>\n",
       "    </tr>\n",
       "    <tr>\n",
       "      <th>2</th>\n",
       "      <td>0</td>\n",
       "      <td>0.0</td>\n",
       "    </tr>\n",
       "  </tbody>\n",
       "</table>\n",
       "</div>"
      ],
      "text/plain": [
       "   A    B\n",
       "0  0  0.0\n",
       "1  0  0.0\n",
       "2  0  0.0"
      ]
     },
     "execution_count": 120,
     "metadata": {},
     "output_type": "execute_result"
    }
   ],
   "source": [
    "pd.DataFrame(A)"
   ]
  },
  {
   "cell_type": "markdown",
   "id": "37d35cd8-e939-497d-aa65-c7e24d880107",
   "metadata": {},
   "source": [
    "## Объект типа `Index`\n",
    "\n",
    "Мы видели ранее, что объекты как типа `Series` так и типа `DataFrame` содержат явный индекс, который позволяет обращаться к данным и изменять эти данные. Объект типа `Index` сам по себе является интересной структурой данны и может быть представлен либо как неизменяемый массив (immutable array) или как упорядоченное множество (технически мульти-множество так как объект типа `Index` может содержать повторяющиеся значения). Такие особенности представления приводят к некоторым интересным последствиям в операциях, возможных с объектами типа `Index`. В качестве простого примера давайте создадим объект типа `Index` из списка целых чисел:"
   ]
  },
  {
   "cell_type": "code",
   "execution_count": 121,
   "id": "c9454a1e-974f-4bbe-ad07-5f3421506de8",
   "metadata": {},
   "outputs": [
    {
     "data": {
      "text/plain": [
       "Index([2, 3, 5, 7, 11], dtype='int64')"
      ]
     },
     "execution_count": 121,
     "metadata": {},
     "output_type": "execute_result"
    }
   ],
   "source": [
    "ind = pd.Index([2, 3, 5, 7, 11])\n",
    "ind"
   ]
  },
  {
   "cell_type": "markdown",
   "id": "fd222e1d-4e76-49a9-ab13-fd0f63c27ac1",
   "metadata": {},
   "source": [
    "### Объекты `Index` как неизменяемые массивы (immutable arrays)"
   ]
  },
  {
   "cell_type": "markdown",
   "id": "356d2a6d-856c-4d1f-8906-46b147158676",
   "metadata": {},
   "source": [
    "Индексы поддерживают обычные операции на списках, доступные в Python:"
   ]
  },
  {
   "cell_type": "code",
   "execution_count": 122,
   "id": "3cd32fec-0edd-4573-a4aa-cad878abe6e3",
   "metadata": {},
   "outputs": [
    {
     "data": {
      "text/plain": [
       "3"
      ]
     },
     "execution_count": 122,
     "metadata": {},
     "output_type": "execute_result"
    }
   ],
   "source": [
    "ind[1]"
   ]
  },
  {
   "cell_type": "code",
   "execution_count": 123,
   "id": "d2700233-b9d3-4aaf-896d-41cda044ce83",
   "metadata": {},
   "outputs": [
    {
     "data": {
      "text/plain": [
       "Index([2, 5, 11], dtype='int64')"
      ]
     },
     "execution_count": 123,
     "metadata": {},
     "output_type": "execute_result"
    }
   ],
   "source": [
    "ind[::2]"
   ]
  },
  {
   "cell_type": "markdown",
   "id": "5e1b0202-dffe-4d29-8e84-e161fa691ccb",
   "metadata": {},
   "source": [
    "Объекты типа `Index` также имеют множество атрибутов знакомых по массивам `NumPy`."
   ]
  },
  {
   "cell_type": "code",
   "execution_count": 124,
   "id": "633c2773-3a28-4ef4-8f7b-a647ce834418",
   "metadata": {},
   "outputs": [
    {
     "name": "stdout",
     "output_type": "stream",
     "text": [
      "5 (5,) 1 int64\n"
     ]
    }
   ],
   "source": [
    "print(ind.size, ind.shape, ind.ndim, ind.dtype)"
   ]
  },
  {
   "cell_type": "markdown",
   "id": "023125fb-5fb0-45bb-9be6-fd75853344e7",
   "metadata": {},
   "source": [
    "Одно из различий между объектами типа `Index` и массивами `NumPy` - это то, что индексы неизменяемые, т.е. их нельзя изменить обычными методами:"
   ]
  },
  {
   "cell_type": "code",
   "execution_count": 125,
   "id": "5b1eacb7-4659-4c87-a78e-998028640a2f",
   "metadata": {},
   "outputs": [
    {
     "ename": "TypeError",
     "evalue": "Index does not support mutable operations",
     "output_type": "error",
     "traceback": [
      "\u001b[0;31m---------------------------------------------------------------------------\u001b[0m",
      "\u001b[0;31mTypeError\u001b[0m                                 Traceback (most recent call last)",
      "Cell \u001b[0;32mIn[125], line 2\u001b[0m\n\u001b[1;32m      1\u001b[0m \u001b[38;5;66;03m# выдаст ошибку\u001b[39;00m\n\u001b[0;32m----> 2\u001b[0m \u001b[43mind\u001b[49m\u001b[43m[\u001b[49m\u001b[38;5;241;43m1\u001b[39;49m\u001b[43m]\u001b[49m \u001b[38;5;241m=\u001b[39m \u001b[38;5;241m0\u001b[39m\n",
      "File \u001b[0;32m~/.pyenv/versions/ds/lib/python3.10/site-packages/pandas/core/indexes/base.py:5347\u001b[0m, in \u001b[0;36mIndex.__setitem__\u001b[0;34m(self, key, value)\u001b[0m\n\u001b[1;32m   5345\u001b[0m \u001b[38;5;129m@final\u001b[39m\n\u001b[1;32m   5346\u001b[0m \u001b[38;5;28;01mdef\u001b[39;00m \u001b[38;5;21m__setitem__\u001b[39m(\u001b[38;5;28mself\u001b[39m, key, value) \u001b[38;5;241m-\u001b[39m\u001b[38;5;241m>\u001b[39m \u001b[38;5;28;01mNone\u001b[39;00m:\n\u001b[0;32m-> 5347\u001b[0m     \u001b[38;5;28;01mraise\u001b[39;00m \u001b[38;5;167;01mTypeError\u001b[39;00m(\u001b[38;5;124m\"\u001b[39m\u001b[38;5;124mIndex does not support mutable operations\u001b[39m\u001b[38;5;124m\"\u001b[39m)\n",
      "\u001b[0;31mTypeError\u001b[0m: Index does not support mutable operations"
     ]
    }
   ],
   "source": [
    "# выдаст ошибку\n",
    "ind[1] = 0"
   ]
  },
  {
   "cell_type": "markdown",
   "id": "14044c0f-e48b-464a-a32e-109c22122056",
   "metadata": {},
   "source": [
    "Неизменяемость делает безопасным передачу индексов между различными объектами `DataFrame` и массивами, без потенциальногог риска получения побочных эффектов от непреднамеренного изменения индекса."
   ]
  },
  {
   "cell_type": "markdown",
   "id": "c9f2f41b-46bb-4175-92f6-36ae9f8fb742",
   "metadata": {},
   "source": [
    "### Индекс в качестве упорядоченного множества"
   ]
  },
  {
   "cell_type": "markdown",
   "id": "90c314d2-19d9-43ed-91d2-08cd1b647084",
   "metadata": {},
   "source": [
    "Объекты `Pandas` спроектировны для облегчения операций таких как соединения между различными наборами данных, которые (операции) записят от множества аспектов арифметики множеств. Объекты типа `Index` следуют многим соглашениям, используемым во встроенных структурых данных Python, таким образом объединения, пересечения, разности, и другие комбинации могут быть вычислены с помощью знакомых методов:"
   ]
  },
  {
   "cell_type": "code",
   "execution_count": null,
   "id": "b967516c-d62c-469d-8c4f-07cc1cc7e84f",
   "metadata": {},
   "outputs": [],
   "source": [
    "indA = pd.Index([1, 3, 5, 7, 9])\n",
    "indB = pd.Index([2, 3, 5, 7, 11])"
   ]
  },
  {
   "cell_type": "code",
   "execution_count": null,
   "id": "2115d211-1542-4378-b25e-95d58f6e2067",
   "metadata": {},
   "outputs": [],
   "source": [
    "indA & indB  # intersection"
   ]
  },
  {
   "cell_type": "code",
   "execution_count": null,
   "id": "4223bb53-a4d1-4c23-b7fb-3f7f0c4cc13e",
   "metadata": {},
   "outputs": [],
   "source": [
    "indA.intersection(indB)  # intersection with methods"
   ]
  },
  {
   "cell_type": "code",
   "execution_count": null,
   "id": "3c394fae-e5ef-45db-bac6-300d0c9c2b97",
   "metadata": {},
   "outputs": [],
   "source": [
    "indA | indB  # union"
   ]
  },
  {
   "cell_type": "code",
   "execution_count": null,
   "id": "b0538746-6c9d-49f4-ac60-47cb0d2eb191",
   "metadata": {},
   "outputs": [],
   "source": [
    "indA.union(indB)  # union with methods"
   ]
  },
  {
   "cell_type": "code",
   "execution_count": null,
   "id": "2efe2841-75fe-4847-a81d-6af8c5537736",
   "metadata": {},
   "outputs": [],
   "source": [
    "indA ^ indB  # symmetric difference"
   ]
  },
  {
   "cell_type": "code",
   "execution_count": null,
   "id": "0bcceb9c-7a5e-4a92-aeea-be9c1f98ab99",
   "metadata": {},
   "outputs": [],
   "source": [
    "indA.symmetric_difference(indB)  # symmetric difference with methods"
   ]
  },
  {
   "cell_type": "markdown",
   "id": "4ff355f0-2227-4fe2-b55f-ad5eb224a39a",
   "metadata": {},
   "source": [
    "# Извлечение и индексирование данных\n",
    "\n",
    "В этом разделе мы рассморим методы по доступу и изменению данных в Pandas. Сначала рассмотрим методы для более простого объекта - одномерного `Series`, а затем рассмотрим методы для более сложного - двумерного `DataFrame`."
   ]
  },
  {
   "cell_type": "markdown",
   "id": "61432485-5495-4a22-b1bf-18e68fab5018",
   "metadata": {},
   "source": [
    "## Извлечение данных в объектах типа `Series`\n",
    "\n",
    "Как мы видели ранее, объекты типа `Series`, во многом, ведут себя как одномерные массивы `NumPy` и как обычные списки в Python. Такое перекрытие позволит нам легче понять принципы индексирования и извлечения данных из этих объектов."
   ]
  },
  {
   "cell_type": "markdown",
   "id": "01896345-2e8c-4c28-ab9d-bc39e72e1530",
   "metadata": {},
   "source": [
    "### Объекты `Series` в качестве словарей\n",
    "\n",
    "Как и стандартные словари, объекты типа `Series` обеспечивает связь между ключем и данными:"
   ]
  },
  {
   "cell_type": "code",
   "execution_count": null,
   "id": "c4ad9c6a-f6c4-4b9d-9363-dd5c3dfd41f7",
   "metadata": {},
   "outputs": [],
   "source": [
    "import pandas as pd\n",
    "data = pd.Series([0.25, 0.5, 0.75, 1.0], index=['a', 'b', 'c', 'd'])\n",
    "data"
   ]
  },
  {
   "cell_type": "code",
   "execution_count": null,
   "id": "018c4858-dedb-4053-8e27-5e1b4b880ad0",
   "metadata": {},
   "outputs": [],
   "source": [
    "data['b']"
   ]
  },
  {
   "cell_type": "markdown",
   "id": "6c1215cb-b6e6-4e64-b749-e7b63943a951",
   "metadata": {},
   "source": [
    "Мы даже можем использовать выражения, аналогичные словарям, для извлечения данных из объектов `Series`:"
   ]
  },
  {
   "cell_type": "code",
   "execution_count": null,
   "id": "ef9d00e5-e481-4741-a071-94ecb12a207d",
   "metadata": {},
   "outputs": [],
   "source": [
    "'a' in data"
   ]
  },
  {
   "cell_type": "code",
   "execution_count": null,
   "id": "16e1f820-773b-4fba-89f8-fd59be222748",
   "metadata": {},
   "outputs": [],
   "source": [
    "data.keys()"
   ]
  },
  {
   "cell_type": "code",
   "execution_count": null,
   "id": "68dc2753-9be9-4c9e-8518-9b033eaebc9e",
   "metadata": {},
   "outputs": [],
   "source": [
    "list(data.items())"
   ]
  },
  {
   "cell_type": "markdown",
   "id": "80b53cf1-5979-47fe-bcf2-366dc3745cd9",
   "metadata": {},
   "source": [
    "Объекты типа `Series` могут быть изменены аналогично словарям:"
   ]
  },
  {
   "cell_type": "code",
   "execution_count": null,
   "id": "9bbcff20-675b-4421-89d5-40d9532f33e9",
   "metadata": {},
   "outputs": [],
   "source": [
    "data['e'] = 1.25\n",
    "data"
   ]
  },
  {
   "cell_type": "code",
   "execution_count": null,
   "id": "95f4936b-9dd3-4237-a2f5-5761eb5f733d",
   "metadata": {},
   "outputs": [],
   "source": [
    "data['d'] = 1.01\n",
    "data"
   ]
  },
  {
   "cell_type": "markdown",
   "id": "03f271fa-683b-4290-b450-14a21a6f31e2",
   "metadata": {},
   "source": [
    "### `Series` в качестве одномерного массива\n",
    "\n",
    "Объекты `Series` основаны на интерфейсе словарей и обеспечивают извлечение значений как в списках через механизмы массивов `NumPy`, таких как: срезы, маскирование и необычное индексирование (fancy indexing). Например:"
   ]
  },
  {
   "cell_type": "code",
   "execution_count": null,
   "id": "e085223a-652c-4a4f-a20d-cef81973fa4c",
   "metadata": {},
   "outputs": [],
   "source": [
    "# slicing by explicit index\n",
    "data['a':'c']"
   ]
  },
  {
   "cell_type": "code",
   "execution_count": null,
   "id": "a9c854bb-5e46-4462-baba-e19a1ea91bc2",
   "metadata": {},
   "outputs": [],
   "source": [
    "data[:]"
   ]
  },
  {
   "cell_type": "code",
   "execution_count": null,
   "id": "289a17cf-cedd-408a-ac60-5af66a7880cb",
   "metadata": {},
   "outputs": [],
   "source": [
    "# slicing by implicit integer index\n",
    "data[1:4]"
   ]
  },
  {
   "cell_type": "markdown",
   "id": "8fd29f48-4c91-4d84-8dcb-0bec6b2dbf78",
   "metadata": {},
   "source": [
    "Срезы могут быть источником путаницы. Обратите внимание, когда срез выполняется по явному индексу (например так `data['a':'c']`, **конечный индекс включается в срез**, а когда срез выполняется по неявному индексу (`data[0:2]`), **конечный индекс исключается из среза**."
   ]
  },
  {
   "cell_type": "code",
   "execution_count": null,
   "id": "2d5a6594-b4a6-4635-86fc-19de214489a2",
   "metadata": {},
   "outputs": [],
   "source": [
    "# masking\n",
    "data[(data > 0.3) & (data < 0.8)]"
   ]
  },
  {
   "cell_type": "code",
   "execution_count": null,
   "id": "311e1a7c-68b1-41d3-9181-843403123336",
   "metadata": {},
   "outputs": [],
   "source": [
    "# fancy indexing\n",
    "data[['a', 'e']]"
   ]
  },
  {
   "cell_type": "markdown",
   "id": "859b0c18-3b8b-4ae4-b6d9-5f9a258f80c2",
   "metadata": {},
   "source": [
    "### Индексаторы: loc, iloc, and ix\n",
    "\n",
    "Упомянутые выше соглашения о срезах и индексирование, могут быть источником путаницы. Например, если объект `Series` использует явный целочисленный индекс, операция индексирования, такая как `data[1]`, будет использовать явные индексы, тогда как операция среза, такая как `data[1:3]`, будет использовать неявный индекс в стиле Python."
   ]
  },
  {
   "cell_type": "code",
   "execution_count": null,
   "id": "ac37ae04-075c-4ac3-9d5e-879571eaa2ac",
   "metadata": {},
   "outputs": [],
   "source": [
    "data = pd.Series(['a', 'b', 'c'], index=[1, 3, 5])\n",
    "data"
   ]
  },
  {
   "cell_type": "code",
   "execution_count": null,
   "id": "1b1d4d0f-e73f-4579-8152-7f22ddb3f337",
   "metadata": {},
   "outputs": [],
   "source": [
    "# явный индекс (explicit index) при индексном доступе\n",
    "data[1]"
   ]
  },
  {
   "cell_type": "markdown",
   "id": "7936c607-6f5c-4de7-9f5f-de306fd0a83a",
   "metadata": {},
   "source": [
    "Операция `data[1]` извлекает значение из объекта, с индексом равным `1`, в данном случае это первый индекс в `Series`. Фактически это больше похоже на словари, где ключи - это индексы, т.е. в данном случае `1` - это ключ, а не индекс в списке в традиционном понимании Python. Операция `data[0]` вернет ошибку, так как ключа `0` нет в данном объекте `Series`:"
   ]
  },
  {
   "cell_type": "code",
   "execution_count": null,
   "id": "706b18bf-df7d-485d-b0dc-62fe8ba77870",
   "metadata": {},
   "outputs": [],
   "source": [
    "data[0]"
   ]
  },
  {
   "cell_type": "code",
   "execution_count": null,
   "id": "6d00031a-7ef1-4e67-9ab0-a96314397cab",
   "metadata": {},
   "outputs": [],
   "source": [
    "# неявные индексы (implicit index) при срезе\n",
    "data[1:3]"
   ]
  },
  {
   "cell_type": "markdown",
   "id": "b4e50bee-4023-4091-bdf8-b9077c16beab",
   "metadata": {},
   "source": [
    "Операция `data[1:3]` - это уже срез и здесь используются неявные индексы, т.е. `1` и `3` здесь являются именно индексами в понимании списков Python, т.е. порядковыми номерами элементов в объекте `Series`. Поэтому операция типа `data[0:]` возможна:"
   ]
  },
  {
   "cell_type": "code",
   "execution_count": null,
   "id": "b4573d67-c19c-4fa2-8fe8-be840b5bb590",
   "metadata": {},
   "outputs": [],
   "source": [
    "data[0:]"
   ]
  },
  {
   "cell_type": "markdown",
   "id": "d98ac3c5-d847-48e8-b57d-c63f1a7e403c",
   "metadata": {},
   "source": [
    "Из-за возможной подобной путаницы с целочисленными индексами, Pandas предлагает несколько специальных атрибутов-индексеров, которые явно задают использование определённых схем индексирования. Такие атрибуты не являются методами, однако обеспечивают определённый интерфейс для срезов данных в объектах `Series`.\n",
    "\n",
    "Дла начала, атрибут `loc` обеспечивает индексирование и срезы, которые всегда обозначают явные индексы:"
   ]
  },
  {
   "cell_type": "code",
   "execution_count": null,
   "id": "4dfc4784-4b76-4fd8-8277-78dff72bfa12",
   "metadata": {},
   "outputs": [],
   "source": [
    "# аналогично data[1]\n",
    "data.loc[1]"
   ]
  },
  {
   "cell_type": "code",
   "execution_count": null,
   "id": "81a17d62-3129-4609-a15f-60dee6e03533",
   "metadata": {},
   "outputs": [],
   "source": [
    "# используются ЯВНЫЕ индексы, `data[1:3]` возвращает другие данные!!!\n",
    "data.loc[1:3]"
   ]
  },
  {
   "cell_type": "markdown",
   "id": "a64eefd6-0b7c-4249-983e-72b0f2e803e7",
   "metadata": {},
   "source": [
    "Атрибут `iloc` всегда обеспечивает индексирование и срезы на основе неявных индексов в стиле Python:"
   ]
  },
  {
   "cell_type": "code",
   "execution_count": null,
   "id": "59f8091f-0c3f-4236-b4ba-a0d826391ee4",
   "metadata": {},
   "outputs": [],
   "source": [
    "# неявное индексирование, операция с явным индексом `data[1]` возвращает `a`!!!\n",
    "data.iloc[1]"
   ]
  },
  {
   "cell_type": "code",
   "execution_count": null,
   "id": "1dd7a9d0-70dc-4174-9c96-101b03518914",
   "metadata": {},
   "outputs": [],
   "source": [
    "# аналогична операции `data[1:3]`\n",
    "data.iloc[1:3]"
   ]
  },
  {
   "cell_type": "markdown",
   "id": "563f14a7-21f9-49c5-b442-5c1bf587a17d",
   "metadata": {},
   "source": [
    "Третий атрибут индексирования, `ix` - является гибридом двух предыдущих и для объектов `Series` считается эквивалентом стандартного []-индексирования. Цель индексера `ix` станет более понятной в контексте объектов `DataFrame`, которые мы будем скоро рассматривать.\n",
    "\n",
    "**Атрибут `.ix` недоступен в Pandas версии 2.1.х.**\n",
    "\n",
    "Один из главных принципов кода на Python, является принцип \"явное лучше чем неявное\". Явная природа индексеров `loc` и `iloc` делает их очень полезными для обеспечения чистого и читаемого кода; особенно в случае целочисленных индексов, я рекомендую использовать оба индексера, чтобы сделать код легким для чтения и понимания и для предотвращения трудноуловимых ошибок из-за смешения соглашений об индексировании/срезах."
   ]
  },
  {
   "cell_type": "markdown",
   "id": "ad00e2ec-a160-4105-97c7-82d95a50bc7d",
   "metadata": {},
   "source": [
    "## Извлечение данных в объектах типа `DataFrame`"
   ]
  },
  {
   "cell_type": "markdown",
   "id": "e93c05ce-6a11-4cca-88b0-972e793a09f7",
   "metadata": {},
   "source": [
    "Объекты `DataFrame` во многом ведут себя как двумерный или структурированный массив и, в других случаях, как словарь объектов `Series` имеющих одинаковый индекс. Эти аналогии могут помочь понять извлечение данных из структуры `DataFrame`."
   ]
  },
  {
   "cell_type": "markdown",
   "id": "e2d19fb0-4604-4ee5-bf5c-5f1780ab3037",
   "metadata": {},
   "source": [
    "### `DataFrame` в качестве словаря"
   ]
  },
  {
   "cell_type": "markdown",
   "id": "7dc1c934-353d-40b0-854f-44f9cf6e9c4a",
   "metadata": {},
   "source": [
    "В качестве первой аналогии мы рассмотрим `DataFrame` в качестве словаря связанных между собой объектов `Series`:"
   ]
  },
  {
   "cell_type": "code",
   "execution_count": 127,
   "id": "038c5a5a-5023-4096-a43d-af4994d3313b",
   "metadata": {},
   "outputs": [
    {
     "data": {
      "text/html": [
       "<div>\n",
       "<style scoped>\n",
       "    .dataframe tbody tr th:only-of-type {\n",
       "        vertical-align: middle;\n",
       "    }\n",
       "\n",
       "    .dataframe tbody tr th {\n",
       "        vertical-align: top;\n",
       "    }\n",
       "\n",
       "    .dataframe thead th {\n",
       "        text-align: right;\n",
       "    }\n",
       "</style>\n",
       "<table border=\"1\" class=\"dataframe\">\n",
       "  <thead>\n",
       "    <tr style=\"text-align: right;\">\n",
       "      <th></th>\n",
       "      <th>area</th>\n",
       "      <th>pop</th>\n",
       "    </tr>\n",
       "  </thead>\n",
       "  <tbody>\n",
       "    <tr>\n",
       "      <th>California</th>\n",
       "      <td>423967</td>\n",
       "      <td>38332521</td>\n",
       "    </tr>\n",
       "    <tr>\n",
       "      <th>Texas</th>\n",
       "      <td>695662</td>\n",
       "      <td>26448193</td>\n",
       "    </tr>\n",
       "    <tr>\n",
       "      <th>New York</th>\n",
       "      <td>141297</td>\n",
       "      <td>19651127</td>\n",
       "    </tr>\n",
       "    <tr>\n",
       "      <th>Florida</th>\n",
       "      <td>170312</td>\n",
       "      <td>19552860</td>\n",
       "    </tr>\n",
       "    <tr>\n",
       "      <th>Illinois</th>\n",
       "      <td>149995</td>\n",
       "      <td>12882135</td>\n",
       "    </tr>\n",
       "  </tbody>\n",
       "</table>\n",
       "</div>"
      ],
      "text/plain": [
       "              area       pop\n",
       "California  423967  38332521\n",
       "Texas       695662  26448193\n",
       "New York    141297  19651127\n",
       "Florida     170312  19552860\n",
       "Illinois    149995  12882135"
      ]
     },
     "execution_count": 127,
     "metadata": {},
     "output_type": "execute_result"
    }
   ],
   "source": [
    "area = pd.Series({'California': 423967, 'Texas': 695662,\n",
    "                  'New York': 141297, 'Florida': 170312,\n",
    "                  'Illinois': 149995})\n",
    "pop = pd.Series({'California': 38332521, 'Texas': 26448193,\n",
    "                 'New York': 19651127, 'Florida': 19552860,\n",
    "                 'Illinois': 12882135})\n",
    "data = pd.DataFrame({'area':area, 'pop':pop})\n",
    "data"
   ]
  },
  {
   "cell_type": "markdown",
   "id": "a7bed840-be6c-48bd-a5ab-0175337fd20c",
   "metadata": {},
   "source": [
    "Отдельные объекты `Series`, которые составляют клонки `DataFrame`, могут быть получены через индексирование в стиле словарей, т.е. через имя колонки:"
   ]
  },
  {
   "cell_type": "code",
   "execution_count": 128,
   "id": "e0c39d44-bb66-4909-aaab-57362d40474b",
   "metadata": {},
   "outputs": [
    {
     "data": {
      "text/plain": [
       "California    423967\n",
       "Texas         695662\n",
       "New York      141297\n",
       "Florida       170312\n",
       "Illinois      149995\n",
       "Name: area, dtype: int64"
      ]
     },
     "execution_count": 128,
     "metadata": {},
     "output_type": "execute_result"
    }
   ],
   "source": [
    "data['area']"
   ]
  },
  {
   "cell_type": "code",
   "execution_count": 130,
   "id": "44264881-2866-4a49-baa2-97370b29a5ae",
   "metadata": {},
   "outputs": [
    {
     "data": {
      "text/plain": [
       "California    423967\n",
       "Texas         695662\n",
       "New York      141297\n",
       "Florida       170312\n",
       "Illinois      149995\n",
       "Name: area, dtype: int64"
      ]
     },
     "execution_count": 130,
     "metadata": {},
     "output_type": "execute_result"
    }
   ],
   "source": [
    "# В качестве альтернативы `data['area']`, можно использовать доступ к колонкам через атрибут\n",
    "data.area"
   ]
  },
  {
   "cell_type": "code",
   "execution_count": 132,
   "id": "2d2a2b97-31b8-435d-8b5e-3c3e9fb243ab",
   "metadata": {},
   "outputs": [
    {
     "data": {
      "text/plain": [
       "True"
      ]
     },
     "execution_count": 132,
     "metadata": {},
     "output_type": "execute_result"
    }
   ],
   "source": [
    "# оба подхода возвращают совершенно один и тот же объект\n",
    "data['area'] is data.area"
   ]
  },
  {
   "cell_type": "markdown",
   "id": "697d673f-990c-4cc2-8242-45001f541b62",
   "metadata": {},
   "source": [
    "Хотя доступ к колонкам через атрибуты является достаточно удобным, пожалуйста имейте ввиду, что этот подход не работает в некоторых случаях!\n",
    "Например, если имя колонки не является строкой или имя колонки совпадает с методами класса `DataFrame`, доступ через атрибуты не является возможным. Например, `DataFrame` имеет метод `pop()`, таким образом `data.pop` указывает на метод, а не на колонку \"pop\":"
   ]
  },
  {
   "cell_type": "code",
   "execution_count": 133,
   "id": "7822b13c-9b05-4a20-9906-e7e2c7925f83",
   "metadata": {},
   "outputs": [
    {
     "data": {
      "text/plain": [
       "False"
      ]
     },
     "execution_count": 133,
     "metadata": {},
     "output_type": "execute_result"
    }
   ],
   "source": [
    "data.pop is data['pop']"
   ]
  },
  {
   "cell_type": "markdown",
   "id": "e5faf2bf-25a6-4d7b-9624-0239f73323b0",
   "metadata": {},
   "source": [
    "В частности, вы должны избегать попыток использовать присвоение через атрибут (используйте `data['pop'] = z`, а не `data.pop = z`).\n",
    "\n",
    "По аналогии с объектами `Series`, рассмотренными ранее, такое подход в стиле словарей, может быть использоват для изменения объекта, в данном примере добавляется новая колонка:"
   ]
  },
  {
   "cell_type": "code",
   "execution_count": 135,
   "id": "aff1c397-3540-442a-9341-b005a967e06f",
   "metadata": {},
   "outputs": [
    {
     "data": {
      "text/html": [
       "<div>\n",
       "<style scoped>\n",
       "    .dataframe tbody tr th:only-of-type {\n",
       "        vertical-align: middle;\n",
       "    }\n",
       "\n",
       "    .dataframe tbody tr th {\n",
       "        vertical-align: top;\n",
       "    }\n",
       "\n",
       "    .dataframe thead th {\n",
       "        text-align: right;\n",
       "    }\n",
       "</style>\n",
       "<table border=\"1\" class=\"dataframe\">\n",
       "  <thead>\n",
       "    <tr style=\"text-align: right;\">\n",
       "      <th></th>\n",
       "      <th>area</th>\n",
       "      <th>pop</th>\n",
       "      <th>density</th>\n",
       "    </tr>\n",
       "  </thead>\n",
       "  <tbody>\n",
       "    <tr>\n",
       "      <th>California</th>\n",
       "      <td>423967</td>\n",
       "      <td>38332521</td>\n",
       "      <td>90.413926</td>\n",
       "    </tr>\n",
       "    <tr>\n",
       "      <th>Texas</th>\n",
       "      <td>695662</td>\n",
       "      <td>26448193</td>\n",
       "      <td>38.018740</td>\n",
       "    </tr>\n",
       "    <tr>\n",
       "      <th>New York</th>\n",
       "      <td>141297</td>\n",
       "      <td>19651127</td>\n",
       "      <td>139.076746</td>\n",
       "    </tr>\n",
       "    <tr>\n",
       "      <th>Florida</th>\n",
       "      <td>170312</td>\n",
       "      <td>19552860</td>\n",
       "      <td>114.806121</td>\n",
       "    </tr>\n",
       "    <tr>\n",
       "      <th>Illinois</th>\n",
       "      <td>149995</td>\n",
       "      <td>12882135</td>\n",
       "      <td>85.883763</td>\n",
       "    </tr>\n",
       "  </tbody>\n",
       "</table>\n",
       "</div>"
      ],
      "text/plain": [
       "              area       pop     density\n",
       "California  423967  38332521   90.413926\n",
       "Texas       695662  26448193   38.018740\n",
       "New York    141297  19651127  139.076746\n",
       "Florida     170312  19552860  114.806121\n",
       "Illinois    149995  12882135   85.883763"
      ]
     },
     "execution_count": 135,
     "metadata": {},
     "output_type": "execute_result"
    }
   ],
   "source": [
    "# этот пример также показывает поэлементные операции с объектами типа `Series`\n",
    "data['density'] = data['pop'] / data['area']\n",
    "data"
   ]
  },
  {
   "cell_type": "markdown",
   "id": "8b2c3c79-a274-4b3b-a0a8-e403091f7c08",
   "metadata": {},
   "source": [
    "### `DataFrame` в качестве двумерного массива\n",
    "\n",
    "Как было указано ранее, мы также можем представить `DataFrame` как улучшенный двумерный массив. Мы можем исследовать сырые низлежащие данные в массиве через использование атрибута `values`:"
   ]
  },
  {
   "cell_type": "code",
   "execution_count": 137,
   "id": "df9b0eb8-c6ed-474b-8658-b95ed9a0aad1",
   "metadata": {},
   "outputs": [
    {
     "data": {
      "text/plain": [
       "array([[4.23967000e+05, 3.83325210e+07, 9.04139261e+01],\n",
       "       [6.95662000e+05, 2.64481930e+07, 3.80187404e+01],\n",
       "       [1.41297000e+05, 1.96511270e+07, 1.39076746e+02],\n",
       "       [1.70312000e+05, 1.95528600e+07, 1.14806121e+02],\n",
       "       [1.49995000e+05, 1.28821350e+07, 8.58837628e+01]])"
      ]
     },
     "execution_count": 137,
     "metadata": {},
     "output_type": "execute_result"
    }
   ],
   "source": [
    "data.values"
   ]
  },
  {
   "cell_type": "markdown",
   "id": "4f7ae3cc-871a-4c39-b18f-c81066b3ea7b",
   "metadata": {},
   "source": [
    "С учётом вышеизложенного, многие знакомые наблюдения с массивами могут быть применимы также к `DataFrame`. Например, мы можем транспонировать все данные в `DataFrame` (поменять ряды с колонками):"
   ]
  },
  {
   "cell_type": "code",
   "execution_count": 140,
   "id": "3634f890-9038-4071-b60a-d6fa529bbbfd",
   "metadata": {},
   "outputs": [
    {
     "data": {
      "text/html": [
       "<div>\n",
       "<style scoped>\n",
       "    .dataframe tbody tr th:only-of-type {\n",
       "        vertical-align: middle;\n",
       "    }\n",
       "\n",
       "    .dataframe tbody tr th {\n",
       "        vertical-align: top;\n",
       "    }\n",
       "\n",
       "    .dataframe thead th {\n",
       "        text-align: right;\n",
       "    }\n",
       "</style>\n",
       "<table border=\"1\" class=\"dataframe\">\n",
       "  <thead>\n",
       "    <tr style=\"text-align: right;\">\n",
       "      <th></th>\n",
       "      <th>California</th>\n",
       "      <th>Texas</th>\n",
       "      <th>New York</th>\n",
       "      <th>Florida</th>\n",
       "      <th>Illinois</th>\n",
       "    </tr>\n",
       "  </thead>\n",
       "  <tbody>\n",
       "    <tr>\n",
       "      <th>area</th>\n",
       "      <td>4.239670e+05</td>\n",
       "      <td>6.956620e+05</td>\n",
       "      <td>1.412970e+05</td>\n",
       "      <td>1.703120e+05</td>\n",
       "      <td>1.499950e+05</td>\n",
       "    </tr>\n",
       "    <tr>\n",
       "      <th>pop</th>\n",
       "      <td>3.833252e+07</td>\n",
       "      <td>2.644819e+07</td>\n",
       "      <td>1.965113e+07</td>\n",
       "      <td>1.955286e+07</td>\n",
       "      <td>1.288214e+07</td>\n",
       "    </tr>\n",
       "    <tr>\n",
       "      <th>density</th>\n",
       "      <td>9.041393e+01</td>\n",
       "      <td>3.801874e+01</td>\n",
       "      <td>1.390767e+02</td>\n",
       "      <td>1.148061e+02</td>\n",
       "      <td>8.588376e+01</td>\n",
       "    </tr>\n",
       "  </tbody>\n",
       "</table>\n",
       "</div>"
      ],
      "text/plain": [
       "           California         Texas      New York       Florida      Illinois\n",
       "area     4.239670e+05  6.956620e+05  1.412970e+05  1.703120e+05  1.499950e+05\n",
       "pop      3.833252e+07  2.644819e+07  1.965113e+07  1.955286e+07  1.288214e+07\n",
       "density  9.041393e+01  3.801874e+01  1.390767e+02  1.148061e+02  8.588376e+01"
      ]
     },
     "execution_count": 140,
     "metadata": {},
     "output_type": "execute_result"
    }
   ],
   "source": [
    "data.T"
   ]
  },
  {
   "cell_type": "markdown",
   "id": "47f2660f-e2b4-4e6b-a5f1-e14b8e7face2",
   "metadata": {},
   "source": [
    "Однако, когда дело доходит до индексирования объектов `DataFrame`, становится ясно, что индексирование колонок в словарном стиле не позволяет нам просто рассматривать его как массив `NumPy`. В частности, передача одного индекса в массив обеспечивает доступ к ряду:"
   ]
  },
  {
   "cell_type": "code",
   "execution_count": 142,
   "id": "33b99fb7-4677-4a43-a09c-b5d8065d474e",
   "metadata": {},
   "outputs": [
    {
     "data": {
      "text/plain": [
       "array([4.23967000e+05, 3.83325210e+07, 9.04139261e+01])"
      ]
     },
     "execution_count": 142,
     "metadata": {},
     "output_type": "execute_result"
    }
   ],
   "source": [
    "data.values[0]"
   ]
  },
  {
   "cell_type": "markdown",
   "id": "636614bd-43b1-47cc-ab26-b0f7a0c86b07",
   "metadata": {},
   "source": [
    "а передача одного \"индекса\" в `DataFrame` обеспечивает доступ к колонке:"
   ]
  },
  {
   "cell_type": "code",
   "execution_count": 143,
   "id": "902a5041-5547-4f07-aed5-2ae771596659",
   "metadata": {},
   "outputs": [
    {
     "data": {
      "text/plain": [
       "California    423967\n",
       "Texas         695662\n",
       "New York      141297\n",
       "Florida       170312\n",
       "Illinois      149995\n",
       "Name: area, dtype: int64"
      ]
     },
     "execution_count": 143,
     "metadata": {},
     "output_type": "execute_result"
    }
   ],
   "source": [
    "data['area']"
   ]
  },
  {
   "cell_type": "markdown",
   "id": "f7b68543-5d26-4a3e-8334-2283e1ab23f0",
   "metadata": {},
   "source": [
    "Таким образом, для индексирования в стиле массивов, нам требуется новое соглашение. И Pandas опять предлагает индексеры `loc`, `iloc` и `ix`. Используя индексер `iloc`, мы можем индексировать базовый массив как будто он является обыкновенным массивом `NumPy` (используя неявный индекс в стиле Python), однако индекс `DataFrame` и метки колонок сохраняются в выдаваемом результате:"
   ]
  },
  {
   "cell_type": "code",
   "execution_count": 148,
   "id": "a799e48a-cb40-485a-9273-349cea251335",
   "metadata": {},
   "outputs": [
    {
     "data": {
      "text/html": [
       "<div>\n",
       "<style scoped>\n",
       "    .dataframe tbody tr th:only-of-type {\n",
       "        vertical-align: middle;\n",
       "    }\n",
       "\n",
       "    .dataframe tbody tr th {\n",
       "        vertical-align: top;\n",
       "    }\n",
       "\n",
       "    .dataframe thead th {\n",
       "        text-align: right;\n",
       "    }\n",
       "</style>\n",
       "<table border=\"1\" class=\"dataframe\">\n",
       "  <thead>\n",
       "    <tr style=\"text-align: right;\">\n",
       "      <th></th>\n",
       "      <th>area</th>\n",
       "      <th>pop</th>\n",
       "    </tr>\n",
       "  </thead>\n",
       "  <tbody>\n",
       "    <tr>\n",
       "      <th>California</th>\n",
       "      <td>423967</td>\n",
       "      <td>38332521</td>\n",
       "    </tr>\n",
       "    <tr>\n",
       "      <th>Texas</th>\n",
       "      <td>695662</td>\n",
       "      <td>26448193</td>\n",
       "    </tr>\n",
       "    <tr>\n",
       "      <th>New York</th>\n",
       "      <td>141297</td>\n",
       "      <td>19651127</td>\n",
       "    </tr>\n",
       "  </tbody>\n",
       "</table>\n",
       "</div>"
      ],
      "text/plain": [
       "              area       pop\n",
       "California  423967  38332521\n",
       "Texas       695662  26448193\n",
       "New York    141297  19651127"
      ]
     },
     "execution_count": 148,
     "metadata": {},
     "output_type": "execute_result"
    }
   ],
   "source": [
    "# извлечь первые ТРИ строки и первые ДВЕ колонки\n",
    "data.iloc[:3, :2]"
   ]
  },
  {
   "cell_type": "markdown",
   "id": "ad78b149-cae6-4e41-9eda-d426139e7f1b",
   "metadata": {},
   "source": [
    "Аналогичным образом, используя индексер `loc`, мы можем индексировать базовые данные в стиле массива, но используя явные индексы и имена колонок:"
   ]
  },
  {
   "cell_type": "code",
   "execution_count": 149,
   "id": "c45a79e2-1539-4572-b639-331c1a162a60",
   "metadata": {},
   "outputs": [
    {
     "data": {
      "text/html": [
       "<div>\n",
       "<style scoped>\n",
       "    .dataframe tbody tr th:only-of-type {\n",
       "        vertical-align: middle;\n",
       "    }\n",
       "\n",
       "    .dataframe tbody tr th {\n",
       "        vertical-align: top;\n",
       "    }\n",
       "\n",
       "    .dataframe thead th {\n",
       "        text-align: right;\n",
       "    }\n",
       "</style>\n",
       "<table border=\"1\" class=\"dataframe\">\n",
       "  <thead>\n",
       "    <tr style=\"text-align: right;\">\n",
       "      <th></th>\n",
       "      <th>area</th>\n",
       "      <th>pop</th>\n",
       "    </tr>\n",
       "  </thead>\n",
       "  <tbody>\n",
       "    <tr>\n",
       "      <th>California</th>\n",
       "      <td>423967</td>\n",
       "      <td>38332521</td>\n",
       "    </tr>\n",
       "    <tr>\n",
       "      <th>Texas</th>\n",
       "      <td>695662</td>\n",
       "      <td>26448193</td>\n",
       "    </tr>\n",
       "    <tr>\n",
       "      <th>New York</th>\n",
       "      <td>141297</td>\n",
       "      <td>19651127</td>\n",
       "    </tr>\n",
       "    <tr>\n",
       "      <th>Florida</th>\n",
       "      <td>170312</td>\n",
       "      <td>19552860</td>\n",
       "    </tr>\n",
       "    <tr>\n",
       "      <th>Illinois</th>\n",
       "      <td>149995</td>\n",
       "      <td>12882135</td>\n",
       "    </tr>\n",
       "  </tbody>\n",
       "</table>\n",
       "</div>"
      ],
      "text/plain": [
       "              area       pop\n",
       "California  423967  38332521\n",
       "Texas       695662  26448193\n",
       "New York    141297  19651127\n",
       "Florida     170312  19552860\n",
       "Illinois    149995  12882135"
      ]
     },
     "execution_count": 149,
     "metadata": {},
     "output_type": "execute_result"
    }
   ],
   "source": [
    "data.loc[:'Illinois', :'pop']"
   ]
  },
  {
   "cell_type": "markdown",
   "id": "8dfde605-28e7-46c4-9f29-28f05e3b8d32",
   "metadata": {},
   "source": [
    "Индексер `ix` предлагает гибрид этих двух подходов:"
   ]
  },
  {
   "cell_type": "code",
   "execution_count": 152,
   "id": "aab60c7c-ef99-4ecd-a5f2-bb11cca74320",
   "metadata": {},
   "outputs": [],
   "source": [
    "# Атрибут .ix[] недоступен в Pandas версии 2.1.x\n",
    "# data.ix[:3, :'pop']"
   ]
  },
  {
   "cell_type": "markdown",
   "id": "1695e2aa-eccf-4254-a593-248d5b03be27",
   "metadata": {},
   "source": [
    "Любые, знакомые по `NumPy` подходы к извлечению данных могут быть использованы с указанными индексерами. Например, в индексере `loc` мы можем использовать маскирование и необычное (fancy) индексирование:"
   ]
  },
  {
   "cell_type": "code",
   "execution_count": 155,
   "id": "fb8af6fc-7d34-4e2e-a371-ed109e5b8c2a",
   "metadata": {},
   "outputs": [
    {
     "data": {
      "text/html": [
       "<div>\n",
       "<style scoped>\n",
       "    .dataframe tbody tr th:only-of-type {\n",
       "        vertical-align: middle;\n",
       "    }\n",
       "\n",
       "    .dataframe tbody tr th {\n",
       "        vertical-align: top;\n",
       "    }\n",
       "\n",
       "    .dataframe thead th {\n",
       "        text-align: right;\n",
       "    }\n",
       "</style>\n",
       "<table border=\"1\" class=\"dataframe\">\n",
       "  <thead>\n",
       "    <tr style=\"text-align: right;\">\n",
       "      <th></th>\n",
       "      <th>pop</th>\n",
       "      <th>density</th>\n",
       "    </tr>\n",
       "  </thead>\n",
       "  <tbody>\n",
       "    <tr>\n",
       "      <th>New York</th>\n",
       "      <td>19651127</td>\n",
       "      <td>139.076746</td>\n",
       "    </tr>\n",
       "    <tr>\n",
       "      <th>Florida</th>\n",
       "      <td>19552860</td>\n",
       "      <td>114.806121</td>\n",
       "    </tr>\n",
       "  </tbody>\n",
       "</table>\n",
       "</div>"
      ],
      "text/plain": [
       "               pop     density\n",
       "New York  19651127  139.076746\n",
       "Florida   19552860  114.806121"
      ]
     },
     "execution_count": 155,
     "metadata": {},
     "output_type": "execute_result"
    }
   ],
   "source": [
    "# извлечь данные, где densicy больше 100 и только колонки pop и density\n",
    "data.loc[data.density > 100, ['pop', 'density']]"
   ]
  },
  {
   "cell_type": "markdown",
   "id": "4f27e543-7904-4e09-8dab-90120196d28e",
   "metadata": {},
   "source": [
    "Любые из рассмотренных соглашений по индексированию могут также быть использованы для установки или изменения значений; это выполняется стандартным способом к которому вы можете уже быть привычны после работы с `NumPy`:"
   ]
  },
  {
   "cell_type": "code",
   "execution_count": 157,
   "id": "ba6e2a93-f0ad-4321-9054-5f622829fab6",
   "metadata": {},
   "outputs": [
    {
     "data": {
      "text/html": [
       "<div>\n",
       "<style scoped>\n",
       "    .dataframe tbody tr th:only-of-type {\n",
       "        vertical-align: middle;\n",
       "    }\n",
       "\n",
       "    .dataframe tbody tr th {\n",
       "        vertical-align: top;\n",
       "    }\n",
       "\n",
       "    .dataframe thead th {\n",
       "        text-align: right;\n",
       "    }\n",
       "</style>\n",
       "<table border=\"1\" class=\"dataframe\">\n",
       "  <thead>\n",
       "    <tr style=\"text-align: right;\">\n",
       "      <th></th>\n",
       "      <th>area</th>\n",
       "      <th>pop</th>\n",
       "      <th>density</th>\n",
       "    </tr>\n",
       "  </thead>\n",
       "  <tbody>\n",
       "    <tr>\n",
       "      <th>California</th>\n",
       "      <td>423967</td>\n",
       "      <td>38332521</td>\n",
       "      <td>90.000000</td>\n",
       "    </tr>\n",
       "    <tr>\n",
       "      <th>Texas</th>\n",
       "      <td>695662</td>\n",
       "      <td>26448193</td>\n",
       "      <td>38.018740</td>\n",
       "    </tr>\n",
       "    <tr>\n",
       "      <th>New York</th>\n",
       "      <td>141297</td>\n",
       "      <td>19651127</td>\n",
       "      <td>139.076746</td>\n",
       "    </tr>\n",
       "    <tr>\n",
       "      <th>Florida</th>\n",
       "      <td>170312</td>\n",
       "      <td>19552860</td>\n",
       "      <td>114.806121</td>\n",
       "    </tr>\n",
       "    <tr>\n",
       "      <th>Illinois</th>\n",
       "      <td>149995</td>\n",
       "      <td>12882135</td>\n",
       "      <td>85.883763</td>\n",
       "    </tr>\n",
       "  </tbody>\n",
       "</table>\n",
       "</div>"
      ],
      "text/plain": [
       "              area       pop     density\n",
       "California  423967  38332521   90.000000\n",
       "Texas       695662  26448193   38.018740\n",
       "New York    141297  19651127  139.076746\n",
       "Florida     170312  19552860  114.806121\n",
       "Illinois    149995  12882135   85.883763"
      ]
     },
     "execution_count": 157,
     "metadata": {},
     "output_type": "execute_result"
    }
   ],
   "source": [
    "# в ячейку с адресом: строка 0, колонка 2, записать значение 90.\n",
    "data.iloc[0, 2] = 90\n",
    "data"
   ]
  },
  {
   "cell_type": "markdown",
   "id": "8db0897e-ba6f-4126-8744-3f33b859a72b",
   "metadata": {},
   "source": [
    "### Дополнительные соглашения об индексировании\n",
    "\n",
    "Есть несколько дополнительных соглашений об индексировании, которые могут показаться противоречащими предыдущему обсуждению, но, тем не менее, могут быть очень полезны на практике. Во-первых, в то время как индексирование относится к столбцам, срезы относятся к строкам:"
   ]
  },
  {
   "cell_type": "code",
   "execution_count": 160,
   "id": "b70bc585-6111-49ef-bbb7-0ecc76b89d68",
   "metadata": {},
   "outputs": [
    {
     "data": {
      "text/html": [
       "<div>\n",
       "<style scoped>\n",
       "    .dataframe tbody tr th:only-of-type {\n",
       "        vertical-align: middle;\n",
       "    }\n",
       "\n",
       "    .dataframe tbody tr th {\n",
       "        vertical-align: top;\n",
       "    }\n",
       "\n",
       "    .dataframe thead th {\n",
       "        text-align: right;\n",
       "    }\n",
       "</style>\n",
       "<table border=\"1\" class=\"dataframe\">\n",
       "  <thead>\n",
       "    <tr style=\"text-align: right;\">\n",
       "      <th></th>\n",
       "      <th>area</th>\n",
       "      <th>pop</th>\n",
       "      <th>density</th>\n",
       "    </tr>\n",
       "  </thead>\n",
       "  <tbody>\n",
       "    <tr>\n",
       "      <th>Florida</th>\n",
       "      <td>170312</td>\n",
       "      <td>19552860</td>\n",
       "      <td>114.806121</td>\n",
       "    </tr>\n",
       "    <tr>\n",
       "      <th>Illinois</th>\n",
       "      <td>149995</td>\n",
       "      <td>12882135</td>\n",
       "      <td>85.883763</td>\n",
       "    </tr>\n",
       "  </tbody>\n",
       "</table>\n",
       "</div>"
      ],
      "text/plain": [
       "            area       pop     density\n",
       "Florida   170312  19552860  114.806121\n",
       "Illinois  149995  12882135   85.883763"
      ]
     },
     "execution_count": 160,
     "metadata": {},
     "output_type": "execute_result"
    }
   ],
   "source": [
    "# мы используем срез, который выбирает данные ПО СТРОКАМ!!!\n",
    "data['Florida':'Illinois']"
   ]
  },
  {
   "cell_type": "markdown",
   "id": "81f1d323-c785-470a-b4cb-4ee4f1dbca3a",
   "metadata": {},
   "source": [
    "Подобные срезы также обращаются к рядам по номеру, а не по индексу:"
   ]
  },
  {
   "cell_type": "code",
   "execution_count": 163,
   "id": "640e781a-4ed6-4537-8206-938b29a2ab6c",
   "metadata": {},
   "outputs": [
    {
     "data": {
      "text/html": [
       "<div>\n",
       "<style scoped>\n",
       "    .dataframe tbody tr th:only-of-type {\n",
       "        vertical-align: middle;\n",
       "    }\n",
       "\n",
       "    .dataframe tbody tr th {\n",
       "        vertical-align: top;\n",
       "    }\n",
       "\n",
       "    .dataframe thead th {\n",
       "        text-align: right;\n",
       "    }\n",
       "</style>\n",
       "<table border=\"1\" class=\"dataframe\">\n",
       "  <thead>\n",
       "    <tr style=\"text-align: right;\">\n",
       "      <th></th>\n",
       "      <th>area</th>\n",
       "      <th>pop</th>\n",
       "      <th>density</th>\n",
       "    </tr>\n",
       "  </thead>\n",
       "  <tbody>\n",
       "    <tr>\n",
       "      <th>Texas</th>\n",
       "      <td>695662</td>\n",
       "      <td>26448193</td>\n",
       "      <td>38.018740</td>\n",
       "    </tr>\n",
       "    <tr>\n",
       "      <th>New York</th>\n",
       "      <td>141297</td>\n",
       "      <td>19651127</td>\n",
       "      <td>139.076746</td>\n",
       "    </tr>\n",
       "  </tbody>\n",
       "</table>\n",
       "</div>"
      ],
      "text/plain": [
       "            area       pop     density\n",
       "Texas     695662  26448193   38.018740\n",
       "New York  141297  19651127  139.076746"
      ]
     },
     "execution_count": 163,
     "metadata": {},
     "output_type": "execute_result"
    }
   ],
   "source": [
    "# выбрать строки со второй по третью (включительно)\n",
    "data[1:3]"
   ]
  },
  {
   "cell_type": "markdown",
   "id": "f17a4e43-df78-4a75-88d3-ab7c96cac14a",
   "metadata": {},
   "source": [
    "Аналогичным образом, прямые операции маскирования исполняются по рядам, а не по колонкам:"
   ]
  },
  {
   "cell_type": "code",
   "execution_count": 165,
   "id": "c7c54e05-4115-4ced-a1d7-b69474928bf0",
   "metadata": {},
   "outputs": [
    {
     "data": {
      "text/html": [
       "<div>\n",
       "<style scoped>\n",
       "    .dataframe tbody tr th:only-of-type {\n",
       "        vertical-align: middle;\n",
       "    }\n",
       "\n",
       "    .dataframe tbody tr th {\n",
       "        vertical-align: top;\n",
       "    }\n",
       "\n",
       "    .dataframe thead th {\n",
       "        text-align: right;\n",
       "    }\n",
       "</style>\n",
       "<table border=\"1\" class=\"dataframe\">\n",
       "  <thead>\n",
       "    <tr style=\"text-align: right;\">\n",
       "      <th></th>\n",
       "      <th>area</th>\n",
       "      <th>pop</th>\n",
       "      <th>density</th>\n",
       "    </tr>\n",
       "  </thead>\n",
       "  <tbody>\n",
       "    <tr>\n",
       "      <th>New York</th>\n",
       "      <td>141297</td>\n",
       "      <td>19651127</td>\n",
       "      <td>139.076746</td>\n",
       "    </tr>\n",
       "    <tr>\n",
       "      <th>Florida</th>\n",
       "      <td>170312</td>\n",
       "      <td>19552860</td>\n",
       "      <td>114.806121</td>\n",
       "    </tr>\n",
       "  </tbody>\n",
       "</table>\n",
       "</div>"
      ],
      "text/plain": [
       "            area       pop     density\n",
       "New York  141297  19651127  139.076746\n",
       "Florida   170312  19552860  114.806121"
      ]
     },
     "execution_count": 165,
     "metadata": {},
     "output_type": "execute_result"
    }
   ],
   "source": [
    "# выбрать ряды (строки), в которых плотность больше 100\n",
    "data[data.density > 100]"
   ]
  },
  {
   "cell_type": "markdown",
   "id": "dbf7f858-b1c7-44d6-8911-e34da6625b3f",
   "metadata": {},
   "source": [
    "https://jakevdp.github.io/PythonDataScienceHandbook/03.03-operations-in-pandas.html"
   ]
  }
 ],
 "metadata": {
  "kernelspec": {
   "display_name": "Python 3 (ipykernel)",
   "language": "python",
   "name": "python3"
  },
  "language_info": {
   "codemirror_mode": {
    "name": "ipython",
    "version": 3
   },
   "file_extension": ".py",
   "mimetype": "text/x-python",
   "name": "python",
   "nbconvert_exporter": "python",
   "pygments_lexer": "ipython3",
   "version": "3.10.12"
  }
 },
 "nbformat": 4,
 "nbformat_minor": 5
}
