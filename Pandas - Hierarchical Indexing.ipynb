{
 "cells": [
  {
   "cell_type": "markdown",
   "id": "e4cda893-962e-4b4b-b6bb-6bb53f5ec9ac",
   "metadata": {},
   "source": [
    "# Иерархическая индексация\n",
    "\n",
    "До сих пор мы рассматривали главным образом одномерные и двумерные данные, которые сохраняются в объектах Pandas `Series` и `DataFrame` соответственно. Часта является полезным выйти за пределы таких размерностей и сохранять данные более высоких размерностей, такие, которые индексируются более чем одним или двумя ключами. В то время как Pandas предлагает объекты `Panel` и `Panel4D` которые нативным образом обрабатывают трехмерныей и четырехмерные данные ([Aside: Panel Data](https://jakevdp.github.io/PythonDataScienceHandbook/03.05-hierarchical-indexing.html#Aside:-Panel-Data)), на практике намного более частым шаблоном является применение _иерархического индексирования_ (также известного как _multi-indexing_) для включения множественных уровней индекса внутрь другого единственного индекса. Таким образом, данные высоких размерностей могут быть компактно представлены с помощью уже знакомых объектов: одномерных `Series` и двумерных `DataFrame`.\n",
    "\n",
    "В этом разделе мы рвссмотрим прямое создание объектов `MultiIndex`, соображения при индексации, срезы и подсчет статистики для многоиндексных данных, и полезные функции для конвертирвания между простой и иерархической индексацией."
   ]
  },
  {
   "cell_type": "code",
   "execution_count": 3,
   "id": "3a9a1d7f-e6ca-4c9f-9a93-09758602ce89",
   "metadata": {},
   "outputs": [],
   "source": [
    "import pandas as pd\n",
    "import numpy as np"
   ]
  },
  {
   "cell_type": "markdown",
   "id": "46202a35-d35a-4fc6-ba9c-1fcf5ab12d65",
   "metadata": {},
   "source": [
    "## Мультииндексированный объект `Series`\n",
    "\n",
    "Давайте начнём с представления двумерных данные с помощью одномерного объекта `Series`. Для правильности, мы предположим, это набор данных, в которых каждая точка имеет символьный и числовой ключ."
   ]
  },
  {
   "cell_type": "markdown",
   "id": "1c1fc7f2-2d20-4f3b-aca8-e455cd0cdb43",
   "metadata": {},
   "source": [
    "### Плохой путь\n",
    "\n",
    "Допустим вы хотели бы отследить данные по штатам по двум разным годам. Используя инструменты Pandas, которые мы уже рассмотрели, вы могли бы решить, что проще использовать кортежи Python в качестве ключей:"
   ]
  },
  {
   "cell_type": "code",
   "execution_count": 4,
   "id": "eea7a0c6-5ac4-4713-8857-cf33266bba82",
   "metadata": {},
   "outputs": [
    {
     "data": {
      "text/plain": [
       "(California, 2000)    33871648\n",
       "(California, 2010)    37253956\n",
       "(New York, 2000)      18976457\n",
       "(New York, 2010)      19378102\n",
       "(Texas, 2000)         20851820\n",
       "(Texas, 2010)         25145561\n",
       "dtype: int64"
      ]
     },
     "execution_count": 4,
     "metadata": {},
     "output_type": "execute_result"
    }
   ],
   "source": [
    "index = [('California', 2000), ('California', 2010),\n",
    "         ('New York', 2000), ('New York', 2010),\n",
    "         ('Texas', 2000), ('Texas', 2010)]\n",
    "populations = [33871648, 37253956,\n",
    "               18976457, 19378102,\n",
    "               20851820, 25145561]\n",
    "pop = pd.Series(populations, index=index)\n",
    "pop"
   ]
  },
  {
   "cell_type": "markdown",
   "id": "38a631d7-a554-4df4-b5e7-4ab76d436bdc",
   "metadata": {},
   "source": [
    "В таком случае вы можете напрямую индексировать или срезать данные с помощью мультииндекса:"
   ]
  },
  {
   "cell_type": "code",
   "execution_count": 5,
   "id": "1eba16f3-b0af-46cd-98c7-e97687f0b6b3",
   "metadata": {},
   "outputs": [
    {
     "data": {
      "text/plain": [
       "(California, 2010)    37253956\n",
       "(New York, 2000)      18976457\n",
       "(New York, 2010)      19378102\n",
       "(Texas, 2000)         20851820\n",
       "dtype: int64"
      ]
     },
     "execution_count": 5,
     "metadata": {},
     "output_type": "execute_result"
    }
   ],
   "source": [
    "pop[('California', 2010):('Texas', 2000)]"
   ]
  },
  {
   "cell_type": "markdown",
   "id": "0d20cc41-b76e-439b-852d-0f095cef5cf9",
   "metadata": {},
   "source": [
    "Но удобства здесь и заканчиваются. Например, если вам нужно извлечь все данные за 2010 год, вам понадобится достаточно запутанный (и потенциально медленный) подход:"
   ]
  },
  {
   "cell_type": "code",
   "execution_count": 6,
   "id": "5786f0c4-2206-46bd-afab-db060bcd80f2",
   "metadata": {},
   "outputs": [
    {
     "data": {
      "text/plain": [
       "(California, 2010)    37253956\n",
       "(New York, 2010)      19378102\n",
       "(Texas, 2010)         25145561\n",
       "dtype: int64"
      ]
     },
     "execution_count": 6,
     "metadata": {},
     "output_type": "execute_result"
    }
   ],
   "source": [
    "pop[[i for i in pop.index if i[1] == 2010]]"
   ]
  },
  {
   "cell_type": "markdown",
   "id": "aa0dbbf9-71bc-44b2-a43d-37491386feea",
   "metadata": {},
   "source": [
    "Такой подход работает, но, в отличие от срезов, которые мы уже успели полюбить в Pandas, он недостаточно чистый (и недостаточно эффективный на больших наборах данных)."
   ]
  },
  {
   "cell_type": "markdown",
   "id": "3701ab00-42b6-41a0-b41a-29cbc8459698",
   "metadata": {},
   "source": [
    "### Более правильный способ: Pandas `MultiIndex`\n",
    "\n",
    "К счастью Pandas предлагает лучший способ. Наша индексация на основе кортежей, по сути является рудиментарным мультииндексом, и Pandas объект `MultiIndex` предлагает нам возможности, которые мы хотели бы получить. Мы можем создать мультииндекс из кортежей следующим образом:"
   ]
  },
  {
   "cell_type": "code",
   "execution_count": 9,
   "id": "2d935464-ac7e-4293-b9d3-58a6a930c1de",
   "metadata": {},
   "outputs": [
    {
     "data": {
      "text/plain": [
       "MultiIndex([('California', 2000),\n",
       "            ('California', 2010),\n",
       "            (  'New York', 2000),\n",
       "            (  'New York', 2010),\n",
       "            (     'Texas', 2000),\n",
       "            (     'Texas', 2010)],\n",
       "           )"
      ]
     },
     "execution_count": 9,
     "metadata": {},
     "output_type": "execute_result"
    }
   ],
   "source": [
    "index = pd.MultiIndex.from_tuples(index)\n",
    "index"
   ]
  },
  {
   "cell_type": "markdown",
   "id": "4af67863-5f72-4486-82fc-2b1e9cc34b97",
   "metadata": {},
   "source": [
    "Если мы переиндексируем нашу серию данных с помощью `MultiIndex`, то мы увидим иерархическое представление данных:"
   ]
  },
  {
   "cell_type": "code",
   "execution_count": 10,
   "id": "8a38cf52-46e8-476e-b60b-2135f827cdee",
   "metadata": {},
   "outputs": [
    {
     "data": {
      "text/plain": [
       "California  2000    33871648\n",
       "            2010    37253956\n",
       "New York    2000    18976457\n",
       "            2010    19378102\n",
       "Texas       2000    20851820\n",
       "            2010    25145561\n",
       "dtype: int64"
      ]
     },
     "execution_count": 10,
     "metadata": {},
     "output_type": "execute_result"
    }
   ],
   "source": [
    "pop = pop.reindex(index)\n",
    "pop"
   ]
  },
  {
   "cell_type": "markdown",
   "id": "aecf2f6d-b4e6-4466-9166-38e1e430205e",
   "metadata": {},
   "source": [
    "Здесь первые две колонки объекта `Series` представляют мультииндексные значения, третья колонка представляет данные. Обратите внимание, что некоторые данные отсутствуют в первой колонке: в мультииндексном представлении любое пропущенное значение означает, что в реальности здесь находится такое же значение как и в предыдущей линии.\n",
    "\n",
    "Теперь, для того, чтобы получить доступ ко всем данным, у которых второй индекс `2010`, мы можем использовать простой срез:"
   ]
  },
  {
   "cell_type": "code",
   "execution_count": 11,
   "id": "54c8ab1d-133a-4059-906c-44fb67b34ea1",
   "metadata": {},
   "outputs": [
    {
     "data": {
      "text/plain": [
       "California    37253956\n",
       "New York      19378102\n",
       "Texas         25145561\n",
       "dtype: int64"
      ]
     },
     "execution_count": 11,
     "metadata": {},
     "output_type": "execute_result"
    }
   ],
   "source": [
    "pop[:, 2010]"
   ]
  },
  {
   "cell_type": "markdown",
   "id": "6b363e06-2935-4edf-9b16-48c0ff574273",
   "metadata": {},
   "source": [
    "Результатом является одно-индексный массив только с теми ключами, в которых мы заинтересованы. Такой синтакс гораздо более удобный (и сама операция гораздо более эффективна) чем подход с кортежами с которого мы начинали."
   ]
  },
  {
   "cell_type": "markdown",
   "id": "1f786383-2bd8-46b2-8545-ca40ebe7a765",
   "metadata": {},
   "source": [
    "### `MultiIndex` в качестве дополнительной размерности (измерения)\n",
    "\n",
    "Возможно вы заметили, что мы могли бы легко сохранить данные в простом объекте `DataFrame` с индексом и метками колонок. В действительности, Pandas построен с учётом эквивалентности. Метод `unstack()` легко конвертирует мультииндексный объект `Series` в традиционно индексный объект `DataFrame`:"
   ]
  },
  {
   "cell_type": "code",
   "execution_count": 13,
   "id": "12ed5888-ed7b-44db-86d1-b609e497587b",
   "metadata": {},
   "outputs": [
    {
     "data": {
      "text/html": [
       "<div>\n",
       "<style scoped>\n",
       "    .dataframe tbody tr th:only-of-type {\n",
       "        vertical-align: middle;\n",
       "    }\n",
       "\n",
       "    .dataframe tbody tr th {\n",
       "        vertical-align: top;\n",
       "    }\n",
       "\n",
       "    .dataframe thead th {\n",
       "        text-align: right;\n",
       "    }\n",
       "</style>\n",
       "<table border=\"1\" class=\"dataframe\">\n",
       "  <thead>\n",
       "    <tr style=\"text-align: right;\">\n",
       "      <th></th>\n",
       "      <th>2000</th>\n",
       "      <th>2010</th>\n",
       "    </tr>\n",
       "  </thead>\n",
       "  <tbody>\n",
       "    <tr>\n",
       "      <th>California</th>\n",
       "      <td>33871648</td>\n",
       "      <td>37253956</td>\n",
       "    </tr>\n",
       "    <tr>\n",
       "      <th>New York</th>\n",
       "      <td>18976457</td>\n",
       "      <td>19378102</td>\n",
       "    </tr>\n",
       "    <tr>\n",
       "      <th>Texas</th>\n",
       "      <td>20851820</td>\n",
       "      <td>25145561</td>\n",
       "    </tr>\n",
       "  </tbody>\n",
       "</table>\n",
       "</div>"
      ],
      "text/plain": [
       "                2000      2010\n",
       "California  33871648  37253956\n",
       "New York    18976457  19378102\n",
       "Texas       20851820  25145561"
      ]
     },
     "execution_count": 13,
     "metadata": {},
     "output_type": "execute_result"
    }
   ],
   "source": [
    "pop_df = pop.unstack()\n",
    "pop_df"
   ]
  },
  {
   "cell_type": "markdown",
   "id": "c27a6cfb-dc0c-45f0-9027-fb95d76f4ca4",
   "metadata": {},
   "source": [
    "Метод `stack()` проводит обратную операцию:"
   ]
  },
  {
   "cell_type": "code",
   "execution_count": 14,
   "id": "353f682d-58b9-4f57-a728-64b70d051c60",
   "metadata": {},
   "outputs": [
    {
     "data": {
      "text/plain": [
       "California  2000    33871648\n",
       "            2010    37253956\n",
       "New York    2000    18976457\n",
       "            2010    19378102\n",
       "Texas       2000    20851820\n",
       "            2010    25145561\n",
       "dtype: int64"
      ]
     },
     "execution_count": 14,
     "metadata": {},
     "output_type": "execute_result"
    }
   ],
   "source": [
    "pop_df.stack()"
   ]
  },
  {
   "cell_type": "markdown",
   "id": "4df0983c-28e9-4954-85b4-4b6373688916",
   "metadata": {},
   "source": [
    "Учитывая вышеизложенное, вы могли бы задаться вопросом: зачем тогда нам нужна иерархическая индексация? Причина проста: таким же образом, каким мы использовали мульти-индексацию для представления двумерных данных в одномерном `Series`, мы также можем использовать мульти-индексацию для представления трех- и более высокоразрядных данных в объектах `Series` или `DataFrame`. Каждый дополнительные уровень в мульти-индексе представляет дополнительную размерность данных. Например, с `MultiIndex` мы можем добавить новую колонку демографических данных к каждому штату за каждый год (например, численность населения до 18 лет):"
   ]
  },
  {
   "cell_type": "code",
   "execution_count": 15,
   "id": "e765b699-e629-4908-842d-ffb717a484cb",
   "metadata": {},
   "outputs": [
    {
     "data": {
      "text/html": [
       "<div>\n",
       "<style scoped>\n",
       "    .dataframe tbody tr th:only-of-type {\n",
       "        vertical-align: middle;\n",
       "    }\n",
       "\n",
       "    .dataframe tbody tr th {\n",
       "        vertical-align: top;\n",
       "    }\n",
       "\n",
       "    .dataframe thead th {\n",
       "        text-align: right;\n",
       "    }\n",
       "</style>\n",
       "<table border=\"1\" class=\"dataframe\">\n",
       "  <thead>\n",
       "    <tr style=\"text-align: right;\">\n",
       "      <th></th>\n",
       "      <th></th>\n",
       "      <th>total</th>\n",
       "      <th>under18</th>\n",
       "    </tr>\n",
       "  </thead>\n",
       "  <tbody>\n",
       "    <tr>\n",
       "      <th rowspan=\"2\" valign=\"top\">California</th>\n",
       "      <th>2000</th>\n",
       "      <td>33871648</td>\n",
       "      <td>9267089</td>\n",
       "    </tr>\n",
       "    <tr>\n",
       "      <th>2010</th>\n",
       "      <td>37253956</td>\n",
       "      <td>9284094</td>\n",
       "    </tr>\n",
       "    <tr>\n",
       "      <th rowspan=\"2\" valign=\"top\">New York</th>\n",
       "      <th>2000</th>\n",
       "      <td>18976457</td>\n",
       "      <td>4687374</td>\n",
       "    </tr>\n",
       "    <tr>\n",
       "      <th>2010</th>\n",
       "      <td>19378102</td>\n",
       "      <td>4318033</td>\n",
       "    </tr>\n",
       "    <tr>\n",
       "      <th rowspan=\"2\" valign=\"top\">Texas</th>\n",
       "      <th>2000</th>\n",
       "      <td>20851820</td>\n",
       "      <td>5906301</td>\n",
       "    </tr>\n",
       "    <tr>\n",
       "      <th>2010</th>\n",
       "      <td>25145561</td>\n",
       "      <td>6879014</td>\n",
       "    </tr>\n",
       "  </tbody>\n",
       "</table>\n",
       "</div>"
      ],
      "text/plain": [
       "                    total  under18\n",
       "California 2000  33871648  9267089\n",
       "           2010  37253956  9284094\n",
       "New York   2000  18976457  4687374\n",
       "           2010  19378102  4318033\n",
       "Texas      2000  20851820  5906301\n",
       "           2010  25145561  6879014"
      ]
     },
     "execution_count": 15,
     "metadata": {},
     "output_type": "execute_result"
    }
   ],
   "source": [
    "pop_df = pd.DataFrame({'total': pop,\n",
    "                       'under18': [9267089, 9284094,\n",
    "                                   4687374, 4318033,\n",
    "                                   5906301, 6879014]})\n",
    "pop_df"
   ]
  },
  {
   "cell_type": "markdown",
   "id": "4217e7ba-eefb-4113-8bf0-23e9126ecca3",
   "metadata": {},
   "source": [
    "Помимо этого, все универсальные функции (ufuncs) и любая другая функциональность, которую мы обсуждали в разделе [Operating on Data in Pandas](https://jakevdp.github.io/PythonDataScienceHandbook/03.03-operations-in-pandas.html), работает также и с иерархической индекскацией. Далее мы вычисляем долю людей до 18 лет по каждому году:"
   ]
  },
  {
   "cell_type": "code",
   "execution_count": 19,
   "id": "6e2ec043-1e1d-4ad7-8175-06818ae644cb",
   "metadata": {},
   "outputs": [
    {
     "data": {
      "text/html": [
       "<div>\n",
       "<style scoped>\n",
       "    .dataframe tbody tr th:only-of-type {\n",
       "        vertical-align: middle;\n",
       "    }\n",
       "\n",
       "    .dataframe tbody tr th {\n",
       "        vertical-align: top;\n",
       "    }\n",
       "\n",
       "    .dataframe thead th {\n",
       "        text-align: right;\n",
       "    }\n",
       "</style>\n",
       "<table border=\"1\" class=\"dataframe\">\n",
       "  <thead>\n",
       "    <tr style=\"text-align: right;\">\n",
       "      <th></th>\n",
       "      <th>2000</th>\n",
       "      <th>2010</th>\n",
       "    </tr>\n",
       "  </thead>\n",
       "  <tbody>\n",
       "    <tr>\n",
       "      <th>California</th>\n",
       "      <td>0.273594</td>\n",
       "      <td>0.249211</td>\n",
       "    </tr>\n",
       "    <tr>\n",
       "      <th>New York</th>\n",
       "      <td>0.247010</td>\n",
       "      <td>0.222831</td>\n",
       "    </tr>\n",
       "    <tr>\n",
       "      <th>Texas</th>\n",
       "      <td>0.283251</td>\n",
       "      <td>0.273568</td>\n",
       "    </tr>\n",
       "  </tbody>\n",
       "</table>\n",
       "</div>"
      ],
      "text/plain": [
       "                2000      2010\n",
       "California  0.273594  0.249211\n",
       "New York    0.247010  0.222831\n",
       "Texas       0.283251  0.273568"
      ]
     },
     "execution_count": 19,
     "metadata": {},
     "output_type": "execute_result"
    }
   ],
   "source": [
    "f_u18 = pop_df['under18'] / pop_df['total']\n",
    "f_u18.unstack()"
   ]
  },
  {
   "cell_type": "markdown",
   "id": "9996f396-174f-4708-b23f-8a994bf823cb",
   "metadata": {},
   "source": [
    "## Способы создания `MultiIndex`\n",
    "\n",
    "Наиболее простой способ создания мульти-индексов для `Series` или `DataFrame` - просто передать в конструктов список двух или более массивов:"
   ]
  },
  {
   "cell_type": "code",
   "execution_count": 25,
   "id": "c8893567-348e-4270-a9c4-02b5e870e79b",
   "metadata": {},
   "outputs": [
    {
     "data": {
      "text/html": [
       "<div>\n",
       "<style scoped>\n",
       "    .dataframe tbody tr th:only-of-type {\n",
       "        vertical-align: middle;\n",
       "    }\n",
       "\n",
       "    .dataframe tbody tr th {\n",
       "        vertical-align: top;\n",
       "    }\n",
       "\n",
       "    .dataframe thead th {\n",
       "        text-align: right;\n",
       "    }\n",
       "</style>\n",
       "<table border=\"1\" class=\"dataframe\">\n",
       "  <thead>\n",
       "    <tr style=\"text-align: right;\">\n",
       "      <th></th>\n",
       "      <th></th>\n",
       "      <th>data1</th>\n",
       "      <th>data2</th>\n",
       "    </tr>\n",
       "  </thead>\n",
       "  <tbody>\n",
       "    <tr>\n",
       "      <th rowspan=\"2\" valign=\"top\">a</th>\n",
       "      <th>1</th>\n",
       "      <td>0.912457</td>\n",
       "      <td>0.443127</td>\n",
       "    </tr>\n",
       "    <tr>\n",
       "      <th>2</th>\n",
       "      <td>0.909954</td>\n",
       "      <td>0.102083</td>\n",
       "    </tr>\n",
       "    <tr>\n",
       "      <th rowspan=\"2\" valign=\"top\">b</th>\n",
       "      <th>1</th>\n",
       "      <td>0.916532</td>\n",
       "      <td>0.031081</td>\n",
       "    </tr>\n",
       "    <tr>\n",
       "      <th>2</th>\n",
       "      <td>0.703099</td>\n",
       "      <td>0.911570</td>\n",
       "    </tr>\n",
       "  </tbody>\n",
       "</table>\n",
       "</div>"
      ],
      "text/plain": [
       "        data1     data2\n",
       "a 1  0.912457  0.443127\n",
       "  2  0.909954  0.102083\n",
       "b 1  0.916532  0.031081\n",
       "  2  0.703099  0.911570"
      ]
     },
     "execution_count": 25,
     "metadata": {},
     "output_type": "execute_result"
    }
   ],
   "source": [
    "df = pd.DataFrame(\n",
    "    np.random.rand(4, 2),\n",
    "    index=[['a', 'a', 'b', 'b'], [1, 2, 1, 2]],\n",
    "    columns=['data1', 'data2']\n",
    ")\n",
    "df"
   ]
  },
  {
   "cell_type": "markdown",
   "id": "399361ed-8815-412f-9ba4-a22d89102c0a",
   "metadata": {},
   "source": [
    "Аналогично, если вы передадите словарь с соответствующими ключами, Pandas автоматически определить это и использует `MultiIndex` по умолчанию:"
   ]
  },
  {
   "cell_type": "code",
   "execution_count": 27,
   "id": "c65780f9-cd96-4193-a74b-17e14dfc0187",
   "metadata": {},
   "outputs": [
    {
     "data": {
      "text/plain": [
       "California  2000    33871648\n",
       "            2010    37253956\n",
       "Texas       2000    20851820\n",
       "            2010    25145561\n",
       "New York    2000    18976457\n",
       "            2010    19378102\n",
       "dtype: int64"
      ]
     },
     "execution_count": 27,
     "metadata": {},
     "output_type": "execute_result"
    }
   ],
   "source": [
    "data = {\n",
    "    ('California', 2000): 33871648,\n",
    "    ('California', 2010): 37253956,\n",
    "    ('Texas', 2000): 20851820,\n",
    "    ('Texas', 2010): 25145561,\n",
    "    ('New York', 2000): 18976457,\n",
    "    ('New York', 2010): 19378102\n",
    "}\n",
    "pd.Series(data)"
   ]
  },
  {
   "cell_type": "markdown",
   "id": "bf32aa73-3360-4506-b779-ffbd163fd3d5",
   "metadata": {},
   "source": [
    "### Явное создание `MultiIndex`\n",
    "\n",
    "Для большей гибкости в том, как создается индекс, вы можете использовать конструкторы класса доступные в `pd.MultiIndex`. Например, как мы уже делали раньше, вы можете создать `MultiIndex` просто из списка массивов:"
   ]
  },
  {
   "cell_type": "code",
   "execution_count": 29,
   "id": "d78c8bb0-0660-4977-8e74-4704a4a498d5",
   "metadata": {},
   "outputs": [
    {
     "data": {
      "text/plain": [
       "MultiIndex([('a', 1),\n",
       "            ('a', 2),\n",
       "            ('b', 1),\n",
       "            ('b', 2)],\n",
       "           )"
      ]
     },
     "execution_count": 29,
     "metadata": {},
     "output_type": "execute_result"
    }
   ],
   "source": [
    "pd.MultiIndex.from_arrays([['a', 'a', 'b', 'b'], [1, 2, 1, 2]])"
   ]
  },
  {
   "cell_type": "code",
   "execution_count": 31,
   "id": "d2fd765f-64d1-4e9c-b12d-6f5d035d378c",
   "metadata": {},
   "outputs": [
    {
     "data": {
      "text/plain": [
       "MultiIndex([('a', 1),\n",
       "            ('a', 2),\n",
       "            ('b', 1),\n",
       "            ('b', 2)],\n",
       "           )"
      ]
     },
     "execution_count": 31,
     "metadata": {},
     "output_type": "execute_result"
    }
   ],
   "source": [
    "# Создание из списка кортежей\n",
    "pd.MultiIndex.from_tuples([('a', 1), ('a', 2), ('b', 1), ('b', 2)])"
   ]
  },
  {
   "cell_type": "code",
   "execution_count": 33,
   "id": "b2c74570-feec-405d-bd4d-1c149b568f1b",
   "metadata": {},
   "outputs": [
    {
     "data": {
      "text/plain": [
       "MultiIndex([('a', 1),\n",
       "            ('a', 2),\n",
       "            ('b', 1),\n",
       "            ('b', 2)],\n",
       "           )"
      ]
     },
     "execution_count": 33,
     "metadata": {},
     "output_type": "execute_result"
    }
   ],
   "source": [
    "# Создание индекса из набора списков путем декартова произведения\n",
    "pd.MultiIndex.from_product([['a', 'b'], [1, 2]])"
   ]
  },
  {
   "cell_type": "markdown",
   "id": "3299b426-26f0-4a71-ac21-d08c2cd478ad",
   "metadata": {},
   "source": [
    "Аналогичным образом, вы можете создать `MultiIndex` напрямую, использую его внутреннее представление, путём передачи `levels` (список списков содержащих доступные значения индексов для каждого уровня) и `labels` (список списков меток):"
   ]
  },
  {
   "cell_type": "code",
   "execution_count": 35,
   "id": "4954a598-2f06-40ff-90d5-f0eca7376ee5",
   "metadata": {},
   "outputs": [
    {
     "ename": "TypeError",
     "evalue": "MultiIndex.__new__() got an unexpected keyword argument 'labels'",
     "output_type": "error",
     "traceback": [
      "\u001b[0;31m---------------------------------------------------------------------------\u001b[0m",
      "\u001b[0;31mTypeError\u001b[0m                                 Traceback (most recent call last)",
      "Cell \u001b[0;32mIn[35], line 1\u001b[0m\n\u001b[0;32m----> 1\u001b[0m \u001b[43mpd\u001b[49m\u001b[38;5;241;43m.\u001b[39;49m\u001b[43mMultiIndex\u001b[49m\u001b[43m(\u001b[49m\n\u001b[1;32m      2\u001b[0m \u001b[43m    \u001b[49m\u001b[43mlevels\u001b[49m\u001b[38;5;241;43m=\u001b[39;49m\u001b[43m[\u001b[49m\u001b[43m[\u001b[49m\u001b[38;5;124;43m'\u001b[39;49m\u001b[38;5;124;43ma\u001b[39;49m\u001b[38;5;124;43m'\u001b[39;49m\u001b[43m,\u001b[49m\u001b[43m \u001b[49m\u001b[38;5;124;43m'\u001b[39;49m\u001b[38;5;124;43mb\u001b[39;49m\u001b[38;5;124;43m'\u001b[39;49m\u001b[43m]\u001b[49m\u001b[43m,\u001b[49m\u001b[43m \u001b[49m\u001b[43m[\u001b[49m\u001b[38;5;241;43m1\u001b[39;49m\u001b[43m,\u001b[49m\u001b[43m \u001b[49m\u001b[38;5;241;43m2\u001b[39;49m\u001b[43m]\u001b[49m\u001b[43m]\u001b[49m\u001b[43m,\u001b[49m\n\u001b[1;32m      3\u001b[0m \u001b[43m    \u001b[49m\u001b[43mlabels\u001b[49m\u001b[38;5;241;43m=\u001b[39;49m\u001b[43m[\u001b[49m\u001b[43m[\u001b[49m\u001b[38;5;241;43m0\u001b[39;49m\u001b[43m,\u001b[49m\u001b[43m \u001b[49m\u001b[38;5;241;43m0\u001b[39;49m\u001b[43m,\u001b[49m\u001b[43m \u001b[49m\u001b[38;5;241;43m1\u001b[39;49m\u001b[43m,\u001b[49m\u001b[43m \u001b[49m\u001b[38;5;241;43m1\u001b[39;49m\u001b[43m]\u001b[49m\u001b[43m,\u001b[49m\u001b[43m \u001b[49m\u001b[43m[\u001b[49m\u001b[38;5;241;43m0\u001b[39;49m\u001b[43m,\u001b[49m\u001b[43m \u001b[49m\u001b[38;5;241;43m1\u001b[39;49m\u001b[43m,\u001b[49m\u001b[43m \u001b[49m\u001b[38;5;241;43m0\u001b[39;49m\u001b[43m,\u001b[49m\u001b[43m \u001b[49m\u001b[38;5;241;43m1\u001b[39;49m\u001b[43m]\u001b[49m\u001b[43m]\u001b[49m\n\u001b[1;32m      4\u001b[0m \u001b[43m)\u001b[49m\n",
      "\u001b[0;31mTypeError\u001b[0m: MultiIndex.__new__() got an unexpected keyword argument 'labels'"
     ]
    }
   ],
   "source": [
    "pd.MultiIndex(\n",
    "    levels=[['a', 'b'], [1, 2]],\n",
    "    labels=[[0, 0, 1, 1], [0, 1, 0, 1]]\n",
    ")"
   ]
  },
  {
   "cell_type": "markdown",
   "id": "bced945e-0b35-450c-8fbc-c89178678254",
   "metadata": {},
   "source": [
    "https://jakevdp.github.io/PythonDataScienceHandbook/03.05-hierarchical-indexing.html#MultiIndex-level-names"
   ]
  }
 ],
 "metadata": {
  "kernelspec": {
   "display_name": "Python 3 (ipykernel)",
   "language": "python",
   "name": "python3"
  },
  "language_info": {
   "codemirror_mode": {
    "name": "ipython",
    "version": 3
   },
   "file_extension": ".py",
   "mimetype": "text/x-python",
   "name": "python",
   "nbconvert_exporter": "python",
   "pygments_lexer": "ipython3",
   "version": "3.11.6"
  }
 },
 "nbformat": 4,
 "nbformat_minor": 5
}
