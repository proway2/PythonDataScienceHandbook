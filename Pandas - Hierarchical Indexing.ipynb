{
 "cells": [
  {
   "cell_type": "markdown",
   "id": "e4cda893-962e-4b4b-b6bb-6bb53f5ec9ac",
   "metadata": {},
   "source": [
    "# Иерархическое индексирование\n",
    "\n",
    "https://jakevdp.github.io/PythonDataScienceHandbook/03.05-hierarchical-indexing.html"
   ]
  },
  {
   "cell_type": "code",
   "execution_count": 1,
   "id": "3a9a1d7f-e6ca-4c9f-9a93-09758602ce89",
   "metadata": {},
   "outputs": [],
   "source": [
    "import pandas as pd\n",
    "import numpy as np"
   ]
  }
 ],
 "metadata": {
  "kernelspec": {
   "display_name": "Python 3 (ipykernel)",
   "language": "python",
   "name": "python3"
  },
  "language_info": {
   "codemirror_mode": {
    "name": "ipython",
    "version": 3
   },
   "file_extension": ".py",
   "mimetype": "text/x-python",
   "name": "python",
   "nbconvert_exporter": "python",
   "pygments_lexer": "ipython3",
   "version": "3.10.12"
  }
 },
 "nbformat": 4,
 "nbformat_minor": 5
}
