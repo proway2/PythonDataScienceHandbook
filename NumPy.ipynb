{
 "cells": [
  {
   "cell_type": "markdown",
   "id": "b95778db-5577-4c4f-8fb6-bbdfb85bda14",
   "metadata": {},
   "source": [
    "# NumPy"
   ]
  },
  {
   "cell_type": "code",
   "execution_count": 212,
   "id": "971ac20b-2ba2-478b-96d6-f8328d068059",
   "metadata": {},
   "outputs": [],
   "source": [
    "import numpy as np\n",
    "# просто сидим генератор случайных чисел, чтобы набор чисел был всегда одинаковый\n",
    "np.random.seed(0)"
   ]
  },
  {
   "cell_type": "code",
   "execution_count": 213,
   "id": "f5e6f2f7-2bf5-44ed-aa03-7d71c29d2a56",
   "metadata": {},
   "outputs": [],
   "source": [
    "# Создание массивов\n",
    "# One-dimensional array\n",
    "x1 = np.random.randint(10, size=6)\n",
    "# Two-dimensional array\n",
    "x2 = np.random.randint(10, size=(3, 4))\n",
    "# Three-dimensional array\n",
    "x3 = np.random.randint(10, size=(3, 4, 5))"
   ]
  },
  {
   "cell_type": "markdown",
   "id": "7be03504-1e15-4d2f-ac2d-abc0ecc1ce1f",
   "metadata": {},
   "source": [
    "Параметр `size` задаёт размерность массива. Причем сначала задаётся количество строк. Например, размерность `size=(3, 4, 5` означает, что в массиве будет 3 строки, в каждой строке будут 4 строки и каждая строка будет содержать 5 элементов. Это хорошо видно при распечатке массива `np.random.randint(10, size=(3, 4, 5))`"
   ]
  },
  {
   "cell_type": "code",
   "execution_count": 214,
   "id": "27fc351d-6fba-4a5a-93af-e603374ec84d",
   "metadata": {},
   "outputs": [
    {
     "name": "stdout",
     "output_type": "stream",
     "text": [
      "[5 0 3 3 7 9]\n",
      "--------------------------------------------------\n",
      "[[3 5 2 4]\n",
      " [7 6 8 8]\n",
      " [1 6 7 7]]\n",
      "--------------------------------------------------\n",
      "[[[8 1 5 9 8]\n",
      "  [9 4 3 0 3]\n",
      "  [5 0 2 3 8]\n",
      "  [1 3 3 3 7]]\n",
      "\n",
      " [[0 1 9 9 0]\n",
      "  [4 7 3 2 7]\n",
      "  [2 0 0 4 5]\n",
      "  [5 6 8 4 1]]\n",
      "\n",
      " [[4 9 8 1 1]\n",
      "  [7 9 9 3 6]\n",
      "  [7 2 0 3 5]\n",
      "  [9 4 4 6 4]]]\n"
     ]
    }
   ],
   "source": [
    "print(x1)\n",
    "print(\"-\" * 50)\n",
    "print(x2)\n",
    "print(\"-\" * 50)\n",
    "print(x3)"
   ]
  },
  {
   "cell_type": "markdown",
   "id": "722fdcbc-07c9-4fdf-a8f8-5503c6fec384",
   "metadata": {},
   "source": [
    "## Свойства массивов"
   ]
  },
  {
   "cell_type": "markdown",
   "id": "5bf9253a-9a47-4d80-8d53-33d11dca24b5",
   "metadata": {},
   "source": [
    "`ndim` - количество измерений (многомерность массива)   \n",
    "`shape` - форма массива (размер каждого измерения)   \n",
    "`size` - общее количество элементов массива    \n",
    "`dtype` - тип элементов массива    \n",
    "`itemsize` - размер одного элемента массива в байтах    \n",
    "`nbytes` - размер всего массива в байтах"
   ]
  },
  {
   "cell_type": "code",
   "execution_count": 215,
   "id": "4bb4b41d-3507-466d-80f0-cea02f4d3f4a",
   "metadata": {},
   "outputs": [
    {
     "name": "stdout",
     "output_type": "stream",
     "text": [
      "x3 ndim:  3\n",
      "x3 shape: (3, 4, 5)\n",
      "x3 size:  60\n",
      "x2 dtype:  int64\n",
      "x3 itemsize  8  bytes\n",
      "x3 nbytes  480  bytes\n"
     ]
    }
   ],
   "source": [
    "print(\"x3 ndim: \", x3.ndim)\n",
    "print(\"x3 shape:\", x3.shape)\n",
    "print(\"x3 size: \", x3.size)\n",
    "print(\"x2 dtype: \", x2.dtype)\n",
    "print(\"x3 itemsize \", x3.itemsize, \" bytes\")\n",
    "print(\"x3 nbytes \", x3.nbytes, \" bytes\")"
   ]
  },
  {
   "cell_type": "markdown",
   "id": "cb18dd5a-04a7-4b1f-aaac-82cb4ee777e8",
   "metadata": {},
   "source": [
    "## Доступ к элементам"
   ]
  },
  {
   "cell_type": "markdown",
   "id": "3517f3f2-4a7e-4d86-bca9-b78a397621a6",
   "metadata": {},
   "source": [
    "### Чтение"
   ]
  },
  {
   "cell_type": "code",
   "execution_count": 216,
   "id": "4a5f1877-61c4-4343-ae68-5987cf42bb84",
   "metadata": {},
   "outputs": [
    {
     "data": {
      "text/plain": [
       "3"
      ]
     },
     "execution_count": 216,
     "metadata": {},
     "output_type": "execute_result"
    }
   ],
   "source": [
    "# Одномерный массив\n",
    "x1[3]"
   ]
  },
  {
   "cell_type": "code",
   "execution_count": 217,
   "id": "a9ead3f1-c0b9-488b-81d8-284f92b49781",
   "metadata": {},
   "outputs": [
    {
     "data": {
      "text/plain": [
       "3"
      ]
     },
     "execution_count": 217,
     "metadata": {},
     "output_type": "execute_result"
    }
   ],
   "source": [
    "# Многомерный массив. Схема доступа: строка1, ... строкаN, элементN\n",
    "x3[1, 1, 2]"
   ]
  },
  {
   "cell_type": "markdown",
   "id": "33b80f23-47b1-4bb6-a9d2-7f06ebbf5680",
   "metadata": {},
   "source": [
    "### Запись"
   ]
  },
  {
   "cell_type": "code",
   "execution_count": 218,
   "id": "5070f8f5-0f60-407e-84eb-69eccdde4e48",
   "metadata": {},
   "outputs": [
    {
     "name": "stdout",
     "output_type": "stream",
     "text": [
      "[5 0 3 3 7 9]\n",
      "[5 0 4 3 7 9]\n"
     ]
    }
   ],
   "source": [
    "print(x1)\n",
    "x1[2] = 4\n",
    "print(x1)"
   ]
  },
  {
   "cell_type": "markdown",
   "id": "a9d8aae9-d03b-4443-89b6-68b3fb194e7f",
   "metadata": {},
   "source": [
    "#### Запись элемента другого типа\n",
    "\n",
    "При записи элементов другого типа они будут приведены к типу элементов массива. **Имейте ввиду, что при этом может происходить потеря точности!**"
   ]
  },
  {
   "cell_type": "code",
   "execution_count": 219,
   "id": "053f099f-14c0-45cc-9188-ad2c844e1253",
   "metadata": {},
   "outputs": [
    {
     "name": "stdout",
     "output_type": "stream",
     "text": [
      "[ True False  True  True]\n",
      "[ True  True  True  True]\n"
     ]
    }
   ],
   "source": [
    "x4 = np.array([True, False, True, True])\n",
    "print(x4)\n",
    "x4[1] = 15\n",
    "print(x4)"
   ]
  },
  {
   "cell_type": "markdown",
   "id": "bf8e9561-32eb-4d35-a8c3-8100e84d2bde",
   "metadata": {},
   "source": [
    "### Slicing"
   ]
  },
  {
   "cell_type": "code",
   "execution_count": null,
   "id": "b380ef49-bb74-4005-9627-8148e7f1af76",
   "metadata": {},
   "outputs": [],
   "source": []
  },
  {
   "cell_type": "code",
   "execution_count": 220,
   "id": "296f320a-72d0-4f11-830b-8774647a02a5",
   "metadata": {},
   "outputs": [
    {
     "name": "stdout",
     "output_type": "stream",
     "text": [
      "[5 0 4 3 7 9]\n"
     ]
    },
    {
     "data": {
      "text/plain": [
       "array([0, 4])"
      ]
     },
     "execution_count": 220,
     "metadata": {},
     "output_type": "execute_result"
    }
   ],
   "source": [
    "# одномерные массивы\n",
    "print(x1)\n",
    "x1[1:3]"
   ]
  },
  {
   "cell_type": "code",
   "execution_count": 221,
   "id": "5da6e5e3-d5be-456a-9bfb-c0c57f708d67",
   "metadata": {},
   "outputs": [
    {
     "name": "stdout",
     "output_type": "stream",
     "text": [
      "[[3 5 2 4]\n",
      " [7 6 8 8]\n",
      " [1 6 7 7]]\n"
     ]
    },
    {
     "data": {
      "text/plain": [
       "array([[3, 5, 2],\n",
       "       [7, 6, 8]])"
      ]
     },
     "execution_count": 221,
     "metadata": {},
     "output_type": "execute_result"
    }
   ],
   "source": [
    "## многомерные массивы\n",
    "print(x2)\n",
    "x2[:2, :3]"
   ]
  },
  {
   "cell_type": "markdown",
   "id": "05053c54-23fb-4527-8d42-186587b484dd",
   "metadata": {},
   "source": [
    "#### Доступ к колонкам или строка в многомерном массиве"
   ]
  },
  {
   "cell_type": "code",
   "execution_count": 222,
   "id": "12a82503-e88b-4889-81c7-d948a3a443c2",
   "metadata": {},
   "outputs": [
    {
     "name": "stdout",
     "output_type": "stream",
     "text": [
      "[3 7 1]\n"
     ]
    }
   ],
   "source": [
    "print(x2[:, 0])  # first column of x2"
   ]
  },
  {
   "cell_type": "code",
   "execution_count": 223,
   "id": "756821f8-3f28-448b-beea-56b24ae53d41",
   "metadata": {},
   "outputs": [
    {
     "name": "stdout",
     "output_type": "stream",
     "text": [
      "[3 5 2 4]\n"
     ]
    }
   ],
   "source": [
    "print(x2[0, :])  # first row of x2"
   ]
  },
  {
   "cell_type": "markdown",
   "id": "7a8f702d-553f-486a-9be2-094f0484c2a0",
   "metadata": {},
   "source": [
    "### Запись в подмассивы (слайсы)\n",
    "\n",
    "**В отличие от Python, подмассивы (слайсы) `NumPy` предоставляют возможность записывать непосредственно в массив!!!**\n",
    "\n",
    "Подмассив представляет собой `no-copy view` исходного массива, а не новый массив."
   ]
  },
  {
   "cell_type": "code",
   "execution_count": 224,
   "id": "a7d20dde-ecab-414d-b9dc-797bcbb02bff",
   "metadata": {},
   "outputs": [
    {
     "name": "stdout",
     "output_type": "stream",
     "text": [
      "[[3 5 2 4]\n",
      " [7 6 8 8]\n",
      " [1 6 7 7]]\n"
     ]
    }
   ],
   "source": [
    "print(x2)"
   ]
  },
  {
   "cell_type": "code",
   "execution_count": 225,
   "id": "ea66d24b-4606-42ba-a3e9-2158907f5fdb",
   "metadata": {},
   "outputs": [
    {
     "name": "stdout",
     "output_type": "stream",
     "text": [
      "[[3 5]\n",
      " [7 6]]\n"
     ]
    }
   ],
   "source": [
    "x2_sub = x2[:2, :2]\n",
    "print(x2_sub)"
   ]
  },
  {
   "cell_type": "code",
   "execution_count": 226,
   "id": "0b53c859-1093-4aab-b631-99dddf4970fd",
   "metadata": {},
   "outputs": [
    {
     "name": "stdout",
     "output_type": "stream",
     "text": [
      "[[99  5]\n",
      " [ 7  6]]\n"
     ]
    }
   ],
   "source": [
    "x2_sub[0, 0] = 99\n",
    "print(x2_sub)"
   ]
  },
  {
   "cell_type": "code",
   "execution_count": 227,
   "id": "f6778a00-a526-43c1-ad02-35dc4af6fa38",
   "metadata": {},
   "outputs": [
    {
     "name": "stdout",
     "output_type": "stream",
     "text": [
      "[[99  5  2  4]\n",
      " [ 7  6  8  8]\n",
      " [ 1  6  7  7]]\n"
     ]
    }
   ],
   "source": [
    "print(x2)"
   ]
  },
  {
   "cell_type": "markdown",
   "id": "d9ba8ef0-cb1b-41fa-a994-f6d269556b93",
   "metadata": {},
   "source": [
    "### Creating copies of arrays"
   ]
  },
  {
   "cell_type": "code",
   "execution_count": 228,
   "id": "089f2ef1-7af1-4e44-9161-f116b9640e0a",
   "metadata": {},
   "outputs": [
    {
     "name": "stdout",
     "output_type": "stream",
     "text": [
      "[[99  5]\n",
      " [ 7  6]]\n"
     ]
    }
   ],
   "source": [
    "# Можно воспользоваться методом `copy()`\n",
    "# Если изменить копию, то оригинальный массив останется нетронутым!!!\n",
    "x2_sub_copy = x2[:2, :2].copy()\n",
    "print(x2_sub_copy)"
   ]
  },
  {
   "cell_type": "markdown",
   "id": "4a2ea3d2-423a-43d0-9719-514fb67f8ddd",
   "metadata": {},
   "source": [
    "## Изменение формы массива"
   ]
  },
  {
   "cell_type": "code",
   "execution_count": 229,
   "id": "19e60f6c-dc0c-4cab-99df-4f9d8087bea1",
   "metadata": {},
   "outputs": [
    {
     "name": "stdout",
     "output_type": "stream",
     "text": [
      "[1 2 3 4 5 6 7 8 9]\n",
      "[[1 2 3]\n",
      " [4 5 6]\n",
      " [7 8 9]]\n"
     ]
    }
   ],
   "source": [
    "grid = np.arange(1, 10)\n",
    "print(grid)\n",
    "grid2 = grid.reshape((3, 3))\n",
    "print(grid2)"
   ]
  },
  {
   "cell_type": "code",
   "execution_count": 230,
   "id": "c1327dd9-ef5b-4947-a0ec-d4da0c923718",
   "metadata": {},
   "outputs": [
    {
     "data": {
      "text/plain": [
       "array([[1, 2, 3]])"
      ]
     },
     "execution_count": 230,
     "metadata": {},
     "output_type": "execute_result"
    }
   ],
   "source": [
    "## Еще один способ изменить форму массива - это использовать ключевое слово `np.newaxis` в операции среза\n",
    "x = np.array([1, 2, 3])\n",
    "\n",
    "# row vector via reshape\n",
    "x.reshape((1, 3))"
   ]
  },
  {
   "cell_type": "code",
   "execution_count": 231,
   "id": "133b5c14-82f5-4be4-90f7-8d212b80a8c7",
   "metadata": {},
   "outputs": [
    {
     "data": {
      "text/plain": [
       "array([[1, 2, 3]])"
      ]
     },
     "execution_count": 231,
     "metadata": {},
     "output_type": "execute_result"
    }
   ],
   "source": [
    "# row vector via newaxis\n",
    "x[np.newaxis, :]"
   ]
  },
  {
   "cell_type": "code",
   "execution_count": 232,
   "id": "e982ff02-2721-4c40-a226-4108fe34d67a",
   "metadata": {},
   "outputs": [
    {
     "data": {
      "text/plain": [
       "array([[1],\n",
       "       [2],\n",
       "       [3]])"
      ]
     },
     "execution_count": 232,
     "metadata": {},
     "output_type": "execute_result"
    }
   ],
   "source": [
    "# column vector via reshape\n",
    "x.reshape((3, 1))"
   ]
  },
  {
   "cell_type": "code",
   "execution_count": 233,
   "id": "d52e74c6-3e0d-4b5f-8a30-4f984875924b",
   "metadata": {},
   "outputs": [
    {
     "data": {
      "text/plain": [
       "array([[1],\n",
       "       [2],\n",
       "       [3]])"
      ]
     },
     "execution_count": 233,
     "metadata": {},
     "output_type": "execute_result"
    }
   ],
   "source": [
    "x[:, np.newaxis]"
   ]
  },
  {
   "cell_type": "markdown",
   "id": "ef929c32-805e-421a-9a8c-020d00d7ee18",
   "metadata": {},
   "source": [
    "## Соединение и разделение массивов"
   ]
  },
  {
   "cell_type": "markdown",
   "id": "3331f703-8870-47d8-af62-39e07334f862",
   "metadata": {},
   "source": [
    "### Соединение массивов"
   ]
  },
  {
   "cell_type": "code",
   "execution_count": 234,
   "id": "46cfd441-bda1-4598-819a-e40608bc8582",
   "metadata": {},
   "outputs": [
    {
     "data": {
      "text/plain": [
       "array([ 1,  2,  3,  3,  2,  1, 91, 92, 93])"
      ]
     },
     "execution_count": 234,
     "metadata": {},
     "output_type": "execute_result"
    }
   ],
   "source": [
    "# Метод `concatenate`\n",
    "x = np.array([1, 2, 3])\n",
    "y = np.array([3, 2, 1])\n",
    "z = [91, 92, 93]\n",
    "np.concatenate((x, y, z))"
   ]
  },
  {
   "cell_type": "code",
   "execution_count": 235,
   "id": "f37bd3b0-f634-4a89-942a-90964b9a03c7",
   "metadata": {},
   "outputs": [],
   "source": [
    "# `concatenate` работает и на многомерных массивах"
   ]
  },
  {
   "cell_type": "code",
   "execution_count": 236,
   "id": "c5e03a39-18e6-487d-98ad-2c95f0b19664",
   "metadata": {},
   "outputs": [],
   "source": [
    "grid = np.array([[1, 2, 3],\n",
    "                 [4, 5, 6]])"
   ]
  },
  {
   "cell_type": "code",
   "execution_count": 237,
   "id": "08e380d8-598c-4cee-b6b9-7851cf45f919",
   "metadata": {},
   "outputs": [
    {
     "data": {
      "text/plain": [
       "array([[1, 2, 3],\n",
       "       [4, 5, 6],\n",
       "       [1, 2, 3],\n",
       "       [4, 5, 6]])"
      ]
     },
     "execution_count": 237,
     "metadata": {},
     "output_type": "execute_result"
    }
   ],
   "source": [
    "# concatenate along the first axis\n",
    "np.concatenate([grid, grid])"
   ]
  },
  {
   "cell_type": "code",
   "execution_count": 238,
   "id": "197cc846-c448-40e2-9fbf-bee1c4e1a5e5",
   "metadata": {},
   "outputs": [
    {
     "data": {
      "text/plain": [
       "array([[1, 2, 3, 1, 2, 3],\n",
       "       [4, 5, 6, 4, 5, 6]])"
      ]
     },
     "execution_count": 238,
     "metadata": {},
     "output_type": "execute_result"
    }
   ],
   "source": [
    "# concatenate along the second axis (zero-indexed)\n",
    "np.concatenate([grid, grid], axis=1)"
   ]
  },
  {
   "cell_type": "markdown",
   "id": "a0d6bae4-0f86-45b1-b361-89034775f0ca",
   "metadata": {},
   "source": [
    "Для работы с многомерными массивами, особенно с различной размерностью, намного более понятно использовать методы `np.vstack` (вертикальный стек) и `np.hstack` (горизонтальный стек)."
   ]
  },
  {
   "cell_type": "code",
   "execution_count": 239,
   "id": "ca6ac0d4-b2a5-446c-b5d4-cb909478a947",
   "metadata": {},
   "outputs": [
    {
     "data": {
      "text/plain": [
       "array([[1, 2, 3],\n",
       "       [9, 8, 7],\n",
       "       [6, 5, 4]])"
      ]
     },
     "execution_count": 239,
     "metadata": {},
     "output_type": "execute_result"
    }
   ],
   "source": [
    "x = np.array([1, 2, 3])\n",
    "grid = np.array([[9, 8, 7],\n",
    "                 [6, 5, 4]])\n",
    "\n",
    "# vertically stack the arrays\n",
    "np.vstack([x, grid])"
   ]
  },
  {
   "cell_type": "code",
   "execution_count": 240,
   "id": "cd2fc498-ca15-45e3-80a7-64e58d3149ca",
   "metadata": {},
   "outputs": [
    {
     "data": {
      "text/plain": [
       "array([[ 9,  8,  7, 99],\n",
       "       [ 6,  5,  4, 99]])"
      ]
     },
     "execution_count": 240,
     "metadata": {},
     "output_type": "execute_result"
    }
   ],
   "source": [
    "# horizontally stack the arrays\n",
    "y = np.array([[99],\n",
    "              [99]])\n",
    "np.hstack([grid, y])"
   ]
  },
  {
   "cell_type": "markdown",
   "id": "466fc59a-6036-40b3-b0e1-6d7ae97d8f49",
   "metadata": {},
   "source": [
    "### Разделение массивов"
   ]
  },
  {
   "cell_type": "markdown",
   "id": "8e367475-a787-47b1-a628-6ebb46beee63",
   "metadata": {},
   "source": [
    "Разделение осуществляется функциями `np.split`, `np.hsplit`, и `np.vsplit`. Для каждой из этих функций мы можем передать список индексов, задающих точки разделения, а именно позиции в массиве, которые станут началами новых массивов.    \n",
    "**Для N точек разделения всегда получается N+1 подмассивов.**"
   ]
  },
  {
   "cell_type": "code",
   "execution_count": 241,
   "id": "3a13a581-c9e7-4732-b68f-0201dbc60afe",
   "metadata": {},
   "outputs": [
    {
     "name": "stdout",
     "output_type": "stream",
     "text": [
      "[1 2 3] [99 99] [3 2 1]\n"
     ]
    }
   ],
   "source": [
    "x = [1, 2, 3, 99, 99, 3, 2, 1]\n",
    "x1, x2, x3 = np.split(x, [3, 5])  # индексы 3 и 5 в исходном массиве являются точками разделения на массивы\n",
    "print(x1, x2, x3)"
   ]
  },
  {
   "cell_type": "markdown",
   "id": "d9c8e8a2-0e65-4547-be57-7e58a21693f0",
   "metadata": {},
   "source": [
    "Функции `np.hsplit` и `np.vsplit` работают следующим образом:"
   ]
  },
  {
   "cell_type": "code",
   "execution_count": 242,
   "id": "496a9d8f-7796-41ef-9560-5eeba8f49721",
   "metadata": {},
   "outputs": [
    {
     "data": {
      "text/plain": [
       "array([[ 0,  1,  2,  3],\n",
       "       [ 4,  5,  6,  7],\n",
       "       [ 8,  9, 10, 11],\n",
       "       [12, 13, 14, 15]])"
      ]
     },
     "execution_count": 242,
     "metadata": {},
     "output_type": "execute_result"
    }
   ],
   "source": [
    "grid = np.arange(16).reshape((4, 4))\n",
    "grid"
   ]
  },
  {
   "cell_type": "code",
   "execution_count": 243,
   "id": "31426841-18c5-4531-a035-062e1bc30d1a",
   "metadata": {},
   "outputs": [
    {
     "name": "stdout",
     "output_type": "stream",
     "text": [
      "[[0 1 2 3]\n",
      " [4 5 6 7]]\n",
      "[[ 8  9 10 11]\n",
      " [12 13 14 15]]\n"
     ]
    }
   ],
   "source": [
    "upper, lower = np.vsplit(grid, [2])\n",
    "print(upper)\n",
    "print(lower)"
   ]
  },
  {
   "cell_type": "code",
   "execution_count": 244,
   "id": "5f49ef88-ad65-4674-be03-876d7a22f39f",
   "metadata": {},
   "outputs": [
    {
     "name": "stdout",
     "output_type": "stream",
     "text": [
      "[[ 0  1]\n",
      " [ 4  5]\n",
      " [ 8  9]\n",
      " [12 13]]\n",
      "[[ 2  3]\n",
      " [ 6  7]\n",
      " [10 11]\n",
      " [14 15]]\n"
     ]
    }
   ],
   "source": [
    "left, right = np.hsplit(grid, [2])\n",
    "print(left)\n",
    "print(right)"
   ]
  },
  {
   "cell_type": "markdown",
   "id": "8d30d37e-b513-459c-83d6-86a9049d8b61",
   "metadata": {},
   "source": [
    "## Вычисления на массивах, универсальные функции"
   ]
  },
  {
   "cell_type": "markdown",
   "id": "d540a06a-9246-4267-9fe5-1dca11cf6e83",
   "metadata": {},
   "source": [
    "### Примеры ufuncs"
   ]
  },
  {
   "cell_type": "code",
   "execution_count": 245,
   "id": "9c52265f-eca3-477c-a0cc-a2be764eb5f5",
   "metadata": {},
   "outputs": [
    {
     "name": "stdout",
     "output_type": "stream",
     "text": [
      "x     = [0 1 2 3]\n",
      "x + 5 = [5 6 7 8]\n",
      "x - 5 = [-5 -4 -3 -2]\n",
      "x * 2 = [0 2 4 6]\n",
      "x / 2 = [0.  0.5 1.  1.5]\n",
      "x // 2 = [0 0 1 1]\n",
      "-x     =  [ 0 -1 -2 -3]\n",
      "x ** 2 =  [0 1 4 9]\n",
      "x % 2  =  [0 1 0 1]\n"
     ]
    }
   ],
   "source": [
    "x = np.arange(4)\n",
    "print(\"x     =\", x)\n",
    "print(\"x + 5 =\", x + 5)\n",
    "print(\"x - 5 =\", x - 5)\n",
    "print(\"x * 2 =\", x * 2)\n",
    "print(\"x / 2 =\", x / 2)\n",
    "print(\"x // 2 =\", x // 2)  # floor division\n",
    "print(\"-x     = \", -x)\n",
    "print(\"x ** 2 = \", x ** 2)\n",
    "print(\"x % 2  = \", x % 2)"
   ]
  },
  {
   "cell_type": "raw",
   "id": "a1183495-ad56-4346-a2e9-9f08e54bd224",
   "metadata": {},
   "source": [
    "Каждый из операторов имеет соответствующую ufunc\n",
    "\n",
    "Operator \tEquivalent ufunc \tDescription\n",
    "+ \t`np.add`    \tAddition (e.g., 1 + 1 = 2)\n",
    "- \t`np.subtract` \tSubtraction (e.g., 3 - 2 = 1)\n",
    "- \t`np.negative` \tUnary negation (e.g., -2)\n",
    "* \t`np.multiply` \tMultiplication (e.g., 2 * 3 = 6)\n",
    "/ \t`np.divide` \tDivision (e.g., 3 / 2 = 1.5)\n",
    "// \t`np.floor_divide` \tFloor division (e.g., 3 // 2 = 1)\n",
    "** \t`np.power`  \tExponentiation (e.g., 2 ** 3 = 8)\n",
    "% \t`np.mod`        Modulus/remainder (e.g., 9 % 4 = 1)"
   ]
  },
  {
   "cell_type": "markdown",
   "id": "41f32640-a331-4155-827a-06edadc8ff81",
   "metadata": {},
   "source": [
    "### Абсолютные значения"
   ]
  },
  {
   "cell_type": "code",
   "execution_count": 246,
   "id": "0bd5d31a-876f-463e-a34f-7781f5a274fc",
   "metadata": {},
   "outputs": [
    {
     "name": "stdout",
     "output_type": "stream",
     "text": [
      "[2 1 0 1 2]\n",
      "[2 1 0 1 2]\n"
     ]
    }
   ],
   "source": [
    "x = np.array([-2, -1, 0, 1, 2])\n",
    "print(abs(x))\n",
    "print(np.abs(x))  # эквивалентная функция np.abs"
   ]
  },
  {
   "cell_type": "markdown",
   "id": "da2aecc6-3246-40a7-b2b2-0ed89a16ac25",
   "metadata": {},
   "source": [
    "### Тригонометрические функции"
   ]
  },
  {
   "cell_type": "code",
   "execution_count": 247,
   "id": "59500bec-7e84-4d9e-a321-bafec04fa1e4",
   "metadata": {},
   "outputs": [],
   "source": [
    "theta = np.linspace(0, np.pi, 3)"
   ]
  },
  {
   "cell_type": "code",
   "execution_count": 248,
   "id": "49fa0a03-3bb9-4d4b-8c6a-4a1b6ec31ab9",
   "metadata": {},
   "outputs": [
    {
     "name": "stdout",
     "output_type": "stream",
     "text": [
      "theta      =  [0.         1.57079633 3.14159265]\n",
      "sin(theta) =  [0.0000000e+00 1.0000000e+00 1.2246468e-16]\n",
      "cos(theta) =  [ 1.000000e+00  6.123234e-17 -1.000000e+00]\n",
      "tan(theta) =  [ 0.00000000e+00  1.63312394e+16 -1.22464680e-16]\n"
     ]
    }
   ],
   "source": [
    "print(\"theta      = \", theta)\n",
    "print(\"sin(theta) = \", np.sin(theta))\n",
    "print(\"cos(theta) = \", np.cos(theta))\n",
    "print(\"tan(theta) = \", np.tan(theta))"
   ]
  },
  {
   "cell_type": "code",
   "execution_count": 249,
   "id": "271019c7-4fc4-4e2c-8d26-8c7fc971c29e",
   "metadata": {},
   "outputs": [
    {
     "name": "stdout",
     "output_type": "stream",
     "text": [
      "x         =  [-1, 0, 1]\n",
      "arcsin(x) =  [-1.57079633  0.          1.57079633]\n",
      "arccos(x) =  [3.14159265 1.57079633 0.        ]\n",
      "arctan(x) =  [-0.78539816  0.          0.78539816]\n"
     ]
    }
   ],
   "source": [
    "# Обратные функции также доступны\n",
    "x = [-1, 0, 1]\n",
    "print(\"x         = \", x)\n",
    "print(\"arcsin(x) = \", np.arcsin(x))\n",
    "print(\"arccos(x) = \", np.arccos(x))\n",
    "print(\"arctan(x) = \", np.arctan(x))"
   ]
  },
  {
   "cell_type": "markdown",
   "id": "3af7a62e-c46c-49b2-8759-237e6d4cd8f8",
   "metadata": {},
   "source": [
    "### Экспонента и логармфмы"
   ]
  },
  {
   "cell_type": "code",
   "execution_count": 250,
   "id": "a4f8d2ba-aaf2-4345-bf48-7dc526b13472",
   "metadata": {},
   "outputs": [
    {
     "name": "stdout",
     "output_type": "stream",
     "text": [
      "x     = [1, 2, 3]\n",
      "e^x   = [ 2.71828183  7.3890561  20.08553692]\n",
      "2^x   = [2. 4. 8.]\n",
      "3^x   = [ 3  9 27]\n"
     ]
    }
   ],
   "source": [
    "# экспоненциальные функции\n",
    "x = [1, 2, 3]\n",
    "print(\"x     =\", x)\n",
    "print(\"e^x   =\", np.exp(x))\n",
    "print(\"2^x   =\", np.exp2(x))\n",
    "print(\"3^x   =\", np.power(3, x))"
   ]
  },
  {
   "cell_type": "code",
   "execution_count": 251,
   "id": "57867433-6f1e-4c51-a483-dbefb68c9d6c",
   "metadata": {},
   "outputs": [
    {
     "name": "stdout",
     "output_type": "stream",
     "text": [
      "x        = [1, 2, 4, 10]\n",
      "ln(x)    = [0.         0.69314718 1.38629436 2.30258509]\n",
      "log2(x)  = [0.         1.         2.         3.32192809]\n",
      "log10(x) = [0.         0.30103    0.60205999 1.        ]\n"
     ]
    }
   ],
   "source": [
    "# логарифмические функции\n",
    "x = [1, 2, 4, 10]\n",
    "print(\"x        =\", x)\n",
    "print(\"ln(x)    =\", np.log(x))\n",
    "print(\"log2(x)  =\", np.log2(x))\n",
    "print(\"log10(x) =\", np.log10(x))"
   ]
  },
  {
   "cell_type": "code",
   "execution_count": 252,
   "id": "673ca391-fa6d-4ed7-981a-e89be0ed5a96",
   "metadata": {},
   "outputs": [
    {
     "name": "stdout",
     "output_type": "stream",
     "text": [
      "exp(x) - 1 = [0.         0.0010005  0.01005017 0.10517092]\n",
      "log(1 + x) = [0.         0.0009995  0.00995033 0.09531018]\n"
     ]
    }
   ],
   "source": [
    "# Для очень маленьких значений существуют специальные функции, которые позволяют сохранить точность\n",
    "x = [0, 0.001, 0.01, 0.1]\n",
    "print(\"exp(x) - 1 =\", np.expm1(x))\n",
    "print(\"log(1 + x) =\", np.log1p(x))"
   ]
  },
  {
   "cell_type": "markdown",
   "id": "eb40ddf9-9da7-4ede-9cf4-80257736470b",
   "metadata": {},
   "source": [
    "## Продвинутые ufunc-функции"
   ]
  },
  {
   "cell_type": "markdown",
   "id": "4b0305a4-74f6-4802-977f-852e27ae23f5",
   "metadata": {},
   "source": [
    "### Массив для вывода результатов\n",
    "\n",
    "Иногда бывает полезно сохранить результаты вычислений в отдельный массив. Это возможно при использовании аргумента `out`."
   ]
  },
  {
   "cell_type": "code",
   "execution_count": 253,
   "id": "5f532aab-f54b-4f0d-9849-54689bbb7605",
   "metadata": {},
   "outputs": [
    {
     "name": "stdout",
     "output_type": "stream",
     "text": [
      "[0 1 2 3 4]\n",
      "[ 0. 10. 20. 30. 40.]\n"
     ]
    }
   ],
   "source": [
    "x = np.arange(5)\n",
    "y = np.empty(5)\n",
    "np.multiply(x, 10, out=y)\n",
    "print(x)\n",
    "print(y)"
   ]
  },
  {
   "cell_type": "markdown",
   "id": "92fa8051-c0f2-4b2b-a513-628e802b022c",
   "metadata": {},
   "source": [
    "Можно даже указать в какие элементы массива нужно записать результаты. Например, в следующем примере результаты записываются в каждый второй элемент."
   ]
  },
  {
   "cell_type": "code",
   "execution_count": 254,
   "id": "945e92aa-be4c-4900-a750-0fa8c081d584",
   "metadata": {},
   "outputs": [
    {
     "name": "stdout",
     "output_type": "stream",
     "text": [
      "[ 1.  0.  2.  0.  4.  0.  8.  0. 16.  0.]\n"
     ]
    }
   ],
   "source": [
    "y = np.zeros(10)\n",
    "np.power(2, x, out=y[::2])\n",
    "print(y)"
   ]
  },
  {
   "cell_type": "markdown",
   "id": "c86338be-6869-4bb3-bdd0-8e8b045d0b5c",
   "metadata": {},
   "source": [
    "### Функции для аггрерирования\n",
    "\n",
    "Например, для выполнения операции `reduce` (сокращение массива до одного элемента), мы можем вызвать метод `reduce` для каждой `ufunc`:"
   ]
  },
  {
   "cell_type": "code",
   "execution_count": 255,
   "id": "50cbc784-5f22-40fb-b29d-6bf859b34d02",
   "metadata": {},
   "outputs": [
    {
     "data": {
      "text/plain": [
       "15"
      ]
     },
     "execution_count": 255,
     "metadata": {},
     "output_type": "execute_result"
    }
   ],
   "source": [
    "x = np.arange(1, 6)\n",
    "np.add.reduce(x)"
   ]
  },
  {
   "cell_type": "markdown",
   "id": "7492a44d-ca50-4cca-b3b0-e7692c785f9c",
   "metadata": {},
   "source": [
    "### Внешнее произведение (outer product)\n",
    "\n",
    "Любая `ufunc` имеет метод `outer` для вычисления всех пар двух различных матриц (массивов) - **декартовое произведение матриц!!!**"
   ]
  },
  {
   "cell_type": "code",
   "execution_count": 256,
   "id": "2622dfef-652f-49c2-8ccc-c484c6766a22",
   "metadata": {},
   "outputs": [
    {
     "name": "stdout",
     "output_type": "stream",
     "text": [
      "[1 2 3 4 5]\n",
      "Простое произведение значений: [ 1  4  9 16 25]\n",
      "Внешнее произведение:\n",
      " [[ 1  2  3  4  5]\n",
      " [ 2  4  6  8 10]\n",
      " [ 3  6  9 12 15]\n",
      " [ 4  8 12 16 20]\n",
      " [ 5 10 15 20 25]]\n"
     ]
    }
   ],
   "source": [
    "x = np.arange(1, 6)\n",
    "print(x)\n",
    "\n",
    "print(\"Простое произведение значений:\", np.multiply(x, x))\n",
    "print(\"Внешнее произведение:\\n\", np.multiply.outer(x, x))"
   ]
  },
  {
   "cell_type": "markdown",
   "id": "7225ec4d-b66e-4637-867d-b22b455027ff",
   "metadata": {},
   "source": [
    "### Сумма значений массива"
   ]
  },
  {
   "cell_type": "code",
   "execution_count": 257,
   "id": "5cf3c89f-8cd4-426c-8d41-0702f26225ae",
   "metadata": {},
   "outputs": [
    {
     "data": {
      "text/plain": [
       "52.12818058833702"
      ]
     },
     "execution_count": 257,
     "metadata": {},
     "output_type": "execute_result"
    }
   ],
   "source": [
    "L = np.random.random(100)\n",
    "# sum(L) # так тоже можно\n",
    "L.sum()"
   ]
  },
  {
   "cell_type": "markdown",
   "id": "52b5d3cd-b757-4409-b6d8-eb7626749d67",
   "metadata": {},
   "source": [
    "### Минимумы и максимумы"
   ]
  },
  {
   "cell_type": "code",
   "execution_count": 258,
   "id": "9d245c69-c2a3-409e-9a62-d1f8588f321a",
   "metadata": {},
   "outputs": [],
   "source": [
    "big_array = np.random.rand(1000000)"
   ]
  },
  {
   "cell_type": "code",
   "execution_count": 259,
   "id": "ba58d793-2e43-4612-832c-d0353265de8c",
   "metadata": {},
   "outputs": [
    {
     "data": {
      "text/plain": [
       "(1.4057692298008462e-06, 0.9999994392723005)"
      ]
     },
     "execution_count": 259,
     "metadata": {},
     "output_type": "execute_result"
    }
   ],
   "source": [
    "np.min(big_array), np.max(big_array)"
   ]
  },
  {
   "cell_type": "code",
   "execution_count": 260,
   "id": "c7fded14-9a1c-4b0a-b48b-5a0030327be7",
   "metadata": {},
   "outputs": [
    {
     "data": {
      "text/plain": [
       "(1.4057692298008462e-06, 0.9999994392723005)"
      ]
     },
     "execution_count": 260,
     "metadata": {},
     "output_type": "execute_result"
    }
   ],
   "source": [
    "big_array.min(), big_array.max()"
   ]
  },
  {
   "cell_type": "markdown",
   "id": "36e79d99-2baf-4e67-bec1-ce30a73edf24",
   "metadata": {},
   "source": [
    "### Агрегатные функции для многомерных данных"
   ]
  },
  {
   "cell_type": "code",
   "execution_count": 261,
   "id": "fd083590-e6cf-4110-a581-1bedccf5f4bd",
   "metadata": {},
   "outputs": [
    {
     "name": "stdout",
     "output_type": "stream",
     "text": [
      "[[0.50063048 0.07383653 0.49018646 0.72521956]\n",
      " [0.84926562 0.10226215 0.99559424 0.59250301]\n",
      " [0.53509    0.88518089 0.25518136 0.13130483]]\n"
     ]
    }
   ],
   "source": [
    "M = np.random.random((3, 4))\n",
    "print(M)"
   ]
  },
  {
   "cell_type": "markdown",
   "id": "e665d917-322f-471b-81bc-745798687fc0",
   "metadata": {},
   "source": [
    "По умолчанию все агрегатные функции применяются ко всему массиву:"
   ]
  },
  {
   "cell_type": "code",
   "execution_count": 262,
   "id": "92496035-16f9-4c61-b81f-bdb98588e713",
   "metadata": {},
   "outputs": [
    {
     "data": {
      "text/plain": [
       "6.1362551272647154"
      ]
     },
     "execution_count": 262,
     "metadata": {},
     "output_type": "execute_result"
    }
   ],
   "source": [
    "M.sum()"
   ]
  },
  {
   "cell_type": "markdown",
   "id": "171dc326-c834-4974-9e8d-f4797faa974b",
   "metadata": {},
   "source": [
    "Для работы с многомерными данными агрегатные функции имеют специальный аргумент `axis` для задания оси, вдоль которой будет применяться функция."
   ]
  },
  {
   "cell_type": "code",
   "execution_count": 263,
   "id": "e5def7bd-1d6c-40c9-8ec4-26486130294e",
   "metadata": {},
   "outputs": [
    {
     "data": {
      "text/plain": [
       "array([1.88498609, 1.06127957, 1.74096206, 1.4490274 ])"
      ]
     },
     "execution_count": 263,
     "metadata": {},
     "output_type": "execute_result"
    }
   ],
   "source": [
    "M.sum(axis=0)  # находит сумму для каждой колонки"
   ]
  },
  {
   "cell_type": "code",
   "execution_count": 264,
   "id": "ac5dfe73-f3fe-49e0-b7b4-8e3fffbcc369",
   "metadata": {},
   "outputs": [
    {
     "data": {
      "text/plain": [
       "array([0.50063048, 0.07383653, 0.25518136, 0.13130483])"
      ]
     },
     "execution_count": 264,
     "metadata": {},
     "output_type": "execute_result"
    }
   ],
   "source": [
    "M.min(axis=0) # находит минимальные значения в каждой колонки"
   ]
  },
  {
   "cell_type": "code",
   "execution_count": 265,
   "id": "9ae81e18-03a0-4b5f-a87a-63c57042f984",
   "metadata": {},
   "outputs": [
    {
     "data": {
      "text/plain": [
       "array([0.07383653, 0.10226215, 0.13130483])"
      ]
     },
     "execution_count": 265,
     "metadata": {},
     "output_type": "execute_result"
    }
   ],
   "source": [
    "# изменение оси приводит к из изменению результата расчета\n",
    "M.min(axis=1)  # минимальные значения в каждом ряду"
   ]
  },
  {
   "cell_type": "code",
   "execution_count": 266,
   "id": "905bc74a-967b-49b7-96c6-9b38e7de7c55",
   "metadata": {},
   "outputs": [
    {
     "data": {
      "text/plain": [
       "array([0.84926562, 0.88518089, 0.99559424, 0.72521956])"
      ]
     },
     "execution_count": 266,
     "metadata": {},
     "output_type": "execute_result"
    }
   ],
   "source": [
    "M.max(axis=0) # находит максимальные значения в каждой колонке"
   ]
  },
  {
   "cell_type": "markdown",
   "id": "abdbc53c-aa39-4d03-be8e-8fa5fdcef89f",
   "metadata": {},
   "source": [
    "### Прочие агрегатные функции"
   ]
  },
  {
   "cell_type": "markdown",
   "id": "9575cf6b-eed2-46cd-b703-50fdaa35bb5d",
   "metadata": {},
   "source": [
    "`NumPy` предоставляет множество агрегатных функций, в частности есть варианты для функций, которые работают с отсутствующими данными и возвращают `NaN`:"
   ]
  },
  {
   "cell_type": "raw",
   "id": "9b4b076a-fa00-4059-a9d6-6d76e00481b5",
   "metadata": {},
   "source": [
    "Function Name \tNaN-safe Version \tDescription\n",
    "np.sum      \tnp.nansum       \tCompute sum of elements\n",
    "np.prod     \tnp.nanprod      \tCompute product of elements\n",
    "np.mean     \tnp.nanmean      \tCompute mean of elements\n",
    "np.std      \tnp.nanstd       \tCompute standard deviation\n",
    "np.var      \tnp.nanvar       \tCompute variance\n",
    "np.min      \tnp.nanmin       \tFind minimum value\n",
    "np.max      \tnp.nanmax       \tFind maximum value\n",
    "np.argmin    \tnp.nanargmin    \tFind index of minimum value\n",
    "np.argmax   \tnp.nanargmax    \tFind index of maximum value\n",
    "np.median   \tnp.nanmedian    \tCompute median of elements\n",
    "np.percentile \tnp.nanpercentile \tCompute rank-based statistics of elements\n",
    "np.any \t        N/A             \tEvaluate whether any elements are true\n",
    "np.all       \tN/A \t            Evaluate whether all elements are true"
   ]
  },
  {
   "cell_type": "markdown",
   "id": "cb225068-09a7-46c7-ae53-9fa0d355c0e1",
   "metadata": {},
   "source": [
    "## Пример: какой средний рост у американских президентов"
   ]
  },
  {
   "cell_type": "code",
   "execution_count": 267,
   "id": "5dfd20dc-93e3-418d-a753-bf7769e69b0b",
   "metadata": {},
   "outputs": [
    {
     "name": "stdout",
     "output_type": "stream",
     "text": [
      "order,name,height(cm)\n",
      "1,George Washington,189\n",
      "2,John Adams,170\n",
      "3,Thomas Jefferson,189\n"
     ]
    }
   ],
   "source": [
    "!head -4 notebooks/data/president_heights.csv"
   ]
  },
  {
   "cell_type": "code",
   "execution_count": 268,
   "id": "ded8677a-4336-491f-b479-ce7993cc3d2c",
   "metadata": {},
   "outputs": [
    {
     "name": "stdout",
     "output_type": "stream",
     "text": [
      "[189 170 189 163 183 171 185 168 173 183 173 173 175 178 183 193 178 173\n",
      " 174 183 183 168 170 178 182 180 183 178 182 188 175 179 183 193 182 183\n",
      " 177 185 188 188 182 185 191 182]\n"
     ]
    }
   ],
   "source": [
    "import pandas as pd\n",
    "data = pd.read_csv('notebooks/data/president_heights.csv')\n",
    "heights = np.array(data['height(cm)'])\n",
    "print(heights)"
   ]
  },
  {
   "cell_type": "code",
   "execution_count": 269,
   "id": "a7fe6503-967b-4cb8-9e9e-568617d362bd",
   "metadata": {},
   "outputs": [
    {
     "name": "stdout",
     "output_type": "stream",
     "text": [
      "Mean height:        180.04545454545453\n",
      "Standard deviation: 6.983599441335736\n",
      "Minimum height:     163\n",
      "Maximum height:     193\n"
     ]
    }
   ],
   "source": [
    "print(\"Mean height:       \", heights.mean())\n",
    "print(\"Standard deviation:\", heights.std())\n",
    "print(\"Minimum height:    \", heights.min())\n",
    "print(\"Maximum height:    \", heights.max())"
   ]
  },
  {
   "cell_type": "code",
   "execution_count": 270,
   "id": "9c0ac5a5-f1d6-4fd7-b93c-a47c0963d523",
   "metadata": {},
   "outputs": [
    {
     "name": "stdout",
     "output_type": "stream",
     "text": [
      "25th percentile:    174.75\n",
      "Median:             182.0\n",
      "75th percentile:    183.5\n"
     ]
    }
   ],
   "source": [
    "print(\"25th percentile:   \", np.percentile(heights, 25))\n",
    "print(\"Median:            \", np.median(heights))\n",
    "print(\"75th percentile:   \", np.percentile(heights, 75))"
   ]
  },
  {
   "cell_type": "markdown",
   "id": "72d1b066-77ad-486b-a9be-afcef7a64adc",
   "metadata": {},
   "source": [
    "Можно попытаться сгенерировать изображение для визуального представления данных"
   ]
  },
  {
   "cell_type": "code",
   "execution_count": 271,
   "id": "8499de32-7cd6-4a79-b2d4-280e408be50b",
   "metadata": {},
   "outputs": [],
   "source": [
    "%matplotlib inline\n",
    "import matplotlib.pyplot as plt\n",
    "import seaborn; seaborn.set()  # set plot style"
   ]
  },
  {
   "cell_type": "code",
   "execution_count": 272,
   "id": "9cc503a7-02c7-4ee8-9912-758320606663",
   "metadata": {},
   "outputs": [
    {
     "data": {
      "image/png": "[encoded data removed]",
      "text/plain": [
       "<Figure size 640x480 with 1 Axes>"
      ]
     },
     "metadata": {},
     "output_type": "display_data"
    }
   ],
   "source": [
    "plt.hist(heights)\n",
    "plt.title('Height Distribution of US Presidents')\n",
    "plt.xlabel('height (cm)')\n",
    "plt.ylabel('number');"
   ]
  },
  {
   "cell_type": "markdown",
   "id": "fc277514-e7eb-44ea-8dee-666e7bf1857b",
   "metadata": {},
   "source": [
    "## Broadcasting"
   ]
  },
  {
   "cell_type": "code",
   "execution_count": 273,
   "id": "ba22e97e-e818-47c6-afe6-26e0bbecd7cf",
   "metadata": {},
   "outputs": [
    {
     "data": {
      "text/plain": [
       "array([5, 6, 7])"
      ]
     },
     "execution_count": 273,
     "metadata": {},
     "output_type": "execute_result"
    }
   ],
   "source": [
    "a = np.array([0, 1, 2])\n",
    "b = np.array([5, 5, 5])\n",
    "a + b"
   ]
  },
  {
   "cell_type": "markdown",
   "id": "aca73774-04e1-4227-a864-2177b61aaccc",
   "metadata": {},
   "source": [
    "Broadcasting позволяет операции с массивами разной размерности. Например, мы легко можем добавить скалярную величину (представьте ее как массив с нулевой размерностью) к существующему массиву:"
   ]
  },
  {
   "cell_type": "code",
   "execution_count": 274,
   "id": "1b88f5a8-a55e-44b0-9ed5-2c7609128b56",
   "metadata": {},
   "outputs": [
    {
     "data": {
      "text/plain": [
       "array([5, 6, 7])"
      ]
     },
     "execution_count": 274,
     "metadata": {},
     "output_type": "execute_result"
    }
   ],
   "source": [
    "a + 5"
   ]
  },
  {
   "cell_type": "code",
   "execution_count": 275,
   "id": "cb391a8c-2964-4584-a5c2-56b571d16bd3",
   "metadata": {},
   "outputs": [
    {
     "data": {
      "text/plain": [
       "array([[1., 1., 1.],\n",
       "       [1., 1., 1.],\n",
       "       [1., 1., 1.]])"
      ]
     },
     "execution_count": 275,
     "metadata": {},
     "output_type": "execute_result"
    }
   ],
   "source": [
    "M = np.ones((3, 3))\n",
    "M"
   ]
  },
  {
   "cell_type": "code",
   "execution_count": 276,
   "id": "5327a2c5-b3de-4ab5-8070-40d62b09c7a8",
   "metadata": {},
   "outputs": [
    {
     "data": {
      "text/plain": [
       "array([[1., 2., 3.],\n",
       "       [1., 2., 3.],\n",
       "       [1., 2., 3.]])"
      ]
     },
     "execution_count": 276,
     "metadata": {},
     "output_type": "execute_result"
    }
   ],
   "source": [
    "M + a"
   ]
  },
  {
   "cell_type": "markdown",
   "id": "c6d3b890-caa9-418f-af7e-6c0a116c4736",
   "metadata": {},
   "source": [
    "Broadcasting как-бы дополняет одну матрицу до размерности другой, чтобы была возможность провести операцию."
   ]
  },
  {
   "cell_type": "markdown",
   "id": "76feb06f-91e1-4053-bcf2-8d3b14b0159d",
   "metadata": {},
   "source": [
    "![Broadcasting Visual](notebooks/figures/02.05-broadcasting.png)"
   ]
  },
  {
   "cell_type": "markdown",
   "id": "ff995139-c7ce-4e2e-8354-f0b17f9cc707",
   "metadata": {},
   "source": [
    "### Правила broadcasting"
   ]
  },
  {
   "cell_type": "markdown",
   "id": "0e6e8cc4-a97c-4418-b6e0-cddeb285962d",
   "metadata": {},
   "source": [
    "Broadcasting в NumPy следует жесткому набору правил для определения порядка взаимодействия между двумя массивами:\n",
    "\n",
    "    Правило 1: Если два массива различаются в размерности, форма массива с меньшей размерностью дополняется значениями его левой стороны.\n",
    "    Правило 2: Если форма двух массивов различается в любых измерениях, массив с формой равной 1 в этом измерении, растягивается до измерения другого массива.\n",
    "    Правило 3: Если по любому измерению размеры не совпадают и ни одно из измерений не равно 1, выбрасывается ошибка."
   ]
  },
  {
   "cell_type": "markdown",
   "id": "50ca19f0-50d3-4998-b5c3-747ce591e207",
   "metadata": {},
   "source": [
    "#### Пример 1"
   ]
  },
  {
   "cell_type": "code",
   "execution_count": 277,
   "id": "61397ea1-f070-4b83-af28-696ec4fd0936",
   "metadata": {},
   "outputs": [
    {
     "name": "stdout",
     "output_type": "stream",
     "text": [
      "(2, 3)\n",
      "(3,)\n"
     ]
    }
   ],
   "source": [
    "M = np.ones((2, 3))\n",
    "a = np.arange(3)\n",
    "print(M.shape)\n",
    "print(a.shape)"
   ]
  },
  {
   "cell_type": "code",
   "execution_count": 278,
   "id": "9d6c25a3-568d-4145-a4d1-f9148e9666a1",
   "metadata": {},
   "outputs": [
    {
     "data": {
      "text/plain": [
       "array([[1., 2., 3.],\n",
       "       [1., 2., 3.]])"
      ]
     },
     "execution_count": 278,
     "metadata": {},
     "output_type": "execute_result"
    }
   ],
   "source": [
    "M + a"
   ]
  },
  {
   "cell_type": "markdown",
   "id": "d1504424-41a3-4601-a10d-8069aef43c50",
   "metadata": {},
   "source": [
    "#### Пример 2"
   ]
  },
  {
   "cell_type": "code",
   "execution_count": 279,
   "id": "002b328b-9c9e-4cf6-a0d8-77322f29d6f7",
   "metadata": {},
   "outputs": [
    {
     "name": "stdout",
     "output_type": "stream",
     "text": [
      "[[0]\n",
      " [1]\n",
      " [2]]\n",
      "[0 1 2]\n"
     ]
    }
   ],
   "source": [
    "a = np.arange(3).reshape((3, 1))\n",
    "print(a)\n",
    "b = np.arange(3)\n",
    "print(b)"
   ]
  },
  {
   "cell_type": "code",
   "execution_count": 280,
   "id": "ee2d8d99-edfa-4681-9b94-dee2e02c76ac",
   "metadata": {},
   "outputs": [
    {
     "data": {
      "text/plain": [
       "array([[0, 1, 2],\n",
       "       [1, 2, 3],\n",
       "       [2, 3, 4]])"
      ]
     },
     "execution_count": 280,
     "metadata": {},
     "output_type": "execute_result"
    }
   ],
   "source": [
    "a + b"
   ]
  },
  {
   "cell_type": "markdown",
   "id": "39c39adb-7e09-4698-839a-e52afabdd4da",
   "metadata": {},
   "source": [
    "#### Пример 3"
   ]
  },
  {
   "cell_type": "code",
   "execution_count": 281,
   "id": "0fcf339d-5b42-48dd-9db9-b0b3603c36f3",
   "metadata": {},
   "outputs": [
    {
     "name": "stdout",
     "output_type": "stream",
     "text": [
      "[[1. 1.]\n",
      " [1. 1.]\n",
      " [1. 1.]]\n",
      "[0 1 2]\n"
     ]
    }
   ],
   "source": [
    "M = np.ones((3, 2))\n",
    "print(M)\n",
    "a = np.arange(3)\n",
    "print(a)"
   ]
  },
  {
   "cell_type": "code",
   "execution_count": 282,
   "id": "bafbe9d6-7dc3-461b-8ce4-ef6e283f9ecf",
   "metadata": {},
   "outputs": [
    {
     "ename": "ValueError",
     "evalue": "operands could not be broadcast together with shapes (3,2) (3,) ",
     "output_type": "error",
     "traceback": [
      "\u001b[0;31m---------------------------------------------------------------------------\u001b[0m",
      "\u001b[0;31mValueError\u001b[0m                                Traceback (most recent call last)",
      "Cell \u001b[0;32mIn[282], line 1\u001b[0m\n\u001b[0;32m----> 1\u001b[0m \u001b[43mM\u001b[49m\u001b[43m \u001b[49m\u001b[38;5;241;43m+\u001b[39;49m\u001b[43m \u001b[49m\u001b[43ma\u001b[49m\n",
      "\u001b[0;31mValueError\u001b[0m: operands could not be broadcast together with shapes (3,2) (3,) "
     ]
    }
   ],
   "source": [
    "M + a"
   ]
  },
  {
   "cell_type": "code",
   "execution_count": null,
   "id": "1d58abbf-94fa-4a3c-bb44-f69b3c2a95ea",
   "metadata": {},
   "outputs": [],
   "source": [
    "print(a.shape)\n",
    "print(a[:, np.newaxis].shape)"
   ]
  },
  {
   "cell_type": "code",
   "execution_count": null,
   "id": "4b361425-35d4-4bda-9fe4-61451ecc4dd4",
   "metadata": {},
   "outputs": [],
   "source": [
    "M + a[:, np.newaxis]"
   ]
  },
  {
   "cell_type": "markdown",
   "id": "33f211f9-4456-40d4-8c7e-a745f879ffaa",
   "metadata": {},
   "source": [
    "## Broadcasting на практике\n",
    "\n",
    "Broadcasting является основой многих примеров из этой книги. Дальше приведены несколько операций в которых может быть полезен broadcasting."
   ]
  },
  {
   "cell_type": "markdown",
   "id": "d4e4d368-ce57-4a1f-8d63-706df0595f68",
   "metadata": {},
   "source": [
    "### Центрирование массива"
   ]
  },
  {
   "cell_type": "code",
   "execution_count": null,
   "id": "cf77a777-74c3-44dc-9d1a-792efebfcafd",
   "metadata": {},
   "outputs": [],
   "source": [
    "X = np.random.random((10, 3))\n",
    "print(X)"
   ]
  },
  {
   "cell_type": "code",
   "execution_count": null,
   "id": "51c4e455-2b92-4068-9dd5-9c42f958f745",
   "metadata": {},
   "outputs": [],
   "source": [
    "Xmean = X.mean(0)\n",
    "Xmean"
   ]
  },
  {
   "cell_type": "code",
   "execution_count": null,
   "id": "c23a5d37-4214-4f5d-a8af-fac6c1099be7",
   "metadata": {},
   "outputs": [],
   "source": [
    "X_centered = X - Xmean\n",
    "X_centered"
   ]
  },
  {
   "cell_type": "code",
   "execution_count": null,
   "id": "88427c9f-52d7-4470-a23a-a335d861f31c",
   "metadata": {},
   "outputs": [],
   "source": [
    "X_centered.mean(0)"
   ]
  },
  {
   "cell_type": "markdown",
   "id": "07b9e954-e8d0-45e8-945e-1ea1cb678336",
   "metadata": {},
   "source": [
    "### Отображение двумерной функции\n",
    "\n",
    "Графическое отображение функции z = f(x, y)"
   ]
  },
  {
   "cell_type": "code",
   "execution_count": null,
   "id": "547a040a-25ba-4099-80e3-5590d6f5c6f8",
   "metadata": {},
   "outputs": [],
   "source": [
    "# x and y have 50 steps from 0 to 5\n",
    "x = np.linspace(0, 5, 50)\n",
    "y = np.linspace(0, 5, 50)[:, np.newaxis]\n",
    "\n",
    "z = np.sin(x) ** 10 + np.cos(10 + y * x) * np.cos(x)"
   ]
  },
  {
   "cell_type": "code",
   "execution_count": null,
   "id": "f4fe3812-c6aa-445a-902f-b26f2916f8fa",
   "metadata": {},
   "outputs": [],
   "source": [
    "%matplotlib inline\n",
    "import matplotlib.pyplot as plt"
   ]
  },
  {
   "cell_type": "code",
   "execution_count": null,
   "id": "4f32b9b9-e127-4c25-bb87-d7491e3ec76b",
   "metadata": {},
   "outputs": [],
   "source": [
    "plt.imshow(z, origin='lower', extent=[0, 5, 0, 5], cmap='viridis')\n",
    "plt.colorbar();"
   ]
  },
  {
   "cell_type": "markdown",
   "id": "24c7ade9-c7bf-471a-93cc-95ba7e6fd70e",
   "metadata": {},
   "source": [
    "## Сравнения, маски и двоичная логика"
   ]
  },
  {
   "cell_type": "markdown",
   "id": "239d66db-1ed2-4e6b-a545-24a1a60d4aa7",
   "metadata": {},
   "source": [
    "### Пример: подсчёт дождливых дней\n",
    "\n",
    "CSV файл содержит данные по дождливым дням в Сиэтле в 2014 году."
   ]
  },
  {
   "cell_type": "code",
   "execution_count": null,
   "id": "8985ecc0-33c7-42ef-be28-3df3c684801a",
   "metadata": {},
   "outputs": [],
   "source": [
    "import numpy as np\n",
    "import pandas as pd\n",
    "\n",
    "# use pandas to extract rainfall inches as a NumPy array\n",
    "rainfall = pd.read_csv('notebooks_v1/data/Seattle2014.csv')['PRCP'].values\n",
    "inches = rainfall / 254.0  # 1/10mm -> inches\n",
    "rainfall.shape"
   ]
  },
  {
   "cell_type": "code",
   "execution_count": null,
   "id": "1a344508-1991-4940-9f8f-cfa8054581c9",
   "metadata": {},
   "outputs": [],
   "source": [
    "%matplotlib inline\n",
    "import matplotlib.pyplot as plt\n",
    "import seaborn; seaborn.set()  # set plot styles"
   ]
  },
  {
   "cell_type": "code",
   "execution_count": null,
   "id": "b983684e-0769-4c12-b327-b9c79053e4f7",
   "metadata": {},
   "outputs": [],
   "source": [
    "plt.hist(rainfall, 40);"
   ]
  },
  {
   "cell_type": "markdown",
   "id": "25bce83b-e8ff-4958-b362-b4dd251ea346",
   "metadata": {},
   "source": [
    "## Операторы сравнения как ufuncs\n",
    "\n",
    "Результатом операций сравнения всегда является массив с элементами типа `bool`."
   ]
  },
  {
   "cell_type": "code",
   "execution_count": null,
   "id": "f9b9a038-5550-451f-a0c7-b96f6a4cfb17",
   "metadata": {},
   "outputs": [],
   "source": [
    "x = np.array([1, 2, 3, 4, 5])"
   ]
  },
  {
   "cell_type": "code",
   "execution_count": null,
   "id": "44a206d2-bd15-4dbe-ac71-c8f0c1bc9d1d",
   "metadata": {},
   "outputs": [],
   "source": [
    "x < 3"
   ]
  },
  {
   "cell_type": "code",
   "execution_count": null,
   "id": "70b9d46c-4577-4ea0-a4a4-a440082c58ff",
   "metadata": {},
   "outputs": [],
   "source": [
    "x > 3"
   ]
  },
  {
   "cell_type": "code",
   "execution_count": null,
   "id": "31b62e0c-aa55-4916-9175-31db5e481a5b",
   "metadata": {},
   "outputs": [],
   "source": [
    "x != 3"
   ]
  },
  {
   "cell_type": "code",
   "execution_count": null,
   "id": "504cfea1-44ae-4ec3-bd86-ad782111677d",
   "metadata": {},
   "outputs": [],
   "source": [
    "x == 3"
   ]
  },
  {
   "cell_type": "raw",
   "id": "2783ed7c-65ca-4e1c-bc97-001151691d79",
   "metadata": {},
   "source": [
    "Использование `x < 3` эквивалентно вызову функции `np.less(x, 3)`.\n",
    "\n",
    "Operator \tEquivalent ufunc \t\tOperator \tEquivalent ufunc   \n",
    "== \t        np.equal         \t\t!=      \tnp.not_equal   \n",
    "<       \tnp.less         \t\t<=      \tnp.less_equal   \n",
    ">       \tnp.greater      \t\t>=      \tnp.greater_equal"
   ]
  },
  {
   "cell_type": "code",
   "execution_count": null,
   "id": "84fbdaec-90ec-4bd0-910c-8d7b7c9890a9",
   "metadata": {},
   "outputs": [],
   "source": [
    "rng = np.random.RandomState(0)\n",
    "x = rng.randint(10, size=(3, 4))\n",
    "x"
   ]
  },
  {
   "cell_type": "code",
   "execution_count": null,
   "id": "c86db95c-d201-415a-af5c-77efa22c0664",
   "metadata": {},
   "outputs": [],
   "source": [
    "x < 6"
   ]
  },
  {
   "cell_type": "markdown",
   "id": "0e76b9ad-ae86-4a21-a273-3836effd6c08",
   "metadata": {},
   "source": [
    "## Работа с массивами с типом `bool`"
   ]
  },
  {
   "cell_type": "code",
   "execution_count": null,
   "id": "fe45a832-813c-48b0-894f-221cb95ce39f",
   "metadata": {},
   "outputs": [],
   "source": [
    "print(x)"
   ]
  },
  {
   "cell_type": "markdown",
   "id": "6dee6c87-796f-4c70-9f7f-ea26c4acdbcf",
   "metadata": {},
   "source": [
    "### Подсчёт количества"
   ]
  },
  {
   "cell_type": "code",
   "execution_count": null,
   "id": "6c8d59cd-7d4e-475d-b2c3-9398c345547f",
   "metadata": {},
   "outputs": [],
   "source": [
    "# how many values less than 6?\n",
    "np.count_nonzero(x < 6)"
   ]
  },
  {
   "cell_type": "markdown",
   "id": "b4281967-dbb7-4510-b78f-0a394eb9eca1",
   "metadata": {},
   "source": [
    "Можно также использовать функцию `np.sum`. В этом случае `False` интерпретируется как 0, а `True` как 1."
   ]
  },
  {
   "cell_type": "code",
   "execution_count": null,
   "id": "ea0b4509-4fdc-4aca-83f8-c96de59da263",
   "metadata": {},
   "outputs": [],
   "source": [
    "np.sum(x < 6)"
   ]
  },
  {
   "cell_type": "markdown",
   "id": "cef87e37-d679-494b-a22a-7a718b6858c0",
   "metadata": {},
   "source": [
    "Преимущество функции `np.sum` в том, что эта функция может осуществлять подсчёт вдоль рядов или колонок."
   ]
  },
  {
   "cell_type": "code",
   "execution_count": null,
   "id": "7f0208cf-1b31-4aed-a332-c04d9561d4df",
   "metadata": {},
   "outputs": [],
   "source": [
    "# how many values less than 6 in each row?\n",
    "np.sum(x < 6, axis=1)"
   ]
  },
  {
   "cell_type": "markdown",
   "id": "e9b6ba4b-d08f-48f0-867c-9cecfa217db7",
   "metadata": {},
   "source": [
    "Если нам надо узнать все ли элементы равны `True` или только часть `True`, то можно использовать функции `np.all` и `np.any`."
   ]
  },
  {
   "cell_type": "code",
   "execution_count": null,
   "id": "d7e746cf-d91b-4ea3-b078-e3040a362399",
   "metadata": {},
   "outputs": [],
   "source": [
    "# are there any values greater than 8?\n",
    "np.any(x > 8)"
   ]
  },
  {
   "cell_type": "code",
   "execution_count": null,
   "id": "574a716d-1775-4156-a95b-7a46b1188bcf",
   "metadata": {},
   "outputs": [],
   "source": [
    "# are there any values less than zero?\n",
    "np.any(x < 0)"
   ]
  },
  {
   "cell_type": "code",
   "execution_count": null,
   "id": "b0564693-12e4-47d7-be95-c27fec1d6232",
   "metadata": {},
   "outputs": [],
   "source": [
    "# are all values less than 10?\n",
    "np.all(x < 10)"
   ]
  },
  {
   "cell_type": "code",
   "execution_count": null,
   "id": "77bded5d-4e6a-4a90-87b3-5f1ba03146b6",
   "metadata": {},
   "outputs": [],
   "source": [
    "# are all values equal to 6?\n",
    "np.all(x == 6)"
   ]
  },
  {
   "cell_type": "markdown",
   "id": "f5670b65-90b5-4321-a77b-e867e1e81623",
   "metadata": {},
   "source": [
    "Функции `np.all` и `np.any` могут также использоваться для расчётов вдоль рядов или колонок."
   ]
  },
  {
   "cell_type": "code",
   "execution_count": null,
   "id": "ebb6ef86-0400-4b99-b8f8-ff35f38fb5d4",
   "metadata": {},
   "outputs": [],
   "source": [
    "# are all values in each row less than 8?\n",
    "np.all(x < 8, axis=1)"
   ]
  },
  {
   "cell_type": "markdown",
   "id": "6a85f995-8c87-4d52-b2be-7f341a32a2c6",
   "metadata": {},
   "source": [
    "Т.е. в этом массиве все элементы в первом и третьем ряду меньше 8, в то время как во втором ряду это не так."
   ]
  },
  {
   "cell_type": "markdown",
   "id": "3396fa9c-1177-42d0-a35c-ff6112486705",
   "metadata": {},
   "source": [
    "### Логические операторы\n",
    "\n",
    "В NumPy есть операторы битовой логики `&`, `|`, `^`, и `~`."
   ]
  },
  {
   "cell_type": "code",
   "execution_count": null,
   "id": "b1651f52-dbf7-4cac-a7e7-4212326d088d",
   "metadata": {},
   "outputs": [],
   "source": [
    "# Найти количество дней когда уровень осадков был более 0.5 дюймов, но меньше чем 1 дюйм.\n",
    "np.sum((inches > 0.5) & (inches < 1))"
   ]
  },
  {
   "cell_type": "code",
   "execution_count": null,
   "id": "21714eb6-817c-4e80-9bbe-119dabf188c6",
   "metadata": {},
   "outputs": [],
   "source": [
    "print(\"Number days without rain:\\t\", np.sum(inches == 0))\n",
    "print(\"Number days with rain:\\t\\t\", np.sum(inches != 0))\n",
    "print(\"Days with more than 0.5 inches:\\t\", np.sum(inches > 0.5))\n",
    "print(\"Rainy days with < 0.2 inches:\\t\", np.sum((inches > 0) & (inches < 0.2)))"
   ]
  },
  {
   "cell_type": "markdown",
   "id": "64564d5d-4375-4f41-9e87-bfbf8090c4bb",
   "metadata": {},
   "source": [
    "## Двоичные массивы в качестве масок\n",
    "\n",
    "Допустим мы хотим получить массив со значениями, которые меньше 5, для этого возьмём массив `x`:"
   ]
  },
  {
   "cell_type": "code",
   "execution_count": null,
   "id": "b3cfdb23-2823-4672-b16d-498c382ed080",
   "metadata": {},
   "outputs": [],
   "source": [
    "x = np.random.randint(10, size=(3, 4))\n",
    "x"
   ]
  },
  {
   "cell_type": "markdown",
   "id": "0e9ea060-27ff-4cdb-b4ed-086e77924551",
   "metadata": {},
   "source": [
    "Мы можем легко получить двоичный массив с помощью оператора сравнения:"
   ]
  },
  {
   "cell_type": "code",
   "execution_count": null,
   "id": "36552503-2789-4ca3-a12b-b1b9423a6c6b",
   "metadata": {},
   "outputs": [],
   "source": [
    "x < 5"
   ]
  },
  {
   "cell_type": "markdown",
   "id": "4172dfa8-013f-41c9-bcb9-40469c6af1d2",
   "metadata": {},
   "source": [
    "Чтобы получить из массива все значения меньше 5, мы можем просто провести индексирование на этом двоичном массиве; эта операция известна как _оператор маскирования_:"
   ]
  },
  {
   "cell_type": "code",
   "execution_count": null,
   "id": "f5417fc7-19b5-4bb0-8d69-81c8194b1b0f",
   "metadata": {},
   "outputs": [],
   "source": [
    "x[x < 5]"
   ]
  },
  {
   "cell_type": "markdown",
   "id": "2ca68489-0ca0-4dfe-b930-6c4408e89a8e",
   "metadata": {},
   "source": [
    "В качестве результата возвращается одномерным массив, заполненные всеми значениями, которые удовлетворяют условию (x < 5). Другими словами, все значения на позициях которых двоичные маска-массив имеет значение `True`.\n",
    "\n",
    "Таким образом мы получаем возможность обрабатывать данные так, как нам надо. Например, мы можем вычислить различные статистические данные для значение по Сиэттлу:"
   ]
  },
  {
   "cell_type": "code",
   "execution_count": null,
   "id": "d1fb3e6b-61fb-42e0-80cb-e227b721750d",
   "metadata": {},
   "outputs": [],
   "source": [
    "# construct a mask of all rainy days\n",
    "rainy = (inches > 0)\n",
    "\n",
    "# construct a mask of all summer days (June 21st is the 172nd day)\n",
    "days = np.arange(365)\n",
    "summer = (days > 172) & (days < 262)\n",
    "\n",
    "print(\"Median precip on rainy days in 2014 (inches):   \", np.median(inches[rainy]))\n",
    "\n",
    "print(\"Median precip on summer days in 2014 (inches):  \", np.median(inches[summer]))\n",
    "\n",
    "print(\"Maximum precip on summer days in 2014 (inches): \", np.max(inches[summer]))\n",
    "\n",
    "print(\"Median precip on non-summer rainy days (inches):\", np.median(inches[rainy & ~summer]))"
   ]
  },
  {
   "cell_type": "markdown",
   "id": "1206122b-13bc-4258-997a-28c6f8d4f028",
   "metadata": {},
   "source": [
    "## Использование ключевых слов `and`/`or` или операторов `&`/`|`"
   ]
  },
  {
   "cell_type": "markdown",
   "id": "e247b413-defd-44f1-9329-63b289c3662e",
   "metadata": {},
   "source": [
    "Одна из частых точек для замешательства - это разница между ключевыми словами `and` и `or` с одной стороны, и операторами `&` и `|` с другой стороны.\n",
    "\n",
    "Разница в том, что `and` и `or` определяют правду или лодь на основании всего объекта целиком, тогда как `&` и `|` работают с битами внутри каждого объекта.\n",
    "\n",
    "Когда мы используем `and` или `or` - это как попросить Python обработать весь объект как одиночное булево значение. В Python, все ненулевые целые значения являются `True`. Таким образом:"
   ]
  },
  {
   "cell_type": "code",
   "execution_count": null,
   "id": "cff0405c-c476-4183-b1cd-5527f2c0d24b",
   "metadata": {},
   "outputs": [],
   "source": [
    "bool(42), bool(0)"
   ]
  },
  {
   "cell_type": "code",
   "execution_count": null,
   "id": "1b240e99-34eb-4c8e-ad6a-b6f704279ef3",
   "metadata": {},
   "outputs": [],
   "source": [
    "bool(42 and 0)"
   ]
  },
  {
   "cell_type": "code",
   "execution_count": null,
   "id": "50f2d209-a0f6-43d0-bc99-310f01ddb797",
   "metadata": {},
   "outputs": [],
   "source": [
    "bool(42 or 0)"
   ]
  },
  {
   "cell_type": "markdown",
   "id": "71954034-f674-4e78-9967-c8a6cac2ee85",
   "metadata": {},
   "source": [
    "Когда вы используете `&` и `|` на целочисленных значениях, выражение оперирует битами этого значения, применяя `and` или `or` к каждому биту, таким образом получая результат:"
   ]
  },
  {
   "cell_type": "code",
   "execution_count": null,
   "id": "a6c91082-30b7-421d-a6e8-4d744b51c6c2",
   "metadata": {},
   "outputs": [],
   "source": [
    "bin(42)"
   ]
  },
  {
   "cell_type": "code",
   "execution_count": null,
   "id": "938d5ef0-738a-4e7c-8b06-7046b47c512e",
   "metadata": {},
   "outputs": [],
   "source": [
    "bin(59)"
   ]
  },
  {
   "cell_type": "code",
   "execution_count": null,
   "id": "21bc9b68-83f8-44fe-8e76-37e2e72c2bc5",
   "metadata": {},
   "outputs": [],
   "source": [
    "bin(42 & 59)"
   ]
  },
  {
   "cell_type": "code",
   "execution_count": null,
   "id": "5ee91e47-7607-4444-b5ac-f4cdd62de238",
   "metadata": {},
   "outputs": [],
   "source": [
    "bin(42 | 59)"
   ]
  },
  {
   "cell_type": "markdown",
   "id": "ffb6419f-674f-4305-98f3-fc72dda82e74",
   "metadata": {},
   "source": [
    "## Необычное индексирование\n",
    "\n",
    "В отличие от доступа к элементам по скалярному индексу `x[5]`, необычное индексирование предполагает передачу целого массива индексов."
   ]
  },
  {
   "cell_type": "markdown",
   "id": "11898598-f623-4bdf-9d86-2aaa203d0d42",
   "metadata": {},
   "source": [
    "## Начала необычного индексирования"
   ]
  },
  {
   "cell_type": "markdown",
   "id": "da90136d-7929-4032-92cf-3dc6251a25c2",
   "metadata": {},
   "source": [
    "Необычное индексирование является концептуально простым: оно предполагает передачу массива индексов для доступа к множественным элементам исходного массива. Например:"
   ]
  },
  {
   "cell_type": "code",
   "execution_count": null,
   "id": "418cc4ce-a8a9-49f3-93a5-29f3cba8e131",
   "metadata": {},
   "outputs": [],
   "source": [
    "import numpy as np\n",
    "rand = np.random.RandomState(42)\n",
    "\n",
    "x = rand.randint(100, size=10)\n",
    "print(x)"
   ]
  },
  {
   "cell_type": "markdown",
   "id": "d3964912-2050-4c27-95f3-3490934fd06d",
   "metadata": {},
   "source": [
    "Допустим мы хотим получить три различных элемента этого массива:"
   ]
  },
  {
   "cell_type": "code",
   "execution_count": null,
   "id": "18f6fe23-9a55-4385-9a1f-7be622b84eaf",
   "metadata": {},
   "outputs": [],
   "source": [
    "# традиционный подход\n",
    "[x[3], x[7], x[4]]"
   ]
  },
  {
   "cell_type": "code",
   "execution_count": null,
   "id": "3db95f56-3a9f-48b3-9183-89fdbba39b57",
   "metadata": {},
   "outputs": [],
   "source": [
    "# необычное индексирование\n",
    "ind = [3, 7, 4]\n",
    "x[ind]"
   ]
  },
  {
   "cell_type": "markdown",
   "id": "d57f1979-c103-4b53-89d7-f7d88f0ade4b",
   "metadata": {},
   "source": [
    "При использовании необычного индексирования, форма результата отражает форму массива индексов, а не исходного массива:"
   ]
  },
  {
   "cell_type": "code",
   "execution_count": null,
   "id": "0d5dce89-9a4f-4b86-adc4-5dfe9044c4db",
   "metadata": {},
   "outputs": [],
   "source": [
    "ind = np.array([[3, 7],\n",
    "                [4, 5]])\n",
    "# массив `x` является одномерным, однако результат получается двумерным\n",
    "x[ind]"
   ]
  },
  {
   "cell_type": "markdown",
   "id": "eaa5ecbc-fc05-4b94-819e-ebb027b49071",
   "metadata": {},
   "source": [
    "Необычное индексирование работает также для многомерных массивов:"
   ]
  },
  {
   "cell_type": "code",
   "execution_count": null,
   "id": "2f1e9678-88b6-4949-977b-554a284e6665",
   "metadata": {},
   "outputs": [],
   "source": [
    "X = np.arange(12).reshape((3, 4))\n",
    "X"
   ]
  },
  {
   "cell_type": "markdown",
   "id": "a8e3baf0-2312-40bf-ac3f-06ed03b42db0",
   "metadata": {},
   "source": [
    "Также как и в обычном индексировании, первый индекс соответствует ряду, второй - колонке:"
   ]
  },
  {
   "cell_type": "code",
   "execution_count": null,
   "id": "f8d68048-e538-44b1-b398-5aacde08548f",
   "metadata": {},
   "outputs": [],
   "source": [
    "row = np.array([0, 1, 2])\n",
    "col = np.array([2, 1, 3])\n",
    "X[row, col]"
   ]
  },
  {
   "cell_type": "markdown",
   "id": "77bcf169-a254-4432-a3cd-f77748a5a215",
   "metadata": {},
   "source": [
    "В данном премере получается, что первое значение равно `X[0,2]` (2), второе `X[1,1]` (5) и третье `X[2,3]` (11)."
   ]
  },
  {
   "cell_type": "markdown",
   "id": "23969c5b-7793-4d95-a83f-549a72eef136",
   "metadata": {},
   "source": [
    "## Комбинированное индексирование\n",
    "\n",
    "Для получение более мощных операций, необычное индексирование может быть скомбинировано с другими схемами индексирование, которые мы встречали раньше:"
   ]
  },
  {
   "cell_type": "code",
   "execution_count": null,
   "id": "83998234-76af-4a07-b313-fcb9f41efe91",
   "metadata": {},
   "outputs": [],
   "source": [
    "print(X)"
   ]
  },
  {
   "cell_type": "markdown",
   "id": "99ce66f4-56d7-4508-b66b-ffa898ed838d",
   "metadata": {},
   "source": [
    "Из массива `X` извлечь элементы с индексами (2,2), (2,0) и (2,1):"
   ]
  },
  {
   "cell_type": "code",
   "execution_count": null,
   "id": "4d8a7ccf-32f9-4f93-b06e-e8cacaf4e1de",
   "metadata": {},
   "outputs": [],
   "source": [
    "X[2, [2, 0, 1]]"
   ]
  },
  {
   "cell_type": "markdown",
   "id": "cea6867b-7538-47ec-b7a8-abde9edc94a6",
   "metadata": {},
   "source": [
    "Необычное индексирование может быть скомбинировано со срезами. Извлечь все данные из всех рядов, начиная с 1, для колонок 2, 0 и 1. Т.е. следующее выражение эквивалентно извлечениям: `X[1:, 2]`, `X[1:, 0]` и `X[1:, 1]`:"
   ]
  },
  {
   "cell_type": "code",
   "execution_count": null,
   "id": "fbbea467-1bef-45dd-932e-3986d3dfd44c",
   "metadata": {},
   "outputs": [],
   "source": [
    "X[1:, [2, 0, 1]]"
   ]
  },
  {
   "cell_type": "markdown",
   "id": "bb9611e6-5af7-401e-b0d5-69e8d9a9fe1c",
   "metadata": {},
   "source": [
    "Также необычное индексирование может быть использовано совместно с маскированием:"
   ]
  },
  {
   "cell_type": "markdown",
   "id": "8626261d-33ed-478e-8787-ffc7a2dcae48",
   "metadata": {},
   "source": [
    "# ЧТО ТУТ КОНКРЕТНО ПРОИСХОДИТ?"
   ]
  },
  {
   "cell_type": "code",
   "execution_count": null,
   "id": "1ed5f22b-fa2e-4e92-89e1-1b6ffbcf4be7",
   "metadata": {},
   "outputs": [],
   "source": [
    "mask = np.array([1, 0, 1, 0], dtype=bool)\n",
    "print(f\"{row=}\")\n",
    "print(\"Reshaped `row`:\", row[: ,np.newaxis])\n",
    "X[row[:, np.newaxis], mask]"
   ]
  },
  {
   "cell_type": "markdown",
   "id": "b3685c85-5f2b-4f91-804f-d666c9cde259",
   "metadata": {},
   "source": [
    "## Пример: выбор произвольных точек\n",
    "\n",
    "Одно из частых применение необычного индексирования заключается в извлечении подмножества рядом из матрицы. Например, мы имеет матрицу _N_ на _D_, представляющую _N_ точек в _D_ измерениях, такую как следующие точки, отрисованные из двумерного нормального распределения:"
   ]
  },
  {
   "cell_type": "code",
   "execution_count": null,
   "id": "40315f50-dcac-4a8e-ae67-05cc9af76c65",
   "metadata": {},
   "outputs": [],
   "source": [
    "mean = [0, 0]\n",
    "cov = [[1, 2],\n",
    "       [2, 5]]\n",
    "X = rand.multivariate_normal(mean, cov, 100)\n",
    "X.shape"
   ]
  },
  {
   "cell_type": "raw",
   "id": "e462832d-8cd3-4533-8fad-ee6c6a684998",
   "metadata": {},
   "source": [
    "Мы можем визуализировать эти точки таким образом:"
   ]
  },
  {
   "cell_type": "code",
   "execution_count": null,
   "id": "8f1ae8af-e553-42e0-ab0f-ef43263a7d7b",
   "metadata": {},
   "outputs": [],
   "source": [
    "%matplotlib inline\n",
    "import matplotlib.pyplot as plt\n",
    "import seaborn; seaborn.set()  # for plot styling\n",
    "\n",
    "plt.scatter(X[:, 0], X[:, 1]);"
   ]
  },
  {
   "cell_type": "markdown",
   "id": "712eb619-8c2e-4395-85a1-91dbe036fa10",
   "metadata": {},
   "source": [
    "Давайте попробуем использовать необычное индексирование для выбора 20 произвольных точек. Мы сделаем это путем выбора 20 произвольных неповторяющихся индексов и используем эти индексы для выбора части из исходного массива:"
   ]
  },
  {
   "cell_type": "code",
   "execution_count": null,
   "id": "80f72296-e290-4768-82ff-67b0bf22a319",
   "metadata": {},
   "outputs": [],
   "source": [
    "indices = np.random.choice(X.shape[0], 20, replace=False)\n",
    "indices"
   ]
  },
  {
   "cell_type": "code",
   "execution_count": null,
   "id": "ebcab5c8-e554-499e-80a6-3a87562c8088",
   "metadata": {},
   "outputs": [],
   "source": [
    "selection = X[indices]  # fancy indexing here\n",
    "selection.shape"
   ]
  },
  {
   "cell_type": "markdown",
   "id": "ed878eee-3b63-4bcb-aaba-6bf8682ada15",
   "metadata": {},
   "source": [
    "Для отображения выбранных точек давайте нарисуем большие круги вокруг этих выбранных точек:"
   ]
  },
  {
   "cell_type": "code",
   "execution_count": null,
   "id": "bf1aee5f-7d73-4865-bcac-f7b28647992f",
   "metadata": {},
   "outputs": [],
   "source": [
    "plt.scatter(X[:, 0], X[:, 1], alpha=0.3)\n",
    "plt.scatter(selection[:, 0], selection[:, 1], s=200, alpha=0.1, edgecolors='red');"
   ]
  },
  {
   "cell_type": "markdown",
   "id": "e6b29b32-5bbb-4a6e-ad49-ee70ce16811d",
   "metadata": {},
   "source": [
    "## Изменение значений с помощью необычного индексирования\n",
    "\n",
    "Необычное индексирование может использоваться как для извлечения элементов массива, так и для их изменения.\n",
    "\n",
    "В этом примере индексам `[0,0]`, т.е. первому элементу массива присваиваются значения массива `[4,6]`, т.е. первому элементу массива сначала присваивается `4`, а потом `6`, поэтому первый элемент равен `6`, а остальные остались неизменными:"
   ]
  },
  {
   "cell_type": "code",
   "execution_count": null,
   "id": "97bde0a9-1bec-4204-8b06-01268db03fd0",
   "metadata": {},
   "outputs": [],
   "source": [
    "x = np.zeros(10)\n",
    "print(\"Before\", x)\n",
    "x[[0, 0]] = [4, 6]\n",
    "print(\"After\", x)"
   ]
  },
  {
   "cell_type": "markdown",
   "id": "c0bcedb4-8f86-497d-921e-9d0b5173511e",
   "metadata": {},
   "source": [
    "Далее идёт совсем не интуитивный пример:"
   ]
  },
  {
   "cell_type": "code",
   "execution_count": null,
   "id": "e53c6f66-e28d-42cb-a0d5-8f7b8b580451",
   "metadata": {},
   "outputs": [],
   "source": [
    "i = [2, 3, 3, 4, 4, 4]\n",
    "x[i] += 1\n",
    "x"
   ]
  },
  {
   "cell_type": "markdown",
   "id": "d342bd44-783b-4513-9d82-859107e879fb",
   "metadata": {},
   "source": [
    "Для увеличения определенных индексов на определённую величину лучше использовать следующий подход:"
   ]
  },
  {
   "cell_type": "code",
   "execution_count": null,
   "id": "3a6e3522-60a4-471c-b4a6-3c1aab45a665",
   "metadata": {},
   "outputs": [],
   "source": [
    "x = np.zeros(10)\n",
    "np.add.at(x, i, 1)\n",
    "print(x)"
   ]
  },
  {
   "cell_type": "markdown",
   "id": "dbe16913-a50d-4aed-8f1c-e6b32b0b1d90",
   "metadata": {},
   "source": [
    "## Пример: группировка данных"
   ]
  },
  {
   "cell_type": "markdown",
   "id": "db4929b9-3bc0-4b6d-bf81-c4e4102945df",
   "metadata": {},
   "source": [
    "Вы можете использовать эти идеи для эффективной группировки данных для создания гистограммы. Например, представьте, что мы имеет 1000 значений и хотели бы быстро найти в какие группы они попадают. Мы можем вычислить это с помощью `ufunc.at`:"
   ]
  },
  {
   "cell_type": "code",
   "execution_count": null,
   "id": "83078683-7b78-41ae-b5cf-4df4e16de0da",
   "metadata": {},
   "outputs": [],
   "source": [
    "np.random.seed(42)\n",
    "x = np.random.randn(100)\n",
    "\n",
    "# compute a histogram by hand\n",
    "bins = np.linspace(-5, 5, 20)\n",
    "counts = np.zeros_like(bins)\n",
    "\n",
    "# find the appropriate bin for each x\n",
    "i = np.searchsorted(bins, x)\n",
    "\n",
    "# add 1 to each of these bins\n",
    "np.add.at(counts, i, 1)"
   ]
  },
  {
   "cell_type": "code",
   "execution_count": null,
   "id": "2b955ea5-51e2-4906-9fb8-f56955441609",
   "metadata": {},
   "outputs": [],
   "source": [
    "# plot the results\n",
    "plt.plot(bins, counts, ds='steps');"
   ]
  },
  {
   "cell_type": "code",
   "execution_count": null,
   "id": "acd5d008-55ad-4589-aace-5454bc0e08a0",
   "metadata": {},
   "outputs": [],
   "source": [
    "# тоже самое, но через специальную функцию `hist`, которая используется для построения гистограмм.\n",
    "plt.hist(x, bins, histtype='step');"
   ]
  },
  {
   "cell_type": "markdown",
   "id": "7a073af4-c952-43a7-aad3-e8f2df5df0f4",
   "metadata": {},
   "source": [
    "# Сортировка массивов"
   ]
  },
  {
   "cell_type": "code",
   "execution_count": null,
   "id": "50951bcc-28df-4b43-a7c5-fee7e6a9ceba",
   "metadata": {},
   "outputs": [],
   "source": [
    "# возвратить отсортированный (quicksort) массив не изменяя исходного массива\n",
    "x = np.array([2, 1, 4, 3, 5])\n",
    "np.sort(x)"
   ]
  },
  {
   "cell_type": "code",
   "execution_count": null,
   "id": "3dec0acf-ab41-4ca0-a716-b3c74549aa87",
   "metadata": {},
   "outputs": [],
   "source": [
    "# сортировка исходного массива с заменой значений (in-place сортировка)\n",
    "x.sort()\n",
    "print(x)"
   ]
  },
  {
   "cell_type": "code",
   "execution_count": null,
   "id": "80d4c93c-bd64-4a8a-9893-eb9329e95dc9",
   "metadata": {},
   "outputs": [],
   "source": [
    "# `argsort` возвращает индексы отсортированных элементов\n",
    "# первый индекс - это индекс наименьшего элемента, и т.д.\n",
    "x = np.array([20, 10, 40, 30, 50])\n",
    "i = np.argsort(x)\n",
    "print(i)"
   ]
  },
  {
   "cell_type": "markdown",
   "id": "db5fd3f4-9c89-415d-bfa5-285ba045cf1f",
   "metadata": {},
   "source": [
    "## Сортировка по рядам и колонкам"
   ]
  },
  {
   "cell_type": "code",
   "execution_count": null,
   "id": "3722ceb4-84b8-4921-bb95-0fd727c65751",
   "metadata": {},
   "outputs": [],
   "source": [
    "rand = np.random.RandomState(42)\n",
    "X = rand.randint(0, 10, (4, 6))\n",
    "print(X)"
   ]
  },
  {
   "cell_type": "code",
   "execution_count": null,
   "id": "42586a29-e98a-496d-b24b-d7835029acb4",
   "metadata": {},
   "outputs": [],
   "source": [
    "# отсортировать каждую колонку массива X\n",
    "np.sort(X, axis=0)\n",
    "# ЗНАЧЕНИЯ В РЯДАХ ИЗМЕНЯЮТСЯ!!!\n",
    "# например, был ряд `[2 6 7 4 3 7]`, но теперь такого ряда нет вообще!"
   ]
  },
  {
   "cell_type": "code",
   "execution_count": null,
   "id": "e1aee2c0-2bdf-4b01-a8c2-c2e8a1c70384",
   "metadata": {},
   "outputs": [],
   "source": [
    "# отсортировать каждый ряд массива X\n",
    "np.sort(X, axis=1)\n",
    "# ЗНАЧЕНИЯ В КОЛОНКАХ ИЗМЕНЯЮТСЯ!"
   ]
  },
  {
   "cell_type": "markdown",
   "id": "5bfec921-44d1-4dc5-b5fc-ee3caf2d58e6",
   "metadata": {},
   "source": [
    "## Частичные сортировки: Секционирование\n",
    "\n",
    "Иногда нам не нужно сортировать весь массив целиком, а просто мы хотим найти `k` наименьших значений в массиве. NumPy предлагает такую возможность с функцией `np.partition`. Функция `np.partition` принимает массив и число _K_ (сколько наименьших значений надо найти); результатом является новый массив с наименьшими значениями в количестве _K_ слева и оставшимися значениями справа, **порядок произвольный**:"
   ]
  },
  {
   "cell_type": "code",
   "execution_count": null,
   "id": "07f823ba-b018-4d5e-b88f-3fed3fb9378b",
   "metadata": {},
   "outputs": [],
   "source": [
    "x = np.array([7, 2, 3, 1, 6, 5, 4])\n",
    "np.partition(x, 3)\n",
    "# _K_ = 3, соответсвенно `np.partition` найдёт 3 минимальных значения массива"
   ]
  },
  {
   "cell_type": "code",
   "execution_count": null,
   "id": "9302ccd5-0b1a-4a97-8556-46c60fa05343",
   "metadata": {},
   "outputs": [],
   "source": [
    "print(X)\n",
    "# в каждом ряду первые 2 значения будут наименьшими из данного ряда\n",
    "np.partition(X, 2, axis=1)"
   ]
  },
  {
   "cell_type": "markdown",
   "id": "c8d7444a-c3b8-444e-a7e7-1022323caf28",
   "metadata": {},
   "source": [
    "## Пример: k-ближайших соседей\n",
    "\n",
    "Давайте быстро посмотрим как мы можем использовать функцию `argsort` вдоль множественных осей для поиска ближайших соседей каждой точки в наборе. Мы начнём с создания произвольного набора из 10 точек в декартовых координатах. Согласно стандартному подходу, мы представим эти точки в массиве 10×2:"
   ]
  },
  {
   "cell_type": "code",
   "execution_count": 284,
   "id": "0c5ec327-c25f-42a0-87e2-b80935cfef1c",
   "metadata": {},
   "outputs": [
    {
     "data": {
      "text/plain": [
       "array([[7.68554014, 0.43603772],\n",
       "       [9.94550511, 4.69944514],\n",
       "       [2.79560342, 8.83494022],\n",
       "       [7.47718774, 9.53071847],\n",
       "       [3.30750305, 5.52764967],\n",
       "       [5.72292469, 9.80331584],\n",
       "       [0.75346256, 3.05697019],\n",
       "       [1.90911031, 2.68474857],\n",
       "       [4.85279874, 3.72686867],\n",
       "       [3.94691467, 8.44213141]])"
      ]
     },
     "execution_count": 284,
     "metadata": {},
     "output_type": "execute_result"
    }
   ],
   "source": [
    "X = rand.rand(10, 2)*10\n",
    "X"
   ]
  },
  {
   "cell_type": "markdown",
   "id": "e1970c19-9f3d-4dcb-ba43-4389fd573c57",
   "metadata": {},
   "source": [
    "Давайте посмотрим как они выглядят:"
   ]
  },
  {
   "cell_type": "code",
   "execution_count": 285,
   "id": "ea2f37f7-0e19-44cf-b58b-c39a1b7111ed",
   "metadata": {},
   "outputs": [
    {
     "data": {
      "image/png": "[encoded data removed]",
      "text/plain": [
       "<Figure size 640x480 with 1 Axes>"
      ]
     },
     "metadata": {},
     "output_type": "display_data"
    }
   ],
   "source": [
    "%matplotlib inline\n",
    "import matplotlib.pyplot as plt\n",
    "import seaborn; seaborn.set() # Plot styling\n",
    "plt.scatter(X[:, 0], X[:, 1], s=100);"
   ]
  },
  {
   "cell_type": "markdown",
   "id": "509123d2-0c06-4719-a4c8-511741de27fd",
   "metadata": {},
   "source": [
    "Теперь мы вычисли \"расстояние\" между каждой парой точек. Это квадратичное расстояние?"
   ]
  },
  {
   "cell_type": "code",
   "execution_count": 286,
   "id": "d6e77d66-6588-41b6-9b53-a407591ea521",
   "metadata": {},
   "outputs": [],
   "source": [
    "q = np.sum((X[:, np.newaxis, :] - X[np.newaxis, :, :]) ** 2, axis=-1)"
   ]
  },
  {
   "cell_type": "markdown",
   "id": "be52ee3a-098f-472e-aa7c-e2cee8cb5bee",
   "metadata": {},
   "source": [
    "Та же операция разбитая на шаги:"
   ]
  },
  {
   "cell_type": "code",
   "execution_count": 287,
   "id": "f74149c8-5e74-4290-b447-f6c59d19d882",
   "metadata": {},
   "outputs": [
    {
     "data": {
      "text/plain": [
       "(10, 10, 2)"
      ]
     },
     "execution_count": 287,
     "metadata": {},
     "output_type": "execute_result"
    }
   ],
   "source": [
    "# for each pair of points, compute differences in their coordinates\n",
    "differences = X[:, np.newaxis, :] - X[np.newaxis, :, :]\n",
    "differences.shape"
   ]
  },
  {
   "cell_type": "code",
   "execution_count": 288,
   "id": "cc39bc51-1914-4637-8fb5-70c9e144202c",
   "metadata": {},
   "outputs": [
    {
     "data": {
      "text/plain": [
       "(10, 10, 2)"
      ]
     },
     "execution_count": 288,
     "metadata": {},
     "output_type": "execute_result"
    }
   ],
   "source": [
    "# square the coordinate differences\n",
    "sq_differences = differences ** 2\n",
    "sq_differences.shape"
   ]
  },
  {
   "cell_type": "code",
   "execution_count": 289,
   "id": "a0a30fc0-b1df-407d-8ea1-1d811453afec",
   "metadata": {},
   "outputs": [
    {
     "data": {
      "text/plain": [
       "(10, 10)"
      ]
     },
     "execution_count": 289,
     "metadata": {},
     "output_type": "execute_result"
    }
   ],
   "source": [
    "# sum the coordinate differences to get the squared distance\n",
    "dist_sq = sq_differences.sum(-1)\n",
    "dist_sq.shape"
   ]
  },
  {
   "cell_type": "markdown",
   "id": "8bab3d60-3a9f-4ce1-a767-445829d5e7d6",
   "metadata": {},
   "source": [
    "Чтобы убедиться, что мы всё делаем правильно, мы должны увидеть, что диагональ матрицы (т.е. набор расстояние между каждой точкой и самим собой) все равны 0:"
   ]
  },
  {
   "cell_type": "code",
   "execution_count": 290,
   "id": "e1b48c87-7d48-4e40-b982-0385df433c8d",
   "metadata": {},
   "outputs": [
    {
     "data": {
      "text/plain": [
       "array([0., 0., 0., 0., 0., 0., 0., 0., 0., 0.])"
      ]
     },
     "execution_count": 290,
     "metadata": {},
     "output_type": "execute_result"
    }
   ],
   "source": [
    "dist_sq.diagonal()"
   ]
  },
  {
   "cell_type": "markdown",
   "id": "c88cf834-9b1d-4dca-bf26-778847e44188",
   "metadata": {},
   "source": [
    "Теперь можно использовать `np.argsort` для сортировки вдоль каждого ряда. Самая левая колонка даст нам индексы ближайших соседей:"
   ]
  },
  {
   "cell_type": "code",
   "execution_count": 291,
   "id": "69dd35ec-d439-40ee-91d2-4e496ab0395c",
   "metadata": {},
   "outputs": [
    {
     "name": "stdout",
     "output_type": "stream",
     "text": [
      "[[0 8 1 7 4 6 9 3 5 2]\n",
      " [1 0 8 3 5 4 9 2 7 6]\n",
      " [2 9 5 4 3 8 6 7 1 0]\n",
      " [3 5 9 2 1 4 8 7 0 6]\n",
      " [4 8 9 7 2 6 5 3 1 0]\n",
      " [5 3 9 2 4 8 1 7 6 0]\n",
      " [6 7 4 8 2 9 0 5 3 1]\n",
      " [7 6 8 4 9 0 2 5 1 3]\n",
      " [8 4 7 6 0 9 1 2 5 3]\n",
      " [9 2 5 4 3 8 7 6 1 0]]\n"
     ]
    }
   ],
   "source": [
    "nearest = np.argsort(dist_sq, axis=1)\n",
    "print(nearest)"
   ]
  },
  {
   "cell_type": "markdown",
   "id": "6f850daa-2c80-4ef1-83ef-ee06726c8764",
   "metadata": {},
   "source": [
    "Но использование сортировки в данном случае является избыточным. Если нам просто нужны _k_ ближайших соседей, то всё что нам нужно - это секционировать каждый ряд таким образом, что наименьшие _k+1_ значений будут первыми, а более дальние точки будут заполнять оставшиеся позиции массива. Мы можем сделать это с помощью функции `np.argpartition`:"
   ]
  },
  {
   "cell_type": "code",
   "execution_count": 292,
   "id": "ccdcb92b-e862-4abd-84b3-b30c671c054c",
   "metadata": {},
   "outputs": [],
   "source": [
    "K = 2\n",
    "nearest_partition = np.argpartition(dist_sq, K + 1, axis=1)"
   ]
  },
  {
   "cell_type": "markdown",
   "id": "a6b85ad6-016d-41b5-9fbf-a733240f8387",
   "metadata": {},
   "source": [
    "Для визуализации этой сети ближайших, давайти быстро нарисуем точки с линиями, представляющими связи между каждой точкой и ее ближайшим соседом:"
   ]
  },
  {
   "cell_type": "code",
   "execution_count": 293,
   "id": "1639d229-5bf9-4bbd-a2af-666d22b396e1",
   "metadata": {},
   "outputs": [
    {
     "data": {
      "image/png": "[encoded data removed]",
      "text/plain": [
       "<Figure size 640x480 with 1 Axes>"
      ]
     },
     "metadata": {},
     "output_type": "display_data"
    }
   ],
   "source": [
    "plt.scatter(X[:, 0], X[:, 1], s=100)\n",
    "\n",
    "# draw lines from each point to its two nearest neighbors\n",
    "K = 2\n",
    "\n",
    "for i in range(X.shape[0]):\n",
    "    for j in nearest_partition[i, :K+1]:\n",
    "        # plot a line from X[i] to X[j]\n",
    "        # use some zip magic to make it happen:\n",
    "        plt.plot(*zip(X[j], X[i]), color='black')"
   ]
  },
  {
   "cell_type": "markdown",
   "id": "ffdafa4a-08cd-4707-9ed0-8c15c6d445cf",
   "metadata": {},
   "source": [
    "# Структурированные данные: структурированные массивы NumPy"
   ]
  },
  {
   "cell_type": "markdown",
   "id": "2d358f72-e3f3-467d-bcd8-428ef8374ab3",
   "metadata": {},
   "source": [
    "Достаточно часто наши данные могут быть отлично представлены в виде гомогенных массивов значений, однако иногда это не является приемлемым.\n",
    "Текущая секция демонстрирует использование стуктурированных массивов NumPy и записей массивов (record arrays?), которые предлагают эффективное хранения для комплексных гетерогенных данных. В то время как шаблоны, показанные в этой секции, могут быть достаточно полезными для простых операций, однако подобные сценарии выглядят более подходящими для использования в фреймах данных Pandas."
   ]
  },
  {
   "cell_type": "code",
   "execution_count": 294,
   "id": "8a606022-930b-43e7-9fc2-996e28cec29a",
   "metadata": {},
   "outputs": [],
   "source": [
    "import numpy as np"
   ]
  },
  {
   "cell_type": "markdown",
   "id": "a566e6bf-ed9c-4309-9d0c-54053b9f1818",
   "metadata": {},
   "source": [
    "Представьте, что у нас есть несколько категорий данных по целому набору людей (например, имя, возраст и вес), и мы бы хотели сохранить эти значения для использования в Python-программе. Возможно сохранить их в разных массивах. Но это будет неудобно, не существует ничего, что бы подсказало нам, что эти массивы как-то связаны; было бы более естественно если бы мы могли использовать единую структуру для сохранения всех этих данных. NumPy может хранить подобные данные с помощью структурированных массивов, которые являются массивами для составных данных."
   ]
  },
  {
   "cell_type": "code",
   "execution_count": 298,
   "id": "38015168-2d78-486e-9151-0b645cff662e",
   "metadata": {},
   "outputs": [],
   "source": [
    "name = ['Alice', 'Bob', 'Cathy', 'Doug']\n",
    "age = [25, 45, 37, 19]\n",
    "weight = [55.0, 85.5, 68.0, 61.5]"
   ]
  },
  {
   "cell_type": "markdown",
   "id": "02d9085c-d87d-4393-93c4-876ff65b951b",
   "metadata": {},
   "source": [
    "Мы можем создать стуктуру с составными данными через использование спецификации типа составных данных:"
   ]
  },
  {
   "cell_type": "code",
   "execution_count": 295,
   "id": "1e836cd8-41e6-4206-a6cf-73dbd7637f18",
   "metadata": {},
   "outputs": [
    {
     "name": "stdout",
     "output_type": "stream",
     "text": [
      "[('name', '<U10'), ('age', '<i4'), ('weight', '<f8')]\n"
     ]
    }
   ],
   "source": [
    "# Use a compound data type for structured arrays\n",
    "data = np.zeros(4, dtype={'names':('name', 'age', 'weight'),\n",
    "                          'formats':('U10', 'i4', 'f8')})\n",
    "print(data.dtype)"
   ]
  },
  {
   "cell_type": "markdown",
   "id": "1e601e7e-79f6-43b2-9d21-304f5c96221f",
   "metadata": {},
   "source": [
    "Здесь:\n",
    "\n",
    "* `U10` читается как  \"Unicode string of maximum length 10\";\n",
    "* `i4` читается как \"4-byte (i.e., 32 bit) целое число\"\n",
    "* `f8` читается как  \"8-byte (i.e., 64 bit) число с плавающей точкой\""
   ]
  },
  {
   "cell_type": "code",
   "execution_count": 299,
   "id": "628e1dc2-dc45-44fa-8f49-c65953844d88",
   "metadata": {},
   "outputs": [
    {
     "name": "stdout",
     "output_type": "stream",
     "text": [
      "[('Alice', 25, 55. ) ('Bob', 45, 85.5) ('Cathy', 37, 68. )\n",
      " ('Doug', 19, 61.5)]\n"
     ]
    }
   ],
   "source": [
    "data['name'] = name\n",
    "data['age'] = age\n",
    "data['weight'] = weight\n",
    "print(data)"
   ]
  },
  {
   "cell_type": "markdown",
   "id": "2062719d-971d-49ff-8916-ccce22c483ca",
   "metadata": {},
   "source": [
    "В структурированных массивах можно обращаться к данным через ключевые слова:"
   ]
  },
  {
   "cell_type": "code",
   "execution_count": 301,
   "id": "d5a7f610-b0a3-4135-882c-9abcefdde1a1",
   "metadata": {},
   "outputs": [
    {
     "data": {
      "text/plain": [
       "array(['Alice', 'Bob', 'Cathy', 'Doug'], dtype='<U10')"
      ]
     },
     "execution_count": 301,
     "metadata": {},
     "output_type": "execute_result"
    }
   ],
   "source": [
    "# Get all names\n",
    "data['name']"
   ]
  },
  {
   "cell_type": "code",
   "execution_count": 302,
   "id": "6345f987-6555-4f8b-807e-18f567d31a78",
   "metadata": {},
   "outputs": [
    {
     "data": {
      "text/plain": [
       "('Alice', 25, 55.)"
      ]
     },
     "execution_count": 302,
     "metadata": {},
     "output_type": "execute_result"
    }
   ],
   "source": [
    "# Get first row of data\n",
    "data[0]"
   ]
  },
  {
   "cell_type": "code",
   "execution_count": 303,
   "id": "346de040-3bd1-47d0-b35e-177e969c7486",
   "metadata": {},
   "outputs": [
    {
     "data": {
      "text/plain": [
       "'Doug'"
      ]
     },
     "execution_count": 303,
     "metadata": {},
     "output_type": "execute_result"
    }
   ],
   "source": [
    "# Get the name from the last row\n",
    "data[-1]['name']"
   ]
  },
  {
   "cell_type": "code",
   "execution_count": 305,
   "id": "cb09cb83-fafa-424a-b6b3-b4e84146588a",
   "metadata": {},
   "outputs": [
    {
     "data": {
      "text/plain": [
       "'Bob'"
      ]
     },
     "execution_count": 305,
     "metadata": {},
     "output_type": "execute_result"
    }
   ],
   "source": [
    "# Получить второе имя\n",
    "data['name'][1]"
   ]
  },
  {
   "cell_type": "markdown",
   "id": "b3c82921-395e-41c1-835c-f17d2266b24e",
   "metadata": {},
   "source": [
    "С использованием булевых масок мы можем делать достаточно сложные операции, например найти всех до 30 лет:"
   ]
  },
  {
   "cell_type": "code",
   "execution_count": 312,
   "id": "201e476a-d4d9-4187-a6ae-614885fdd341",
   "metadata": {},
   "outputs": [
    {
     "data": {
      "text/plain": [
       "array(['Alice', 'Doug'], dtype='<U10')"
      ]
     },
     "execution_count": 312,
     "metadata": {},
     "output_type": "execute_result"
    }
   ],
   "source": [
    "# Найти все имена людей моложе 30 лет\n",
    "data[data['age'] < 30]['name']"
   ]
  },
  {
   "cell_type": "markdown",
   "id": "f5328a13-7e48-4d26-9f1c-e6ab5cf83f45",
   "metadata": {},
   "source": [
    "## Создание структурированных массивов"
   ]
  },
  {
   "cell_type": "code",
   "execution_count": 314,
   "id": "36659c82-493d-49a0-9c7d-ff6e54d647c5",
   "metadata": {},
   "outputs": [
    {
     "data": {
      "text/plain": [
       "dtype([('name', '<U10'), ('age', '<i8'), ('weight', '<f4')])"
      ]
     },
     "execution_count": 314,
     "metadata": {},
     "output_type": "execute_result"
    }
   ],
   "source": [
    "# Возможно использование встроенных типов Python\n",
    "np.dtype({'names':('name', 'age', 'weight'), 'formats':((np.str_, 10), int, np.float32)})"
   ]
  },
  {
   "cell_type": "code",
   "execution_count": 315,
   "id": "0816dc86-f401-4b2c-894d-3af96ecd475d",
   "metadata": {},
   "outputs": [
    {
     "data": {
      "text/plain": [
       "dtype([('name', 'S10'), ('age', '<i4'), ('weight', '<f8')])"
      ]
     },
     "execution_count": 315,
     "metadata": {},
     "output_type": "execute_result"
    }
   ],
   "source": [
    "# Или названия полей и типы можно указать через кортежи\n",
    "np.dtype([('name', 'S10'), ('age', 'i4'), ('weight', 'f8')])"
   ]
  },
  {
   "cell_type": "code",
   "execution_count": 317,
   "id": "f7ba5eaa-9a7e-4567-b103-816620f23cea",
   "metadata": {},
   "outputs": [
    {
     "data": {
      "text/plain": [
       "dtype([('f0', 'S10'), ('f1', '<i4'), ('f2', '<f8')])"
      ]
     },
     "execution_count": 317,
     "metadata": {},
     "output_type": "execute_result"
    }
   ],
   "source": [
    "# Если имена типов не имеют значение, вы можете указать только типы:\n",
    "np.dtype('S10,i4,f8')"
   ]
  },
  {
   "cell_type": "raw",
   "id": "eea3955e-6a45-4e75-bdb3-cb20684853a2",
   "metadata": {},
   "source": [
    "Форматы типов могут казаться несколько запутанными, но они построены на определенных принципах. Первый (не обязательный) символ - это < или >, что означает \"little endian\" или \"big endian\" соответственно, и указывает порядок для значащих битов. Следующий символ указывает на тип данных: символы, байты, целые числа, с плавающей запятой и так далее (смотри таблицу ниже). Последний символ(ы) представляет размер объекта в байтах.\n",
    "\n",
    "Character \tDescription         \tExample\n",
    "'b'     \tByte            \t    np.dtype('b')\n",
    "'i'     \tSigned integer      \tnp.dtype('i4') == np.int32\n",
    "'u'     \tUnsigned integer    \tnp.dtype('u1') == np.uint8\n",
    "'f'     \tFloating point      \tnp.dtype('f8') == np.int64\n",
    "'c'     \tComplex floating point \tnp.dtype('c16') == np.complex128\n",
    "'S', 'a' \tString              \tnp.dtype('S5')\n",
    "'U'     \tUnicode string      \tnp.dtype('U') == np.str_\n",
    "'V'     \tRaw data (void)     \tnp.dtype('V') == np.void"
   ]
  },
  {
   "cell_type": "markdown",
   "id": "4040b05c-1888-4cf3-bee7-8a67946ec3c1",
   "metadata": {},
   "source": [
    "## Более сложные составные типы\n",
    "\n",
    "Можно задать еще более сложные составные типы, чем рассмотренне выше. Например, вы можете создать тип, где каждый элемент содержит массив или матрицу значений. Здесь мы создаём тип данных с компонентом `mat` состоящим из 3×3 матрицы из элементов с плавающей запятой:"
   ]
  },
  {
   "cell_type": "code",
   "execution_count": 323,
   "id": "86d5d5ca-292d-4307-8b77-58a057acfebf",
   "metadata": {},
   "outputs": [
    {
     "name": "stdout",
     "output_type": "stream",
     "text": [
      "(0, [[0., 0., 0.], [0., 0., 0.], [0., 0., 0.]])\n",
      "[[0. 0. 0.]\n",
      " [0. 0. 0.]\n",
      " [0. 0. 0.]]\n"
     ]
    }
   ],
   "source": [
    "tp = np.dtype([('id', 'i8'), ('mat', 'f8', (3, 3))])\n",
    "X = np.zeros(1, dtype=tp)\n",
    "print(X[0])\n",
    "print(X['mat'][0])"
   ]
  },
  {
   "cell_type": "markdown",
   "id": "d51a5570-3127-4117-8e2e-fd7072e40c80",
   "metadata": {},
   "source": [
    "## RecordArrays: структурированные массивы с изюминкой\n",
    "\n",
    "Отличие от обычных стуктурированных массивов состоит в том, что доступ к элементам может быть обеспечен через имена, а не через ключи."
   ]
  },
  {
   "cell_type": "code",
   "execution_count": 327,
   "id": "17968ce2-9f9d-4140-9867-5d3245da991a",
   "metadata": {},
   "outputs": [
    {
     "data": {
      "text/plain": [
       "array([25, 45, 37, 19], dtype=int32)"
      ]
     },
     "execution_count": 327,
     "metadata": {},
     "output_type": "execute_result"
    }
   ],
   "source": [
    "# обычный структурированный массив\n",
    "data['age']"
   ]
  },
  {
   "cell_type": "code",
   "execution_count": 328,
   "id": "454d0cf1-3923-44ac-8e03-5e52cd5f85a4",
   "metadata": {},
   "outputs": [
    {
     "data": {
      "text/plain": [
       "array([25, 45, 37, 19], dtype=int32)"
      ]
     },
     "execution_count": 328,
     "metadata": {},
     "output_type": "execute_result"
    }
   ],
   "source": [
    "# recordarray\n",
    "data_rec = data.view(np.recarray)\n",
    "data_rec.age"
   ]
  },
  {
   "cell_type": "markdown",
   "id": "b801b809-238f-4c37-b018-b59063462036",
   "metadata": {},
   "source": [
    "Минусом такого подхода является некоторая потеря производительности."
   ]
  }
 ],
 "metadata": {
  "kernelspec": {
   "display_name": "Python 3 (ipykernel)",
   "language": "python",
   "name": "python3"
  },
  "language_info": {
   "codemirror_mode": {
    "name": "ipython",
    "version": 3
   },
   "file_extension": ".py",
   "mimetype": "text/x-python",
   "name": "python",
   "nbconvert_exporter": "python",
   "pygments_lexer": "ipython3",
   "version": "3.10.12"
  }
 },
 "nbformat": 4,
 "nbformat_minor": 5
}
