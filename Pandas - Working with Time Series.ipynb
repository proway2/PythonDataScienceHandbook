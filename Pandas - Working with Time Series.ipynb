{
 "cells": [
  {
   "cell_type": "markdown",
   "id": "4b340976-5769-4d57-86de-67ebb87f8a86",
   "metadata": {},
   "source": [
    "# Работа с временнЫми данными\n",
    "\n",
    "## Типизированные массивы с временем: тип `datetime64` в NumPy\n",
    "\n",
    "NumPy предложил тип `datetime64` для работы со временем:"
   ]
  },
  {
   "cell_type": "code",
   "execution_count": 1,
   "id": "59ca2a42-59ab-4748-b08c-635dfd9a961a",
   "metadata": {},
   "outputs": [
    {
     "data": {
      "text/plain": [
       "array('2015-07-04', dtype='datetime64[D]')"
      ]
     },
     "execution_count": 1,
     "metadata": {},
     "output_type": "execute_result"
    }
   ],
   "source": [
    "import numpy as np\n",
    "date = np.array('2015-07-04', dtype=np.datetime64)\n",
    "date"
   ]
  },
  {
   "cell_type": "markdown",
   "id": "4a6424ce-c7f2-4254-9219-01e4cabeb4cc",
   "metadata": {},
   "source": [
    "Как только у нас есть дата в формате NumPy, мы можем быстро применить векторные операции:"
   ]
  },
  {
   "cell_type": "code",
   "execution_count": 5,
   "id": "3585dd21-5cdd-4959-9f7d-e0403706c05c",
   "metadata": {},
   "outputs": [
    {
     "data": {
      "text/plain": [
       "array(['2015-07-04', '2015-07-05', '2015-07-06', '2015-07-07',\n",
       "       '2015-07-08', '2015-07-09', '2015-07-10', '2015-07-11',\n",
       "       '2015-07-12', '2015-07-13', '2015-07-14', '2015-07-15'],\n",
       "      dtype='datetime64[D]')"
      ]
     },
     "execution_count": 5,
     "metadata": {},
     "output_type": "execute_result"
    }
   ],
   "source": [
    "date + np.arange(12)"
   ]
  },
  {
   "cell_type": "code",
   "execution_count": 6,
   "id": "f033b34d-8c1b-4a0c-a074-f0c3988aa206",
   "metadata": {},
   "outputs": [
    {
     "data": {
      "text/plain": [
       "numpy.datetime64('2015-07-04')"
      ]
     },
     "execution_count": 6,
     "metadata": {},
     "output_type": "execute_result"
    }
   ],
   "source": [
    "# Только дата\n",
    "np.datetime64('2015-07-04')"
   ]
  },
  {
   "cell_type": "code",
   "execution_count": 7,
   "id": "9f608b29-8b57-408a-9960-b78eb4e60c9d",
   "metadata": {},
   "outputs": [
    {
     "data": {
      "text/plain": [
       "numpy.datetime64('2015-07-04T12:00')"
      ]
     },
     "execution_count": 7,
     "metadata": {},
     "output_type": "execute_result"
    }
   ],
   "source": [
    "# Дата и время\n",
    "np.datetime64('2015-07-04 12:00')"
   ]
  },
  {
   "cell_type": "code",
   "execution_count": 8,
   "id": "87dbac07-a55b-49e3-8a90-c9b2746a2585",
   "metadata": {},
   "outputs": [
    {
     "data": {
      "text/plain": [
       "numpy.datetime64('2015-07-04T12:59:59.500000000')"
      ]
     },
     "execution_count": 8,
     "metadata": {},
     "output_type": "execute_result"
    }
   ],
   "source": [
    "# Время с учётом наносекунд\n",
    "np.datetime64('2015-07-04 12:59:59.50', 'ns')"
   ]
  },
  {
   "cell_type": "markdown",
   "id": "7ab4f5e2-8ce0-4905-84de-8590c4811ccd",
   "metadata": {},
   "source": [
    "Доступные в NumPy коды формата времени https://numpy.org/doc/stable/reference/arrays.datetime.html#datetime-units"
   ]
  },
  {
   "cell_type": "markdown",
   "id": "841857e6-904b-408f-b3f4-326ba8985694",
   "metadata": {},
   "source": [
    "### Даты и время в Pandas: лучшее из двух миров\n",
    "\n",
    "Pandas имеет дополнительный тип `Timestamp` и `DatetimeIndex` для работы со временем и временнЫми рядами:"
   ]
  },
  {
   "cell_type": "code",
   "execution_count": 12,
   "id": "9d37080b-eb2d-4c0f-a399-d24ff854c647",
   "metadata": {},
   "outputs": [
    {
     "data": {
      "text/plain": [
       "Timestamp('2015-07-04 00:00:00')"
      ]
     },
     "execution_count": 12,
     "metadata": {},
     "output_type": "execute_result"
    }
   ],
   "source": [
    "import pandas as pd\n",
    "date = pd.to_datetime(\"4th of July, 2015\")\n",
    "date"
   ]
  },
  {
   "cell_type": "code",
   "execution_count": 13,
   "id": "0747a2d8-20b0-41ad-9f63-96ffeebbf383",
   "metadata": {},
   "outputs": [
    {
     "data": {
      "text/plain": [
       "'Saturday'"
      ]
     },
     "execution_count": 13,
     "metadata": {},
     "output_type": "execute_result"
    }
   ],
   "source": [
    "date.strftime(\"%A\")"
   ]
  },
  {
   "cell_type": "markdown",
   "id": "225ff07c-de20-4e3d-bc79-d5b5be6ca3c2",
   "metadata": {},
   "source": [
    "Также доступны векторные операции:"
   ]
  },
  {
   "cell_type": "code",
   "execution_count": 15,
   "id": "5d96214b-1821-4120-8b77-2631886e642b",
   "metadata": {},
   "outputs": [
    {
     "data": {
      "text/plain": [
       "DatetimeIndex(['2015-07-04', '2015-07-05', '2015-07-06', '2015-07-07',\n",
       "               '2015-07-08', '2015-07-09', '2015-07-10', '2015-07-11',\n",
       "               '2015-07-12', '2015-07-13', '2015-07-14', '2015-07-15'],\n",
       "              dtype='datetime64[ns]', freq=None)"
      ]
     },
     "execution_count": 15,
     "metadata": {},
     "output_type": "execute_result"
    }
   ],
   "source": [
    "date + pd.to_timedelta(np.arange(12), 'D')"
   ]
  },
  {
   "cell_type": "markdown",
   "id": "c57e0ffa-228c-43bb-ae58-5ed8dc247268",
   "metadata": {},
   "source": [
    "## Ряды времени в Pandas: индексирование по времени\n",
    "\n",
    "Мы можем создать объект типа `Series` содержащий индекс по дате:"
   ]
  },
  {
   "cell_type": "code",
   "execution_count": 18,
   "id": "3ed356ae-42c7-469f-a1f6-528f9efe4b7b",
   "metadata": {},
   "outputs": [
    {
     "data": {
      "text/plain": [
       "2014-07-04    0\n",
       "2014-08-04    1\n",
       "2015-07-04    2\n",
       "2015-08-04    3\n",
       "dtype: int64"
      ]
     },
     "execution_count": 18,
     "metadata": {},
     "output_type": "execute_result"
    }
   ],
   "source": [
    "index = pd.DatetimeIndex(['2014-07-04', '2014-08-04',\n",
    "                          '2015-07-04', '2015-08-04'])\n",
    "data = pd.Series([0, 1, 2, 3], index=index)\n",
    "data"
   ]
  },
  {
   "cell_type": "markdown",
   "id": "85090231-09f3-478f-8d1b-1408b9f6e64e",
   "metadata": {},
   "source": [
    "После того, как у нас есть индекс по датам, мы можем использовать любые типы индексирования, которые мы рассмотрели ранее:"
   ]
  },
  {
   "cell_type": "code",
   "execution_count": 20,
   "id": "8d5463ce-5ba4-485d-a30d-10b995abc0bb",
   "metadata": {},
   "outputs": [
    {
     "data": {
      "text/plain": [
       "2014-07-04    0\n",
       "2014-08-04    1\n",
       "2015-07-04    2\n",
       "dtype: int64"
      ]
     },
     "execution_count": 20,
     "metadata": {},
     "output_type": "execute_result"
    }
   ],
   "source": [
    "data['2014-07-04':'2015-07-04']"
   ]
  },
  {
   "cell_type": "code",
   "execution_count": 22,
   "id": "d466c5f0-7128-4a51-aeaa-8b78ff82a6c8",
   "metadata": {},
   "outputs": [
    {
     "data": {
      "text/plain": [
       "2015-07-04    2\n",
       "2015-08-04    3\n",
       "dtype: int64"
      ]
     },
     "execution_count": 22,
     "metadata": {},
     "output_type": "execute_result"
    }
   ],
   "source": [
    "# Для получения среза можно передать даже просто год\n",
    "data[\"2015\"]"
   ]
  },
  {
   "cell_type": "markdown",
   "id": "b92032af-1c87-42ae-8c87-9a6c5471593c",
   "metadata": {},
   "source": [
    "## Структуры данных Pandas для хранения временных радов\n",
    "\n",
    "Эта секция познакомит с фундаментальными структурами Pandas для работы с временными рядами:\n",
    "\n",
    "* Для меток времени есть тип `Timestamp` и связанную структуру для индексов `DatetimeIndex`.\n",
    "* Для периодов времени есть тип `Period` и связанную структуру для индексов `PeriodIndex`.\n",
    "* Для разниц по времени или продолжительности, есть тип `Timedelta` и соответствующий индекс `TimedeltaIndex`.\n",
    "\n",
    "Наиболее фундаментальные из них это `Timestamp` и `DatetimeIndex`. Эти классы могут использоваться напрямую, но обычно соответствующие объекты создаются через метод `pd.to_datetime()`. Причём могут использоваться различные типы представления даты:"
   ]
  },
  {
   "cell_type": "code",
   "execution_count": 24,
   "id": "0d5d1978-6548-498e-a44d-f7bb4bc90801",
   "metadata": {},
   "outputs": [
    {
     "data": {
      "text/plain": [
       "DatetimeIndex(['2015-07-03', '2015-07-04', '2015-07-06', '2015-07-07',\n",
       "               '2015-07-08'],\n",
       "              dtype='datetime64[ns]', freq=None)"
      ]
     },
     "execution_count": 24,
     "metadata": {},
     "output_type": "execute_result"
    }
   ],
   "source": [
    "from datetime import datetime\n",
    "dates = pd.to_datetime([datetime(2015, 7, 3), '4th of July, 2015',\n",
    "                       '2015-Jul-6', '07-07-2015', '20150708'])\n",
    "dates"
   ]
  },
  {
   "cell_type": "markdown",
   "id": "56d92d51-9a45-4bc2-82c9-572128988f50",
   "metadata": {},
   "source": [
    "Любой объект типа `DatetimeIndex` может быть сконвертирован в `PeriodIndex` с помощью метода `to_period()` с возможностью указания частоты."
   ]
  },
  {
   "cell_type": "code",
   "execution_count": 26,
   "id": "bfa92d6b-b040-453d-9250-b689bc78dfb0",
   "metadata": {},
   "outputs": [
    {
     "data": {
      "text/plain": [
       "PeriodIndex(['2015-07-03', '2015-07-04', '2015-07-06', '2015-07-07',\n",
       "             '2015-07-08'],\n",
       "            dtype='period[D]')"
      ]
     },
     "execution_count": 26,
     "metadata": {},
     "output_type": "execute_result"
    }
   ],
   "source": [
    "# Частота установлена в днях - `D`\n",
    "dates.to_period(\"D\")"
   ]
  },
  {
   "cell_type": "markdown",
   "id": "8b005c0c-ac22-4cb1-87aa-b0dca88b4abf",
   "metadata": {},
   "source": [
    "Объект типа `TimedeltaIndex` создается когда происходит вычитание дат:"
   ]
  },
  {
   "cell_type": "code",
   "execution_count": 28,
   "id": "13782861-a58a-4b07-a02d-a85567a6b020",
   "metadata": {},
   "outputs": [
    {
     "data": {
      "text/plain": [
       "TimedeltaIndex(['0 days', '1 days', '3 days', '4 days', '5 days'], dtype='timedelta64[ns]', freq=None)"
      ]
     },
     "execution_count": 28,
     "metadata": {},
     "output_type": "execute_result"
    }
   ],
   "source": [
    "dates - dates[0]"
   ]
  },
  {
   "cell_type": "markdown",
   "id": "f12c61d7-c731-4146-b149-87afaab34466",
   "metadata": {},
   "source": [
    "### Регулярные последовательности: `pd.date_range()`\n",
    "\n",
    "Чтобы создание рядов дат было более удобным, в Pandas есть несколько функций для этой цели:\n",
    "\n",
    "* `pd.date_range()` для меток времени\n",
    "* `pd.period_range()` для периодов времени\n",
    "* `pd.timedelta_range()` для разниц времени\n",
    "\n",
    "Можно указать дату начала, дату окончания и частоту (частота по умолчанию - 1 день):"
   ]
  },
  {
   "cell_type": "code",
   "execution_count": 30,
   "id": "8b99b4b8-fd51-4d87-bc01-ffcf1477016f",
   "metadata": {},
   "outputs": [
    {
     "data": {
      "text/plain": [
       "DatetimeIndex(['2015-07-03', '2015-07-04', '2015-07-05', '2015-07-06',\n",
       "               '2015-07-07', '2015-07-08', '2015-07-09', '2015-07-10'],\n",
       "              dtype='datetime64[ns]', freq='D')"
      ]
     },
     "execution_count": 30,
     "metadata": {},
     "output_type": "execute_result"
    }
   ],
   "source": [
    "pd.date_range(\"2015-07-03\", \"2015-07-10\")"
   ]
  },
  {
   "cell_type": "markdown",
   "id": "57b3633a-0ecf-48a5-b85a-6def25957c48",
   "metadata": {},
   "source": [
    "Также можно указать начальную дату и количество периодов:"
   ]
  },
  {
   "cell_type": "code",
   "execution_count": 32,
   "id": "f661a83a-428a-4494-8fb5-7b88b5e7cba6",
   "metadata": {},
   "outputs": [
    {
     "data": {
      "text/plain": [
       "DatetimeIndex(['2015-07-03', '2015-07-04', '2015-07-05', '2015-07-06',\n",
       "               '2015-07-07', '2015-07-08', '2015-07-09', '2015-07-10'],\n",
       "              dtype='datetime64[ns]', freq='D')"
      ]
     },
     "execution_count": 32,
     "metadata": {},
     "output_type": "execute_result"
    }
   ],
   "source": [
    "pd.date_range('2015-07-03', periods=8)"
   ]
  },
  {
   "cell_type": "markdown",
   "id": "003efc13-b656-4153-9a4b-8e5b9027a48c",
   "metadata": {},
   "source": [
    "Частоту можно задать с помощью ключевого слова `freq`. Например далее мы создаём диапазон меток времени с частотой 1 час:"
   ]
  },
  {
   "cell_type": "code",
   "execution_count": 34,
   "id": "5608f869-88ae-49c1-99a3-0a8ffde0cecd",
   "metadata": {},
   "outputs": [
    {
     "data": {
      "text/plain": [
       "DatetimeIndex(['2015-07-03 00:00:00', '2015-07-03 01:00:00',\n",
       "               '2015-07-03 02:00:00', '2015-07-03 03:00:00',\n",
       "               '2015-07-03 04:00:00', '2015-07-03 05:00:00',\n",
       "               '2015-07-03 06:00:00', '2015-07-03 07:00:00'],\n",
       "              dtype='datetime64[ns]', freq='H')"
      ]
     },
     "execution_count": 34,
     "metadata": {},
     "output_type": "execute_result"
    }
   ],
   "source": [
    "pd.date_range('2015-07-03', periods=8, freq='H')"
   ]
  },
  {
   "cell_type": "code",
   "execution_count": 37,
   "id": "6e7d07d9-eaf6-474c-9f5a-e9a6eba653b0",
   "metadata": {},
   "outputs": [
    {
     "data": {
      "text/plain": [
       "PeriodIndex(['2015-07', '2015-08', '2015-09', '2015-10', '2015-11', '2015-12',\n",
       "             '2016-01', '2016-02'],\n",
       "            dtype='period[M]')"
      ]
     },
     "execution_count": 37,
     "metadata": {},
     "output_type": "execute_result"
    }
   ],
   "source": [
    "# Ежемесячные периоды\n",
    "pd.period_range(\"2015-07\", periods=8, freq=\"M\")"
   ]
  },
  {
   "cell_type": "code",
   "execution_count": 38,
   "id": "88559fdb-83cf-42c9-b1b3-aa30d91528a8",
   "metadata": {},
   "outputs": [
    {
     "data": {
      "text/plain": [
       "TimedeltaIndex(['0 days 00:00:00', '0 days 01:00:00', '0 days 02:00:00',\n",
       "                '0 days 03:00:00', '0 days 04:00:00', '0 days 05:00:00',\n",
       "                '0 days 06:00:00', '0 days 07:00:00', '0 days 08:00:00',\n",
       "                '0 days 09:00:00'],\n",
       "               dtype='timedelta64[ns]', freq='H')"
      ]
     },
     "execution_count": 38,
     "metadata": {},
     "output_type": "execute_result"
    }
   ],
   "source": [
    "# Часовые дельты времени\n",
    "pd.timedelta_range(0, periods=10, freq='H')"
   ]
  },
  {
   "cell_type": "markdown",
   "id": "f3f57f04-92f9-4f5f-addd-5f0beccd7122",
   "metadata": {},
   "source": [
    "## Частоты и смещения\n",
    "\n",
    "Доступны следующие коды частот:\n",
    "\n",
    "| Code | Description       | Code | Description          |\n",
    "|------|-------------------|------|----------------------|\n",
    "| `D`  | Calendar day      | `B`  | Business day         |\n",
    "| `W`  | Weekly            |      |                      |\n",
    "| `M`  | Month end         | `BM` | Business month end   |\n",
    "| `Q`  | Quarter end       | `BQ` | Business quarter end |\n",
    "| `A`  | Year end          | `BA` | Business year end    |\n",
    "| `H`  | Hours             | `BH` | Business hours       |\n",
    "| `T`  | Minutes           |      |                      |\n",
    "| `S`  | Seconds           |      |                      |\n",
    "| `L`  | Milliseconds      |      |                      |\n",
    "| `U`  | Microseconds      |      |                      |\n",
    "| `N`  | Nanoseconds       |      |                      |\n",
    "\n",
    "Месячная, квартальная и годовая частота принимаются на конец каждого периода. Путём добавления суффикса `S`, указанные частоты будут приниматься на начало каждого периода:\n",
    "\n",
    "| Code  | Description       | Code  | Description            |\n",
    "|-------|-------------------|-------|------------------------|\n",
    "| `MS`  | Month start       |`BMS`  | Business month start   |\n",
    "| `QS`  | Quarter start     |`BQS`  | Business quarter start |\n",
    "| `AS`  | Year start        |`BAS`  | Business year start    |\n",
    "\n",
    "Также можно изменить месяц начала квартала или года с помощью суффиксов:\n",
    "\n",
    "- `Q-JAN`, `BQ-FEB`, `QS-MAR`, `BQS-APR`, etc.\n",
    "- `A-JAN`, `BA-FEB`, `AS-MAR`, `BAS-APR`, etc.\n",
    "\n",
    "Также и для недель:\n",
    "\n",
    "- `W-SUN`, `W-MON`, `W-TUE`, `W-WED`, etc.\n",
    "\n",
    "Поверх всего, коды можно комбинировать для получения уникальных частот. Например, для частоты 2 часа 30 минут, мы можем скомбинировать коды часа `H` и минуты `T`:"
   ]
  },
  {
   "cell_type": "code",
   "execution_count": 40,
   "id": "64648f7b-1ce0-4f45-872a-a70446864112",
   "metadata": {},
   "outputs": [
    {
     "data": {
      "text/plain": [
       "TimedeltaIndex(['0 days 00:00:00', '0 days 02:30:00', '0 days 05:00:00',\n",
       "                '0 days 07:30:00', '0 days 10:00:00', '0 days 12:30:00',\n",
       "                '0 days 15:00:00', '0 days 17:30:00', '0 days 20:00:00'],\n",
       "               dtype='timedelta64[ns]', freq='150T')"
      ]
     },
     "execution_count": 40,
     "metadata": {},
     "output_type": "execute_result"
    }
   ],
   "source": [
    "pd.timedelta_range(0, periods=9, freq=\"2H30T\")"
   ]
  },
  {
   "cell_type": "markdown",
   "id": "edf83764-ecc0-4d10-9065-8a18b1fd8c0c",
   "metadata": {},
   "source": [
    "Все эти короткие коды относятся к реальным объектам Pandas, которые могут быть найдены в модуле `pd.tseries.offsets`. Например мы можем напрямую использовать рабочий день:"
   ]
  },
  {
   "cell_type": "code",
   "execution_count": 42,
   "id": "f4393a46-6ec4-419a-bca4-7b3c5743f9e5",
   "metadata": {},
   "outputs": [
    {
     "data": {
      "text/plain": [
       "DatetimeIndex(['2015-07-01', '2015-07-02', '2015-07-03', '2015-07-06',\n",
       "               '2015-07-07'],\n",
       "              dtype='datetime64[ns]', freq='B')"
      ]
     },
     "execution_count": 42,
     "metadata": {},
     "output_type": "execute_result"
    }
   ],
   "source": [
    "from pandas.tseries.offsets import BDay\n",
    "pd.date_range('2015-07-01', periods=5, freq=BDay())"
   ]
  },
  {
   "cell_type": "markdown",
   "id": "d62649e9-e7a6-40d4-890c-f3886f0f644c",
   "metadata": {},
   "source": [
    "# Resampling, Shifting and Windowing\n",
    "\n",
    "https://jakevdp.github.io/PythonDataScienceHandbook/03.11-working-with-time-series.html#Resampling,-Shifting,-and-Windowing"
   ]
  }
 ],
 "metadata": {
  "kernelspec": {
   "display_name": "Python 3 (ipykernel)",
   "language": "python",
   "name": "python3"
  },
  "language_info": {
   "codemirror_mode": {
    "name": "ipython",
    "version": 3
   },
   "file_extension": ".py",
   "mimetype": "text/x-python",
   "name": "python",
   "nbconvert_exporter": "python",
   "pygments_lexer": "ipython3",
   "version": "3.10.12"
  }
 },
 "nbformat": 4,
 "nbformat_minor": 5
}
