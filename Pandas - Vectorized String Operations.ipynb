{
 "cells": [
  {
   "cell_type": "markdown",
   "id": "719da0d6-8c1f-45f3-ab9a-306372b5c854",
   "metadata": {},
   "source": [
    "# Векторизованные строковые операции (Vectorized String Operations)\n",
    "\n",
    "## Введение в строковые операции в Pandas\n",
    "\n",
    "Векторизация (vectorization) операции упрощает синтакс операций на массивах данных: мы можем больше не беспокоиться о размере или форме массива, а сконцентрироваться на операции, которую мы хотим выполнить."
   ]
  },
  {
   "cell_type": "code",
   "execution_count": 2,
   "id": "ab09ef43-1c10-4485-87ee-07b93b41192e",
   "metadata": {},
   "outputs": [
    {
     "data": {
      "text/plain": [
       "['Peter', 'Paul', 'Mary', 'Guido']"
      ]
     },
     "execution_count": 2,
     "metadata": {},
     "output_type": "execute_result"
    }
   ],
   "source": [
    "data = ['peter', 'Paul', 'MARY', 'gUIDO']\n",
    "# Пример веторизованной операции на строковых данных в массиве\n",
    "[s.capitalize() for s in data]"
   ]
  },
  {
   "cell_type": "code",
   "execution_count": 3,
   "id": "f78de61a-2fda-41d8-aec1-f3f661aa915a",
   "metadata": {},
   "outputs": [
    {
     "data": {
      "text/plain": [
       "0    peter\n",
       "1     Paul\n",
       "2     MARY\n",
       "3    gUIDO\n",
       "dtype: object"
      ]
     },
     "execution_count": 3,
     "metadata": {},
     "output_type": "execute_result"
    }
   ],
   "source": [
    "import pandas as pd\n",
    "names = pd.Series(data)\n",
    "names"
   ]
  },
  {
   "cell_type": "markdown",
   "id": "93e4e326-a0dd-459d-811a-c44d1660bc69",
   "metadata": {},
   "source": [
    "Так как Pandas позволяет работать даже с отсутствующими данными, то мы можем использовать эту возможность, чтобы капитализировать (capitalize) строковые данные:"
   ]
  },
  {
   "cell_type": "code",
   "execution_count": 6,
   "id": "1b1231dd-d902-4b00-97c0-0c725a918572",
   "metadata": {},
   "outputs": [
    {
     "data": {
      "text/plain": [
       "0    Peter\n",
       "1     Paul\n",
       "2     Mary\n",
       "3    Guido\n",
       "dtype: object"
      ]
     },
     "execution_count": 6,
     "metadata": {},
     "output_type": "execute_result"
    }
   ],
   "source": [
    "names.str.capitalize()"
   ]
  },
  {
   "cell_type": "markdown",
   "id": "a2f6754e-b017-4f11-a263-45a65d51045b",
   "metadata": {},
   "source": [
    "## Таблицы строковых методов Pandas\n",
    "\n",
    "Далее в этом разделе мы будем использовать такой набор данных:"
   ]
  },
  {
   "cell_type": "code",
   "execution_count": 13,
   "id": "edee8fd0-4f84-414e-8b16-8b738b0a2f73",
   "metadata": {},
   "outputs": [],
   "source": [
    "monte = pd.Series(\n",
    "    ['Graham Chapman', 'John Cleese', 'Terry Gilliam', 'Eric Idle', 'Terry Jones', 'Michael Palin']\n",
    ")"
   ]
  },
  {
   "cell_type": "markdown",
   "id": "bbc1bf25-7962-4c3d-9204-653e66af1fcd",
   "metadata": {},
   "source": [
    "### Методы идентичные строковым методам Python\n",
    "\n",
    "Почти все встроенные строковые методы Python доступны в Pandas как векторизованные строковоые методы. Список методов в Pandas:\n",
    "\n",
    "|           |                |                |                |\n",
    "|-----------|----------------|----------------|----------------|\n",
    "|`len()`    | `lower()`      | `translate()`  | `islower()`    | \n",
    "|`ljust()`  | `upper()`      | `startswith()` | `isupper()`    | \n",
    "|`rjust()`  | `find()`       | `endswith()`   | `isnumeric()`  | \n",
    "|`center()` | `rfind()`      | `isalnum()`    | `isdecimal()`  | \n",
    "|`zfill()`  | `index()`      | `isalpha()`    | `split()`      | \n",
    "|`strip()`  | `rindex()`     | `isdigit()`    | `rsplit()`     | \n",
    "|`rstrip()` | `capitalize()` | `isspace()`    | `partition()`  | \n",
    "|`lstrip()` | `swapcase()`   | `istitle()`    | `rpartition()` |\n",
    "\n",
    "В отличие от Python эти методы могут иметь другие возвращаемые типы. Некоторые методы, как `lower()`, возвращают серию строк:"
   ]
  },
  {
   "cell_type": "code",
   "execution_count": 14,
   "id": "86a5ffc0-fe4f-4af6-b235-ab9bd194f0e7",
   "metadata": {},
   "outputs": [
    {
     "data": {
      "text/plain": [
       "0    graham chapman\n",
       "1       john cleese\n",
       "2     terry gilliam\n",
       "3         eric idle\n",
       "4       terry jones\n",
       "5     michael palin\n",
       "dtype: object"
      ]
     },
     "execution_count": 14,
     "metadata": {},
     "output_type": "execute_result"
    }
   ],
   "source": [
    "monte.str.lower()"
   ]
  },
  {
   "cell_type": "markdown",
   "id": "b4235c83-8373-4b8c-bbe5-ca711fa59fc0",
   "metadata": {},
   "source": [
    "Некоторые другие методы возвращают числа:"
   ]
  },
  {
   "cell_type": "code",
   "execution_count": 16,
   "id": "c572ea74-67fb-44ce-a674-4b5b0e6f3d87",
   "metadata": {},
   "outputs": [
    {
     "data": {
      "text/plain": [
       "0    14\n",
       "1    11\n",
       "2    13\n",
       "3     9\n",
       "4    11\n",
       "5    13\n",
       "dtype: int64"
      ]
     },
     "execution_count": 16,
     "metadata": {},
     "output_type": "execute_result"
    }
   ],
   "source": [
    "monte.str.len()"
   ]
  },
  {
   "cell_type": "markdown",
   "id": "b1615612-a0a8-4984-92c9-d872c55ac176",
   "metadata": {},
   "source": [
    "Некоторые возвращают логические значения:"
   ]
  },
  {
   "cell_type": "code",
   "execution_count": 18,
   "id": "519a6683-c9d4-4717-9ab4-586de3f7719e",
   "metadata": {},
   "outputs": [
    {
     "data": {
      "text/plain": [
       "0    False\n",
       "1    False\n",
       "2     True\n",
       "3    False\n",
       "4     True\n",
       "5    False\n",
       "dtype: bool"
      ]
     },
     "execution_count": 18,
     "metadata": {},
     "output_type": "execute_result"
    }
   ],
   "source": [
    "monte.str.startswith(\"T\")"
   ]
  },
  {
   "cell_type": "markdown",
   "id": "dd7d683a-dcf4-4bb3-b1e8-d9372ec113b1",
   "metadata": {},
   "source": [
    "Некоторые методы возвращают списки или другие составные значения для каждого элемента:"
   ]
  },
  {
   "cell_type": "code",
   "execution_count": 20,
   "id": "f691aa63-444a-470d-b70c-41624c5bf213",
   "metadata": {},
   "outputs": [
    {
     "data": {
      "text/plain": [
       "0    [Graham, Chapman]\n",
       "1       [John, Cleese]\n",
       "2     [Terry, Gilliam]\n",
       "3         [Eric, Idle]\n",
       "4       [Terry, Jones]\n",
       "5     [Michael, Palin]\n",
       "dtype: object"
      ]
     },
     "execution_count": 20,
     "metadata": {},
     "output_type": "execute_result"
    }
   ],
   "source": [
    "monte.str.split()"
   ]
  },
  {
   "cell_type": "markdown",
   "id": "3b88d082-1244-4284-ab0f-4cccb7ef47cb",
   "metadata": {},
   "source": [
    "### Методы с использованием регулярных выражений\n",
    "\n",
    "В дополнение, существуют методы, которые принимают регулярное выражение для исследования содержимого каждого строкового элемента, и (методы) следуют соглашениям API принятым во встроенном в Python модуле `re`:\n",
    "\n",
    "| Method    | Description |\n",
    "|-----------|-------------|\n",
    "| `match`   | Calls `re.match` on each element, returning a Boolean. |\n",
    "| `extract` | Calls `re.match` on each element, returning matched groups as strings.|\n",
    "| `findall` | Calls `re.findall` on each element |\n",
    "| `replace` | Replaces occurrences of pattern with some other string|\n",
    "| `contains`| Calls `re.search` on each element, returning a boolean |\n",
    "| `count`   | Counts occurrences of pattern|\n",
    "| `split`   | Equivalent to `str.split`, but accepts regexps |\n",
    "| `rsplit`  | Equivalent to `str.rsplit`, but accepts regexps |"
   ]
  },
  {
   "cell_type": "code",
   "execution_count": 21,
   "id": "6826a050-7dc2-4f4c-a6ec-b9826553e78f",
   "metadata": {},
   "outputs": [
    {
     "data": {
      "text/plain": [
       "0     Graham\n",
       "1       John\n",
       "2      Terry\n",
       "3       Eric\n",
       "4      Terry\n",
       "5    Michael\n",
       "dtype: object"
      ]
     },
     "execution_count": 21,
     "metadata": {},
     "output_type": "execute_result"
    }
   ],
   "source": [
    "# Пример использования\n",
    "\n",
    "monte.str.extract('([A-Za-z]+)', expand=False)"
   ]
  },
  {
   "cell_type": "markdown",
   "id": "41a438df-1ec1-4bd2-a7f8-a77b6983500c",
   "metadata": {},
   "source": [
    "### Другие методы\n",
    "\n",
    "| Method | Description |\n",
    "|--------|-------------|\n",
    "| `get` | Indexes each element |\n",
    "| `slice` | Slices each element|\n",
    "| `slice_replace` | Replaces slice in each element with the passed value|\n",
    "| `cat`      | Concatenates strings|\n",
    "| `repeat` | Repeats values |\n",
    "| `normalize` | Returns Unicode form of strings |\n",
    "| `pad` | Adds whitespace to left, right, or both sides of strings|\n",
    "| `wrap` | Splits long strings into lines with length less than a given width|\n",
    "| `join` | Joins strings in each element of the `Series` with the passed separator|\n",
    "| `get_dummies` | Extracts dummy variables as a `DataFrame` |"
   ]
  },
  {
   "cell_type": "markdown",
   "id": "1144e07f-005a-4dd4-ad6e-4b0c2c1e774a",
   "metadata": {},
   "source": [
    "#### Векторизованный доступ к элементу и срезы"
   ]
  },
  {
   "cell_type": "code",
   "execution_count": 25,
   "id": "157cae08-f5a1-4970-94d9-eda3226244c7",
   "metadata": {},
   "outputs": [
    {
     "data": {
      "text/plain": [
       "0    Gra\n",
       "1    Joh\n",
       "2    Ter\n",
       "3    Eri\n",
       "4    Ter\n",
       "5    Mic\n",
       "dtype: object"
      ]
     },
     "execution_count": 25,
     "metadata": {},
     "output_type": "execute_result"
    }
   ],
   "source": [
    "# Срез каждого элемента по первым трём символам\n",
    "monte.str[0:3]"
   ]
  },
  {
   "cell_type": "markdown",
   "id": "29eb6b38-ef78-4e18-bfcb-bc0200894ff8",
   "metadata": {},
   "source": [
    "## Пример: база рецептов\n",
    "\n",
    "Мы попробуем отпарсить рецепты и составить список ингридиентов."
   ]
  },
  {
   "cell_type": "code",
   "execution_count": 28,
   "id": "0a500765-6072-49ba-804e-9a2420548eec",
   "metadata": {},
   "outputs": [
    {
     "name": "stdout",
     "output_type": "stream",
     "text": [
      "ValueError: Trailing data\n"
     ]
    }
   ],
   "source": [
    "try:\n",
    "    recipes = pd.read_json('notebooks/data/recipeitems.json')\n",
    "except ValueError as e:\n",
    "    print(\"ValueError:\", e)"
   ]
  },
  {
   "cell_type": "markdown",
   "id": "5540b38e-143a-4158-a397-7d48911aeb64",
   "metadata": {},
   "source": [
    "Ошибка `ValueError: Trailing data` говорит о том, что файл является JSONlines."
   ]
  },
  {
   "cell_type": "code",
   "execution_count": 30,
   "id": "98787e63-85ef-4e82-96fe-bf4880dad267",
   "metadata": {},
   "outputs": [
    {
     "name": "stderr",
     "output_type": "stream",
     "text": [
      "/tmp/ipykernel_18873/771231573.py:3: FutureWarning: Passing literal json to 'read_json' is deprecated and will be removed in a future version. To read from a literal string, wrap it in a 'StringIO' object.\n",
      "  pd.read_json(line).shape\n"
     ]
    },
    {
     "data": {
      "text/plain": [
       "(2, 12)"
      ]
     },
     "execution_count": 30,
     "metadata": {},
     "output_type": "execute_result"
    }
   ],
   "source": [
    "with open('notebooks/data/recipeitems.json') as f:\n",
    "    line = f.readline()\n",
    "pd.read_json(line).shape"
   ]
  },
  {
   "cell_type": "code",
   "execution_count": 43,
   "id": "f4ba1965-7446-49dd-82b7-1b0a031243f3",
   "metadata": {},
   "outputs": [],
   "source": [
    "import io\n",
    "# read the entire file into a Python array\n",
    "with open('notebooks/data/recipeitems.json', 'r') as f:\n",
    "    # Extract each line\n",
    "    data = (line.strip() for line in f)\n",
    "    # Reformat so each line is the element of a list\n",
    "    data_json = \"[{0}]\".format(','.join(data))\n",
    "# read the result as a JSON\n",
    "recipes = pd.read_json(io.StringIO(data_json))"
   ]
  },
  {
   "cell_type": "code",
   "execution_count": 44,
   "id": "533c66c8-2581-434f-92ff-f1a50633d734",
   "metadata": {},
   "outputs": [
    {
     "data": {
      "text/plain": [
       "(173278, 17)"
      ]
     },
     "execution_count": 44,
     "metadata": {},
     "output_type": "execute_result"
    }
   ],
   "source": [
    "recipes.shape"
   ]
  },
  {
   "cell_type": "code",
   "execution_count": 45,
   "id": "a814e9dc-3b56-4d61-ac46-e85a3cca2ba3",
   "metadata": {},
   "outputs": [
    {
     "data": {
      "text/plain": [
       "_id                                {'$oid': '5160756b96cc62079cc2db15'}\n",
       "name                                    Drop Biscuits and Sausage Gravy\n",
       "ingredients           Biscuits\\n3 cups All-purpose Flour\\n2 Tablespo...\n",
       "url                   http://thepioneerwoman.com/cooking/2013/03/dro...\n",
       "image                 http://static.thepioneerwoman.com/cooking/file...\n",
       "ts                                             {'$date': 1365276011104}\n",
       "cookTime                                                          PT30M\n",
       "source                                                  thepioneerwoman\n",
       "recipeYield                                                          12\n",
       "datePublished                                                2013-03-11\n",
       "prepTime                                                          PT10M\n",
       "description           Late Saturday afternoon, after Marlboro Man ha...\n",
       "totalTime                                                           NaN\n",
       "creator                                                             NaN\n",
       "recipeCategory                                                      NaN\n",
       "dateModified                                                        NaN\n",
       "recipeInstructions                                                  NaN\n",
       "Name: 0, dtype: object"
      ]
     },
     "execution_count": 45,
     "metadata": {},
     "output_type": "execute_result"
    }
   ],
   "source": [
    "recipes.iloc[0]"
   ]
  },
  {
   "cell_type": "code",
   "execution_count": 46,
   "id": "9e0bce0d-ffd5-4739-8fee-c5a577145b8d",
   "metadata": {},
   "outputs": [
    {
     "data": {
      "text/plain": [
       "count    173278.000000\n",
       "mean        244.617926\n",
       "std         146.705285\n",
       "min           0.000000\n",
       "25%         147.000000\n",
       "50%         221.000000\n",
       "75%         314.000000\n",
       "max        9067.000000\n",
       "Name: ingredients, dtype: float64"
      ]
     },
     "execution_count": 46,
     "metadata": {},
     "output_type": "execute_result"
    }
   ],
   "source": [
    "recipes.ingredients.str.len().describe()"
   ]
  },
  {
   "cell_type": "code",
   "execution_count": 48,
   "id": "f549d10f-7b1f-4dec-97d8-5fb077dd926b",
   "metadata": {},
   "outputs": [
    {
     "data": {
      "text/plain": [
       "'Carrot Pineapple Spice &amp; Brownie Layer Cake with Whipped Cream &amp; Cream Cheese Frosting and Marzipan Carrots'"
      ]
     },
     "execution_count": 48,
     "metadata": {},
     "output_type": "execute_result"
    }
   ],
   "source": [
    "import numpy as np\n",
    "# Рецепт с наиболее длинным списком ингридиентов\n",
    "recipes.name[np.argmax(recipes.ingredients.str.len())]"
   ]
  },
  {
   "cell_type": "code",
   "execution_count": 49,
   "id": "87ebe522-db9f-436c-acc4-ce00c113a44b",
   "metadata": {},
   "outputs": [
    {
     "data": {
      "text/plain": [
       "3524"
      ]
     },
     "execution_count": 49,
     "metadata": {},
     "output_type": "execute_result"
    }
   ],
   "source": [
    "# Сколько рецептов с завтраками\n",
    "recipes.description.str.contains('[Bb]reakfast').sum()"
   ]
  },
  {
   "cell_type": "code",
   "execution_count": 50,
   "id": "91cb5d1b-a9a5-429c-8030-ac79aa705da8",
   "metadata": {},
   "outputs": [
    {
     "data": {
      "text/plain": [
       "10526"
      ]
     },
     "execution_count": 50,
     "metadata": {},
     "output_type": "execute_result"
    }
   ],
   "source": [
    "# Сколько рецептов с корицей\n",
    "recipes.ingredients.str.contains('[Cc]innamon').sum()"
   ]
  },
  {
   "cell_type": "code",
   "execution_count": 51,
   "id": "264f7ace-907a-4ab5-83d6-fddc52254b90",
   "metadata": {},
   "outputs": [
    {
     "data": {
      "text/plain": [
       "11"
      ]
     },
     "execution_count": 51,
     "metadata": {},
     "output_type": "execute_result"
    }
   ],
   "source": [
    "# Сколько рецептов с неправильным написанием слова \"корица\"\n",
    "recipes.ingredients.str.contains('[Cc]inamon').sum()"
   ]
  },
  {
   "cell_type": "markdown",
   "id": "6d8cd7c0-93fb-48bc-9761-5e9e833c1e73",
   "metadata": {},
   "source": [
    "### Простая система рекомендации рецептов\n",
    "\n",
    "https://jakevdp.github.io/PythonDataScienceHandbook/03.10-working-with-strings.html#A-simple-recipe-recommender"
   ]
  }
 ],
 "metadata": {
  "kernelspec": {
   "display_name": "Python 3 (ipykernel)",
   "language": "python",
   "name": "python3"
  },
  "language_info": {
   "codemirror_mode": {
    "name": "ipython",
    "version": 3
   },
   "file_extension": ".py",
   "mimetype": "text/x-python",
   "name": "python",
   "nbconvert_exporter": "python",
   "pygments_lexer": "ipython3",
   "version": "3.10.12"
  }
 },
 "nbformat": 4,
 "nbformat_minor": 5
}
