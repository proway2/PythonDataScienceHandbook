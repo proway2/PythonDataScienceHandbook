{
 "cells": [
  {
   "cell_type": "markdown",
   "id": "e098f811-2e9f-4415-96be-dbe3bb3768d3",
   "metadata": {},
   "source": [
    "# Увеличение производительности Pandas: eval() и query()\n",
    "\n",
    "https://jakevdp.github.io/PythonDataScienceHandbook/03.12-performance-eval-and-query.html"
   ]
  }
 ],
 "metadata": {
  "kernelspec": {
   "display_name": "Python 3 (ipykernel)",
   "language": "python",
   "name": "python3"
  },
  "language_info": {
   "codemirror_mode": {
    "name": "ipython",
    "version": 3
   },
   "file_extension": ".py",
   "mimetype": "text/x-python",
   "name": "python",
   "nbconvert_exporter": "python",
   "pygments_lexer": "ipython3",
   "version": "3.11.6"
  }
 },
 "nbformat": 4,
 "nbformat_minor": 5
}
