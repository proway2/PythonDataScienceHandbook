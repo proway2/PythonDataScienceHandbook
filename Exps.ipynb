{
 "cells": [
  {
   "cell_type": "markdown",
   "id": "b95778db-5577-4c4f-8fb6-bbdfb85bda14",
   "metadata": {},
   "source": [
    "## NumPy"
   ]
  },
  {
   "cell_type": "code",
   "execution_count": 48,
   "id": "971ac20b-2ba2-478b-96d6-f8328d068059",
   "metadata": {},
   "outputs": [],
   "source": [
    "import numpy as np\n",
    "# просто сидим генератор случайных чисел, чтобы набор чисел был всегда одинаковый\n",
    "np.random.seed(0)"
   ]
  },
  {
   "cell_type": "code",
   "execution_count": 49,
   "id": "f5e6f2f7-2bf5-44ed-aa03-7d71c29d2a56",
   "metadata": {},
   "outputs": [],
   "source": [
    "# Создание массивов\n",
    "# One-dimensional array\n",
    "x1 = np.random.randint(10, size=6)\n",
    "# Two-dimensional array\n",
    "x2 = np.random.randint(10, size=(3, 4))\n",
    "# Three-dimensional array\n",
    "x3 = np.random.randint(10, size=(3, 4, 5))"
   ]
  },
  {
   "cell_type": "markdown",
   "id": "7be03504-1e15-4d2f-ac2d-abc0ecc1ce1f",
   "metadata": {},
   "source": [
    "Параметр `size` задаёт размерность массива. Причем сначала задаётся количество строк. Например, размерность `size=(3, 4, 5` означает, что в массиве будет 3 строки, в каждой строке будут 4 строки и каждая строка будет содержать 5 элементов. Это хорошо видно при распечатке массива `np.random.randint(10, size=(3, 4, 5))`"
   ]
  },
  {
   "cell_type": "code",
   "execution_count": 50,
   "id": "27fc351d-6fba-4a5a-93af-e603374ec84d",
   "metadata": {},
   "outputs": [
    {
     "name": "stdout",
     "output_type": "stream",
     "text": [
      "[5 0 3 3 7 9]\n",
      "--------------------------------------------------\n",
      "[[3 5 2 4]\n",
      " [7 6 8 8]\n",
      " [1 6 7 7]]\n",
      "--------------------------------------------------\n",
      "[[[8 1 5 9 8]\n",
      "  [9 4 3 0 3]\n",
      "  [5 0 2 3 8]\n",
      "  [1 3 3 3 7]]\n",
      "\n",
      " [[0 1 9 9 0]\n",
      "  [4 7 3 2 7]\n",
      "  [2 0 0 4 5]\n",
      "  [5 6 8 4 1]]\n",
      "\n",
      " [[4 9 8 1 1]\n",
      "  [7 9 9 3 6]\n",
      "  [7 2 0 3 5]\n",
      "  [9 4 4 6 4]]]\n"
     ]
    }
   ],
   "source": [
    "print(x1)\n",
    "print(\"-\" * 50)\n",
    "print(x2)\n",
    "print(\"-\" * 50)\n",
    "print(x3)"
   ]
  },
  {
   "cell_type": "markdown",
   "id": "722fdcbc-07c9-4fdf-a8f8-5503c6fec384",
   "metadata": {},
   "source": [
    "## Свойства массивов"
   ]
  },
  {
   "cell_type": "markdown",
   "id": "5bf9253a-9a47-4d80-8d53-33d11dca24b5",
   "metadata": {},
   "source": [
    "`ndim` - количество измерений (многомерность массива)   \n",
    "`shape` - форма массива (размер каждого измерения)   \n",
    "`size` - общее количество элементов массива    \n",
    "`dtype` - тип элементов массива    \n",
    "`itemsize` - размер одного элемента массива в байтах    \n",
    "`nbytes` - размер всего массива в байтах"
   ]
  },
  {
   "cell_type": "code",
   "execution_count": 51,
   "id": "4bb4b41d-3507-466d-80f0-cea02f4d3f4a",
   "metadata": {},
   "outputs": [
    {
     "name": "stdout",
     "output_type": "stream",
     "text": [
      "x3 ndim:  3\n",
      "x3 shape: (3, 4, 5)\n",
      "x3 size:  60\n",
      "x2 dtype:  int64\n",
      "x3 itemsize  8  bytes\n",
      "x3 nbytes  480  bytes\n"
     ]
    }
   ],
   "source": [
    "print(\"x3 ndim: \", x3.ndim)\n",
    "print(\"x3 shape:\", x3.shape)\n",
    "print(\"x3 size: \", x3.size)\n",
    "print(\"x2 dtype: \", x2.dtype)\n",
    "print(\"x3 itemsize \", x3.itemsize, \" bytes\")\n",
    "print(\"x3 nbytes \", x3.nbytes, \" bytes\")"
   ]
  },
  {
   "cell_type": "markdown",
   "id": "cb18dd5a-04a7-4b1f-aaac-82cb4ee777e8",
   "metadata": {},
   "source": [
    "## Доступ к элементам"
   ]
  },
  {
   "cell_type": "markdown",
   "id": "3517f3f2-4a7e-4d86-bca9-b78a397621a6",
   "metadata": {},
   "source": [
    "### Чтение"
   ]
  },
  {
   "cell_type": "code",
   "execution_count": 52,
   "id": "4a5f1877-61c4-4343-ae68-5987cf42bb84",
   "metadata": {},
   "outputs": [
    {
     "data": {
      "text/plain": [
       "3"
      ]
     },
     "execution_count": 52,
     "metadata": {},
     "output_type": "execute_result"
    }
   ],
   "source": [
    "# Одномерный массив\n",
    "x1[3]"
   ]
  },
  {
   "cell_type": "code",
   "execution_count": 53,
   "id": "a9ead3f1-c0b9-488b-81d8-284f92b49781",
   "metadata": {},
   "outputs": [
    {
     "data": {
      "text/plain": [
       "3"
      ]
     },
     "execution_count": 53,
     "metadata": {},
     "output_type": "execute_result"
    }
   ],
   "source": [
    "# Многомерный массив. Схема доступа: строка1, ... строкаN, элементN\n",
    "x3[1, 1, 2]"
   ]
  },
  {
   "cell_type": "markdown",
   "id": "33b80f23-47b1-4bb6-a9d2-7f06ebbf5680",
   "metadata": {},
   "source": [
    "### Запись"
   ]
  },
  {
   "cell_type": "code",
   "execution_count": 54,
   "id": "5070f8f5-0f60-407e-84eb-69eccdde4e48",
   "metadata": {},
   "outputs": [
    {
     "name": "stdout",
     "output_type": "stream",
     "text": [
      "[5 0 3 3 7 9]\n",
      "[5 0 4 3 7 9]\n"
     ]
    }
   ],
   "source": [
    "print(x1)\n",
    "x1[2] = 4\n",
    "print(x1)"
   ]
  },
  {
   "cell_type": "markdown",
   "id": "a9d8aae9-d03b-4443-89b6-68b3fb194e7f",
   "metadata": {},
   "source": [
    "#### Запись элемента другого типа\n",
    "\n",
    "При записи элементов другого типа они будут приведены к типу элементов массива. **Имейте ввиду, что при этом может происходить потеря точности!**"
   ]
  },
  {
   "cell_type": "code",
   "execution_count": 55,
   "id": "053f099f-14c0-45cc-9188-ad2c844e1253",
   "metadata": {},
   "outputs": [
    {
     "name": "stdout",
     "output_type": "stream",
     "text": [
      "[ True False  True  True]\n",
      "[ True  True  True  True]\n"
     ]
    }
   ],
   "source": [
    "x4 = np.array([True, False, True, True])\n",
    "print(x4)\n",
    "x4[1] = 15\n",
    "print(x4)"
   ]
  },
  {
   "cell_type": "markdown",
   "id": "bf8e9561-32eb-4d35-a8c3-8100e84d2bde",
   "metadata": {},
   "source": [
    "### Slicing"
   ]
  },
  {
   "cell_type": "code",
   "execution_count": 56,
   "id": "296f320a-72d0-4f11-830b-8774647a02a5",
   "metadata": {},
   "outputs": [
    {
     "name": "stdout",
     "output_type": "stream",
     "text": [
      "[5 0 4 3 7 9]\n"
     ]
    },
    {
     "data": {
      "text/plain": [
       "array([0, 4])"
      ]
     },
     "execution_count": 56,
     "metadata": {},
     "output_type": "execute_result"
    }
   ],
   "source": [
    "# одномерные массивы\n",
    "print(x1)\n",
    "x1[1:3]"
   ]
  },
  {
   "cell_type": "code",
   "execution_count": 57,
   "id": "5da6e5e3-d5be-456a-9bfb-c0c57f708d67",
   "metadata": {},
   "outputs": [
    {
     "name": "stdout",
     "output_type": "stream",
     "text": [
      "[[3 5 2 4]\n",
      " [7 6 8 8]\n",
      " [1 6 7 7]]\n"
     ]
    },
    {
     "data": {
      "text/plain": [
       "array([[3, 5, 2],\n",
       "       [7, 6, 8]])"
      ]
     },
     "execution_count": 57,
     "metadata": {},
     "output_type": "execute_result"
    }
   ],
   "source": [
    "## многомерные массивы\n",
    "print(x2)\n",
    "x2[:2, :3]"
   ]
  },
  {
   "cell_type": "markdown",
   "id": "05053c54-23fb-4527-8d42-186587b484dd",
   "metadata": {},
   "source": [
    "#### Доступ к колонкам или строка в многомерном массиве"
   ]
  },
  {
   "cell_type": "code",
   "execution_count": 58,
   "id": "12a82503-e88b-4889-81c7-d948a3a443c2",
   "metadata": {},
   "outputs": [
    {
     "name": "stdout",
     "output_type": "stream",
     "text": [
      "[3 7 1]\n"
     ]
    }
   ],
   "source": [
    "print(x2[:, 0])  # first column of x2"
   ]
  },
  {
   "cell_type": "code",
   "execution_count": 59,
   "id": "756821f8-3f28-448b-beea-56b24ae53d41",
   "metadata": {},
   "outputs": [
    {
     "name": "stdout",
     "output_type": "stream",
     "text": [
      "[3 5 2 4]\n"
     ]
    }
   ],
   "source": [
    "print(x2[0, :])  # first row of x2"
   ]
  },
  {
   "cell_type": "markdown",
   "id": "7a8f702d-553f-486a-9be2-094f0484c2a0",
   "metadata": {},
   "source": [
    "### Запись в подмассивы (слайсы)\n",
    "\n",
    "**В отличие от Python, подмассивы (слайсы) `NumPy` предоставляют возможность записывать непосредственно в массив!!!**"
   ]
  },
  {
   "cell_type": "code",
   "execution_count": 60,
   "id": "a7d20dde-ecab-414d-b9dc-797bcbb02bff",
   "metadata": {},
   "outputs": [
    {
     "name": "stdout",
     "output_type": "stream",
     "text": [
      "[[3 5 2 4]\n",
      " [7 6 8 8]\n",
      " [1 6 7 7]]\n"
     ]
    }
   ],
   "source": [
    "print(x2)"
   ]
  },
  {
   "cell_type": "code",
   "execution_count": 61,
   "id": "ea66d24b-4606-42ba-a3e9-2158907f5fdb",
   "metadata": {},
   "outputs": [
    {
     "name": "stdout",
     "output_type": "stream",
     "text": [
      "[[3 5]\n",
      " [7 6]]\n"
     ]
    }
   ],
   "source": [
    "x2_sub = x2[:2, :2]\n",
    "print(x2_sub)"
   ]
  },
  {
   "cell_type": "code",
   "execution_count": 62,
   "id": "0b53c859-1093-4aab-b631-99dddf4970fd",
   "metadata": {},
   "outputs": [
    {
     "name": "stdout",
     "output_type": "stream",
     "text": [
      "[[99  5]\n",
      " [ 7  6]]\n"
     ]
    }
   ],
   "source": [
    "x2_sub[0, 0] = 99\n",
    "print(x2_sub)"
   ]
  },
  {
   "cell_type": "code",
   "execution_count": 63,
   "id": "f6778a00-a526-43c1-ad02-35dc4af6fa38",
   "metadata": {},
   "outputs": [
    {
     "name": "stdout",
     "output_type": "stream",
     "text": [
      "[[99  5  2  4]\n",
      " [ 7  6  8  8]\n",
      " [ 1  6  7  7]]\n"
     ]
    }
   ],
   "source": [
    "print(x2)"
   ]
  },
  {
   "cell_type": "markdown",
   "id": "d9ba8ef0-cb1b-41fa-a994-f6d269556b93",
   "metadata": {},
   "source": [
    "### Creating copies of arrays"
   ]
  }
 ],
 "metadata": {
  "kernelspec": {
   "display_name": "Python 3 (ipykernel)",
   "language": "python",
   "name": "python3"
  },
  "language_info": {
   "codemirror_mode": {
    "name": "ipython",
    "version": 3
   },
   "file_extension": ".py",
   "mimetype": "text/x-python",
   "name": "python",
   "nbconvert_exporter": "python",
   "pygments_lexer": "ipython3",
   "version": "3.10.12"
  }
 },
 "nbformat": 4,
 "nbformat_minor": 5
}
