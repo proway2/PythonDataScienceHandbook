{
 "cells": [
  {
   "cell_type": "markdown",
   "id": "b95778db-5577-4c4f-8fb6-bbdfb85bda14",
   "metadata": {},
   "source": [
    "# NumPy"
   ]
  },
  {
   "cell_type": "code",
   "execution_count": 20,
   "id": "971ac20b-2ba2-478b-96d6-f8328d068059",
   "metadata": {},
   "outputs": [],
   "source": [
    "import numpy as np\n",
    "# просто сидим генератор случайных чисел, чтобы набор чисел был всегда одинаковый\n",
    "np.random.seed(0)"
   ]
  },
  {
   "cell_type": "code",
   "execution_count": 21,
   "id": "f5e6f2f7-2bf5-44ed-aa03-7d71c29d2a56",
   "metadata": {},
   "outputs": [],
   "source": [
    "# Создание массивов\n",
    "# One-dimensional array\n",
    "x1 = np.random.randint(10, size=6)\n",
    "# Two-dimensional array\n",
    "x2 = np.random.randint(10, size=(3, 4))\n",
    "# Three-dimensional array\n",
    "x3 = np.random.randint(10, size=(3, 4, 5))"
   ]
  },
  {
   "cell_type": "markdown",
   "id": "7be03504-1e15-4d2f-ac2d-abc0ecc1ce1f",
   "metadata": {},
   "source": [
    "Параметр `size` задаёт размерность массива. Причем сначала задаётся количество строк. Например, размерность `size=(3, 4, 5` означает, что в массиве будет 3 строки, в каждой строке будут 4 строки и каждая строка будет содержать 5 элементов. Это хорошо видно при распечатке массива `np.random.randint(10, size=(3, 4, 5))`"
   ]
  },
  {
   "cell_type": "code",
   "execution_count": 22,
   "id": "27fc351d-6fba-4a5a-93af-e603374ec84d",
   "metadata": {},
   "outputs": [
    {
     "name": "stdout",
     "output_type": "stream",
     "text": [
      "[5 0 3 3 7 9]\n",
      "--------------------------------------------------\n",
      "[[3 5 2 4]\n",
      " [7 6 8 8]\n",
      " [1 6 7 7]]\n",
      "--------------------------------------------------\n",
      "[[[8 1 5 9 8]\n",
      "  [9 4 3 0 3]\n",
      "  [5 0 2 3 8]\n",
      "  [1 3 3 3 7]]\n",
      "\n",
      " [[0 1 9 9 0]\n",
      "  [4 7 3 2 7]\n",
      "  [2 0 0 4 5]\n",
      "  [5 6 8 4 1]]\n",
      "\n",
      " [[4 9 8 1 1]\n",
      "  [7 9 9 3 6]\n",
      "  [7 2 0 3 5]\n",
      "  [9 4 4 6 4]]]\n"
     ]
    }
   ],
   "source": [
    "print(x1)\n",
    "print(\"-\" * 50)\n",
    "print(x2)\n",
    "print(\"-\" * 50)\n",
    "print(x3)"
   ]
  },
  {
   "cell_type": "markdown",
   "id": "722fdcbc-07c9-4fdf-a8f8-5503c6fec384",
   "metadata": {},
   "source": [
    "## Свойства массивов"
   ]
  },
  {
   "cell_type": "markdown",
   "id": "5bf9253a-9a47-4d80-8d53-33d11dca24b5",
   "metadata": {},
   "source": [
    "`ndim` - количество измерений (многомерность массива)   \n",
    "`shape` - форма массива (размер каждого измерения)   \n",
    "`size` - общее количество элементов массива    \n",
    "`dtype` - тип элементов массива    \n",
    "`itemsize` - размер одного элемента массива в байтах    \n",
    "`nbytes` - размер всего массива в байтах"
   ]
  },
  {
   "cell_type": "code",
   "execution_count": 23,
   "id": "4bb4b41d-3507-466d-80f0-cea02f4d3f4a",
   "metadata": {},
   "outputs": [
    {
     "name": "stdout",
     "output_type": "stream",
     "text": [
      "x3 ndim:  3\n",
      "x3 shape: (3, 4, 5)\n",
      "x3 size:  60\n",
      "x2 dtype:  int64\n",
      "x3 itemsize  8  bytes\n",
      "x3 nbytes  480  bytes\n"
     ]
    }
   ],
   "source": [
    "print(\"x3 ndim: \", x3.ndim)\n",
    "print(\"x3 shape:\", x3.shape)\n",
    "print(\"x3 size: \", x3.size)\n",
    "print(\"x2 dtype: \", x2.dtype)\n",
    "print(\"x3 itemsize \", x3.itemsize, \" bytes\")\n",
    "print(\"x3 nbytes \", x3.nbytes, \" bytes\")"
   ]
  },
  {
   "cell_type": "markdown",
   "id": "cb18dd5a-04a7-4b1f-aaac-82cb4ee777e8",
   "metadata": {},
   "source": [
    "## Доступ к элементам"
   ]
  },
  {
   "cell_type": "markdown",
   "id": "3517f3f2-4a7e-4d86-bca9-b78a397621a6",
   "metadata": {},
   "source": [
    "### Чтение"
   ]
  },
  {
   "cell_type": "code",
   "execution_count": 24,
   "id": "4a5f1877-61c4-4343-ae68-5987cf42bb84",
   "metadata": {},
   "outputs": [
    {
     "data": {
      "text/plain": [
       "3"
      ]
     },
     "execution_count": 24,
     "metadata": {},
     "output_type": "execute_result"
    }
   ],
   "source": [
    "# Одномерный массив\n",
    "x1[3]"
   ]
  },
  {
   "cell_type": "code",
   "execution_count": 25,
   "id": "a9ead3f1-c0b9-488b-81d8-284f92b49781",
   "metadata": {},
   "outputs": [
    {
     "data": {
      "text/plain": [
       "3"
      ]
     },
     "execution_count": 25,
     "metadata": {},
     "output_type": "execute_result"
    }
   ],
   "source": [
    "# Многомерный массив. Схема доступа: строка1, ... строкаN, элементN\n",
    "x3[1, 1, 2]"
   ]
  },
  {
   "cell_type": "markdown",
   "id": "33b80f23-47b1-4bb6-a9d2-7f06ebbf5680",
   "metadata": {},
   "source": [
    "### Запись"
   ]
  },
  {
   "cell_type": "code",
   "execution_count": 26,
   "id": "5070f8f5-0f60-407e-84eb-69eccdde4e48",
   "metadata": {},
   "outputs": [
    {
     "name": "stdout",
     "output_type": "stream",
     "text": [
      "[5 0 3 3 7 9]\n",
      "[5 0 4 3 7 9]\n"
     ]
    }
   ],
   "source": [
    "print(x1)\n",
    "x1[2] = 4\n",
    "print(x1)"
   ]
  },
  {
   "cell_type": "markdown",
   "id": "a9d8aae9-d03b-4443-89b6-68b3fb194e7f",
   "metadata": {},
   "source": [
    "#### Запись элемента другого типа\n",
    "\n",
    "При записи элементов другого типа они будут приведены к типу элементов массива. **Имейте ввиду, что при этом может происходить потеря точности!**"
   ]
  },
  {
   "cell_type": "code",
   "execution_count": 27,
   "id": "053f099f-14c0-45cc-9188-ad2c844e1253",
   "metadata": {},
   "outputs": [
    {
     "name": "stdout",
     "output_type": "stream",
     "text": [
      "[ True False  True  True]\n",
      "[ True  True  True  True]\n"
     ]
    }
   ],
   "source": [
    "x4 = np.array([True, False, True, True])\n",
    "print(x4)\n",
    "x4[1] = 15\n",
    "print(x4)"
   ]
  },
  {
   "cell_type": "markdown",
   "id": "bf8e9561-32eb-4d35-a8c3-8100e84d2bde",
   "metadata": {},
   "source": [
    "### Slicing"
   ]
  },
  {
   "cell_type": "code",
   "execution_count": null,
   "id": "b380ef49-bb74-4005-9627-8148e7f1af76",
   "metadata": {},
   "outputs": [],
   "source": []
  },
  {
   "cell_type": "code",
   "execution_count": 28,
   "id": "296f320a-72d0-4f11-830b-8774647a02a5",
   "metadata": {},
   "outputs": [
    {
     "name": "stdout",
     "output_type": "stream",
     "text": [
      "[5 0 4 3 7 9]\n"
     ]
    },
    {
     "data": {
      "text/plain": [
       "array([0, 4])"
      ]
     },
     "execution_count": 28,
     "metadata": {},
     "output_type": "execute_result"
    }
   ],
   "source": [
    "# одномерные массивы\n",
    "print(x1)\n",
    "x1[1:3]"
   ]
  },
  {
   "cell_type": "code",
   "execution_count": 29,
   "id": "5da6e5e3-d5be-456a-9bfb-c0c57f708d67",
   "metadata": {},
   "outputs": [
    {
     "name": "stdout",
     "output_type": "stream",
     "text": [
      "[[3 5 2 4]\n",
      " [7 6 8 8]\n",
      " [1 6 7 7]]\n"
     ]
    },
    {
     "data": {
      "text/plain": [
       "array([[3, 5, 2],\n",
       "       [7, 6, 8]])"
      ]
     },
     "execution_count": 29,
     "metadata": {},
     "output_type": "execute_result"
    }
   ],
   "source": [
    "## многомерные массивы\n",
    "print(x2)\n",
    "x2[:2, :3]"
   ]
  },
  {
   "cell_type": "markdown",
   "id": "05053c54-23fb-4527-8d42-186587b484dd",
   "metadata": {},
   "source": [
    "#### Доступ к колонкам или строка в многомерном массиве"
   ]
  },
  {
   "cell_type": "code",
   "execution_count": 30,
   "id": "12a82503-e88b-4889-81c7-d948a3a443c2",
   "metadata": {},
   "outputs": [
    {
     "name": "stdout",
     "output_type": "stream",
     "text": [
      "[3 7 1]\n"
     ]
    }
   ],
   "source": [
    "print(x2[:, 0])  # first column of x2"
   ]
  },
  {
   "cell_type": "code",
   "execution_count": 31,
   "id": "756821f8-3f28-448b-beea-56b24ae53d41",
   "metadata": {},
   "outputs": [
    {
     "name": "stdout",
     "output_type": "stream",
     "text": [
      "[3 5 2 4]\n"
     ]
    }
   ],
   "source": [
    "print(x2[0, :])  # first row of x2"
   ]
  },
  {
   "cell_type": "markdown",
   "id": "7a8f702d-553f-486a-9be2-094f0484c2a0",
   "metadata": {},
   "source": [
    "### Запись в подмассивы (слайсы)\n",
    "\n",
    "**В отличие от Python, подмассивы (слайсы) `NumPy` предоставляют возможность записывать непосредственно в массив!!!**\n",
    "\n",
    "Подмассив представляет собой `no-copy view` исходного массива, а не новый массив."
   ]
  },
  {
   "cell_type": "code",
   "execution_count": 32,
   "id": "a7d20dde-ecab-414d-b9dc-797bcbb02bff",
   "metadata": {},
   "outputs": [
    {
     "name": "stdout",
     "output_type": "stream",
     "text": [
      "[[3 5 2 4]\n",
      " [7 6 8 8]\n",
      " [1 6 7 7]]\n"
     ]
    }
   ],
   "source": [
    "print(x2)"
   ]
  },
  {
   "cell_type": "code",
   "execution_count": 33,
   "id": "ea66d24b-4606-42ba-a3e9-2158907f5fdb",
   "metadata": {},
   "outputs": [
    {
     "name": "stdout",
     "output_type": "stream",
     "text": [
      "[[3 5]\n",
      " [7 6]]\n"
     ]
    }
   ],
   "source": [
    "x2_sub = x2[:2, :2]\n",
    "print(x2_sub)"
   ]
  },
  {
   "cell_type": "code",
   "execution_count": 34,
   "id": "0b53c859-1093-4aab-b631-99dddf4970fd",
   "metadata": {},
   "outputs": [
    {
     "name": "stdout",
     "output_type": "stream",
     "text": [
      "[[99  5]\n",
      " [ 7  6]]\n"
     ]
    }
   ],
   "source": [
    "x2_sub[0, 0] = 99\n",
    "print(x2_sub)"
   ]
  },
  {
   "cell_type": "code",
   "execution_count": 35,
   "id": "f6778a00-a526-43c1-ad02-35dc4af6fa38",
   "metadata": {},
   "outputs": [
    {
     "name": "stdout",
     "output_type": "stream",
     "text": [
      "[[99  5  2  4]\n",
      " [ 7  6  8  8]\n",
      " [ 1  6  7  7]]\n"
     ]
    }
   ],
   "source": [
    "print(x2)"
   ]
  },
  {
   "cell_type": "markdown",
   "id": "d9ba8ef0-cb1b-41fa-a994-f6d269556b93",
   "metadata": {},
   "source": [
    "### Creating copies of arrays"
   ]
  },
  {
   "cell_type": "code",
   "execution_count": 36,
   "id": "089f2ef1-7af1-4e44-9161-f116b9640e0a",
   "metadata": {},
   "outputs": [
    {
     "name": "stdout",
     "output_type": "stream",
     "text": [
      "[[99  5]\n",
      " [ 7  6]]\n"
     ]
    }
   ],
   "source": [
    "# Можно воспользоваться методом `copy()`\n",
    "# Если изменить копию, то оригинальный массив останется нетронутым!!!\n",
    "x2_sub_copy = x2[:2, :2].copy()\n",
    "print(x2_sub_copy)"
   ]
  },
  {
   "cell_type": "markdown",
   "id": "4a2ea3d2-423a-43d0-9719-514fb67f8ddd",
   "metadata": {},
   "source": [
    "## Изменение формы массива"
   ]
  },
  {
   "cell_type": "code",
   "execution_count": 41,
   "id": "19e60f6c-dc0c-4cab-99df-4f9d8087bea1",
   "metadata": {},
   "outputs": [
    {
     "name": "stdout",
     "output_type": "stream",
     "text": [
      "[1 2 3 4 5 6 7 8 9]\n",
      "[[1 2 3]\n",
      " [4 5 6]\n",
      " [7 8 9]]\n"
     ]
    }
   ],
   "source": [
    "grid = np.arange(1, 10)\n",
    "print(grid)\n",
    "grid2 = grid.reshape((3, 3))\n",
    "print(grid2)"
   ]
  },
  {
   "cell_type": "code",
   "execution_count": 43,
   "id": "c1327dd9-ef5b-4947-a0ec-d4da0c923718",
   "metadata": {},
   "outputs": [
    {
     "data": {
      "text/plain": [
       "array([[1, 2, 3]])"
      ]
     },
     "execution_count": 43,
     "metadata": {},
     "output_type": "execute_result"
    }
   ],
   "source": [
    "## Еще один способ изменить форму массива - это использовать ключевое слово `np.newaxis` в операции среза\n",
    "x = np.array([1, 2, 3])\n",
    "\n",
    "# row vector via reshape\n",
    "x.reshape((1, 3))"
   ]
  },
  {
   "cell_type": "code",
   "execution_count": 44,
   "id": "133b5c14-82f5-4be4-90f7-8d212b80a8c7",
   "metadata": {},
   "outputs": [
    {
     "data": {
      "text/plain": [
       "array([[1, 2, 3]])"
      ]
     },
     "execution_count": 44,
     "metadata": {},
     "output_type": "execute_result"
    }
   ],
   "source": [
    "# row vector via newaxis\n",
    "x[np.newaxis, :]"
   ]
  },
  {
   "cell_type": "code",
   "execution_count": 45,
   "id": "e982ff02-2721-4c40-a226-4108fe34d67a",
   "metadata": {},
   "outputs": [
    {
     "data": {
      "text/plain": [
       "array([[1],\n",
       "       [2],\n",
       "       [3]])"
      ]
     },
     "execution_count": 45,
     "metadata": {},
     "output_type": "execute_result"
    }
   ],
   "source": [
    "# column vector via reshape\n",
    "x.reshape((3, 1))"
   ]
  },
  {
   "cell_type": "code",
   "execution_count": 46,
   "id": "d52e74c6-3e0d-4b5f-8a30-4f984875924b",
   "metadata": {},
   "outputs": [
    {
     "data": {
      "text/plain": [
       "array([[1],\n",
       "       [2],\n",
       "       [3]])"
      ]
     },
     "execution_count": 46,
     "metadata": {},
     "output_type": "execute_result"
    }
   ],
   "source": [
    "x[:, np.newaxis]"
   ]
  },
  {
   "cell_type": "markdown",
   "id": "ef929c32-805e-421a-9a8c-020d00d7ee18",
   "metadata": {},
   "source": [
    "## Соединение и разделение массивов"
   ]
  },
  {
   "cell_type": "markdown",
   "id": "3331f703-8870-47d8-af62-39e07334f862",
   "metadata": {},
   "source": [
    "### Соединение массивов"
   ]
  },
  {
   "cell_type": "code",
   "execution_count": 51,
   "id": "46cfd441-bda1-4598-819a-e40608bc8582",
   "metadata": {},
   "outputs": [
    {
     "data": {
      "text/plain": [
       "array([ 1,  2,  3,  3,  2,  1, 91, 92, 93])"
      ]
     },
     "execution_count": 51,
     "metadata": {},
     "output_type": "execute_result"
    }
   ],
   "source": [
    "# Метод `concatenate`\n",
    "x = np.array([1, 2, 3])\n",
    "y = np.array([3, 2, 1])\n",
    "z = [91, 92, 93]\n",
    "np.concatenate((x, y, z))"
   ]
  },
  {
   "cell_type": "code",
   "execution_count": 52,
   "id": "f37bd3b0-f634-4a89-942a-90964b9a03c7",
   "metadata": {},
   "outputs": [],
   "source": [
    "# `concatenate` работает и на многомерных массивах"
   ]
  },
  {
   "cell_type": "code",
   "execution_count": 53,
   "id": "c5e03a39-18e6-487d-98ad-2c95f0b19664",
   "metadata": {},
   "outputs": [],
   "source": [
    "grid = np.array([[1, 2, 3],\n",
    "                 [4, 5, 6]])"
   ]
  },
  {
   "cell_type": "code",
   "execution_count": 54,
   "id": "08e380d8-598c-4cee-b6b9-7851cf45f919",
   "metadata": {},
   "outputs": [
    {
     "data": {
      "text/plain": [
       "array([[1, 2, 3],\n",
       "       [4, 5, 6],\n",
       "       [1, 2, 3],\n",
       "       [4, 5, 6]])"
      ]
     },
     "execution_count": 54,
     "metadata": {},
     "output_type": "execute_result"
    }
   ],
   "source": [
    "# concatenate along the first axis\n",
    "np.concatenate([grid, grid])"
   ]
  },
  {
   "cell_type": "code",
   "execution_count": 56,
   "id": "197cc846-c448-40e2-9fbf-bee1c4e1a5e5",
   "metadata": {},
   "outputs": [
    {
     "data": {
      "text/plain": [
       "array([[1, 2, 3, 1, 2, 3],\n",
       "       [4, 5, 6, 4, 5, 6]])"
      ]
     },
     "execution_count": 56,
     "metadata": {},
     "output_type": "execute_result"
    }
   ],
   "source": [
    "# concatenate along the second axis (zero-indexed)\n",
    "np.concatenate([grid, grid], axis=1)"
   ]
  },
  {
   "cell_type": "markdown",
   "id": "a0d6bae4-0f86-45b1-b361-89034775f0ca",
   "metadata": {},
   "source": [
    "Для работы с многомерными массивами, особенно с различной размерностью, намного более понятно использовать методы `np.vstack` (вертикальный стек) и `np.hstack` (горизонтальный стек)."
   ]
  },
  {
   "cell_type": "code",
   "execution_count": 57,
   "id": "ca6ac0d4-b2a5-446c-b5d4-cb909478a947",
   "metadata": {},
   "outputs": [
    {
     "data": {
      "text/plain": [
       "array([[1, 2, 3],\n",
       "       [9, 8, 7],\n",
       "       [6, 5, 4]])"
      ]
     },
     "execution_count": 57,
     "metadata": {},
     "output_type": "execute_result"
    }
   ],
   "source": [
    "x = np.array([1, 2, 3])\n",
    "grid = np.array([[9, 8, 7],\n",
    "                 [6, 5, 4]])\n",
    "\n",
    "# vertically stack the arrays\n",
    "np.vstack([x, grid])"
   ]
  },
  {
   "cell_type": "code",
   "execution_count": 58,
   "id": "cd2fc498-ca15-45e3-80a7-64e58d3149ca",
   "metadata": {},
   "outputs": [
    {
     "data": {
      "text/plain": [
       "array([[ 9,  8,  7, 99],\n",
       "       [ 6,  5,  4, 99]])"
      ]
     },
     "execution_count": 58,
     "metadata": {},
     "output_type": "execute_result"
    }
   ],
   "source": [
    "# horizontally stack the arrays\n",
    "y = np.array([[99],\n",
    "              [99]])\n",
    "np.hstack([grid, y])"
   ]
  },
  {
   "cell_type": "markdown",
   "id": "466fc59a-6036-40b3-b0e1-6d7ae97d8f49",
   "metadata": {},
   "source": [
    "### Разделение массивов"
   ]
  },
  {
   "cell_type": "markdown",
   "id": "8e367475-a787-47b1-a628-6ebb46beee63",
   "metadata": {},
   "source": [
    "Разделение осуществляется функциями `np.split`, `np.hsplit`, и `np.vsplit`. Для каждой из этих функций мы можем передать список индексов, задающих точки разделения, а именно позиции в массиве, которые станут началами новых массивов.    \n",
    "**Для N точек разделения всегда получается N+1 подмассивов.**"
   ]
  },
  {
   "cell_type": "code",
   "execution_count": 60,
   "id": "3a13a581-c9e7-4732-b68f-0201dbc60afe",
   "metadata": {},
   "outputs": [
    {
     "name": "stdout",
     "output_type": "stream",
     "text": [
      "[1 2 3] [99 99] [3 2 1]\n"
     ]
    }
   ],
   "source": [
    "x = [1, 2, 3, 99, 99, 3, 2, 1]\n",
    "x1, x2, x3 = np.split(x, [3, 5])  # индексы 3 и 5 в исходном массиве являются точками разделения на массивы\n",
    "print(x1, x2, x3)"
   ]
  },
  {
   "cell_type": "markdown",
   "id": "d9c8e8a2-0e65-4547-be57-7e58a21693f0",
   "metadata": {},
   "source": [
    "Функции `np.hsplit` и `np.vsplit` работают следующим образом:"
   ]
  },
  {
   "cell_type": "code",
   "execution_count": 64,
   "id": "496a9d8f-7796-41ef-9560-5eeba8f49721",
   "metadata": {},
   "outputs": [
    {
     "data": {
      "text/plain": [
       "array([[ 0,  1,  2,  3],\n",
       "       [ 4,  5,  6,  7],\n",
       "       [ 8,  9, 10, 11],\n",
       "       [12, 13, 14, 15]])"
      ]
     },
     "execution_count": 64,
     "metadata": {},
     "output_type": "execute_result"
    }
   ],
   "source": [
    "grid = np.arange(16).reshape((4, 4))\n",
    "grid"
   ]
  },
  {
   "cell_type": "code",
   "execution_count": 65,
   "id": "31426841-18c5-4531-a035-062e1bc30d1a",
   "metadata": {},
   "outputs": [
    {
     "name": "stdout",
     "output_type": "stream",
     "text": [
      "[[0 1 2 3]\n",
      " [4 5 6 7]]\n",
      "[[ 8  9 10 11]\n",
      " [12 13 14 15]]\n"
     ]
    }
   ],
   "source": [
    "upper, lower = np.vsplit(grid, [2])\n",
    "print(upper)\n",
    "print(lower)"
   ]
  },
  {
   "cell_type": "code",
   "execution_count": 66,
   "id": "5f49ef88-ad65-4674-be03-876d7a22f39f",
   "metadata": {},
   "outputs": [
    {
     "name": "stdout",
     "output_type": "stream",
     "text": [
      "[[ 0  1]\n",
      " [ 4  5]\n",
      " [ 8  9]\n",
      " [12 13]]\n",
      "[[ 2  3]\n",
      " [ 6  7]\n",
      " [10 11]\n",
      " [14 15]]\n"
     ]
    }
   ],
   "source": [
    "left, right = np.hsplit(grid, [2])\n",
    "print(left)\n",
    "print(right)"
   ]
  },
  {
   "cell_type": "markdown",
   "id": "8d30d37e-b513-459c-83d6-86a9049d8b61",
   "metadata": {},
   "source": [
    "## Вычисления на массивах, универсальные функции"
   ]
  }
 ],
 "metadata": {
  "kernelspec": {
   "display_name": "Python 3 (ipykernel)",
   "language": "python",
   "name": "python3"
  },
  "language_info": {
   "codemirror_mode": {
    "name": "ipython",
    "version": 3
   },
   "file_extension": ".py",
   "mimetype": "text/x-python",
   "name": "python",
   "nbconvert_exporter": "python",
   "pygments_lexer": "ipython3",
   "version": "3.10.12"
  }
 },
 "nbformat": 4,
 "nbformat_minor": 5
}
