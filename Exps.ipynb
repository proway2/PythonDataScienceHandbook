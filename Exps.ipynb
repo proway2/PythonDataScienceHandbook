{
 "cells": [
  {
   "cell_type": "markdown",
   "id": "b95778db-5577-4c4f-8fb6-bbdfb85bda14",
   "metadata": {},
   "source": [
    "# NumPy"
   ]
  },
  {
   "cell_type": "code",
   "execution_count": 44,
   "id": "971ac20b-2ba2-478b-96d6-f8328d068059",
   "metadata": {},
   "outputs": [],
   "source": [
    "import numpy as np\n",
    "# просто сидим генератор случайных чисел, чтобы набор чисел был всегда одинаковый\n",
    "np.random.seed(0)"
   ]
  },
  {
   "cell_type": "code",
   "execution_count": 45,
   "id": "f5e6f2f7-2bf5-44ed-aa03-7d71c29d2a56",
   "metadata": {},
   "outputs": [],
   "source": [
    "# Создание массивов\n",
    "# One-dimensional array\n",
    "x1 = np.random.randint(10, size=6)\n",
    "# Two-dimensional array\n",
    "x2 = np.random.randint(10, size=(3, 4))\n",
    "# Three-dimensional array\n",
    "x3 = np.random.randint(10, size=(3, 4, 5))"
   ]
  },
  {
   "cell_type": "markdown",
   "id": "7be03504-1e15-4d2f-ac2d-abc0ecc1ce1f",
   "metadata": {},
   "source": [
    "Параметр `size` задаёт размерность массива. Причем сначала задаётся количество строк. Например, размерность `size=(3, 4, 5` означает, что в массиве будет 3 строки, в каждой строке будут 4 строки и каждая строка будет содержать 5 элементов. Это хорошо видно при распечатке массива `np.random.randint(10, size=(3, 4, 5))`"
   ]
  },
  {
   "cell_type": "code",
   "execution_count": 46,
   "id": "27fc351d-6fba-4a5a-93af-e603374ec84d",
   "metadata": {},
   "outputs": [
    {
     "name": "stdout",
     "output_type": "stream",
     "text": [
      "[5 0 3 3 7 9]\n",
      "--------------------------------------------------\n",
      "[[3 5 2 4]\n",
      " [7 6 8 8]\n",
      " [1 6 7 7]]\n",
      "--------------------------------------------------\n",
      "[[[8 1 5 9 8]\n",
      "  [9 4 3 0 3]\n",
      "  [5 0 2 3 8]\n",
      "  [1 3 3 3 7]]\n",
      "\n",
      " [[0 1 9 9 0]\n",
      "  [4 7 3 2 7]\n",
      "  [2 0 0 4 5]\n",
      "  [5 6 8 4 1]]\n",
      "\n",
      " [[4 9 8 1 1]\n",
      "  [7 9 9 3 6]\n",
      "  [7 2 0 3 5]\n",
      "  [9 4 4 6 4]]]\n"
     ]
    }
   ],
   "source": [
    "print(x1)\n",
    "print(\"-\" * 50)\n",
    "print(x2)\n",
    "print(\"-\" * 50)\n",
    "print(x3)"
   ]
  },
  {
   "cell_type": "markdown",
   "id": "722fdcbc-07c9-4fdf-a8f8-5503c6fec384",
   "metadata": {},
   "source": [
    "## Свойства массивов"
   ]
  },
  {
   "cell_type": "markdown",
   "id": "5bf9253a-9a47-4d80-8d53-33d11dca24b5",
   "metadata": {},
   "source": [
    "`ndim` - количество измерений (многомерность массива)   \n",
    "`shape` - форма массива (размер каждого измерения)   \n",
    "`size` - общее количество элементов массива    \n",
    "`dtype` - тип элементов массива    \n",
    "`itemsize` - размер одного элемента массива в байтах    \n",
    "`nbytes` - размер всего массива в байтах"
   ]
  },
  {
   "cell_type": "code",
   "execution_count": 47,
   "id": "4bb4b41d-3507-466d-80f0-cea02f4d3f4a",
   "metadata": {},
   "outputs": [
    {
     "name": "stdout",
     "output_type": "stream",
     "text": [
      "x3 ndim:  3\n",
      "x3 shape: (3, 4, 5)\n",
      "x3 size:  60\n",
      "x2 dtype:  int64\n",
      "x3 itemsize  8  bytes\n",
      "x3 nbytes  480  bytes\n"
     ]
    }
   ],
   "source": [
    "print(\"x3 ndim: \", x3.ndim)\n",
    "print(\"x3 shape:\", x3.shape)\n",
    "print(\"x3 size: \", x3.size)\n",
    "print(\"x2 dtype: \", x2.dtype)\n",
    "print(\"x3 itemsize \", x3.itemsize, \" bytes\")\n",
    "print(\"x3 nbytes \", x3.nbytes, \" bytes\")"
   ]
  },
  {
   "cell_type": "markdown",
   "id": "cb18dd5a-04a7-4b1f-aaac-82cb4ee777e8",
   "metadata": {},
   "source": [
    "## Доступ к элементам"
   ]
  },
  {
   "cell_type": "markdown",
   "id": "3517f3f2-4a7e-4d86-bca9-b78a397621a6",
   "metadata": {},
   "source": [
    "### Чтение"
   ]
  },
  {
   "cell_type": "code",
   "execution_count": 48,
   "id": "4a5f1877-61c4-4343-ae68-5987cf42bb84",
   "metadata": {},
   "outputs": [
    {
     "data": {
      "text/plain": [
       "3"
      ]
     },
     "execution_count": 48,
     "metadata": {},
     "output_type": "execute_result"
    }
   ],
   "source": [
    "# Одномерный массив\n",
    "x1[3]"
   ]
  },
  {
   "cell_type": "code",
   "execution_count": 49,
   "id": "a9ead3f1-c0b9-488b-81d8-284f92b49781",
   "metadata": {},
   "outputs": [
    {
     "data": {
      "text/plain": [
       "3"
      ]
     },
     "execution_count": 49,
     "metadata": {},
     "output_type": "execute_result"
    }
   ],
   "source": [
    "# Многомерный массив. Схема доступа: строка1, ... строкаN, элементN\n",
    "x3[1, 1, 2]"
   ]
  },
  {
   "cell_type": "markdown",
   "id": "33b80f23-47b1-4bb6-a9d2-7f06ebbf5680",
   "metadata": {},
   "source": [
    "### Запись"
   ]
  },
  {
   "cell_type": "code",
   "execution_count": 50,
   "id": "5070f8f5-0f60-407e-84eb-69eccdde4e48",
   "metadata": {},
   "outputs": [
    {
     "name": "stdout",
     "output_type": "stream",
     "text": [
      "[5 0 3 3 7 9]\n",
      "[5 0 4 3 7 9]\n"
     ]
    }
   ],
   "source": [
    "print(x1)\n",
    "x1[2] = 4\n",
    "print(x1)"
   ]
  },
  {
   "cell_type": "markdown",
   "id": "a9d8aae9-d03b-4443-89b6-68b3fb194e7f",
   "metadata": {},
   "source": [
    "#### Запись элемента другого типа\n",
    "\n",
    "При записи элементов другого типа они будут приведены к типу элементов массива. **Имейте ввиду, что при этом может происходить потеря точности!**"
   ]
  },
  {
   "cell_type": "code",
   "execution_count": 51,
   "id": "053f099f-14c0-45cc-9188-ad2c844e1253",
   "metadata": {},
   "outputs": [
    {
     "name": "stdout",
     "output_type": "stream",
     "text": [
      "[ True False  True  True]\n",
      "[ True  True  True  True]\n"
     ]
    }
   ],
   "source": [
    "x4 = np.array([True, False, True, True])\n",
    "print(x4)\n",
    "x4[1] = 15\n",
    "print(x4)"
   ]
  },
  {
   "cell_type": "markdown",
   "id": "bf8e9561-32eb-4d35-a8c3-8100e84d2bde",
   "metadata": {},
   "source": [
    "### Slicing"
   ]
  },
  {
   "cell_type": "code",
   "execution_count": null,
   "id": "b380ef49-bb74-4005-9627-8148e7f1af76",
   "metadata": {},
   "outputs": [],
   "source": []
  },
  {
   "cell_type": "code",
   "execution_count": 52,
   "id": "296f320a-72d0-4f11-830b-8774647a02a5",
   "metadata": {},
   "outputs": [
    {
     "name": "stdout",
     "output_type": "stream",
     "text": [
      "[5 0 4 3 7 9]\n"
     ]
    },
    {
     "data": {
      "text/plain": [
       "array([0, 4])"
      ]
     },
     "execution_count": 52,
     "metadata": {},
     "output_type": "execute_result"
    }
   ],
   "source": [
    "# одномерные массивы\n",
    "print(x1)\n",
    "x1[1:3]"
   ]
  },
  {
   "cell_type": "code",
   "execution_count": 53,
   "id": "5da6e5e3-d5be-456a-9bfb-c0c57f708d67",
   "metadata": {},
   "outputs": [
    {
     "name": "stdout",
     "output_type": "stream",
     "text": [
      "[[3 5 2 4]\n",
      " [7 6 8 8]\n",
      " [1 6 7 7]]\n"
     ]
    },
    {
     "data": {
      "text/plain": [
       "array([[3, 5, 2],\n",
       "       [7, 6, 8]])"
      ]
     },
     "execution_count": 53,
     "metadata": {},
     "output_type": "execute_result"
    }
   ],
   "source": [
    "## многомерные массивы\n",
    "print(x2)\n",
    "x2[:2, :3]"
   ]
  },
  {
   "cell_type": "markdown",
   "id": "05053c54-23fb-4527-8d42-186587b484dd",
   "metadata": {},
   "source": [
    "#### Доступ к колонкам или строка в многомерном массиве"
   ]
  },
  {
   "cell_type": "code",
   "execution_count": 54,
   "id": "12a82503-e88b-4889-81c7-d948a3a443c2",
   "metadata": {},
   "outputs": [
    {
     "name": "stdout",
     "output_type": "stream",
     "text": [
      "[3 7 1]\n"
     ]
    }
   ],
   "source": [
    "print(x2[:, 0])  # first column of x2"
   ]
  },
  {
   "cell_type": "code",
   "execution_count": 55,
   "id": "756821f8-3f28-448b-beea-56b24ae53d41",
   "metadata": {},
   "outputs": [
    {
     "name": "stdout",
     "output_type": "stream",
     "text": [
      "[3 5 2 4]\n"
     ]
    }
   ],
   "source": [
    "print(x2[0, :])  # first row of x2"
   ]
  },
  {
   "cell_type": "markdown",
   "id": "7a8f702d-553f-486a-9be2-094f0484c2a0",
   "metadata": {},
   "source": [
    "### Запись в подмассивы (слайсы)\n",
    "\n",
    "**В отличие от Python, подмассивы (слайсы) `NumPy` предоставляют возможность записывать непосредственно в массив!!!**\n",
    "\n",
    "Подмассив представляет собой `no-copy view` исходного массива, а не новый массив."
   ]
  },
  {
   "cell_type": "code",
   "execution_count": 56,
   "id": "a7d20dde-ecab-414d-b9dc-797bcbb02bff",
   "metadata": {},
   "outputs": [
    {
     "name": "stdout",
     "output_type": "stream",
     "text": [
      "[[3 5 2 4]\n",
      " [7 6 8 8]\n",
      " [1 6 7 7]]\n"
     ]
    }
   ],
   "source": [
    "print(x2)"
   ]
  },
  {
   "cell_type": "code",
   "execution_count": 57,
   "id": "ea66d24b-4606-42ba-a3e9-2158907f5fdb",
   "metadata": {},
   "outputs": [
    {
     "name": "stdout",
     "output_type": "stream",
     "text": [
      "[[3 5]\n",
      " [7 6]]\n"
     ]
    }
   ],
   "source": [
    "x2_sub = x2[:2, :2]\n",
    "print(x2_sub)"
   ]
  },
  {
   "cell_type": "code",
   "execution_count": 58,
   "id": "0b53c859-1093-4aab-b631-99dddf4970fd",
   "metadata": {},
   "outputs": [
    {
     "name": "stdout",
     "output_type": "stream",
     "text": [
      "[[99  5]\n",
      " [ 7  6]]\n"
     ]
    }
   ],
   "source": [
    "x2_sub[0, 0] = 99\n",
    "print(x2_sub)"
   ]
  },
  {
   "cell_type": "code",
   "execution_count": 59,
   "id": "f6778a00-a526-43c1-ad02-35dc4af6fa38",
   "metadata": {},
   "outputs": [
    {
     "name": "stdout",
     "output_type": "stream",
     "text": [
      "[[99  5  2  4]\n",
      " [ 7  6  8  8]\n",
      " [ 1  6  7  7]]\n"
     ]
    }
   ],
   "source": [
    "print(x2)"
   ]
  },
  {
   "cell_type": "markdown",
   "id": "d9ba8ef0-cb1b-41fa-a994-f6d269556b93",
   "metadata": {},
   "source": [
    "### Creating copies of arrays"
   ]
  },
  {
   "cell_type": "code",
   "execution_count": 60,
   "id": "089f2ef1-7af1-4e44-9161-f116b9640e0a",
   "metadata": {},
   "outputs": [
    {
     "name": "stdout",
     "output_type": "stream",
     "text": [
      "[[99  5]\n",
      " [ 7  6]]\n"
     ]
    }
   ],
   "source": [
    "# Можно воспользоваться методом `copy()`\n",
    "# Если изменить копию, то оригинальный массив останется нетронутым!!!\n",
    "x2_sub_copy = x2[:2, :2].copy()\n",
    "print(x2_sub_copy)"
   ]
  },
  {
   "cell_type": "markdown",
   "id": "4a2ea3d2-423a-43d0-9719-514fb67f8ddd",
   "metadata": {},
   "source": [
    "## Изменение формы массива"
   ]
  },
  {
   "cell_type": "code",
   "execution_count": 61,
   "id": "19e60f6c-dc0c-4cab-99df-4f9d8087bea1",
   "metadata": {},
   "outputs": [
    {
     "name": "stdout",
     "output_type": "stream",
     "text": [
      "[1 2 3 4 5 6 7 8 9]\n",
      "[[1 2 3]\n",
      " [4 5 6]\n",
      " [7 8 9]]\n"
     ]
    }
   ],
   "source": [
    "grid = np.arange(1, 10)\n",
    "print(grid)\n",
    "grid2 = grid.reshape((3, 3))\n",
    "print(grid2)"
   ]
  },
  {
   "cell_type": "code",
   "execution_count": 62,
   "id": "c1327dd9-ef5b-4947-a0ec-d4da0c923718",
   "metadata": {},
   "outputs": [
    {
     "data": {
      "text/plain": [
       "array([[1, 2, 3]])"
      ]
     },
     "execution_count": 62,
     "metadata": {},
     "output_type": "execute_result"
    }
   ],
   "source": [
    "## Еще один способ изменить форму массива - это использовать ключевое слово `np.newaxis` в операции среза\n",
    "x = np.array([1, 2, 3])\n",
    "\n",
    "# row vector via reshape\n",
    "x.reshape((1, 3))"
   ]
  },
  {
   "cell_type": "code",
   "execution_count": 63,
   "id": "133b5c14-82f5-4be4-90f7-8d212b80a8c7",
   "metadata": {},
   "outputs": [
    {
     "data": {
      "text/plain": [
       "array([[1, 2, 3]])"
      ]
     },
     "execution_count": 63,
     "metadata": {},
     "output_type": "execute_result"
    }
   ],
   "source": [
    "# row vector via newaxis\n",
    "x[np.newaxis, :]"
   ]
  },
  {
   "cell_type": "code",
   "execution_count": 64,
   "id": "e982ff02-2721-4c40-a226-4108fe34d67a",
   "metadata": {},
   "outputs": [
    {
     "data": {
      "text/plain": [
       "array([[1],\n",
       "       [2],\n",
       "       [3]])"
      ]
     },
     "execution_count": 64,
     "metadata": {},
     "output_type": "execute_result"
    }
   ],
   "source": [
    "# column vector via reshape\n",
    "x.reshape((3, 1))"
   ]
  },
  {
   "cell_type": "code",
   "execution_count": 65,
   "id": "d52e74c6-3e0d-4b5f-8a30-4f984875924b",
   "metadata": {},
   "outputs": [
    {
     "data": {
      "text/plain": [
       "array([[1],\n",
       "       [2],\n",
       "       [3]])"
      ]
     },
     "execution_count": 65,
     "metadata": {},
     "output_type": "execute_result"
    }
   ],
   "source": [
    "x[:, np.newaxis]"
   ]
  },
  {
   "cell_type": "markdown",
   "id": "ef929c32-805e-421a-9a8c-020d00d7ee18",
   "metadata": {},
   "source": [
    "## Соединение и разделение массивов"
   ]
  },
  {
   "cell_type": "markdown",
   "id": "3331f703-8870-47d8-af62-39e07334f862",
   "metadata": {},
   "source": [
    "### Соединение массивов"
   ]
  },
  {
   "cell_type": "code",
   "execution_count": 66,
   "id": "46cfd441-bda1-4598-819a-e40608bc8582",
   "metadata": {},
   "outputs": [
    {
     "data": {
      "text/plain": [
       "array([ 1,  2,  3,  3,  2,  1, 91, 92, 93])"
      ]
     },
     "execution_count": 66,
     "metadata": {},
     "output_type": "execute_result"
    }
   ],
   "source": [
    "# Метод `concatenate`\n",
    "x = np.array([1, 2, 3])\n",
    "y = np.array([3, 2, 1])\n",
    "z = [91, 92, 93]\n",
    "np.concatenate((x, y, z))"
   ]
  },
  {
   "cell_type": "code",
   "execution_count": 67,
   "id": "f37bd3b0-f634-4a89-942a-90964b9a03c7",
   "metadata": {},
   "outputs": [],
   "source": [
    "# `concatenate` работает и на многомерных массивах"
   ]
  },
  {
   "cell_type": "code",
   "execution_count": 68,
   "id": "c5e03a39-18e6-487d-98ad-2c95f0b19664",
   "metadata": {},
   "outputs": [],
   "source": [
    "grid = np.array([[1, 2, 3],\n",
    "                 [4, 5, 6]])"
   ]
  },
  {
   "cell_type": "code",
   "execution_count": 69,
   "id": "08e380d8-598c-4cee-b6b9-7851cf45f919",
   "metadata": {},
   "outputs": [
    {
     "data": {
      "text/plain": [
       "array([[1, 2, 3],\n",
       "       [4, 5, 6],\n",
       "       [1, 2, 3],\n",
       "       [4, 5, 6]])"
      ]
     },
     "execution_count": 69,
     "metadata": {},
     "output_type": "execute_result"
    }
   ],
   "source": [
    "# concatenate along the first axis\n",
    "np.concatenate([grid, grid])"
   ]
  },
  {
   "cell_type": "code",
   "execution_count": 70,
   "id": "197cc846-c448-40e2-9fbf-bee1c4e1a5e5",
   "metadata": {},
   "outputs": [
    {
     "data": {
      "text/plain": [
       "array([[1, 2, 3, 1, 2, 3],\n",
       "       [4, 5, 6, 4, 5, 6]])"
      ]
     },
     "execution_count": 70,
     "metadata": {},
     "output_type": "execute_result"
    }
   ],
   "source": [
    "# concatenate along the second axis (zero-indexed)\n",
    "np.concatenate([grid, grid], axis=1)"
   ]
  },
  {
   "cell_type": "markdown",
   "id": "a0d6bae4-0f86-45b1-b361-89034775f0ca",
   "metadata": {},
   "source": [
    "Для работы с многомерными массивами, особенно с различной размерностью, намного более понятно использовать методы `np.vstack` (вертикальный стек) и `np.hstack` (горизонтальный стек)."
   ]
  },
  {
   "cell_type": "code",
   "execution_count": 71,
   "id": "ca6ac0d4-b2a5-446c-b5d4-cb909478a947",
   "metadata": {},
   "outputs": [
    {
     "data": {
      "text/plain": [
       "array([[1, 2, 3],\n",
       "       [9, 8, 7],\n",
       "       [6, 5, 4]])"
      ]
     },
     "execution_count": 71,
     "metadata": {},
     "output_type": "execute_result"
    }
   ],
   "source": [
    "x = np.array([1, 2, 3])\n",
    "grid = np.array([[9, 8, 7],\n",
    "                 [6, 5, 4]])\n",
    "\n",
    "# vertically stack the arrays\n",
    "np.vstack([x, grid])"
   ]
  },
  {
   "cell_type": "code",
   "execution_count": 72,
   "id": "cd2fc498-ca15-45e3-80a7-64e58d3149ca",
   "metadata": {},
   "outputs": [
    {
     "data": {
      "text/plain": [
       "array([[ 9,  8,  7, 99],\n",
       "       [ 6,  5,  4, 99]])"
      ]
     },
     "execution_count": 72,
     "metadata": {},
     "output_type": "execute_result"
    }
   ],
   "source": [
    "# horizontally stack the arrays\n",
    "y = np.array([[99],\n",
    "              [99]])\n",
    "np.hstack([grid, y])"
   ]
  },
  {
   "cell_type": "markdown",
   "id": "466fc59a-6036-40b3-b0e1-6d7ae97d8f49",
   "metadata": {},
   "source": [
    "### Разделение массивов"
   ]
  },
  {
   "cell_type": "markdown",
   "id": "8e367475-a787-47b1-a628-6ebb46beee63",
   "metadata": {},
   "source": [
    "Разделение осуществляется функциями `np.split`, `np.hsplit`, и `np.vsplit`. Для каждой из этих функций мы можем передать список индексов, задающих точки разделения, а именно позиции в массиве, которые станут началами новых массивов.    \n",
    "**Для N точек разделения всегда получается N+1 подмассивов.**"
   ]
  },
  {
   "cell_type": "code",
   "execution_count": 73,
   "id": "3a13a581-c9e7-4732-b68f-0201dbc60afe",
   "metadata": {},
   "outputs": [
    {
     "name": "stdout",
     "output_type": "stream",
     "text": [
      "[1 2 3] [99 99] [3 2 1]\n"
     ]
    }
   ],
   "source": [
    "x = [1, 2, 3, 99, 99, 3, 2, 1]\n",
    "x1, x2, x3 = np.split(x, [3, 5])  # индексы 3 и 5 в исходном массиве являются точками разделения на массивы\n",
    "print(x1, x2, x3)"
   ]
  },
  {
   "cell_type": "markdown",
   "id": "d9c8e8a2-0e65-4547-be57-7e58a21693f0",
   "metadata": {},
   "source": [
    "Функции `np.hsplit` и `np.vsplit` работают следующим образом:"
   ]
  },
  {
   "cell_type": "code",
   "execution_count": 74,
   "id": "496a9d8f-7796-41ef-9560-5eeba8f49721",
   "metadata": {},
   "outputs": [
    {
     "data": {
      "text/plain": [
       "array([[ 0,  1,  2,  3],\n",
       "       [ 4,  5,  6,  7],\n",
       "       [ 8,  9, 10, 11],\n",
       "       [12, 13, 14, 15]])"
      ]
     },
     "execution_count": 74,
     "metadata": {},
     "output_type": "execute_result"
    }
   ],
   "source": [
    "grid = np.arange(16).reshape((4, 4))\n",
    "grid"
   ]
  },
  {
   "cell_type": "code",
   "execution_count": 75,
   "id": "31426841-18c5-4531-a035-062e1bc30d1a",
   "metadata": {},
   "outputs": [
    {
     "name": "stdout",
     "output_type": "stream",
     "text": [
      "[[0 1 2 3]\n",
      " [4 5 6 7]]\n",
      "[[ 8  9 10 11]\n",
      " [12 13 14 15]]\n"
     ]
    }
   ],
   "source": [
    "upper, lower = np.vsplit(grid, [2])\n",
    "print(upper)\n",
    "print(lower)"
   ]
  },
  {
   "cell_type": "code",
   "execution_count": 76,
   "id": "5f49ef88-ad65-4674-be03-876d7a22f39f",
   "metadata": {},
   "outputs": [
    {
     "name": "stdout",
     "output_type": "stream",
     "text": [
      "[[ 0  1]\n",
      " [ 4  5]\n",
      " [ 8  9]\n",
      " [12 13]]\n",
      "[[ 2  3]\n",
      " [ 6  7]\n",
      " [10 11]\n",
      " [14 15]]\n"
     ]
    }
   ],
   "source": [
    "left, right = np.hsplit(grid, [2])\n",
    "print(left)\n",
    "print(right)"
   ]
  },
  {
   "cell_type": "markdown",
   "id": "8d30d37e-b513-459c-83d6-86a9049d8b61",
   "metadata": {},
   "source": [
    "## Вычисления на массивах, универсальные функции"
   ]
  },
  {
   "cell_type": "markdown",
   "id": "d540a06a-9246-4267-9fe5-1dca11cf6e83",
   "metadata": {},
   "source": [
    "### Примеры ufuncs"
   ]
  },
  {
   "cell_type": "code",
   "execution_count": 77,
   "id": "9c52265f-eca3-477c-a0cc-a2be764eb5f5",
   "metadata": {},
   "outputs": [
    {
     "name": "stdout",
     "output_type": "stream",
     "text": [
      "x     = [0 1 2 3]\n",
      "x + 5 = [5 6 7 8]\n",
      "x - 5 = [-5 -4 -3 -2]\n",
      "x * 2 = [0 2 4 6]\n",
      "x / 2 = [0.  0.5 1.  1.5]\n",
      "x // 2 = [0 0 1 1]\n",
      "-x     =  [ 0 -1 -2 -3]\n",
      "x ** 2 =  [0 1 4 9]\n",
      "x % 2  =  [0 1 0 1]\n"
     ]
    }
   ],
   "source": [
    "x = np.arange(4)\n",
    "print(\"x     =\", x)\n",
    "print(\"x + 5 =\", x + 5)\n",
    "print(\"x - 5 =\", x - 5)\n",
    "print(\"x * 2 =\", x * 2)\n",
    "print(\"x / 2 =\", x / 2)\n",
    "print(\"x // 2 =\", x // 2)  # floor division\n",
    "print(\"-x     = \", -x)\n",
    "print(\"x ** 2 = \", x ** 2)\n",
    "print(\"x % 2  = \", x % 2)"
   ]
  },
  {
   "cell_type": "raw",
   "id": "a1183495-ad56-4346-a2e9-9f08e54bd224",
   "metadata": {},
   "source": [
    "Каждый из операторов имеет соответствующую ufunc\n",
    "\n",
    "Operator \tEquivalent ufunc \tDescription\n",
    "+ \t`np.add`    \tAddition (e.g., 1 + 1 = 2)\n",
    "- \t`np.subtract` \tSubtraction (e.g., 3 - 2 = 1)\n",
    "- \t`np.negative` \tUnary negation (e.g., -2)\n",
    "* \t`np.multiply` \tMultiplication (e.g., 2 * 3 = 6)\n",
    "/ \t`np.divide` \tDivision (e.g., 3 / 2 = 1.5)\n",
    "// \t`np.floor_divide` \tFloor division (e.g., 3 // 2 = 1)\n",
    "** \t`np.power`  \tExponentiation (e.g., 2 ** 3 = 8)\n",
    "% \t`np.mod`        Modulus/remainder (e.g., 9 % 4 = 1)"
   ]
  },
  {
   "cell_type": "markdown",
   "id": "41f32640-a331-4155-827a-06edadc8ff81",
   "metadata": {},
   "source": [
    "### Абсолютные значения"
   ]
  },
  {
   "cell_type": "code",
   "execution_count": 78,
   "id": "0bd5d31a-876f-463e-a34f-7781f5a274fc",
   "metadata": {},
   "outputs": [
    {
     "name": "stdout",
     "output_type": "stream",
     "text": [
      "[2 1 0 1 2]\n",
      "[2 1 0 1 2]\n"
     ]
    }
   ],
   "source": [
    "x = np.array([-2, -1, 0, 1, 2])\n",
    "print(abs(x))\n",
    "print(np.abs(x))  # эквивалентная функция np.abs"
   ]
  },
  {
   "cell_type": "markdown",
   "id": "da2aecc6-3246-40a7-b2b2-0ed89a16ac25",
   "metadata": {},
   "source": [
    "### Тригонометрические функции"
   ]
  },
  {
   "cell_type": "code",
   "execution_count": 82,
   "id": "59500bec-7e84-4d9e-a321-bafec04fa1e4",
   "metadata": {},
   "outputs": [],
   "source": [
    "theta = np.linspace(0, np.pi, 3)"
   ]
  },
  {
   "cell_type": "code",
   "execution_count": 83,
   "id": "49fa0a03-3bb9-4d4b-8c6a-4a1b6ec31ab9",
   "metadata": {},
   "outputs": [
    {
     "name": "stdout",
     "output_type": "stream",
     "text": [
      "theta      =  [0.         1.57079633 3.14159265]\n",
      "sin(theta) =  [0.0000000e+00 1.0000000e+00 1.2246468e-16]\n",
      "cos(theta) =  [ 1.000000e+00  6.123234e-17 -1.000000e+00]\n",
      "tan(theta) =  [ 0.00000000e+00  1.63312394e+16 -1.22464680e-16]\n"
     ]
    }
   ],
   "source": [
    "print(\"theta      = \", theta)\n",
    "print(\"sin(theta) = \", np.sin(theta))\n",
    "print(\"cos(theta) = \", np.cos(theta))\n",
    "print(\"tan(theta) = \", np.tan(theta))"
   ]
  },
  {
   "cell_type": "code",
   "execution_count": 86,
   "id": "271019c7-4fc4-4e2c-8d26-8c7fc971c29e",
   "metadata": {},
   "outputs": [
    {
     "name": "stdout",
     "output_type": "stream",
     "text": [
      "x         =  [-1, 0, 1]\n",
      "arcsin(x) =  [-1.57079633  0.          1.57079633]\n",
      "arccos(x) =  [3.14159265 1.57079633 0.        ]\n",
      "arctan(x) =  [-0.78539816  0.          0.78539816]\n"
     ]
    }
   ],
   "source": [
    "# Обратные функции также доступны\n",
    "x = [-1, 0, 1]\n",
    "print(\"x         = \", x)\n",
    "print(\"arcsin(x) = \", np.arcsin(x))\n",
    "print(\"arccos(x) = \", np.arccos(x))\n",
    "print(\"arctan(x) = \", np.arctan(x))"
   ]
  },
  {
   "cell_type": "markdown",
   "id": "3af7a62e-c46c-49b2-8759-237e6d4cd8f8",
   "metadata": {},
   "source": [
    "### Экспонента и логармфмы"
   ]
  },
  {
   "cell_type": "code",
   "execution_count": 88,
   "id": "a4f8d2ba-aaf2-4345-bf48-7dc526b13472",
   "metadata": {},
   "outputs": [
    {
     "name": "stdout",
     "output_type": "stream",
     "text": [
      "x     = [1, 2, 3]\n",
      "e^x   = [ 2.71828183  7.3890561  20.08553692]\n",
      "2^x   = [2. 4. 8.]\n",
      "3^x   = [ 3  9 27]\n"
     ]
    }
   ],
   "source": [
    "# экспоненциальные функции\n",
    "x = [1, 2, 3]\n",
    "print(\"x     =\", x)\n",
    "print(\"e^x   =\", np.exp(x))\n",
    "print(\"2^x   =\", np.exp2(x))\n",
    "print(\"3^x   =\", np.power(3, x))"
   ]
  },
  {
   "cell_type": "code",
   "execution_count": 89,
   "id": "57867433-6f1e-4c51-a483-dbefb68c9d6c",
   "metadata": {},
   "outputs": [
    {
     "name": "stdout",
     "output_type": "stream",
     "text": [
      "x        = [1, 2, 4, 10]\n",
      "ln(x)    = [0.         0.69314718 1.38629436 2.30258509]\n",
      "log2(x)  = [0.         1.         2.         3.32192809]\n",
      "log10(x) = [0.         0.30103    0.60205999 1.        ]\n"
     ]
    }
   ],
   "source": [
    "# логарифмические функции\n",
    "x = [1, 2, 4, 10]\n",
    "print(\"x        =\", x)\n",
    "print(\"ln(x)    =\", np.log(x))\n",
    "print(\"log2(x)  =\", np.log2(x))\n",
    "print(\"log10(x) =\", np.log10(x))"
   ]
  },
  {
   "cell_type": "code",
   "execution_count": 90,
   "id": "673ca391-fa6d-4ed7-981a-e89be0ed5a96",
   "metadata": {},
   "outputs": [
    {
     "name": "stdout",
     "output_type": "stream",
     "text": [
      "exp(x) - 1 = [0.         0.0010005  0.01005017 0.10517092]\n",
      "log(1 + x) = [0.         0.0009995  0.00995033 0.09531018]\n"
     ]
    }
   ],
   "source": [
    "# Для очень маленьких значений существуют специальные функции, которые позволяют сохранить точность\n",
    "x = [0, 0.001, 0.01, 0.1]\n",
    "print(\"exp(x) - 1 =\", np.expm1(x))\n",
    "print(\"log(1 + x) =\", np.log1p(x))"
   ]
  },
  {
   "cell_type": "markdown",
   "id": "eb40ddf9-9da7-4ede-9cf4-80257736470b",
   "metadata": {},
   "source": [
    "## Продвинутые ufunc-функции"
   ]
  },
  {
   "cell_type": "markdown",
   "id": "4b0305a4-74f6-4802-977f-852e27ae23f5",
   "metadata": {},
   "source": [
    "### Массив для вывода результатов\n",
    "\n",
    "Иногда бывает полезно сохранить результаты вычислений в отдельный массив. Это возможно при использовании аргумента `out`."
   ]
  },
  {
   "cell_type": "code",
   "execution_count": 95,
   "id": "5f532aab-f54b-4f0d-9849-54689bbb7605",
   "metadata": {},
   "outputs": [
    {
     "name": "stdout",
     "output_type": "stream",
     "text": [
      "[0 1 2 3 4]\n",
      "[ 0. 10. 20. 30. 40.]\n"
     ]
    }
   ],
   "source": [
    "x = np.arange(5)\n",
    "y = np.empty(5)\n",
    "np.multiply(x, 10, out=y)\n",
    "print(x)\n",
    "print(y)"
   ]
  },
  {
   "cell_type": "markdown",
   "id": "92fa8051-c0f2-4b2b-a513-628e802b022c",
   "metadata": {},
   "source": [
    "Можно даже указать в какие элементы массива нужно записать результаты. Например, в следующем примере результаты записываются в каждый второй элемент."
   ]
  },
  {
   "cell_type": "code",
   "execution_count": 97,
   "id": "945e92aa-be4c-4900-a750-0fa8c081d584",
   "metadata": {},
   "outputs": [
    {
     "name": "stdout",
     "output_type": "stream",
     "text": [
      "[ 1.  0.  2.  0.  4.  0.  8.  0. 16.  0.]\n"
     ]
    }
   ],
   "source": [
    "y = np.zeros(10)\n",
    "np.power(2, x, out=y[::2])\n",
    "print(y)"
   ]
  },
  {
   "cell_type": "markdown",
   "id": "c86338be-6869-4bb3-bdd0-8e8b045d0b5c",
   "metadata": {},
   "source": [
    "### Функции для аггрерирования\n",
    "\n",
    "Например, для выполнения операции `reduce` (сокращение массива до одного элемента), мы можем вызвать метод `reduce` для каждой `ufunc`:"
   ]
  },
  {
   "cell_type": "code",
   "execution_count": 99,
   "id": "50cbc784-5f22-40fb-b29d-6bf859b34d02",
   "metadata": {},
   "outputs": [
    {
     "data": {
      "text/plain": [
       "15"
      ]
     },
     "execution_count": 99,
     "metadata": {},
     "output_type": "execute_result"
    }
   ],
   "source": [
    "x = np.arange(1, 6)\n",
    "np.add.reduce(x)"
   ]
  },
  {
   "cell_type": "markdown",
   "id": "7492a44d-ca50-4cca-b3b0-e7692c785f9c",
   "metadata": {},
   "source": [
    "### Внешнее произведение (outer product)\n",
    "\n",
    "Любая `ufunc` имеет метод `outer` для вычисления всех пар двух различных матриц (массивов) - **декартовое произведение матриц!!!**"
   ]
  },
  {
   "cell_type": "code",
   "execution_count": 111,
   "id": "2622dfef-652f-49c2-8ccc-c484c6766a22",
   "metadata": {},
   "outputs": [
    {
     "name": "stdout",
     "output_type": "stream",
     "text": [
      "[1 2 3 4 5]\n",
      "Простое произведение значений: [ 1  4  9 16 25]\n",
      "Внешнее произведение:\n",
      " [[ 1  2  3  4  5]\n",
      " [ 2  4  6  8 10]\n",
      " [ 3  6  9 12 15]\n",
      " [ 4  8 12 16 20]\n",
      " [ 5 10 15 20 25]]\n"
     ]
    }
   ],
   "source": [
    "x = np.arange(1, 6)\n",
    "print(x)\n",
    "\n",
    "print(\"Простое произведение значений:\", np.multiply(x, x))\n",
    "print(\"Внешнее произведение:\\n\", np.multiply.outer(x, x))"
   ]
  },
  {
   "cell_type": "markdown",
   "id": "7225ec4d-b66e-4637-867d-b22b455027ff",
   "metadata": {},
   "source": [
    "### Сумма значений массива"
   ]
  },
  {
   "cell_type": "code",
   "execution_count": 123,
   "id": "5cf3c89f-8cd4-426c-8d41-0702f26225ae",
   "metadata": {},
   "outputs": [
    {
     "data": {
      "text/plain": [
       "51.78328625510185"
      ]
     },
     "execution_count": 123,
     "metadata": {},
     "output_type": "execute_result"
    }
   ],
   "source": [
    "L = np.random.random(100)\n",
    "# sum(L) # так тоже можно\n",
    "L.sum()"
   ]
  },
  {
   "cell_type": "markdown",
   "id": "52b5d3cd-b757-4409-b6d8-eb7626749d67",
   "metadata": {},
   "source": [
    "### Минимумы и максимумы"
   ]
  },
  {
   "cell_type": "code",
   "execution_count": 125,
   "id": "9d245c69-c2a3-409e-9a62-d1f8588f321a",
   "metadata": {},
   "outputs": [],
   "source": [
    "big_array = np.random.rand(1000000)"
   ]
  },
  {
   "cell_type": "code",
   "execution_count": 126,
   "id": "ba58d793-2e43-4612-832c-d0353265de8c",
   "metadata": {},
   "outputs": [
    {
     "data": {
      "text/plain": [
       "(1.4057692298008462e-06, 0.9999994392723005)"
      ]
     },
     "execution_count": 126,
     "metadata": {},
     "output_type": "execute_result"
    }
   ],
   "source": [
    "np.min(big_array), np.max(big_array)"
   ]
  },
  {
   "cell_type": "code",
   "execution_count": 127,
   "id": "c7fded14-9a1c-4b0a-b48b-5a0030327be7",
   "metadata": {},
   "outputs": [
    {
     "data": {
      "text/plain": [
       "(1.4057692298008462e-06, 0.9999994392723005)"
      ]
     },
     "execution_count": 127,
     "metadata": {},
     "output_type": "execute_result"
    }
   ],
   "source": [
    "big_array.min(), big_array.max()"
   ]
  },
  {
   "cell_type": "markdown",
   "id": "36e79d99-2baf-4e67-bec1-ce30a73edf24",
   "metadata": {},
   "source": [
    "### Агрегатные функции для многомерных данных"
   ]
  },
  {
   "cell_type": "code",
   "execution_count": 133,
   "id": "fd083590-e6cf-4110-a581-1bedccf5f4bd",
   "metadata": {},
   "outputs": [
    {
     "name": "stdout",
     "output_type": "stream",
     "text": [
      "[[0.49686444 0.85873118 0.70165192 0.99924257]\n",
      " [0.92672968 0.21264644 0.04977342 0.55567454]\n",
      " [0.1347961  0.725087   0.29946205 0.67857082]]\n"
     ]
    }
   ],
   "source": [
    "M = np.random.random((3, 4))\n",
    "print(M)"
   ]
  },
  {
   "cell_type": "markdown",
   "id": "e665d917-322f-471b-81bc-745798687fc0",
   "metadata": {},
   "source": [
    "По умолчанию все агрегатные функции применяются ко всему массиву:"
   ]
  },
  {
   "cell_type": "code",
   "execution_count": 137,
   "id": "92496035-16f9-4c61-b81f-bdb98588e713",
   "metadata": {},
   "outputs": [
    {
     "data": {
      "text/plain": [
       "6.6392301550715995"
      ]
     },
     "execution_count": 137,
     "metadata": {},
     "output_type": "execute_result"
    }
   ],
   "source": [
    "M.sum()"
   ]
  },
  {
   "cell_type": "markdown",
   "id": "171dc326-c834-4974-9e8d-f4797faa974b",
   "metadata": {},
   "source": [
    "Для работы с многомерными данными агрегатные функции имеют специальный аргумент `axis` для задания оси, вдоль которой будет применяться функция."
   ]
  },
  {
   "cell_type": "code",
   "execution_count": 139,
   "id": "e5def7bd-1d6c-40c9-8ec4-26486130294e",
   "metadata": {},
   "outputs": [
    {
     "data": {
      "text/plain": [
       "array([1.55839022, 1.79646462, 1.05088739, 2.23348792])"
      ]
     },
     "execution_count": 139,
     "metadata": {},
     "output_type": "execute_result"
    }
   ],
   "source": [
    "M.sum(axis=0)  # находит сумму для каждой колонки"
   ]
  },
  {
   "cell_type": "code",
   "execution_count": 150,
   "id": "ac5dfe73-f3fe-49e0-b7b4-8e3fffbcc369",
   "metadata": {},
   "outputs": [
    {
     "data": {
      "text/plain": [
       "array([0.1347961 , 0.21264644, 0.04977342, 0.55567454])"
      ]
     },
     "execution_count": 150,
     "metadata": {},
     "output_type": "execute_result"
    }
   ],
   "source": [
    "M.min(axis=0) # находит минимальные значения в каждой колонки"
   ]
  },
  {
   "cell_type": "code",
   "execution_count": 149,
   "id": "9ae81e18-03a0-4b5f-a87a-63c57042f984",
   "metadata": {},
   "outputs": [
    {
     "data": {
      "text/plain": [
       "array([0.49686444, 0.04977342, 0.1347961 ])"
      ]
     },
     "execution_count": 149,
     "metadata": {},
     "output_type": "execute_result"
    }
   ],
   "source": [
    "# изменение оси приводит к из изменению результата расчета\n",
    "M.min(axis=1)  # минимальные значения в каждом ряду"
   ]
  },
  {
   "cell_type": "code",
   "execution_count": 152,
   "id": "905bc74a-967b-49b7-96c6-9b38e7de7c55",
   "metadata": {},
   "outputs": [
    {
     "data": {
      "text/plain": [
       "array([0.92672968, 0.85873118, 0.70165192, 0.99924257])"
      ]
     },
     "execution_count": 152,
     "metadata": {},
     "output_type": "execute_result"
    }
   ],
   "source": [
    "M.max(axis=0) # находит максимальные значения в каждой колонке"
   ]
  },
  {
   "cell_type": "markdown",
   "id": "abdbc53c-aa39-4d03-be8e-8fa5fdcef89f",
   "metadata": {},
   "source": [
    "### Прочие агрегатные функции"
   ]
  },
  {
   "cell_type": "markdown",
   "id": "9575cf6b-eed2-46cd-b703-50fdaa35bb5d",
   "metadata": {},
   "source": [
    "`NumPy` предоставляет множество агрегатных функций, в частности есть варианты для функций, которые работают с отсутствующими данными и возвращают `NaN`:"
   ]
  },
  {
   "cell_type": "raw",
   "id": "9b4b076a-fa00-4059-a9d6-6d76e00481b5",
   "metadata": {},
   "source": [
    "Function Name \tNaN-safe Version \tDescription\n",
    "np.sum      \tnp.nansum       \tCompute sum of elements\n",
    "np.prod     \tnp.nanprod      \tCompute product of elements\n",
    "np.mean     \tnp.nanmean      \tCompute mean of elements\n",
    "np.std      \tnp.nanstd       \tCompute standard deviation\n",
    "np.var      \tnp.nanvar       \tCompute variance\n",
    "np.min      \tnp.nanmin       \tFind minimum value\n",
    "np.max      \tnp.nanmax       \tFind maximum value\n",
    "np.argmin    \tnp.nanargmin    \tFind index of minimum value\n",
    "np.argmax   \tnp.nanargmax    \tFind index of maximum value\n",
    "np.median   \tnp.nanmedian    \tCompute median of elements\n",
    "np.percentile \tnp.nanpercentile \tCompute rank-based statistics of elements\n",
    "np.any \t        N/A             \tEvaluate whether any elements are true\n",
    "np.all       \tN/A \t            Evaluate whether all elements are true"
   ]
  },
  {
   "cell_type": "markdown",
   "id": "cb225068-09a7-46c7-ae53-9fa0d355c0e1",
   "metadata": {},
   "source": [
    "## Пример: какой средний рост у американских президентов"
   ]
  },
  {
   "cell_type": "code",
   "execution_count": 156,
   "id": "5dfd20dc-93e3-418d-a753-bf7769e69b0b",
   "metadata": {},
   "outputs": [
    {
     "name": "stdout",
     "output_type": "stream",
     "text": [
      "order,name,height(cm)\n",
      "1,George Washington,189\n",
      "2,John Adams,170\n",
      "3,Thomas Jefferson,189\n"
     ]
    }
   ],
   "source": [
    "!head -4 notebooks/data/president_heights.csv"
   ]
  },
  {
   "cell_type": "code",
   "execution_count": 162,
   "id": "ded8677a-4336-491f-b479-ce7993cc3d2c",
   "metadata": {},
   "outputs": [
    {
     "name": "stdout",
     "output_type": "stream",
     "text": [
      "[189 170 189 163 183 171 185 168 173 183 173 173 175 178 183 193 178 173\n",
      " 174 183 183 168 170 178 182 180 183 178 182 188 175 179 183 193 182 183\n",
      " 177 185 188 188 182 185 191 182]\n"
     ]
    }
   ],
   "source": [
    "import pandas as pd\n",
    "data = pd.read_csv('notebooks/data/president_heights.csv')\n",
    "heights = np.array(data['height(cm)'])\n",
    "print(heights)"
   ]
  },
  {
   "cell_type": "code",
   "execution_count": 165,
   "id": "a7fe6503-967b-4cb8-9e9e-568617d362bd",
   "metadata": {},
   "outputs": [
    {
     "name": "stdout",
     "output_type": "stream",
     "text": [
      "Mean height:        180.04545454545453\n",
      "Standard deviation: 6.983599441335736\n",
      "Minimum height:     163\n",
      "Maximum height:     193\n"
     ]
    }
   ],
   "source": [
    "print(\"Mean height:       \", heights.mean())\n",
    "print(\"Standard deviation:\", heights.std())\n",
    "print(\"Minimum height:    \", heights.min())\n",
    "print(\"Maximum height:    \", heights.max())"
   ]
  },
  {
   "cell_type": "code",
   "execution_count": 169,
   "id": "9c0ac5a5-f1d6-4fd7-b93c-a47c0963d523",
   "metadata": {},
   "outputs": [
    {
     "name": "stdout",
     "output_type": "stream",
     "text": [
      "25th percentile:    174.75\n",
      "Median:             182.0\n",
      "75th percentile:    183.5\n"
     ]
    }
   ],
   "source": [
    "print(\"25th percentile:   \", np.percentile(heights, 25))\n",
    "print(\"Median:            \", np.median(heights))\n",
    "print(\"75th percentile:   \", np.percentile(heights, 75))"
   ]
  },
  {
   "cell_type": "markdown",
   "id": "72d1b066-77ad-486b-a9be-afcef7a64adc",
   "metadata": {},
   "source": [
    "Можно попытаться сгенерировать изображение для визуального представления данных"
   ]
  },
  {
   "cell_type": "code",
   "execution_count": 174,
   "id": "8499de32-7cd6-4a79-b2d4-280e408be50b",
   "metadata": {},
   "outputs": [],
   "source": [
    "%matplotlib inline\n",
    "import matplotlib.pyplot as plt\n",
    "import seaborn; seaborn.set()  # set plot style"
   ]
  },
  {
   "cell_type": "code",
   "execution_count": 178,
   "id": "9cc503a7-02c7-4ee8-9912-758320606663",
   "metadata": {},
   "outputs": [
    {
     "data": {
      "image/png": "[encoded data removed]",
      "text/plain": [
       "<Figure size 640x480 with 1 Axes>"
      ]
     },
     "metadata": {},
     "output_type": "display_data"
    }
   ],
   "source": [
    "plt.hist(heights)\n",
    "plt.title('Height Distribution of US Presidents')\n",
    "plt.xlabel('height (cm)')\n",
    "plt.ylabel('number');"
   ]
  },
  {
   "cell_type": "markdown",
   "id": "fc277514-e7eb-44ea-8dee-666e7bf1857b",
   "metadata": {},
   "source": [
    "## Broadcasting"
   ]
  },
  {
   "cell_type": "code",
   "execution_count": 180,
   "id": "ba22e97e-e818-47c6-afe6-26e0bbecd7cf",
   "metadata": {},
   "outputs": [
    {
     "data": {
      "text/plain": [
       "array([5, 6, 7])"
      ]
     },
     "execution_count": 180,
     "metadata": {},
     "output_type": "execute_result"
    }
   ],
   "source": [
    "a = np.array([0, 1, 2])\n",
    "b = np.array([5, 5, 5])\n",
    "a + b"
   ]
  },
  {
   "cell_type": "markdown",
   "id": "aca73774-04e1-4227-a864-2177b61aaccc",
   "metadata": {},
   "source": [
    "Broadcasting позволяет операции с массивами разной размерности. Например, мы легко можем добавить скалярную величину (представьте ее как массив с нулевой размерностью) к существующему массиву:"
   ]
  },
  {
   "cell_type": "code",
   "execution_count": 181,
   "id": "1b88f5a8-a55e-44b0-9ed5-2c7609128b56",
   "metadata": {},
   "outputs": [
    {
     "data": {
      "text/plain": [
       "array([5, 6, 7])"
      ]
     },
     "execution_count": 181,
     "metadata": {},
     "output_type": "execute_result"
    }
   ],
   "source": [
    "a + 5"
   ]
  },
  {
   "cell_type": "code",
   "execution_count": 182,
   "id": "cb391a8c-2964-4584-a5c2-56b571d16bd3",
   "metadata": {},
   "outputs": [
    {
     "data": {
      "text/plain": [
       "array([[1., 1., 1.],\n",
       "       [1., 1., 1.],\n",
       "       [1., 1., 1.]])"
      ]
     },
     "execution_count": 182,
     "metadata": {},
     "output_type": "execute_result"
    }
   ],
   "source": [
    "M = np.ones((3, 3))\n",
    "M"
   ]
  },
  {
   "cell_type": "code",
   "execution_count": 183,
   "id": "5327a2c5-b3de-4ab5-8070-40d62b09c7a8",
   "metadata": {},
   "outputs": [
    {
     "data": {
      "text/plain": [
       "array([[1., 2., 3.],\n",
       "       [1., 2., 3.],\n",
       "       [1., 2., 3.]])"
      ]
     },
     "execution_count": 183,
     "metadata": {},
     "output_type": "execute_result"
    }
   ],
   "source": [
    "M + a"
   ]
  },
  {
   "cell_type": "markdown",
   "id": "c6d3b890-caa9-418f-af7e-6c0a116c4736",
   "metadata": {},
   "source": [
    "Broadcasting как-бы дополняет одну матрицу до размерности другой, чтобы была возможность провести операцию."
   ]
  },
  {
   "cell_type": "markdown",
   "id": "76feb06f-91e1-4053-bcf2-8d3b14b0159d",
   "metadata": {},
   "source": [
    "![Broadcasting Visual](notebooks/figures/02.05-broadcasting.png)"
   ]
  },
  {
   "cell_type": "markdown",
   "id": "ff995139-c7ce-4e2e-8354-f0b17f9cc707",
   "metadata": {},
   "source": [
    "### Правила broadcasting"
   ]
  },
  {
   "cell_type": "markdown",
   "id": "0e6e8cc4-a97c-4418-b6e0-cddeb285962d",
   "metadata": {},
   "source": [
    "Broadcasting в NumPy следует жесткому набору правил для определения порядка взаимодействия между двумя массивами:\n",
    "\n",
    "    Правило 1: Если два массива различаются в размерности, форма массива с меньшей размерностью дополняется значениями его левой стороны.\n",
    "    Правило 2: Если форма двух массивов различается в любых измерениях, массив с формой равной 1 в этом измерении, растягивается до измерения другого массива.\n",
    "    Правило 3: Если по любому измерению размеры не совпадают и ни одно из измерений не равно 1, выбрасывается ошибка."
   ]
  },
  {
   "cell_type": "markdown",
   "id": "743ea7bc-34da-40c9-a41c-030075bc1d7d",
   "metadata": {},
   "source": [
    "https://jakevdp.github.io/PythonDataScienceHandbook/02.05-computation-on-arrays-broadcasting.html#Broadcasting-example-1"
   ]
  }
 ],
 "metadata": {
  "kernelspec": {
   "display_name": "Python 3 (ipykernel)",
   "language": "python",
   "name": "python3"
  },
  "language_info": {
   "codemirror_mode": {
    "name": "ipython",
    "version": 3
   },
   "file_extension": ".py",
   "mimetype": "text/x-python",
   "name": "python",
   "nbconvert_exporter": "python",
   "pygments_lexer": "ipython3",
   "version": "3.10.12"
  }
 },
 "nbformat": 4,
 "nbformat_minor": 5
}
