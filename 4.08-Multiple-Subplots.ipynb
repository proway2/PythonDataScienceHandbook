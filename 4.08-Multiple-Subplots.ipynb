{
 "cells": [
  {
   "cell_type": "markdown",
   "id": "78204ecd-7a75-4827-83fd-5156b4ec9d26",
   "metadata": {},
   "source": [
    "Иногда бывает полезным сравнить друг с другом различные визуальные представления одних и тех же данных. Matplotlib предлагает концепцию _subplots_ (подизображений?): группа небольших осей, которые могут существовать внутри одного изображения. Эти subplots могут быть встроенными, набором изображений или другими, более сложными, разметками. В этом разделе мы рассмотрим четыре подхода к созданию subplots в Matplotlib."
   ]
  },
  {
   "cell_type": "code",
   "execution_count": 2,
   "id": "fda6339c-cc6a-4c02-aab2-8764ef2cd827",
   "metadata": {},
   "outputs": [],
   "source": [
    "%matplotlib inline\n",
    "import matplotlib.pyplot as plt\n",
    "plt.style.use('seaborn-v0_8-white')\n",
    "import numpy as np"
   ]
  },
  {
   "cell_type": "markdown",
   "id": "070e6e3a-de81-4ee7-9a0e-5316840eb964",
   "metadata": {},
   "source": [
    "# `plt.axes`: Subplots созданные вручную\n",
    "\n",
    "Наиболее базовым методом создания осей является использование функции `plt.axes`. Как мы уже видели ранее, по умолчанию эта функция создает стандартный объект axes, который заполняет всё изображение. `plt.axes` также принимает необязательный аргумент, которые представляет из себя список их четырех чисел внутри системы координат изображения. Эти числа представляют `[left, bottom, width, height]` внутри системы координат изображения, которая начинается от 0 в левом нижнем углу изображения до 1 в правом верхнем углу изображения.\n",
    "\n",
    "Например, мы можем создать встроенные (inset) оси в правом верхнем углу других, уже существующих, осей, путем установки позиции _x_ и _y_ в 0.65 (т.е. начиная от 65% ширины и 65% высоты текущего изображения) и увеличения _x_ и _y_ до 0.2 (т.е. размер осей 20% от ширины и 20% от высоты изображения):"
   ]
  },
  {
   "cell_type": "code",
   "execution_count": 3,
   "id": "400a5565-4208-4844-8681-4727840283f6",
   "metadata": {},
   "outputs": [
    {
     "data": {
      "image/png": "[encoded data removed]",
      "text/plain": [
       "<Figure size 640x480 with 2 Axes>"
      ]
     },
     "metadata": {},
     "output_type": "display_data"
    }
   ],
   "source": [
    "ax1 = plt.axes()  # стандартные оси\n",
    "ax2 = plt.axes([0.65, 0.65, 0.2, 0.2])"
   ]
  },
  {
   "cell_type": "markdown",
   "id": "8087d58b-972d-4f02-b3eb-91769bd371b6",
   "metadata": {},
   "source": [
    "https://jakevdp.github.io/PythonDataScienceHandbook/04.08-multiple-subplots.html#plt.axes:-Subplots-by-Hand\n",
    "\n",
    "Остановился на:\n",
    "The equivalent of this command within the object-oriented interface ..."
   ]
  }
 ],
 "metadata": {
  "kernelspec": {
   "display_name": "Python 3 (ipykernel)",
   "language": "python",
   "name": "python3"
  },
  "language_info": {
   "codemirror_mode": {
    "name": "ipython",
    "version": 3
   },
   "file_extension": ".py",
   "mimetype": "text/x-python",
   "name": "python",
   "nbconvert_exporter": "python",
   "pygments_lexer": "ipython3",
   "version": "3.10.12"
  }
 },
 "nbformat": 4,
 "nbformat_minor": 5
}
