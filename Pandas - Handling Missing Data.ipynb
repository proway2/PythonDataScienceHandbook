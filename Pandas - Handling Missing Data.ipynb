{
 "cells": [
  {
   "cell_type": "markdown",
   "id": "30f34a5b-cd54-4697-af4b-649bca36203e",
   "metadata": {},
   "source": [
    "# Обработка отсутствующих данных\n",
    "\n",
    "Разница между данными, которые представлены во многих руководствах, и данными реального мира состоит в том, что данные реального мира достаточно редко бывают \"чистыми\" и однородными. В частности, множество интересных наборов данных будут иметь некоторое количество отсутствующих данных. Чтобы сделать проблему еще более сложной, представьте что различные источники данных могут обозначать отсутствующие данные разными способами.\n",
    "\n",
    "В данной секции мы будем обсуждать некоторые общие соображения об отсутствующих данных, обсудим как Pandas выбирает как представить их и продемонстрируем некоторые встроенные в Pandas инструменты для обработки отсутствующих данных в Python. Здесь и далее, когда мы говорим об отсутствующих данных, мы, в общем, подразумеваем их как следующие значения: `null`, `NaN` или `NA`"
   ]
  },
  {
   "cell_type": "markdown",
   "id": "6bcfb671-2ac2-4c16-98ca-2ed39a2107df",
   "metadata": {},
   "source": [
    "## Компромисы в соглашениях об отсутствующих данных\n",
    "\n",
    "В целом существуют два подхода для обозначения отсутствующих данных:\n",
    "\n",
    "* использование _маски_ (_mask_) для глобального подхода при обозначении отсутствующих данных;\n",
    "* использование _контрольного значения_ (_sentinel value_), которое обозначает отсутствующие данные.\n",
    "\n",
    "При использовании _маски_ может применяться как абсолютно отдельные массив с булевыми значениями для обозначения отсутствующих данных, так и использование одного из битов значения для указания на отсутствующее значение.\n",
    "\n",
    "При использовании _контрольного значения_ могут использоваться как специальные значения, например -9999 для обозначения отсутствующего целочисленного значения, так и использование специальных значений, например `NaN`.\n",
    "\n",
    "## Отсутствующие данные в Pandas\n",
    "\n",
    "Способ, которым обозначаются отсутствующие данные в Pandas, ограничен тем, что Pandas построен поверх NumPy и, таким образом, зависит от того как отсутствующие данные обозначаются в NumPy.\n",
    "\n",
    "Учитывая все ограничения, Pandas выбрал использование _контрольных значений_ (sentinel) для обозначения отсутствующих данных и, в дальнейшем, полагается на два уже существующих в Python значения для отсутствующих данных: `NaN` для отсутствующих данных с плавающей точкой и `None`. Такой подход имеет, как мы увидим, некоторые побочные эффекты, но, на практике, является хорошим компромисов для большинства возможных случаев."
   ]
  },
  {
   "cell_type": "markdown",
   "id": "301f85de-70f7-4302-b082-4cf52fb69c07",
   "metadata": {},
   "source": [
    "### `None`: способ Python для отсутствующх данных\n",
    "\n",
    "Первое контрольное значение, используемов в Pandas - `None`, Python синглтон-объект, который часто используется для обозначения отсутствующих данных в коде на Python. Ввиду того, что это объект Python, `None` не может быть использован в абсолютно любых массивах NumPy/Pandas, но только в тех массивах, в которых типом данных является `object`, т.е. в массивах объектов Python:"
   ]
  },
  {
   "cell_type": "code",
   "execution_count": 3,
   "id": "0bee3992-1c28-4654-afdc-d9937a563872",
   "metadata": {},
   "outputs": [],
   "source": [
    "import numpy as np\n",
    "import pandas as pd"
   ]
  },
  {
   "cell_type": "code",
   "execution_count": 4,
   "id": "d4376294-de01-485b-8ccc-81095c6c1d68",
   "metadata": {},
   "outputs": [
    {
     "data": {
      "text/plain": [
       "array([1, None, 3, 4], dtype=object)"
      ]
     },
     "execution_count": 4,
     "metadata": {},
     "output_type": "execute_result"
    }
   ],
   "source": [
    "vals1 = np.array([1, None, 3, 4])\n",
    "vals1"
   ]
  },
  {
   "cell_type": "markdown",
   "id": "7cceccfa-aafa-443f-80ae-857655bd2c3e",
   "metadata": {},
   "source": [
    "`dtype=object` означает что лучший тип для представления данных, который NumPy смог выбрать для содержимого массива, это объекты Python. В то время как такой тип массива является пригодным для определённых целей, любые операции с данными будут выполняться на уровне Python, с большим количеством накладных расходов чем типичные операции на массивах \"родных\" (для NumPy) типов:"
   ]
  },
  {
   "cell_type": "code",
   "execution_count": 5,
   "id": "498b37a4-ae42-415e-8e2d-247a01091110",
   "metadata": {},
   "outputs": [
    {
     "name": "stdout",
     "output_type": "stream",
     "text": [
      "dtype = object\n",
      "40.9 ms ± 758 µs per loop (mean ± std. dev. of 7 runs, 10 loops each)\n",
      "\n",
      "dtype = int\n",
      "604 µs ± 47.7 µs per loop (mean ± std. dev. of 7 runs, 1,000 loops each)\n",
      "\n"
     ]
    }
   ],
   "source": [
    "for dtype in ['object', 'int']:\n",
    "    print(\"dtype =\", dtype)\n",
    "    %timeit np.arange(1E6, dtype=dtype).sum()\n",
    "    print()"
   ]
  },
  {
   "cell_type": "code",
   "execution_count": 6,
   "id": "ade3bcd7-05db-49d5-8c1d-416dfa90910d",
   "metadata": {},
   "outputs": [
    {
     "ename": "TypeError",
     "evalue": "unsupported operand type(s) for +: 'int' and 'NoneType'",
     "output_type": "error",
     "traceback": [
      "\u001b[0;31m---------------------------------------------------------------------------\u001b[0m",
      "\u001b[0;31mTypeError\u001b[0m                                 Traceback (most recent call last)",
      "Cell \u001b[0;32mIn[6], line 2\u001b[0m\n\u001b[1;32m      1\u001b[0m \u001b[38;5;66;03m# На массивах, содержащих значения None, нельзя выполнять операции типа sum() или min()\u001b[39;00m\n\u001b[0;32m----> 2\u001b[0m \u001b[43mvals1\u001b[49m\u001b[38;5;241;43m.\u001b[39;49m\u001b[43msum\u001b[49m\u001b[43m(\u001b[49m\u001b[43m)\u001b[49m\n",
      "File \u001b[0;32m~/.pyenv/versions/ds/lib/python3.10/site-packages/numpy/core/_methods.py:49\u001b[0m, in \u001b[0;36m_sum\u001b[0;34m(a, axis, dtype, out, keepdims, initial, where)\u001b[0m\n\u001b[1;32m     47\u001b[0m \u001b[38;5;28;01mdef\u001b[39;00m \u001b[38;5;21m_sum\u001b[39m(a, axis\u001b[38;5;241m=\u001b[39m\u001b[38;5;28;01mNone\u001b[39;00m, dtype\u001b[38;5;241m=\u001b[39m\u001b[38;5;28;01mNone\u001b[39;00m, out\u001b[38;5;241m=\u001b[39m\u001b[38;5;28;01mNone\u001b[39;00m, keepdims\u001b[38;5;241m=\u001b[39m\u001b[38;5;28;01mFalse\u001b[39;00m,\n\u001b[1;32m     48\u001b[0m          initial\u001b[38;5;241m=\u001b[39m_NoValue, where\u001b[38;5;241m=\u001b[39m\u001b[38;5;28;01mTrue\u001b[39;00m):\n\u001b[0;32m---> 49\u001b[0m     \u001b[38;5;28;01mreturn\u001b[39;00m \u001b[43mumr_sum\u001b[49m\u001b[43m(\u001b[49m\u001b[43ma\u001b[49m\u001b[43m,\u001b[49m\u001b[43m \u001b[49m\u001b[43maxis\u001b[49m\u001b[43m,\u001b[49m\u001b[43m \u001b[49m\u001b[43mdtype\u001b[49m\u001b[43m,\u001b[49m\u001b[43m \u001b[49m\u001b[43mout\u001b[49m\u001b[43m,\u001b[49m\u001b[43m \u001b[49m\u001b[43mkeepdims\u001b[49m\u001b[43m,\u001b[49m\u001b[43m \u001b[49m\u001b[43minitial\u001b[49m\u001b[43m,\u001b[49m\u001b[43m \u001b[49m\u001b[43mwhere\u001b[49m\u001b[43m)\u001b[49m\n",
      "\u001b[0;31mTypeError\u001b[0m: unsupported operand type(s) for +: 'int' and 'NoneType'"
     ]
    }
   ],
   "source": [
    "# На массивах, содержащих значения None, нельзя выполнять операции типа sum() или min()\n",
    "vals1.sum()"
   ]
  },
  {
   "cell_type": "markdown",
   "id": "9b835d06-aa52-4855-8c11-39b37484ab6e",
   "metadata": {},
   "source": [
    "### `NaN`: отсутствующие числовые данные\n",
    "\n",
    "`NaN` - это специальное значение с плавающей запятой, определяемое всеми системами, которые используют стандарт IEEE для представления значений с плавающей запятой."
   ]
  },
  {
   "cell_type": "code",
   "execution_count": 8,
   "id": "211f65d8-4053-4eef-9cd0-486a1aa9ac19",
   "metadata": {},
   "outputs": [
    {
     "data": {
      "text/plain": [
       "dtype('float64')"
      ]
     },
     "execution_count": 8,
     "metadata": {},
     "output_type": "execute_result"
    }
   ],
   "source": [
    "vals2 = np.array([1, np.nan, 3, 4]) \n",
    "vals2.dtype"
   ]
  },
  {
   "cell_type": "markdown",
   "id": "484f0fa6-46e1-41fb-8461-a9bb9aa7744f",
   "metadata": {},
   "source": [
    "Заметьте, что `NumPy` выбрал для данного массива нативный тип для чисел с плавающей запятой: это значит, что в отличие от массива с `object` из предыдущего раздела, настоящий массив поддерживает быстрые операции, выполняемые на уровне скомпилированного кода. Необходимо отметить, что вне зависимости от операции, результатом арифметических операций с `NaN` всегда будет другой `NaN`:"
   ]
  },
  {
   "cell_type": "code",
   "execution_count": 9,
   "id": "6de285b9-0f51-4243-a05b-dccd549f73da",
   "metadata": {},
   "outputs": [
    {
     "data": {
      "text/plain": [
       "nan"
      ]
     },
     "execution_count": 9,
     "metadata": {},
     "output_type": "execute_result"
    }
   ],
   "source": [
    "1 + np.nan"
   ]
  },
  {
   "cell_type": "code",
   "execution_count": 10,
   "id": "8933a33d-b7cc-4124-87df-5376dd6f45fe",
   "metadata": {},
   "outputs": [
    {
     "data": {
      "text/plain": [
       "nan"
      ]
     },
     "execution_count": 10,
     "metadata": {},
     "output_type": "execute_result"
    }
   ],
   "source": [
    "0 * np.nan"
   ]
  },
  {
   "cell_type": "code",
   "execution_count": 11,
   "id": "c7f8198e-5e17-4695-901f-ac216177c82a",
   "metadata": {},
   "outputs": [
    {
     "data": {
      "text/plain": [
       "(nan, nan, nan)"
      ]
     },
     "execution_count": 11,
     "metadata": {},
     "output_type": "execute_result"
    }
   ],
   "source": [
    "# функции агрегирования работают, но не являются полезными\n",
    "vals2.sum(), vals2.min(), vals2.max()"
   ]
  },
  {
   "cell_type": "markdown",
   "id": "7cf2ddfb-25b0-4b2a-9153-abe6e8999447",
   "metadata": {},
   "source": [
    "`NumPy` предлагает некоторые специальные функции для агрегирования, которые пропускают значения `NaN`:"
   ]
  },
  {
   "cell_type": "code",
   "execution_count": 12,
   "id": "e5a11b6c-5768-419c-86d8-dd9d28a1cca2",
   "metadata": {},
   "outputs": [
    {
     "data": {
      "text/plain": [
       "(8.0, 1.0, 4.0)"
      ]
     },
     "execution_count": 12,
     "metadata": {},
     "output_type": "execute_result"
    }
   ],
   "source": [
    "np.nansum(vals2), np.nanmin(vals2), np.nanmax(vals2)"
   ]
  },
  {
   "cell_type": "markdown",
   "id": "1435a87a-26fe-40f5-b133-8341bf269040",
   "metadata": {},
   "source": [
    "`NaN` только для объектов с плавающей запятой, не существует аналога `NaN` для целочисленных объектов, строк или любых других типов."
   ]
  },
  {
   "cell_type": "markdown",
   "id": "ac80923c-dfca-459d-997d-36236f4654ef",
   "metadata": {},
   "source": [
    "### `NaN` и `None` в Pandas\n",
    "\n",
    "`NaN` и `None` поддерживаются Pandas и практически взаимозаменяемы, поддерживается конвертирование между этими значениями там, где возможно:"
   ]
  },
  {
   "cell_type": "code",
   "execution_count": 16,
   "id": "6a42304b-0f62-42b0-bf85-15a2736e8d9a",
   "metadata": {},
   "outputs": [
    {
     "data": {
      "text/plain": [
       "0    1.0\n",
       "1    NaN\n",
       "2    2.0\n",
       "3    NaN\n",
       "dtype: float64"
      ]
     },
     "execution_count": 16,
     "metadata": {},
     "output_type": "execute_result"
    }
   ],
   "source": [
    "pd.Series([1, np.nan, 2, None])"
   ]
  },
  {
   "cell_type": "markdown",
   "id": "97e066b1-63f8-4e0e-8a9a-6f5f9cfe8210",
   "metadata": {},
   "source": [
    "Для типов не имеющих контрольных значений, Pandas автоматически осуществляет приведение типов, когда встречает отсутствующие значения.\n",
    "Например, если мы установим значение в целочисленном массиве в `np.nan`, весь массив будет автоматически приведен к типу с плавающей запятой для возможности обработки отсутствующего значения:"
   ]
  },
  {
   "cell_type": "code",
   "execution_count": 17,
   "id": "1bab3b9e-e03c-4679-b501-0239f0f40019",
   "metadata": {},
   "outputs": [
    {
     "data": {
      "text/plain": [
       "0    0\n",
       "1    1\n",
       "dtype: int64"
      ]
     },
     "execution_count": 17,
     "metadata": {},
     "output_type": "execute_result"
    }
   ],
   "source": [
    "x = pd.Series(range(2), dtype=int)\n",
    "x"
   ]
  },
  {
   "cell_type": "code",
   "execution_count": 18,
   "id": "37f1b8d7-ebe7-40a7-98e1-e9bd3dbcc54c",
   "metadata": {},
   "outputs": [
    {
     "data": {
      "text/plain": [
       "0    NaN\n",
       "1    1.0\n",
       "dtype: float64"
      ]
     },
     "execution_count": 18,
     "metadata": {},
     "output_type": "execute_result"
    }
   ],
   "source": [
    "x[0] = None\n",
    "x"
   ]
  },
  {
   "cell_type": "markdown",
   "id": "860b9ab7-cd1b-497f-a398-34999251021b",
   "metadata": {},
   "source": [
    "Следующая таблица отображает соглашения о приведении типов в Pandas, в случаях когда встречаются отсутствующие значения:\n",
    "\n",
    "|Typeclass     | Conversion when storing NAs | NA sentinel value      |\n",
    "|--------------|-----------------------------|------------------------|\n",
    "| ``floating`` | No change                   | ``np.nan``             |\n",
    "| ``object``   | No change                   | ``None`` or ``np.nan`` |\n",
    "| ``integer``  | Cast to ``float64``         | ``np.nan``             |\n",
    "| ``boolean``  | Cast to ``object``          | ``None`` or ``np.nan`` |\n",
    "\n",
    "Keep in mind that in Pandas, string data is always stored with an `object` dtype."
   ]
  },
  {
   "cell_type": "markdown",
   "id": "c8bbbbd6-2ddc-41d1-a13c-2a135f5d71b9",
   "metadata": {},
   "source": [
    "## Операции со значениями Null\n",
    "\n",
    "Как мы уже заметили, Pandas, для обозначения отсутствующих или null значений, использует `None` и `NaN` практически взаимозаменямо. Для облегчения использования данного соглашения, существуют несколько полезных методов для обнаружения, удаления и замены значений `null` в данных Pandas, такие как:\n",
    "\n",
    "`isnull()`: Generate a boolean mask indicating missing values    \n",
    "`notnull()`: Opposite of `isnull()`    \n",
    "`dropna()`: Return a filtered version of the data    \n",
    "`fillna()`: Return a copy of the data with missing values filled or imputed   "
   ]
  },
  {
   "cell_type": "markdown",
   "id": "d5fcd781-cef5-4e44-b78b-fa7a796dd3c6",
   "metadata": {},
   "source": [
    "### Нахождение значений `null`\n",
    "\n",
    "Объекты Pandas имеют два полезных метода для опеределения null значений: `isnull()` и `notnull()`. Оба возвращают булевую маску для всего набора. Например:"
   ]
  },
  {
   "cell_type": "code",
   "execution_count": 21,
   "id": "3a3000c9-a812-4df9-afed-70770eb508e3",
   "metadata": {},
   "outputs": [],
   "source": [
    "data = pd.Series([1, np.nan, 'hello', None])"
   ]
  },
  {
   "cell_type": "code",
   "execution_count": 23,
   "id": "92159e5d-18bf-45a9-852d-f105dc86622c",
   "metadata": {},
   "outputs": [
    {
     "data": {
      "text/plain": [
       "0    False\n",
       "1     True\n",
       "2    False\n",
       "3     True\n",
       "dtype: bool"
      ]
     },
     "execution_count": 23,
     "metadata": {},
     "output_type": "execute_result"
    }
   ],
   "source": [
    "data.isnull()"
   ]
  },
  {
   "cell_type": "markdown",
   "id": "4235aeeb-bfb6-4094-8950-80e2ee8e7493",
   "metadata": {},
   "source": [
    "Как указано в [Data Indexing and Selection](https://jakevdp.github.io/PythonDataScienceHandbook/03.02-data-indexing-and-selection.html), булевы маски могут быть напрямую использованы в качестве индекся для объектов `Series` и `DataFrame`:"
   ]
  },
  {
   "cell_type": "code",
   "execution_count": 24,
   "id": "f951dea4-565a-4c5d-9b9d-767366e98c2f",
   "metadata": {},
   "outputs": [
    {
     "data": {
      "text/plain": [
       "0        1\n",
       "2    hello\n",
       "dtype: object"
      ]
     },
     "execution_count": 24,
     "metadata": {},
     "output_type": "execute_result"
    }
   ],
   "source": [
    "data[data.notnull()]"
   ]
  },
  {
   "cell_type": "markdown",
   "id": "81b53852-9fd2-4897-97d5-1d731e7da7fb",
   "metadata": {},
   "source": [
    "### Удаление пустых значений\n",
    "\n",
    "В дополнение к маскированию, использованному ранее, существуют другие удобные методы, `dropna()` - удаляет пустые значения и `fillna()` - заполняет пустыми значениями. Для объектов `Series` результат вполне понятный:"
   ]
  },
  {
   "cell_type": "code",
   "execution_count": 26,
   "id": "f9a8af3f-0a54-4c07-9077-5fd13ead11bf",
   "metadata": {},
   "outputs": [
    {
     "data": {
      "text/plain": [
       "0        1\n",
       "1      NaN\n",
       "2    hello\n",
       "3     None\n",
       "dtype: object"
      ]
     },
     "execution_count": 26,
     "metadata": {},
     "output_type": "execute_result"
    }
   ],
   "source": [
    "data"
   ]
  },
  {
   "cell_type": "code",
   "execution_count": 27,
   "id": "38d7acd1-3432-4c10-828b-9a374cae60a9",
   "metadata": {},
   "outputs": [
    {
     "data": {
      "text/plain": [
       "0        1\n",
       "2    hello\n",
       "dtype: object"
      ]
     },
     "execution_count": 27,
     "metadata": {},
     "output_type": "execute_result"
    }
   ],
   "source": [
    "data.dropna()"
   ]
  },
  {
   "cell_type": "markdown",
   "id": "a77dea12-1588-4df6-85fb-f39ddbff8e80",
   "metadata": {},
   "source": [
    "Для `DataFrame` возможностей больше, давайте рассмотрим следующий `DataFrame`:"
   ]
  },
  {
   "cell_type": "code",
   "execution_count": 30,
   "id": "fc63d0dc-2834-497b-aa52-6d5ab57a08a5",
   "metadata": {},
   "outputs": [
    {
     "data": {
      "text/html": [
       "<div>\n",
       "<style scoped>\n",
       "    .dataframe tbody tr th:only-of-type {\n",
       "        vertical-align: middle;\n",
       "    }\n",
       "\n",
       "    .dataframe tbody tr th {\n",
       "        vertical-align: top;\n",
       "    }\n",
       "\n",
       "    .dataframe thead th {\n",
       "        text-align: right;\n",
       "    }\n",
       "</style>\n",
       "<table border=\"1\" class=\"dataframe\">\n",
       "  <thead>\n",
       "    <tr style=\"text-align: right;\">\n",
       "      <th></th>\n",
       "      <th>0</th>\n",
       "      <th>1</th>\n",
       "      <th>2</th>\n",
       "    </tr>\n",
       "  </thead>\n",
       "  <tbody>\n",
       "    <tr>\n",
       "      <th>0</th>\n",
       "      <td>1.0</td>\n",
       "      <td>NaN</td>\n",
       "      <td>2</td>\n",
       "    </tr>\n",
       "    <tr>\n",
       "      <th>1</th>\n",
       "      <td>2.0</td>\n",
       "      <td>3.0</td>\n",
       "      <td>5</td>\n",
       "    </tr>\n",
       "    <tr>\n",
       "      <th>2</th>\n",
       "      <td>NaN</td>\n",
       "      <td>4.0</td>\n",
       "      <td>6</td>\n",
       "    </tr>\n",
       "  </tbody>\n",
       "</table>\n",
       "</div>"
      ],
      "text/plain": [
       "     0    1  2\n",
       "0  1.0  NaN  2\n",
       "1  2.0  3.0  5\n",
       "2  NaN  4.0  6"
      ]
     },
     "execution_count": 30,
     "metadata": {},
     "output_type": "execute_result"
    }
   ],
   "source": [
    "df = pd.DataFrame([[1, np.nan, 2], [2, 3, 5], [np.nan, 4, 6]])\n",
    "df"
   ]
  },
  {
   "cell_type": "markdown",
   "id": "01e0ce1a-44e9-4936-89e4-2799e1e633fa",
   "metadata": {},
   "source": [
    "Мы не можем удалить одиночные значения из `DataFrame`; мы может только удалить весь ряд или всю колонку. В зависимости от приложения, вы можете выбрать одно или другое, так что `dropna()` предлагает набор возможных путей для `DataFrame`:"
   ]
  },
  {
   "cell_type": "code",
   "execution_count": 32,
   "id": "4c9c5294-dd1c-44c9-a871-af5b8df599cb",
   "metadata": {},
   "outputs": [
    {
     "data": {
      "text/html": [
       "<div>\n",
       "<style scoped>\n",
       "    .dataframe tbody tr th:only-of-type {\n",
       "        vertical-align: middle;\n",
       "    }\n",
       "\n",
       "    .dataframe tbody tr th {\n",
       "        vertical-align: top;\n",
       "    }\n",
       "\n",
       "    .dataframe thead th {\n",
       "        text-align: right;\n",
       "    }\n",
       "</style>\n",
       "<table border=\"1\" class=\"dataframe\">\n",
       "  <thead>\n",
       "    <tr style=\"text-align: right;\">\n",
       "      <th></th>\n",
       "      <th>0</th>\n",
       "      <th>1</th>\n",
       "      <th>2</th>\n",
       "    </tr>\n",
       "  </thead>\n",
       "  <tbody>\n",
       "    <tr>\n",
       "      <th>1</th>\n",
       "      <td>2.0</td>\n",
       "      <td>3.0</td>\n",
       "      <td>5</td>\n",
       "    </tr>\n",
       "  </tbody>\n",
       "</table>\n",
       "</div>"
      ],
      "text/plain": [
       "     0    1  2\n",
       "1  2.0  3.0  5"
      ]
     },
     "execution_count": 32,
     "metadata": {},
     "output_type": "execute_result"
    }
   ],
   "source": [
    "# удаляет все ряды с пустыми значениями\n",
    "df.dropna()"
   ]
  },
  {
   "cell_type": "code",
   "execution_count": 34,
   "id": "692ad013-2803-4dfa-81fa-ccec97ac2b45",
   "metadata": {},
   "outputs": [
    {
     "data": {
      "text/html": [
       "<div>\n",
       "<style scoped>\n",
       "    .dataframe tbody tr th:only-of-type {\n",
       "        vertical-align: middle;\n",
       "    }\n",
       "\n",
       "    .dataframe tbody tr th {\n",
       "        vertical-align: top;\n",
       "    }\n",
       "\n",
       "    .dataframe thead th {\n",
       "        text-align: right;\n",
       "    }\n",
       "</style>\n",
       "<table border=\"1\" class=\"dataframe\">\n",
       "  <thead>\n",
       "    <tr style=\"text-align: right;\">\n",
       "      <th></th>\n",
       "      <th>2</th>\n",
       "    </tr>\n",
       "  </thead>\n",
       "  <tbody>\n",
       "    <tr>\n",
       "      <th>0</th>\n",
       "      <td>2</td>\n",
       "    </tr>\n",
       "    <tr>\n",
       "      <th>1</th>\n",
       "      <td>5</td>\n",
       "    </tr>\n",
       "    <tr>\n",
       "      <th>2</th>\n",
       "      <td>6</td>\n",
       "    </tr>\n",
       "  </tbody>\n",
       "</table>\n",
       "</div>"
      ],
      "text/plain": [
       "   2\n",
       "0  2\n",
       "1  5\n",
       "2  6"
      ]
     },
     "execution_count": 34,
     "metadata": {},
     "output_type": "execute_result"
    }
   ],
   "source": [
    "# удаляет все колонки с пустыми значениями\n",
    "df.dropna(axis='columns')"
   ]
  },
  {
   "cell_type": "markdown",
   "id": "da1cd599-eb21-4969-b5cc-bc070576b0e6",
   "metadata": {},
   "source": [
    "Такие подходы удаляют, в том числе, и нужные данные; вы можете быть заинтересованы в удалении рядов или колонок, которые полностью состоят из пустых значений или с большинством пустых значений. Этого можно достигнуть с помощью аргументов `how` и `thresh`, которые позволяют более точно контролировать количество пустых значений, которые допустимы.\n",
    "\n",
    "Значение по умолчанию `how='any'`, такое, что полностью удаляется любой ряд или колонка (в зависимости от оси), содержащий пустое значение. Вы также можете указать `how='all'`, чтобы удалить только те ряды/колонки, которые полностью состоят из пустых значений:"
   ]
  },
  {
   "cell_type": "code",
   "execution_count": 35,
   "id": "2cc67255-83a3-4d59-a4e7-f5500dc29c75",
   "metadata": {},
   "outputs": [
    {
     "data": {
      "text/html": [
       "<div>\n",
       "<style scoped>\n",
       "    .dataframe tbody tr th:only-of-type {\n",
       "        vertical-align: middle;\n",
       "    }\n",
       "\n",
       "    .dataframe tbody tr th {\n",
       "        vertical-align: top;\n",
       "    }\n",
       "\n",
       "    .dataframe thead th {\n",
       "        text-align: right;\n",
       "    }\n",
       "</style>\n",
       "<table border=\"1\" class=\"dataframe\">\n",
       "  <thead>\n",
       "    <tr style=\"text-align: right;\">\n",
       "      <th></th>\n",
       "      <th>0</th>\n",
       "      <th>1</th>\n",
       "      <th>2</th>\n",
       "      <th>3</th>\n",
       "    </tr>\n",
       "  </thead>\n",
       "  <tbody>\n",
       "    <tr>\n",
       "      <th>0</th>\n",
       "      <td>1.0</td>\n",
       "      <td>NaN</td>\n",
       "      <td>2</td>\n",
       "      <td>NaN</td>\n",
       "    </tr>\n",
       "    <tr>\n",
       "      <th>1</th>\n",
       "      <td>2.0</td>\n",
       "      <td>3.0</td>\n",
       "      <td>5</td>\n",
       "      <td>NaN</td>\n",
       "    </tr>\n",
       "    <tr>\n",
       "      <th>2</th>\n",
       "      <td>NaN</td>\n",
       "      <td>4.0</td>\n",
       "      <td>6</td>\n",
       "      <td>NaN</td>\n",
       "    </tr>\n",
       "  </tbody>\n",
       "</table>\n",
       "</div>"
      ],
      "text/plain": [
       "     0    1  2   3\n",
       "0  1.0  NaN  2 NaN\n",
       "1  2.0  3.0  5 NaN\n",
       "2  NaN  4.0  6 NaN"
      ]
     },
     "execution_count": 35,
     "metadata": {},
     "output_type": "execute_result"
    }
   ],
   "source": [
    "df[3] = np.nan\n",
    "df"
   ]
  },
  {
   "cell_type": "code",
   "execution_count": 37,
   "id": "644949fe-07f2-47e0-819a-26740f63e0b4",
   "metadata": {},
   "outputs": [
    {
     "data": {
      "text/html": [
       "<div>\n",
       "<style scoped>\n",
       "    .dataframe tbody tr th:only-of-type {\n",
       "        vertical-align: middle;\n",
       "    }\n",
       "\n",
       "    .dataframe tbody tr th {\n",
       "        vertical-align: top;\n",
       "    }\n",
       "\n",
       "    .dataframe thead th {\n",
       "        text-align: right;\n",
       "    }\n",
       "</style>\n",
       "<table border=\"1\" class=\"dataframe\">\n",
       "  <thead>\n",
       "    <tr style=\"text-align: right;\">\n",
       "      <th></th>\n",
       "      <th>0</th>\n",
       "      <th>1</th>\n",
       "      <th>2</th>\n",
       "    </tr>\n",
       "  </thead>\n",
       "  <tbody>\n",
       "    <tr>\n",
       "      <th>0</th>\n",
       "      <td>1.0</td>\n",
       "      <td>NaN</td>\n",
       "      <td>2</td>\n",
       "    </tr>\n",
       "    <tr>\n",
       "      <th>1</th>\n",
       "      <td>2.0</td>\n",
       "      <td>3.0</td>\n",
       "      <td>5</td>\n",
       "    </tr>\n",
       "    <tr>\n",
       "      <th>2</th>\n",
       "      <td>NaN</td>\n",
       "      <td>4.0</td>\n",
       "      <td>6</td>\n",
       "    </tr>\n",
       "  </tbody>\n",
       "</table>\n",
       "</div>"
      ],
      "text/plain": [
       "     0    1  2\n",
       "0  1.0  NaN  2\n",
       "1  2.0  3.0  5\n",
       "2  NaN  4.0  6"
      ]
     },
     "execution_count": 37,
     "metadata": {},
     "output_type": "execute_result"
    }
   ],
   "source": [
    "# удалить колонки, в которых все значения пустые\n",
    "df.dropna(axis='columns', how='all')"
   ]
  },
  {
   "cell_type": "markdown",
   "id": "9c27ccd4-a9e8-4d75-9be2-126417bd65fc",
   "metadata": {},
   "source": [
    "Для более детального управления параметр `thresh` позволяет указать минимальное количество не пустых значений чтобы сохранить ряд/колонку:"
   ]
  },
  {
   "cell_type": "code",
   "execution_count": 39,
   "id": "f769c6ca-628b-4a6e-8eb4-d50360f18b6c",
   "metadata": {},
   "outputs": [
    {
     "data": {
      "text/html": [
       "<div>\n",
       "<style scoped>\n",
       "    .dataframe tbody tr th:only-of-type {\n",
       "        vertical-align: middle;\n",
       "    }\n",
       "\n",
       "    .dataframe tbody tr th {\n",
       "        vertical-align: top;\n",
       "    }\n",
       "\n",
       "    .dataframe thead th {\n",
       "        text-align: right;\n",
       "    }\n",
       "</style>\n",
       "<table border=\"1\" class=\"dataframe\">\n",
       "  <thead>\n",
       "    <tr style=\"text-align: right;\">\n",
       "      <th></th>\n",
       "      <th>0</th>\n",
       "      <th>1</th>\n",
       "      <th>2</th>\n",
       "      <th>3</th>\n",
       "    </tr>\n",
       "  </thead>\n",
       "  <tbody>\n",
       "    <tr>\n",
       "      <th>1</th>\n",
       "      <td>2.0</td>\n",
       "      <td>3.0</td>\n",
       "      <td>5</td>\n",
       "      <td>NaN</td>\n",
       "    </tr>\n",
       "  </tbody>\n",
       "</table>\n",
       "</div>"
      ],
      "text/plain": [
       "     0    1  2   3\n",
       "1  2.0  3.0  5 NaN"
      ]
     },
     "execution_count": 39,
     "metadata": {},
     "output_type": "execute_result"
    }
   ],
   "source": [
    "# удалить все ряды, в которых менее 3 не пустых значений\n",
    "df.dropna(axis='rows', thresh=3)"
   ]
  },
  {
   "cell_type": "markdown",
   "id": "f0c7b8d0-7ed2-4ae0-babe-c8d1f3880e4b",
   "metadata": {},
   "source": [
    "### Заполнение пустых значений\n",
    "\n",
    "Иногда необходимо заполнить пустые значения каким-либо другим значением, для этого используется метод `fillna()`."
   ]
  },
  {
   "cell_type": "code",
   "execution_count": 41,
   "id": "bffc5ad7-929c-4334-9b4c-a19467823621",
   "metadata": {},
   "outputs": [
    {
     "data": {
      "text/plain": [
       "a    1.0\n",
       "b    NaN\n",
       "c    2.0\n",
       "d    NaN\n",
       "e    3.0\n",
       "dtype: float64"
      ]
     },
     "execution_count": 41,
     "metadata": {},
     "output_type": "execute_result"
    }
   ],
   "source": [
    "data = pd.Series([1, np.nan, 2, None, 3], index=list('abcde'))\n",
    "data"
   ]
  },
  {
   "cell_type": "code",
   "execution_count": 43,
   "id": "142c5d64-9202-41c3-ae31-f49ce7be38a2",
   "metadata": {},
   "outputs": [
    {
     "data": {
      "text/plain": [
       "a    1.0\n",
       "b    0.0\n",
       "c    2.0\n",
       "d    0.0\n",
       "e    3.0\n",
       "dtype: float64"
      ]
     },
     "execution_count": 43,
     "metadata": {},
     "output_type": "execute_result"
    }
   ],
   "source": [
    "# заменаем NaN на 0.0\n",
    "data.fillna(0)"
   ]
  },
  {
   "cell_type": "markdown",
   "id": "b2915e8e-e869-479c-9a6e-d7324617cf3b",
   "metadata": {},
   "source": [
    "Мы можем указать прямое заполнение для распространения предыдущего значения вперед:"
   ]
  },
  {
   "cell_type": "code",
   "execution_count": 46,
   "id": "2a2dfff0-0495-4bf7-bd33-6431e6502624",
   "metadata": {},
   "outputs": [
    {
     "data": {
      "text/plain": [
       "a    1.0\n",
       "b    1.0\n",
       "c    2.0\n",
       "d    2.0\n",
       "e    3.0\n",
       "dtype: float64"
      ]
     },
     "execution_count": 46,
     "metadata": {},
     "output_type": "execute_result"
    }
   ],
   "source": [
    "# forward-fill\n",
    "# data.fillna(method='ffill') - этот метод устаревший!!!\n",
    "# пустые значения заполняются новыми начиная с 1.0 и увеличивающимися на 1 для каждого последующего заполняемого значения.\n",
    "data.ffill()"
   ]
  },
  {
   "cell_type": "code",
   "execution_count": 48,
   "id": "ca004af4-356e-447a-8679-9f1fb47e4c1e",
   "metadata": {},
   "outputs": [
    {
     "data": {
      "text/plain": [
       "a    1.0\n",
       "b    2.0\n",
       "c    2.0\n",
       "d    3.0\n",
       "e    3.0\n",
       "dtype: float64"
      ]
     },
     "execution_count": 48,
     "metadata": {},
     "output_type": "execute_result"
    }
   ],
   "source": [
    "# back-fill\n",
    "# data.fillna(method='bfill')\n",
    "data.bfill()"
   ]
  },
  {
   "cell_type": "markdown",
   "id": "0c80018e-7038-48b1-84d7-e4b1b0dc4a19",
   "metadata": {},
   "source": [
    "Для `DataFrame` все опции аналогичны, но мы также можем указать ось, вдоль которой осуществляется заполнение:"
   ]
  },
  {
   "cell_type": "code",
   "execution_count": 49,
   "id": "82477167-3fd9-45f7-a899-a88cd22b9e77",
   "metadata": {},
   "outputs": [
    {
     "data": {
      "text/html": [
       "<div>\n",
       "<style scoped>\n",
       "    .dataframe tbody tr th:only-of-type {\n",
       "        vertical-align: middle;\n",
       "    }\n",
       "\n",
       "    .dataframe tbody tr th {\n",
       "        vertical-align: top;\n",
       "    }\n",
       "\n",
       "    .dataframe thead th {\n",
       "        text-align: right;\n",
       "    }\n",
       "</style>\n",
       "<table border=\"1\" class=\"dataframe\">\n",
       "  <thead>\n",
       "    <tr style=\"text-align: right;\">\n",
       "      <th></th>\n",
       "      <th>0</th>\n",
       "      <th>1</th>\n",
       "      <th>2</th>\n",
       "      <th>3</th>\n",
       "    </tr>\n",
       "  </thead>\n",
       "  <tbody>\n",
       "    <tr>\n",
       "      <th>0</th>\n",
       "      <td>1.0</td>\n",
       "      <td>NaN</td>\n",
       "      <td>2</td>\n",
       "      <td>NaN</td>\n",
       "    </tr>\n",
       "    <tr>\n",
       "      <th>1</th>\n",
       "      <td>2.0</td>\n",
       "      <td>3.0</td>\n",
       "      <td>5</td>\n",
       "      <td>NaN</td>\n",
       "    </tr>\n",
       "    <tr>\n",
       "      <th>2</th>\n",
       "      <td>NaN</td>\n",
       "      <td>4.0</td>\n",
       "      <td>6</td>\n",
       "      <td>NaN</td>\n",
       "    </tr>\n",
       "  </tbody>\n",
       "</table>\n",
       "</div>"
      ],
      "text/plain": [
       "     0    1  2   3\n",
       "0  1.0  NaN  2 NaN\n",
       "1  2.0  3.0  5 NaN\n",
       "2  NaN  4.0  6 NaN"
      ]
     },
     "execution_count": 49,
     "metadata": {},
     "output_type": "execute_result"
    }
   ],
   "source": [
    "df"
   ]
  },
  {
   "cell_type": "code",
   "execution_count": 55,
   "id": "25523b60-10a8-4b12-b58d-41f611570408",
   "metadata": {},
   "outputs": [
    {
     "data": {
      "text/html": [
       "<div>\n",
       "<style scoped>\n",
       "    .dataframe tbody tr th:only-of-type {\n",
       "        vertical-align: middle;\n",
       "    }\n",
       "\n",
       "    .dataframe tbody tr th {\n",
       "        vertical-align: top;\n",
       "    }\n",
       "\n",
       "    .dataframe thead th {\n",
       "        text-align: right;\n",
       "    }\n",
       "</style>\n",
       "<table border=\"1\" class=\"dataframe\">\n",
       "  <thead>\n",
       "    <tr style=\"text-align: right;\">\n",
       "      <th></th>\n",
       "      <th>0</th>\n",
       "      <th>1</th>\n",
       "      <th>2</th>\n",
       "      <th>3</th>\n",
       "    </tr>\n",
       "  </thead>\n",
       "  <tbody>\n",
       "    <tr>\n",
       "      <th>0</th>\n",
       "      <td>1.0</td>\n",
       "      <td>1.0</td>\n",
       "      <td>2.0</td>\n",
       "      <td>2.0</td>\n",
       "    </tr>\n",
       "    <tr>\n",
       "      <th>1</th>\n",
       "      <td>2.0</td>\n",
       "      <td>3.0</td>\n",
       "      <td>5.0</td>\n",
       "      <td>5.0</td>\n",
       "    </tr>\n",
       "    <tr>\n",
       "      <th>2</th>\n",
       "      <td>NaN</td>\n",
       "      <td>4.0</td>\n",
       "      <td>6.0</td>\n",
       "      <td>6.0</td>\n",
       "    </tr>\n",
       "  </tbody>\n",
       "</table>\n",
       "</div>"
      ],
      "text/plain": [
       "     0    1    2    3\n",
       "0  1.0  1.0  2.0  2.0\n",
       "1  2.0  3.0  5.0  5.0\n",
       "2  NaN  4.0  6.0  6.0"
      ]
     },
     "execution_count": 55,
     "metadata": {},
     "output_type": "execute_result"
    }
   ],
   "source": [
    "# заполнять пустые значения вдоль колонок\n",
    "df.ffill(axis=1)"
   ]
  },
  {
   "cell_type": "markdown",
   "id": "866df7a7-9fda-4f17-8b75-05adae51a566",
   "metadata": {},
   "source": [
    "Обратите внимание, что если предыдущее пустое значение недоступно во время прямого заполнения, то пустое значение остается."
   ]
  }
 ],
 "metadata": {
  "kernelspec": {
   "display_name": "Python 3 (ipykernel)",
   "language": "python",
   "name": "python3"
  },
  "language_info": {
   "codemirror_mode": {
    "name": "ipython",
    "version": 3
   },
   "file_extension": ".py",
   "mimetype": "text/x-python",
   "name": "python",
   "nbconvert_exporter": "python",
   "pygments_lexer": "ipython3",
   "version": "3.10.12"
  }
 },
 "nbformat": 4,
 "nbformat_minor": 5
}
