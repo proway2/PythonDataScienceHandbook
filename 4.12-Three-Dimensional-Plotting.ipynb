{
 "cells": [
  {
   "cell_type": "markdown",
   "id": "115c332b-a448-4d38-8693-1be48de3ec2b",
   "metadata": {},
   "source": [
    "https://jakevdp.github.io/PythonDataScienceHandbook/04.12-three-dimensional-plotting.html"
   ]
  }
 ],
 "metadata": {
  "kernelspec": {
   "display_name": "Python 3 (ipykernel)",
   "language": "python",
   "name": "python3"
  },
  "language_info": {
   "codemirror_mode": {
    "name": "ipython",
    "version": 3
   },
   "file_extension": ".py",
   "mimetype": "text/x-python",
   "name": "python",
   "nbconvert_exporter": "python",
   "pygments_lexer": "ipython3",
   "version": "3.10.12"
  }
 },
 "nbformat": 4,
 "nbformat_minor": 5
}
