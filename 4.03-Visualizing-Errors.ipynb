{
 "cells": [
  {
   "cell_type": "markdown",
   "id": "689c36ac-8798-4f6a-9b62-96e6b1a7a831",
   "metadata": {},
   "source": [
    "# Базовые доверительные интервалы (errorbars)\n",
    "\n",
    "https://jakevdp.github.io/PythonDataScienceHandbook/04.03-errorbars.html#Basic-Errorbars"
   ]
  }
 ],
 "metadata": {
  "kernelspec": {
   "display_name": "Python 3 (ipykernel)",
   "language": "python",
   "name": "python3"
  },
  "language_info": {
   "codemirror_mode": {
    "name": "ipython",
    "version": 3
   },
   "file_extension": ".py",
   "mimetype": "text/x-python",
   "name": "python",
   "nbconvert_exporter": "python",
   "pygments_lexer": "ipython3",
   "version": "3.10.12"
  }
 },
 "nbformat": 4,
 "nbformat_minor": 5
}
